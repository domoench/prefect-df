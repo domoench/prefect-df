{
 "cells": [
  {
   "cell_type": "markdown",
   "id": "2744c352-1f55-4b22-8f87-5974e8a52b95",
   "metadata": {},
   "source": [
    "# A notebook to explore the newly migrated DVC data.\n",
    "\n",
    "We've added weather data (temp and cloud cover) to the chunked DVC data warehouse. Doing basic exploring here "
   ]
  },
  {
   "cell_type": "code",
   "execution_count": 17,
   "id": "07a91860-0c69-4c85-8397-3814eaaadcd1",
   "metadata": {},
   "outputs": [],
   "source": [
    "import pandas as pd\n",
    "import matplotlib.pyplot as plt\n",
    "import os\n",
    "from prefect import flow \n",
    "from IPython.core.debugger import set_trace"
   ]
  },
  {
   "cell_type": "code",
   "execution_count": 18,
   "id": "4f84a2fd-49ad-4c0d-b9ce-29752365e5b3",
   "metadata": {},
   "outputs": [
    {
     "name": "stdout",
     "output_type": "stream",
     "text": [
      "The autoreload extension is already loaded. To reload it, use:\n",
      "  %reload_ext autoreload\n"
     ]
    }
   ],
   "source": [
    "# Auto reload core modules so I don't need to restart kernel when I change\n",
    "# the code in those modules\n",
    "%load_ext autoreload\n",
    "%autoreload 2"
   ]
  },
  {
   "cell_type": "code",
   "execution_count": 85,
   "id": "eda50c31-2520-4158-ad42-b3ba55a6da75",
   "metadata": {},
   "outputs": [],
   "source": [
    "from core.consts import EIA_TEST_SET_HOURS, EIA_BUFFER_HOURS\n",
    "from core.model import get_data_for_model_input\n",
    "from core.data import get_chunk_index, get_range_from_dvc_as_df, clean_data, fetch_data, get_current_dvc_commit_hash\n",
    "from flows.train_model_flow import train_model"
   ]
  },
  {
   "cell_type": "code",
   "execution_count": 89,
   "id": "8cc30fd3-6426-45ea-8aae-cdf0c7694ea9",
   "metadata": {},
   "outputs": [
    {
     "name": "stdout",
     "output_type": "stream",
     "text": [
      "\n",
      "fetch_data initiated:\n",
      "  req range: start:2015-07-01 05:00:00+00:00. end:2024-11-12 05:00:00+00:00.\n",
      "  hit range: (Timestamp('2015-07-01 05:00:00+0000', tz='UTC'), Timestamp('2024-11-12 05:00:00+0000', tz='UTC')).\n",
      "  miss range: None.\n",
      "\n",
      "Requesting data from DVC. start:2015-07-01 05:00:00+00:00. end:2024-11-12 05:00:00+00:00\n"
     ]
    },
    {
     "name": "stderr",
     "output_type": "stream",
     "text": [
      "/app/core/data.py:147: UserWarning: Converting to Period representation will drop timezone information.\n",
      "  q_start_ts = pd.Timestamp(start_ts).to_period('Q').start_time.tz_localize('UTC')\n",
      "/app/core/data.py:148: UserWarning: Converting to Period representation will drop timezone information.\n",
      "  q_end_ts = pd.Timestamp(end_ts).to_period('Q').end_time.tz_localize('UTC')\n"
     ]
    },
    {
     "name": "stdout",
     "output_type": "stream",
     "text": [
      "Fetched data from DVC. start:2015-07-01 05:00:00+00:00. end:2024-11-12 05:00:00+00:00\n",
      "\n",
      "fetch_data complete:\n",
      "  Requested range: start:2015-07-01 05:00:00+00:00. end:2024-11-12 05:00:00+00:00.\n",
      "  Fetched from DVC: start:2015-07-01 05:00:00+00:00. end:2024-11-12 05:00:00+00:00.\n",
      "  Fetched from API: None.\n",
      "  Fetched range: start:2015-07-01 05:00:00+00:00. end:2024-11-12 05:00:00+00:00.\n",
      "fetch_data result dataframe info:\n",
      "<class 'pandas.core.frame.DataFrame'>\n",
      "DatetimeIndex: 82129 entries, 2015-07-01 05:00:00+00:00 to 2024-11-12 05:00:00+00:00\n",
      "Data columns (total 3 columns):\n",
      " #   Column          Non-Null Count  Dtype  \n",
      "---  ------          --------------  -----  \n",
      " 0   D               81958 non-null  float64\n",
      " 1   temperature_2m  82129 non-null  float64\n",
      " 2   cloud_cover     82129 non-null  int64  \n",
      "dtypes: float64(2), int64(1)\n",
      "memory usage: 4.5 MB\n",
      "\n",
      "fetch_data result dataframe summary:\n",
      "                                 D  temperature_2m  cloud_cover\n",
      "utc_ts                                                         \n",
      "2015-07-01 05:00:00+00:00  84024.0            19.3          100\n",
      "2015-07-01 06:00:00+00:00  79791.0            19.1          100\n",
      "2015-07-01 07:00:00+00:00  76760.0            19.4          100\n",
      "2015-07-01 08:00:00+00:00  74931.0            19.7           93\n",
      "2015-07-01 09:00:00+00:00  74368.0            19.4           73\n",
      "...                            ...             ...          ...\n",
      "2024-11-12 01:00:00+00:00  88695.0            11.8            1\n",
      "2024-11-12 02:00:00+00:00  86421.0            11.7           16\n",
      "2024-11-12 03:00:00+00:00  83354.0            12.6            5\n",
      "2024-11-12 04:00:00+00:00  79104.0            13.4            6\n",
      "2024-11-12 05:00:00+00:00  76682.0            12.6           77\n",
      "\n",
      "[82129 rows x 3 columns]\n",
      "\n"
     ]
    }
   ],
   "source": [
    "start = pd.Timestamp('2015-07-01 05:00:00+00:00')\n",
    "end = pd.Timestamp('2024-11-12 05:00:00+00:00')\n",
    "df = fetch_data(start, end)"
   ]
  },
  {
   "cell_type": "code",
   "execution_count": 93,
   "id": "8c47187f-9215-4606-a0b9-69d998f939f4",
   "metadata": {},
   "outputs": [
    {
     "data": {
      "text/plain": [
       "<Axes: >"
      ]
     },
     "execution_count": 93,
     "metadata": {},
     "output_type": "execute_result"
    },
    {
     "data": {
      "image/png": "[encoded data removed]",
      "text/plain": [
       "<Figure size 640x480 with 1 Axes>"
      ]
     },
     "metadata": {},
     "output_type": "display_data"
    }
   ],
   "source": [
    "df.temperature_2m.hist()"
   ]
  },
  {
   "cell_type": "code",
   "execution_count": 95,
   "id": "6ee30914-e256-4384-86db-04972177b107",
   "metadata": {},
   "outputs": [
    {
     "data": {
      "text/plain": [
       "0"
      ]
     },
     "execution_count": 95,
     "metadata": {},
     "output_type": "execute_result"
    }
   ],
   "source": [
    "df.temperature_2m.isna().sum()"
   ]
  },
  {
   "cell_type": "code",
   "execution_count": 88,
   "id": "cdb53a2b-2377-4aab-bd49-92e9d70468fa",
   "metadata": {},
   "outputs": [
    {
     "data": {
      "text/html": [
       "<pre style=\"white-space:pre;overflow-x:auto;line-height:normal;font-family:Menlo,'DejaVu Sans Mono',consolas,'Courier New',monospace\">19:18:44.414 | <span style=\"color: #008080; text-decoration-color: #008080\">INFO</span>    | prefect.engine - Created flow run<span style=\"color: #800080; text-decoration-color: #800080\"> 'stirring-magpie'</span> for flow<span style=\"color: #800080; text-decoration-color: #800080; font-weight: bold\"> 'train-model'</span>\n",
       "</pre>\n"
      ],
      "text/plain": [
       "19:18:44.414 | \u001b[36mINFO\u001b[0m    | prefect.engine - Created flow run\u001b[35m 'stirring-magpie'\u001b[0m for flow\u001b[1;35m 'train-model'\u001b[0m\n"
      ]
     },
     "metadata": {},
     "output_type": "display_data"
    },
    {
     "data": {
      "text/html": [
       "<pre style=\"white-space:pre;overflow-x:auto;line-height:normal;font-family:Menlo,'DejaVu Sans Mono',consolas,'Courier New',monospace\">19:18:44.420 | <span style=\"color: #008080; text-decoration-color: #008080\">INFO</span>    | prefect.engine - View at <span style=\"color: #0000ff; text-decoration-color: #0000ff\">https://app.prefect.cloud/account/914106c7-cc3b-4c5c-99f4-915f39352746/workspace/d3b27b3d-41ca-47a0-9b5b-2eebd92a4b25/runs/flow-run/a229c42b-e799-4672-9470-aeca1773fdb3</span>\n",
       "</pre>\n"
      ],
      "text/plain": [
       "19:18:44.420 | \u001b[36mINFO\u001b[0m    | prefect.engine - View at \u001b[94mhttps://app.prefect.cloud/account/914106c7-cc3b-4c5c-99f4-915f39352746/workspace/d3b27b3d-41ca-47a0-9b5b-2eebd92a4b25/runs/flow-run/a229c42b-e799-4672-9470-aeca1773fdb3\u001b[0m\n"
      ]
     },
     "metadata": {},
     "output_type": "display_data"
    },
    {
     "name": "stdout",
     "output_type": "stream",
     "text": [
      "Training set time span: 2018-07-01 05:00:00+00:00 to 2024-10-18 19:00:00+00:00\n"
     ]
    },
    {
     "data": {
      "text/html": [
       "<pre style=\"white-space:pre;overflow-x:auto;line-height:normal;font-family:Menlo,'DejaVu Sans Mono',consolas,'Courier New',monospace\">19:18:44.738 | <span style=\"color: #008080; text-decoration-color: #008080\">INFO</span>    | Task run 'get_training_data-bd9' - Created task run 'get_training_data-bd9' for task 'get_training_data'\n",
       "</pre>\n"
      ],
      "text/plain": [
       "19:18:44.738 | \u001b[36mINFO\u001b[0m    | Task run 'get_training_data-bd9' - Created task run 'get_training_data-bd9' for task 'get_training_data'\n"
      ]
     },
     "metadata": {},
     "output_type": "display_data"
    },
    {
     "name": "stdout",
     "output_type": "stream",
     "text": [
      "\n",
      "fetch_data initiated:\n",
      "  req range: start:2018-07-01 05:00:00+00:00. end:2024-10-18 19:00:00+00:00.\n",
      "  hit range: (Timestamp('2018-07-01 05:00:00+0000', tz='UTC'), Timestamp('2024-10-18 19:00:00+0000', tz='UTC')).\n",
      "  miss range: None.\n",
      "\n",
      "Requesting data from DVC. start:2018-07-01 05:00:00+00:00. end:2024-10-18 19:00:00+00:00\n"
     ]
    },
    {
     "name": "stderr",
     "output_type": "stream",
     "text": [
      "/app/core/data.py:147: UserWarning: Converting to Period representation will drop timezone information.\n",
      "  q_start_ts = pd.Timestamp(start_ts).to_period('Q').start_time.tz_localize('UTC')\n",
      "/app/core/data.py:148: UserWarning: Converting to Period representation will drop timezone information.\n",
      "  q_end_ts = pd.Timestamp(end_ts).to_period('Q').end_time.tz_localize('UTC')\n"
     ]
    },
    {
     "name": "stdout",
     "output_type": "stream",
     "text": [
      "Fetched data from DVC. start:2018-07-01 05:00:00+00:00. end:2024-10-18 19:00:00+00:00\n",
      "\n",
      "fetch_data complete:\n",
      "  Requested range: start:2018-07-01 05:00:00+00:00. end:2024-10-18 19:00:00+00:00.\n",
      "  Fetched from DVC: start:2018-07-01 05:00:00+00:00. end:2024-10-18 19:00:00+00:00.\n",
      "  Fetched from API: None.\n",
      "  Fetched range: start:2018-07-01 05:00:00+00:00. end:2024-10-18 19:00:00+00:00.\n",
      "fetch_data result dataframe info:\n",
      "<class 'pandas.core.frame.DataFrame'>\n",
      "DatetimeIndex: 55239 entries, 2018-07-01 05:00:00+00:00 to 2024-10-18 19:00:00+00:00\n",
      "Data columns (total 3 columns):\n",
      " #   Column          Non-Null Count  Dtype  \n",
      "---  ------          --------------  -----  \n",
      " 0   D               55120 non-null  float64\n",
      " 1   temperature_2m  55239 non-null  float64\n",
      " 2   cloud_cover     55239 non-null  int64  \n",
      "dtypes: float64(2), int64(1)\n",
      "memory usage: 3.7 MB\n",
      "\n",
      "fetch_data result dataframe summary:\n",
      "                                  D  temperature_2m  cloud_cover\n",
      "utc_ts                                                          \n",
      "2018-07-01 05:00:00+00:00  103793.0            23.5            0\n",
      "2018-07-01 06:00:00+00:00   98247.0            22.4            0\n",
      "2018-07-01 07:00:00+00:00   93026.0            21.6            0\n",
      "2018-07-01 08:00:00+00:00   89348.0            21.2            0\n",
      "2018-07-01 09:00:00+00:00   86519.0            20.9            0\n",
      "...                             ...             ...          ...\n",
      "2024-10-18 15:00:00+00:00   85314.0            14.2            0\n",
      "2024-10-18 16:00:00+00:00   83160.0            16.2            0\n",
      "2024-10-18 17:00:00+00:00   82250.0            17.8            0\n",
      "2024-10-18 18:00:00+00:00   81737.0            19.1            0\n",
      "2024-10-18 19:00:00+00:00   81601.0            20.0            0\n",
      "\n",
      "[55239 rows x 3 columns]\n",
      "\n",
      "Requesting data from DVC. start:2015-07-05 05:00:00+00:00. end:2018-07-01 05:00:00+00:00\n"
     ]
    },
    {
     "name": "stderr",
     "output_type": "stream",
     "text": [
      "/app/core/data.py:147: UserWarning: Converting to Period representation will drop timezone information.\n",
      "  q_start_ts = pd.Timestamp(start_ts).to_period('Q').start_time.tz_localize('UTC')\n",
      "/app/core/data.py:148: UserWarning: Converting to Period representation will drop timezone information.\n",
      "  q_end_ts = pd.Timestamp(end_ts).to_period('Q').end_time.tz_localize('UTC')\n"
     ]
    },
    {
     "name": "stdout",
     "output_type": "stream",
     "text": [
      "Fetched data from DVC. start:2015-07-05 05:00:00+00:00. end:2018-07-01 05:00:00+00:00\n",
      "post lag backfill dataframe info:\n",
      "<class 'pandas.core.frame.DataFrame'>\n",
      "DatetimeIndex: 81447 entries, 2015-07-05 05:00:00+00:00 to 2024-10-18 19:00:00+00:00\n",
      "Data columns (total 3 columns):\n",
      " #   Column          Non-Null Count  Dtype  \n",
      "---  ------          --------------  -----  \n",
      " 0   D               81276 non-null  float64\n",
      " 1   temperature_2m  81447 non-null  float64\n",
      " 2   cloud_cover     81447 non-null  int64  \n",
      "dtypes: float64(2), int64(1)\n",
      "memory usage: 2.5 MB\n",
      "\n",
      "post lag backfill dataframe summary:\n",
      "                                 D  temperature_2m  cloud_cover\n",
      "utc_ts                                                         \n",
      "2015-07-05 05:00:00+00:00  73295.0            17.2           16\n",
      "2015-07-05 06:00:00+00:00  69134.0            17.1           13\n",
      "2015-07-05 07:00:00+00:00  66665.0            15.4           25\n",
      "2015-07-05 08:00:00+00:00  66391.0            15.2           74\n",
      "2015-07-05 09:00:00+00:00  66866.0            15.6           53\n",
      "...                            ...             ...          ...\n",
      "2024-10-18 15:00:00+00:00  85314.0            14.2            0\n",
      "2024-10-18 16:00:00+00:00  83160.0            16.2            0\n",
      "2024-10-18 17:00:00+00:00  82250.0            17.8            0\n",
      "2024-10-18 18:00:00+00:00  81737.0            19.1            0\n",
      "2024-10-18 19:00:00+00:00  81601.0            20.0            0\n",
      "\n",
      "[81447 rows x 3 columns]\n",
      "\n",
      "Input data skew: 202.82301374556945\n",
      "Output data skew: 0.8258227831143404\n",
      "Null demand values: 171\n",
      "                                 D  temperature_2m  cloud_cover  hour  month  \\\n",
      "utc_ts                                                                         \n",
      "2015-07-05 05:00:00+00:00  73295.0            17.2           16     5      7   \n",
      "2015-07-05 06:00:00+00:00  69134.0            17.1           13     6      7   \n",
      "2015-07-05 07:00:00+00:00  66665.0            15.4           25     7      7   \n",
      "2015-07-05 08:00:00+00:00  66391.0            15.2           74     8      7   \n",
      "2015-07-05 09:00:00+00:00  66866.0            15.6           53     9      7   \n",
      "...                            ...             ...          ...   ...    ...   \n",
      "2024-10-18 15:00:00+00:00  85314.0            14.2            0    15     10   \n",
      "2024-10-18 16:00:00+00:00  83160.0            16.2            0    16     10   \n",
      "2024-10-18 17:00:00+00:00  82250.0            17.8            0    17     10   \n",
      "2024-10-18 18:00:00+00:00  81737.0            19.1            0    18     10   \n",
      "2024-10-18 19:00:00+00:00  81601.0            20.0            0    19     10   \n",
      "\n",
      "                           year  quarter  dayofweek  dayofmonth  dayofyear  \\\n",
      "utc_ts                                                                       \n",
      "2015-07-05 05:00:00+00:00  2015        3          6           5        186   \n",
      "2015-07-05 06:00:00+00:00  2015        3          6           5        186   \n",
      "2015-07-05 07:00:00+00:00  2015        3          6           5        186   \n",
      "2015-07-05 08:00:00+00:00  2015        3          6           5        186   \n",
      "2015-07-05 09:00:00+00:00  2015        3          6           5        186   \n",
      "...                         ...      ...        ...         ...        ...   \n",
      "2024-10-18 15:00:00+00:00  2024        4          4          18        292   \n",
      "2024-10-18 16:00:00+00:00  2024        4          4          18        292   \n",
      "2024-10-18 17:00:00+00:00  2024        4          4          18        292   \n",
      "2024-10-18 18:00:00+00:00  2024        4          4          18        292   \n",
      "2024-10-18 19:00:00+00:00  2024        4          4          18        292   \n",
      "\n",
      "                            lag_1y   lag_2y   lag_3y  is_holiday  \n",
      "utc_ts                                                            \n",
      "2015-07-05 05:00:00+00:00      NaN      NaN      NaN           0  \n",
      "2015-07-05 06:00:00+00:00      NaN      NaN      NaN           0  \n",
      "2015-07-05 07:00:00+00:00      NaN      NaN      NaN           0  \n",
      "2015-07-05 08:00:00+00:00      NaN      NaN      NaN           0  \n",
      "2015-07-05 09:00:00+00:00      NaN      NaN      NaN           0  \n",
      "...                            ...      ...      ...         ...  \n",
      "2024-10-18 15:00:00+00:00  84124.0  86263.0  82914.0           0  \n",
      "2024-10-18 16:00:00+00:00  83762.0  83759.0  82998.0           0  \n",
      "2024-10-18 17:00:00+00:00  84203.0  82270.0  83123.0           0  \n",
      "2024-10-18 18:00:00+00:00  84129.0  81662.0  82890.0           0  \n",
      "2024-10-18 19:00:00+00:00  83363.0  81600.0  82385.0           0  \n",
      "\n",
      "[81447 rows x 14 columns]\n",
      "post preprocess dataframe info:\n",
      "<class 'pandas.core.frame.DataFrame'>\n",
      "DatetimeIndex: 81447 entries, 2015-07-05 05:00:00+00:00 to 2024-10-18 19:00:00+00:00\n",
      "Data columns (total 14 columns):\n",
      " #   Column          Non-Null Count  Dtype  \n",
      "---  ------          --------------  -----  \n",
      " 0   D               81447 non-null  float64\n",
      " 1   temperature_2m  81447 non-null  float64\n",
      " 2   cloud_cover     81447 non-null  int64  \n",
      " 3   hour            81447 non-null  int32  \n",
      " 4   month           81447 non-null  int32  \n",
      " 5   year            81447 non-null  int32  \n",
      " 6   quarter         81447 non-null  int32  \n",
      " 7   dayofweek       81447 non-null  int32  \n",
      " 8   dayofmonth      81447 non-null  int32  \n",
      " 9   dayofyear       81447 non-null  int32  \n",
      " 10  lag_1y          72711 non-null  float64\n",
      " 11  lag_2y          63975 non-null  float64\n",
      " 12  lag_3y          55239 non-null  float64\n",
      " 13  is_holiday      81447 non-null  int64  \n",
      "dtypes: float64(5), int32(7), int64(2)\n",
      "memory usage: 7.1 MB\n",
      "\n",
      "post preprocess dataframe summary:\n",
      "                                 D  temperature_2m  cloud_cover  hour  month  \\\n",
      "utc_ts                                                                         \n",
      "2015-07-05 05:00:00+00:00  73295.0            17.2           16     5      7   \n",
      "2015-07-05 06:00:00+00:00  69134.0            17.1           13     6      7   \n",
      "2015-07-05 07:00:00+00:00  66665.0            15.4           25     7      7   \n",
      "2015-07-05 08:00:00+00:00  66391.0            15.2           74     8      7   \n",
      "2015-07-05 09:00:00+00:00  66866.0            15.6           53     9      7   \n",
      "...                            ...             ...          ...   ...    ...   \n",
      "2024-10-18 15:00:00+00:00  85314.0            14.2            0    15     10   \n",
      "2024-10-18 16:00:00+00:00  83160.0            16.2            0    16     10   \n",
      "2024-10-18 17:00:00+00:00  82250.0            17.8            0    17     10   \n",
      "2024-10-18 18:00:00+00:00  81737.0            19.1            0    18     10   \n",
      "2024-10-18 19:00:00+00:00  81601.0            20.0            0    19     10   \n",
      "\n",
      "                           year  quarter  dayofweek  dayofmonth  dayofyear  \\\n",
      "utc_ts                                                                       \n",
      "2015-07-05 05:00:00+00:00  2015        3          6           5        186   \n",
      "2015-07-05 06:00:00+00:00  2015        3          6           5        186   \n",
      "2015-07-05 07:00:00+00:00  2015        3          6           5        186   \n",
      "2015-07-05 08:00:00+00:00  2015        3          6           5        186   \n",
      "2015-07-05 09:00:00+00:00  2015        3          6           5        186   \n",
      "...                         ...      ...        ...         ...        ...   \n",
      "2024-10-18 15:00:00+00:00  2024        4          4          18        292   \n",
      "2024-10-18 16:00:00+00:00  2024        4          4          18        292   \n",
      "2024-10-18 17:00:00+00:00  2024        4          4          18        292   \n",
      "2024-10-18 18:00:00+00:00  2024        4          4          18        292   \n",
      "2024-10-18 19:00:00+00:00  2024        4          4          18        292   \n",
      "\n",
      "                            lag_1y   lag_2y   lag_3y  is_holiday  \n",
      "utc_ts                                                            \n",
      "2015-07-05 05:00:00+00:00      NaN      NaN      NaN           0  \n",
      "2015-07-05 06:00:00+00:00      NaN      NaN      NaN           0  \n",
      "2015-07-05 07:00:00+00:00      NaN      NaN      NaN           0  \n",
      "2015-07-05 08:00:00+00:00      NaN      NaN      NaN           0  \n",
      "2015-07-05 09:00:00+00:00      NaN      NaN      NaN           0  \n",
      "...                            ...      ...      ...         ...  \n",
      "2024-10-18 15:00:00+00:00  84124.0  86263.0  82914.0           0  \n",
      "2024-10-18 16:00:00+00:00  83762.0  83759.0  82998.0           0  \n",
      "2024-10-18 17:00:00+00:00  84203.0  82270.0  83123.0           0  \n",
      "2024-10-18 18:00:00+00:00  84129.0  81662.0  82890.0           0  \n",
      "2024-10-18 19:00:00+00:00  83363.0  81600.0  82385.0           0  \n",
      "\n",
      "[81447 rows x 14 columns]\n",
      "\n"
     ]
    },
    {
     "data": {
      "application/vnd.jupyter.widget-view+json": {
       "model_id": "6b1217a00b6542c8bddd093d87961cb5",
       "version_major": 2,
       "version_minor": 0
      },
      "text/plain": [
       "Calculating Metrics:   0%|          | 0/35 [00:00<?, ?it/s]"
      ]
     },
     "metadata": {},
     "output_type": "display_data"
    },
    {
     "name": "stdout",
     "output_type": "stream",
     "text": [
      "GX Validation failure. suite:xgb_input\n",
      "{'success': False, 'statistics': {'evaluated_expectations': 6, 'successful_expectations': 5, 'unsuccessful_expectations': 1, 'success_percent': 83.33333333333334}, 'expectations': [{'expectation_type': 'expect_table_columns_to_match_set', 'success': False, 'kwargs': {'batch_id': 'pandas_datasource-xgb_input-df-20241118_191854', 'column_set': ['utc_ts', 'hour', 'month', 'year', 'quarter', 'dayofweek', 'dayofmonth', 'dayofyear', 'lag_1y', 'lag_2y', 'lag_3y', 'is_holiday', 'D'], 'exact_match': True}, 'result': {'observed_value': ['D', 'cloud_cover', 'dayofmonth', 'dayofweek', 'dayofyear', 'hour', 'is_holiday', 'lag_1y', 'lag_2y', 'lag_3y', 'month', 'quarter', 'temperature_2m', 'utc_ts', 'year'], 'details': {'mismatched': {'unexpected': ['cloud_cover', 'temperature_2m']}}}}, {'expectation_type': 'expect_column_values_to_not_be_null', 'success': True, 'kwargs': {'batch_id': 'pandas_datasource-xgb_input-df-20241118_191854', 'column': 'D'}, 'result': {'element_count': 55239, 'unexpected_count': 0, 'unexpected_percent': 0.0, 'partial_unexpected_list': [], 'partial_unexpected_counts': [], 'partial_unexpected_index_list': []}}, {'expectation_type': 'expect_column_values_to_be_between', 'success': True, 'kwargs': {'batch_id': 'pandas_datasource-xgb_input-df-20241118_191854', 'column': 'D', 'min_value': 60000.0, 'max_value': 165000.0}, 'result': {'element_count': 55239, 'unexpected_count': 0, 'unexpected_percent': 0.0, 'partial_unexpected_list': [], 'missing_count': 0, 'missing_percent': 0.0, 'unexpected_percent_total': 0.0, 'unexpected_percent_nonmissing': 0.0, 'partial_unexpected_counts': [], 'partial_unexpected_index_list': []}}, {'expectation_type': 'expect_column_values_to_be_unique', 'success': True, 'kwargs': {'batch_id': 'pandas_datasource-xgb_input-df-20241118_191854', 'column': 'utc_ts'}, 'result': {'element_count': 55239, 'unexpected_count': 0, 'unexpected_percent': 0.0, 'partial_unexpected_list': [], 'missing_count': 0, 'missing_percent': 0.0, 'unexpected_percent_total': 0.0, 'unexpected_percent_nonmissing': 0.0, 'partial_unexpected_counts': [], 'partial_unexpected_index_list': []}}, {'expectation_type': 'expect_column_values_on_the_hour', 'success': True, 'kwargs': {'batch_id': 'pandas_datasource-xgb_input-df-20241118_191854', 'column': 'utc_ts'}, 'result': {'element_count': 55239, 'unexpected_count': 0, 'unexpected_percent': 0.0, 'partial_unexpected_list': [], 'missing_count': 0, 'missing_percent': 0.0, 'unexpected_percent_total': 0.0, 'unexpected_percent_nonmissing': 0.0, 'partial_unexpected_counts': [], 'partial_unexpected_index_list': []}}, {'expectation_type': 'expect_column_values_to_be_in_set', 'success': True, 'kwargs': {'batch_id': 'pandas_datasource-xgb_input-df-20241118_191854', 'column': 'is_holiday', 'value_set': [0, 1]}, 'result': {'element_count': 55239, 'unexpected_count': 0, 'unexpected_percent': 0.0, 'partial_unexpected_list': [], 'missing_count': 0, 'missing_percent': 0.0, 'unexpected_percent_total': 0.0, 'unexpected_percent_nonmissing': 0.0, 'partial_unexpected_counts': [], 'partial_unexpected_index_list': []}}], 'result_url': None}\n"
     ]
    },
    {
     "data": {
      "text/html": [
       "<pre style=\"white-space:pre;overflow-x:auto;line-height:normal;font-family:Menlo,'DejaVu Sans Mono',consolas,'Courier New',monospace\">19:18:54.822 | <span style=\"color: #008080; text-decoration-color: #008080\">INFO</span>    | Task run 'get_training_data-bd9' - Finished in state <span style=\"color: #008000; text-decoration-color: #008000\">Completed</span>()\n",
       "</pre>\n"
      ],
      "text/plain": [
       "19:18:54.822 | \u001b[36mINFO\u001b[0m    | Task run 'get_training_data-bd9' - Finished in state \u001b[32mCompleted\u001b[0m()\n"
      ]
     },
     "metadata": {},
     "output_type": "display_data"
    },
    {
     "data": {
      "text/html": [
       "<pre style=\"white-space:pre;overflow-x:auto;line-height:normal;font-family:Menlo,'DejaVu Sans Mono',consolas,'Courier New',monospace\">19:18:54.825 | <span style=\"color: #d70000; text-decoration-color: #d70000\">ERROR</span>   | Flow run<span style=\"color: #800080; text-decoration-color: #800080\"> 'stirring-magpie'</span> - Encountered exception during execution: AssertionError()\n",
       "Traceback (most recent call last):\n",
       "  File \"/usr/local/lib/python3.10/site-packages/prefect/flow_engine.py\", line 652, in run_context\n",
       "    yield self\n",
       "  File \"/usr/local/lib/python3.10/site-packages/prefect/flow_engine.py\", line 696, in run_flow_sync\n",
       "    engine.call_flow_fn()\n",
       "  File \"/usr/local/lib/python3.10/site-packages/prefect/flow_engine.py\", line 675, in call_flow_fn\n",
       "    result = call_with_parameters(self.flow.fn, self.parameters)\n",
       "  File \"/usr/local/lib/python3.10/site-packages/prefect/utilities/callables.py\", line 206, in call_with_parameters\n",
       "    return fn(*args, **kwargs)\n",
       "  File \"/app/flows/train_model_flow.py\", line 116, in train_model\n",
       "    assert False\n",
       "AssertionError\n",
       "</pre>\n"
      ],
      "text/plain": [
       "19:18:54.825 | \u001b[38;5;160mERROR\u001b[0m   | Flow run\u001b[35m 'stirring-magpie'\u001b[0m - Encountered exception during execution: AssertionError()\n",
       "Traceback (most recent call last):\n",
       "  File \"/usr/local/lib/python3.10/site-packages/prefect/flow_engine.py\", line 652, in run_context\n",
       "    yield self\n",
       "  File \"/usr/local/lib/python3.10/site-packages/prefect/flow_engine.py\", line 696, in run_flow_sync\n",
       "    engine.call_flow_fn()\n",
       "  File \"/usr/local/lib/python3.10/site-packages/prefect/flow_engine.py\", line 675, in call_flow_fn\n",
       "    result = call_with_parameters(self.flow.fn, self.parameters)\n",
       "  File \"/usr/local/lib/python3.10/site-packages/prefect/utilities/callables.py\", line 206, in call_with_parameters\n",
       "    return fn(*args, **kwargs)\n",
       "  File \"/app/flows/train_model_flow.py\", line 116, in train_model\n",
       "    assert False\n",
       "AssertionError\n"
      ]
     },
     "metadata": {},
     "output_type": "display_data"
    },
    {
     "data": {
      "text/html": [
       "<pre style=\"white-space:pre;overflow-x:auto;line-height:normal;font-family:Menlo,'DejaVu Sans Mono',consolas,'Courier New',monospace\">19:18:54.947 | <span style=\"color: #d70000; text-decoration-color: #d70000\">ERROR</span>   | Flow run<span style=\"color: #800080; text-decoration-color: #800080\"> 'stirring-magpie'</span> - Finished in state <span style=\"color: #d70000; text-decoration-color: #d70000\">Failed</span>('Flow run encountered an exception: AssertionError: ')\n",
       "</pre>\n"
      ],
      "text/plain": [
       "19:18:54.947 | \u001b[38;5;160mERROR\u001b[0m   | Flow run\u001b[35m 'stirring-magpie'\u001b[0m - Finished in state \u001b[38;5;160mFailed\u001b[0m('Flow run encountered an exception: AssertionError: ')\n"
      ]
     },
     "metadata": {},
     "output_type": "display_data"
    },
    {
     "ename": "AssertionError",
     "evalue": "",
     "output_type": "error",
     "traceback": [
      "\u001b[0;31m---------------------------------------------------------------------------\u001b[0m",
      "\u001b[0;31mAssertionError\u001b[0m                            Traceback (most recent call last)",
      "Cell \u001b[0;32mIn[88], line 1\u001b[0m\n\u001b[0;32m----> 1\u001b[0m \u001b[43mtrain_model\u001b[49m\u001b[43m(\u001b[49m\u001b[43mstart_ts\u001b[49m\u001b[38;5;241;43m=\u001b[39;49m\u001b[38;5;28;43;01mNone\u001b[39;49;00m\u001b[43m,\u001b[49m\u001b[43m \u001b[49m\u001b[43mend_ts\u001b[49m\u001b[38;5;241;43m=\u001b[39;49m\u001b[38;5;28;43;01mNone\u001b[39;49;00m\u001b[43m,\u001b[49m\u001b[43m \u001b[49m\u001b[43mmlflow_tracking\u001b[49m\u001b[38;5;241;43m=\u001b[39;49m\u001b[38;5;28;43;01mFalse\u001b[39;49;00m\u001b[43m)\u001b[49m\n",
      "File \u001b[0;32m/usr/local/lib/python3.10/site-packages/prefect/flows.py:1345\u001b[0m, in \u001b[0;36mFlow.__call__\u001b[0;34m(self, return_state, wait_for, *args, **kwargs)\u001b[0m\n\u001b[1;32m   1341\u001b[0m     \u001b[38;5;28;01mreturn\u001b[39;00m track_viz_task(\u001b[38;5;28mself\u001b[39m\u001b[38;5;241m.\u001b[39misasync, \u001b[38;5;28mself\u001b[39m\u001b[38;5;241m.\u001b[39mname, parameters)\n\u001b[1;32m   1343\u001b[0m \u001b[38;5;28;01mfrom\u001b[39;00m \u001b[38;5;21;01mprefect\u001b[39;00m\u001b[38;5;21;01m.\u001b[39;00m\u001b[38;5;21;01mflow_engine\u001b[39;00m \u001b[38;5;28;01mimport\u001b[39;00m run_flow\n\u001b[0;32m-> 1345\u001b[0m \u001b[38;5;28;01mreturn\u001b[39;00m \u001b[43mrun_flow\u001b[49m\u001b[43m(\u001b[49m\n\u001b[1;32m   1346\u001b[0m \u001b[43m    \u001b[49m\u001b[43mflow\u001b[49m\u001b[38;5;241;43m=\u001b[39;49m\u001b[38;5;28;43mself\u001b[39;49m\u001b[43m,\u001b[49m\n\u001b[1;32m   1347\u001b[0m \u001b[43m    \u001b[49m\u001b[43mparameters\u001b[49m\u001b[38;5;241;43m=\u001b[39;49m\u001b[43mparameters\u001b[49m\u001b[43m,\u001b[49m\n\u001b[1;32m   1348\u001b[0m \u001b[43m    \u001b[49m\u001b[43mwait_for\u001b[49m\u001b[38;5;241;43m=\u001b[39;49m\u001b[43mwait_for\u001b[49m\u001b[43m,\u001b[49m\n\u001b[1;32m   1349\u001b[0m \u001b[43m    \u001b[49m\u001b[43mreturn_type\u001b[49m\u001b[38;5;241;43m=\u001b[39;49m\u001b[43mreturn_type\u001b[49m\u001b[43m,\u001b[49m\n\u001b[1;32m   1350\u001b[0m \u001b[43m\u001b[49m\u001b[43m)\u001b[49m\n",
      "File \u001b[0;32m/usr/local/lib/python3.10/site-packages/prefect/flow_engine.py:818\u001b[0m, in \u001b[0;36mrun_flow\u001b[0;34m(flow, flow_run, parameters, wait_for, return_type)\u001b[0m\n\u001b[1;32m    816\u001b[0m     \u001b[38;5;28;01mreturn\u001b[39;00m run_flow_async(\u001b[38;5;241m*\u001b[39m\u001b[38;5;241m*\u001b[39mkwargs)\n\u001b[1;32m    817\u001b[0m \u001b[38;5;28;01melse\u001b[39;00m:\n\u001b[0;32m--> 818\u001b[0m     \u001b[38;5;28;01mreturn\u001b[39;00m \u001b[43mrun_flow_sync\u001b[49m\u001b[43m(\u001b[49m\u001b[38;5;241;43m*\u001b[39;49m\u001b[38;5;241;43m*\u001b[39;49m\u001b[43mkwargs\u001b[49m\u001b[43m)\u001b[49m\n",
      "File \u001b[0;32m/usr/local/lib/python3.10/site-packages/prefect/flow_engine.py:698\u001b[0m, in \u001b[0;36mrun_flow_sync\u001b[0;34m(flow, flow_run, parameters, wait_for, return_type)\u001b[0m\n\u001b[1;32m    695\u001b[0m         \u001b[38;5;28;01mwith\u001b[39;00m engine\u001b[38;5;241m.\u001b[39mrun_context():\n\u001b[1;32m    696\u001b[0m             engine\u001b[38;5;241m.\u001b[39mcall_flow_fn()\n\u001b[0;32m--> 698\u001b[0m \u001b[38;5;28;01mreturn\u001b[39;00m engine\u001b[38;5;241m.\u001b[39mstate \u001b[38;5;28;01mif\u001b[39;00m return_type \u001b[38;5;241m==\u001b[39m \u001b[38;5;124m\"\u001b[39m\u001b[38;5;124mstate\u001b[39m\u001b[38;5;124m\"\u001b[39m \u001b[38;5;28;01melse\u001b[39;00m \u001b[43mengine\u001b[49m\u001b[38;5;241;43m.\u001b[39;49m\u001b[43mresult\u001b[49m\u001b[43m(\u001b[49m\u001b[43m)\u001b[49m\n",
      "File \u001b[0;32m/usr/local/lib/python3.10/site-packages/prefect/flow_engine.py:255\u001b[0m, in \u001b[0;36mFlowRunEngine.result\u001b[0;34m(self, raise_on_failure)\u001b[0m\n\u001b[1;32m    253\u001b[0m \u001b[38;5;28;01mif\u001b[39;00m \u001b[38;5;28mself\u001b[39m\u001b[38;5;241m.\u001b[39m_raised \u001b[38;5;129;01mis\u001b[39;00m \u001b[38;5;129;01mnot\u001b[39;00m NotSet:\n\u001b[1;32m    254\u001b[0m     \u001b[38;5;28;01mif\u001b[39;00m raise_on_failure:\n\u001b[0;32m--> 255\u001b[0m         \u001b[38;5;28;01mraise\u001b[39;00m \u001b[38;5;28mself\u001b[39m\u001b[38;5;241m.\u001b[39m_raised\n\u001b[1;32m    256\u001b[0m     \u001b[38;5;28;01mreturn\u001b[39;00m \u001b[38;5;28mself\u001b[39m\u001b[38;5;241m.\u001b[39m_raised\n\u001b[1;32m    258\u001b[0m \u001b[38;5;66;03m# This is a fall through case which leans on the existing state result mechanics to get the\u001b[39;00m\n\u001b[1;32m    259\u001b[0m \u001b[38;5;66;03m# return value. This is necessary because we currently will return a State object if the\u001b[39;00m\n\u001b[1;32m    260\u001b[0m \u001b[38;5;66;03m# the State was Prefect-created.\u001b[39;00m\n\u001b[1;32m    261\u001b[0m \u001b[38;5;66;03m# TODO: Remove the need to get the result from a State except in cases where the return value\u001b[39;00m\n\u001b[1;32m    262\u001b[0m \u001b[38;5;66;03m# is a State object.\u001b[39;00m\n",
      "File \u001b[0;32m/usr/local/lib/python3.10/site-packages/prefect/flow_engine.py:652\u001b[0m, in \u001b[0;36mFlowRunEngine.run_context\u001b[0;34m(self)\u001b[0m\n\u001b[1;32m    645\u001b[0m     \u001b[38;5;28;01mwith\u001b[39;00m timeout_context(\n\u001b[1;32m    646\u001b[0m         seconds\u001b[38;5;241m=\u001b[39m\u001b[38;5;28mself\u001b[39m\u001b[38;5;241m.\u001b[39mflow\u001b[38;5;241m.\u001b[39mtimeout_seconds,\n\u001b[1;32m    647\u001b[0m         timeout_exc_type\u001b[38;5;241m=\u001b[39mFlowRunTimeoutError,\n\u001b[1;32m    648\u001b[0m     ):\n\u001b[1;32m    649\u001b[0m         \u001b[38;5;28mself\u001b[39m\u001b[38;5;241m.\u001b[39mlogger\u001b[38;5;241m.\u001b[39mdebug(\n\u001b[1;32m    650\u001b[0m             \u001b[38;5;124mf\u001b[39m\u001b[38;5;124m\"\u001b[39m\u001b[38;5;124mExecuting flow \u001b[39m\u001b[38;5;132;01m{\u001b[39;00m\u001b[38;5;28mself\u001b[39m\u001b[38;5;241m.\u001b[39mflow\u001b[38;5;241m.\u001b[39mname\u001b[38;5;132;01m!r}\u001b[39;00m\u001b[38;5;124m for flow run \u001b[39m\u001b[38;5;132;01m{\u001b[39;00m\u001b[38;5;28mself\u001b[39m\u001b[38;5;241m.\u001b[39mflow_run\u001b[38;5;241m.\u001b[39mname\u001b[38;5;132;01m!r}\u001b[39;00m\u001b[38;5;124m...\u001b[39m\u001b[38;5;124m\"\u001b[39m\n\u001b[1;32m    651\u001b[0m         )\n\u001b[0;32m--> 652\u001b[0m         \u001b[38;5;28;01myield\u001b[39;00m \u001b[38;5;28mself\u001b[39m\n\u001b[1;32m    653\u001b[0m \u001b[38;5;28;01mexcept\u001b[39;00m \u001b[38;5;167;01mTimeoutError\u001b[39;00m \u001b[38;5;28;01mas\u001b[39;00m exc:\n\u001b[1;32m    654\u001b[0m     \u001b[38;5;28mself\u001b[39m\u001b[38;5;241m.\u001b[39mhandle_timeout(exc)\n",
      "File \u001b[0;32m/usr/local/lib/python3.10/site-packages/prefect/flow_engine.py:696\u001b[0m, in \u001b[0;36mrun_flow_sync\u001b[0;34m(flow, flow_run, parameters, wait_for, return_type)\u001b[0m\n\u001b[1;32m    694\u001b[0m     \u001b[38;5;28;01mwhile\u001b[39;00m engine\u001b[38;5;241m.\u001b[39mis_running():\n\u001b[1;32m    695\u001b[0m         \u001b[38;5;28;01mwith\u001b[39;00m engine\u001b[38;5;241m.\u001b[39mrun_context():\n\u001b[0;32m--> 696\u001b[0m             \u001b[43mengine\u001b[49m\u001b[38;5;241;43m.\u001b[39;49m\u001b[43mcall_flow_fn\u001b[49m\u001b[43m(\u001b[49m\u001b[43m)\u001b[49m\n\u001b[1;32m    698\u001b[0m \u001b[38;5;28;01mreturn\u001b[39;00m engine\u001b[38;5;241m.\u001b[39mstate \u001b[38;5;28;01mif\u001b[39;00m return_type \u001b[38;5;241m==\u001b[39m \u001b[38;5;124m\"\u001b[39m\u001b[38;5;124mstate\u001b[39m\u001b[38;5;124m\"\u001b[39m \u001b[38;5;28;01melse\u001b[39;00m engine\u001b[38;5;241m.\u001b[39mresult()\n",
      "File \u001b[0;32m/usr/local/lib/python3.10/site-packages/prefect/flow_engine.py:675\u001b[0m, in \u001b[0;36mFlowRunEngine.call_flow_fn\u001b[0;34m(self)\u001b[0m\n\u001b[1;32m    673\u001b[0m     \u001b[38;5;28;01mreturn\u001b[39;00m _call_flow_fn()\n\u001b[1;32m    674\u001b[0m \u001b[38;5;28;01melse\u001b[39;00m:\n\u001b[0;32m--> 675\u001b[0m     result \u001b[38;5;241m=\u001b[39m \u001b[43mcall_with_parameters\u001b[49m\u001b[43m(\u001b[49m\u001b[38;5;28;43mself\u001b[39;49m\u001b[38;5;241;43m.\u001b[39;49m\u001b[43mflow\u001b[49m\u001b[38;5;241;43m.\u001b[39;49m\u001b[43mfn\u001b[49m\u001b[43m,\u001b[49m\u001b[43m \u001b[49m\u001b[38;5;28;43mself\u001b[39;49m\u001b[38;5;241;43m.\u001b[39;49m\u001b[43mparameters\u001b[49m\u001b[43m)\u001b[49m\n\u001b[1;32m    676\u001b[0m     \u001b[38;5;28mself\u001b[39m\u001b[38;5;241m.\u001b[39mhandle_success(result)\n",
      "File \u001b[0;32m/usr/local/lib/python3.10/site-packages/prefect/utilities/callables.py:206\u001b[0m, in \u001b[0;36mcall_with_parameters\u001b[0;34m(fn, parameters)\u001b[0m\n\u001b[1;32m    198\u001b[0m \u001b[38;5;250m\u001b[39m\u001b[38;5;124;03m\"\"\"\u001b[39;00m\n\u001b[1;32m    199\u001b[0m \u001b[38;5;124;03mCall a function with parameters extracted with `get_call_parameters`\u001b[39;00m\n\u001b[1;32m    200\u001b[0m \n\u001b[0;32m   (...)\u001b[0m\n\u001b[1;32m    203\u001b[0m \u001b[38;5;124;03mthe args/kwargs using `parameters_to_positional_and_keyword` directly\u001b[39;00m\n\u001b[1;32m    204\u001b[0m \u001b[38;5;124;03m\"\"\"\u001b[39;00m\n\u001b[1;32m    205\u001b[0m args, kwargs \u001b[38;5;241m=\u001b[39m parameters_to_args_kwargs(fn, parameters)\n\u001b[0;32m--> 206\u001b[0m \u001b[38;5;28;01mreturn\u001b[39;00m \u001b[43mfn\u001b[49m\u001b[43m(\u001b[49m\u001b[38;5;241;43m*\u001b[39;49m\u001b[43margs\u001b[49m\u001b[43m,\u001b[49m\u001b[43m \u001b[49m\u001b[38;5;241;43m*\u001b[39;49m\u001b[38;5;241;43m*\u001b[39;49m\u001b[43mkwargs\u001b[49m\u001b[43m)\u001b[49m\n",
      "File \u001b[0;32m/app/flows/train_model_flow.py:116\u001b[0m, in \u001b[0;36mtrain_model\u001b[0;34m(start_ts, end_ts, mlflow_tracking, feature_flags, log_prints)\u001b[0m\n\u001b[1;32m    113\u001b[0m \u001b[38;5;28mprint\u001b[39m(\u001b[38;5;124mf\u001b[39m\u001b[38;5;124m'\u001b[39m\u001b[38;5;124mTraining set time span: \u001b[39m\u001b[38;5;132;01m{\u001b[39;00mstart_ts\u001b[38;5;132;01m}\u001b[39;00m\u001b[38;5;124m to \u001b[39m\u001b[38;5;132;01m{\u001b[39;00mend_ts\u001b[38;5;132;01m}\u001b[39;00m\u001b[38;5;124m'\u001b[39m)\n\u001b[1;32m    115\u001b[0m train_df \u001b[38;5;241m=\u001b[39m get_training_data(start_ts, end_ts, chunk_idx)\n\u001b[0;32m--> 116\u001b[0m \u001b[38;5;28;01massert\u001b[39;00m \u001b[38;5;28;01mFalse\u001b[39;00m\n\u001b[1;32m    117\u001b[0m \u001b[38;5;28mprint\u001b[39m(\u001b[38;5;124m'\u001b[39m\u001b[38;5;124mTraining data summary:\u001b[39m\u001b[38;5;124m'\u001b[39m)\n\u001b[1;32m    118\u001b[0m \u001b[38;5;28mprint\u001b[39m(df_summary(train_df))\n",
      "\u001b[0;31mAssertionError\u001b[0m: "
     ]
    }
   ],
   "source": [
    "train_model(start_ts=None, end_ts=None, mlflow_tracking=False)"
   ]
  }
 ],
 "metadata": {
  "kernelspec": {
   "display_name": "Python 3 (ipykernel)",
   "language": "python",
   "name": "python3"
  },
  "language_info": {
   "codemirror_mode": {
    "name": "ipython",
    "version": 3
   },
   "file_extension": ".py",
   "mimetype": "text/x-python",
   "name": "python",
   "nbconvert_exporter": "python",
   "pygments_lexer": "ipython3",
   "version": "3.10.15"
  }
 },
 "nbformat": 4,
 "nbformat_minor": 5
}
