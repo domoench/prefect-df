{
 "cells": [
  {
   "cell_type": "code",
   "execution_count": 1,
   "id": "26c56843-0930-4877-a935-9d06be9ccc43",
   "metadata": {},
   "outputs": [],
   "source": [
    "%load_ext autoreload\n",
    "%autoreload 2"
   ]
  },
  {
   "cell_type": "code",
   "execution_count": 51,
   "id": "cce66ebc-b189-4dd9-b442-bf395fdace58",
   "metadata": {},
   "outputs": [],
   "source": [
    "from core.consts import EIA_TEST_SET_HOURS, EIA_EARLIEST_HOUR_UTC\n",
    "from flows.etl_flow import etl \n",
    "from prefect import flow"
   ]
  },
  {
   "cell_type": "code",
   "execution_count": null,
   "id": "324a36b2-d1ce-425f-965d-e2aa3ff669bd",
   "metadata": {},
   "outputs": [
    {
     "data": {
      "text/html": [
       "<pre style=\"white-space:pre;overflow-x:auto;line-height:normal;font-family:Menlo,'DejaVu Sans Mono',consolas,'Courier New',monospace\">18:50:23.955 | <span style=\"color: #008080; text-decoration-color: #008080\">INFO</span>    | prefect.engine - Created flow run<span style=\"color: #800080; text-decoration-color: #800080\"> 'tuscan-caterpillar'</span> for flow<span style=\"color: #800080; text-decoration-color: #800080; font-weight: bold\"> 'etl'</span>\n",
       "</pre>\n"
      ],
      "text/plain": [
       "18:50:23.955 | \u001b[36mINFO\u001b[0m    | prefect.engine - Created flow run\u001b[35m 'tuscan-caterpillar'\u001b[0m for flow\u001b[1;35m 'etl'\u001b[0m\n"
      ]
     },
     "metadata": {},
     "output_type": "display_data"
    },
    {
     "data": {
      "text/html": [
       "<pre style=\"white-space:pre;overflow-x:auto;line-height:normal;font-family:Menlo,'DejaVu Sans Mono',consolas,'Courier New',monospace\">18:50:23.965 | <span style=\"color: #008080; text-decoration-color: #008080\">INFO</span>    | prefect.engine - View at <span style=\"color: #0000ff; text-decoration-color: #0000ff\">https://app.prefect.cloud/account/914106c7-cc3b-4c5c-99f4-915f39352746/workspace/d3b27b3d-41ca-47a0-9b5b-2eebd92a4b25/runs/flow-run/42b7f9d2-9d6e-43e5-89f9-f8dbf6e12cb4</span>\n",
       "</pre>\n"
      ],
      "text/plain": [
       "18:50:23.965 | \u001b[36mINFO\u001b[0m    | prefect.engine - View at \u001b[94mhttps://app.prefect.cloud/account/914106c7-cc3b-4c5c-99f4-915f39352746/workspace/d3b27b3d-41ca-47a0-9b5b-2eebd92a4b25/runs/flow-run/42b7f9d2-9d6e-43e5-89f9-f8dbf6e12cb4\u001b[0m\n"
      ]
     },
     "metadata": {},
     "output_type": "display_data"
    },
    {
     "data": {
      "text/html": [
       "<pre style=\"white-space:pre;overflow-x:auto;line-height:normal;font-family:Menlo,'DejaVu Sans Mono',consolas,'Courier New',monospace\">18:50:24.387 | <span style=\"color: #008080; text-decoration-color: #008080\">INFO</span>    | Task run 'initialize_chunk_index-af8' - Created task run 'initialize_chunk_index-af8' for task 'initialize_chunk_index'\n",
       "</pre>\n"
      ],
      "text/plain": [
       "18:50:24.387 | \u001b[36mINFO\u001b[0m    | Task run 'initialize_chunk_index-af8' - Created task run 'initialize_chunk_index-af8' for task 'initialize_chunk_index'\n"
      ]
     },
     "metadata": {},
     "output_type": "display_data"
    },
    {
     "data": {
      "text/html": [
       "<pre style=\"white-space:pre;overflow-x:auto;line-height:normal;font-family:Menlo,'DejaVu Sans Mono',consolas,'Courier New',monospace\">18:50:24.414 | <span style=\"color: #008080; text-decoration-color: #008080\">INFO</span>    | Task run 'initialize_chunk_index-af8' - DVC git repo is clean\n",
       "</pre>\n"
      ],
      "text/plain": [
       "18:50:24.414 | \u001b[36mINFO\u001b[0m    | Task run 'initialize_chunk_index-af8' - DVC git repo is clean\n"
      ]
     },
     "metadata": {},
     "output_type": "display_data"
    },
    {
     "data": {
      "application/vnd.jupyter.widget-view+json": {
       "model_id": "0b14871f64294b88b0c44dcc810051f5",
       "version_major": 2,
       "version_minor": 0
      },
      "text/plain": [
       "Calculating Metrics:   0%|          | 0/15 [00:00<?, ?it/s]"
      ]
     },
     "metadata": {},
     "output_type": "display_data"
    },
    {
     "data": {
      "text/html": [
       "<pre style=\"white-space:pre;overflow-x:auto;line-height:normal;font-family:Menlo,'DejaVu Sans Mono',consolas,'Courier New',monospace\">18:50:25.074 | <span style=\"color: #008080; text-decoration-color: #008080\">INFO</span>    | Task run 'initialize_chunk_index-af8' - GX Validation success: suite:etl\n",
       "</pre>\n"
      ],
      "text/plain": [
       "18:50:25.074 | \u001b[36mINFO\u001b[0m    | Task run 'initialize_chunk_index-af8' - GX Validation success: suite:etl\n"
      ]
     },
     "metadata": {},
     "output_type": "display_data"
    },
    {
     "data": {
      "text/html": [
       "<pre style=\"white-space:pre;overflow-x:auto;line-height:normal;font-family:Menlo,'DejaVu Sans Mono',consolas,'Courier New',monospace\">18:50:25.096 | <span style=\"color: #008080; text-decoration-color: #008080\">INFO</span>    | Task run 'extract-3ba' - Created task run 'extract-3ba' for task 'extract'\n",
       "</pre>\n"
      ],
      "text/plain": [
       "18:50:25.096 | \u001b[36mINFO\u001b[0m    | Task run 'extract-3ba' - Created task run 'extract-3ba' for task 'extract'\n"
      ]
     },
     "metadata": {},
     "output_type": "display_data"
    },
    {
     "data": {
      "text/html": [
       "<pre style=\"white-space:pre;overflow-x:auto;line-height:normal;font-family:Menlo,'DejaVu Sans Mono',consolas,'Courier New',monospace\">18:50:25.121 | <span style=\"color: #008080; text-decoration-color: #008080\">INFO</span>    | Task run 'concurrent_fetch_EIA_data-0cd' - Created task run 'concurrent_fetch_EIA_data-0cd' for task 'concurrent_fetch_EIA_data'\n",
       "</pre>\n"
      ],
      "text/plain": [
       "18:50:25.121 | \u001b[36mINFO\u001b[0m    | Task run 'concurrent_fetch_EIA_data-0cd' - Created task run 'concurrent_fetch_EIA_data-0cd' for task 'concurrent_fetch_EIA_data'\n"
      ]
     },
     "metadata": {},
     "output_type": "display_data"
    },
    {
     "data": {
      "text/html": [
       "<pre style=\"white-space:pre;overflow-x:auto;line-height:normal;font-family:Menlo,'DejaVu Sans Mono',consolas,'Courier New',monospace\">18:50:25.125 | <span style=\"color: #008080; text-decoration-color: #008080\">INFO</span>    | Task run 'concurrent_fetch_EIA_data-0cd' - Fetching API page. offset:0. length:5000\n",
       "</pre>\n"
      ],
      "text/plain": [
       "18:50:25.125 | \u001b[36mINFO\u001b[0m    | Task run 'concurrent_fetch_EIA_data-0cd' - Fetching API page. offset:0. length:5000\n"
      ]
     },
     "metadata": {},
     "output_type": "display_data"
    },
    {
     "data": {
      "text/html": [
       "<pre style=\"white-space:pre;overflow-x:auto;line-height:normal;font-family:Menlo,'DejaVu Sans Mono',consolas,'Courier New',monospace\">18:50:27.315 | <span style=\"color: #008080; text-decoration-color: #008080\">INFO</span>    | Task run 'concurrent_fetch_EIA_data-0cd' - Total records to fetch: 2017\n",
       "</pre>\n"
      ],
      "text/plain": [
       "18:50:27.315 | \u001b[36mINFO\u001b[0m    | Task run 'concurrent_fetch_EIA_data-0cd' - Total records to fetch: 2017\n"
      ]
     },
     "metadata": {},
     "output_type": "display_data"
    },
    {
     "data": {
      "text/html": [
       "<pre style=\"white-space:pre;overflow-x:auto;line-height:normal;font-family:Menlo,'DejaVu Sans Mono',consolas,'Courier New',monospace\">18:50:27.319 | <span style=\"color: #008080; text-decoration-color: #008080\">INFO</span>    | Task run 'concurrent_fetch_EIA_data-0cd' - ('Fetching 2017 hours of data: 2017 records.\\n', 'Start: 2024-08-05 18:00:00+00:00. End: 2024-10-28 19:00:00+00:00')\n",
       "</pre>\n"
      ],
      "text/plain": [
       "18:50:27.319 | \u001b[36mINFO\u001b[0m    | Task run 'concurrent_fetch_EIA_data-0cd' - ('Fetching 2017 hours of data: 2017 records.\\n', 'Start: 2024-08-05 18:00:00+00:00. End: 2024-10-28 19:00:00+00:00')\n"
      ]
     },
     "metadata": {},
     "output_type": "display_data"
    },
    {
     "data": {
      "text/html": [
       "<pre style=\"white-space:pre;overflow-x:auto;line-height:normal;font-family:Menlo,'DejaVu Sans Mono',consolas,'Courier New',monospace\">18:50:27.322 | <span style=\"color: #008080; text-decoration-color: #008080\">INFO</span>    | Task run 'concurrent_fetch_EIA_data-0cd' - Will make 0 5000-length requests and one 2017-length request.\n",
       "</pre>\n"
      ],
      "text/plain": [
       "18:50:27.322 | \u001b[36mINFO\u001b[0m    | Task run 'concurrent_fetch_EIA_data-0cd' - Will make 0 5000-length requests and one 2017-length request.\n"
      ]
     },
     "metadata": {},
     "output_type": "display_data"
    },
    {
     "data": {
      "text/html": [
       "<pre style=\"white-space:pre;overflow-x:auto;line-height:normal;font-family:Menlo,'DejaVu Sans Mono',consolas,'Courier New',monospace\">18:50:27.325 | <span style=\"color: #008080; text-decoration-color: #008080\">INFO</span>    | Task run 'concurrent_fetch_EIA_data-0cd' - Submitting task get_eia_data_as_df to thread pool executor...\n",
       "</pre>\n"
      ],
      "text/plain": [
       "18:50:27.325 | \u001b[36mINFO\u001b[0m    | Task run 'concurrent_fetch_EIA_data-0cd' - Submitting task get_eia_data_as_df to thread pool executor...\n"
      ]
     },
     "metadata": {},
     "output_type": "display_data"
    },
    {
     "data": {
      "text/html": [
       "<pre style=\"white-space:pre;overflow-x:auto;line-height:normal;font-family:Menlo,'DejaVu Sans Mono',consolas,'Courier New',monospace\">18:50:27.365 | <span style=\"color: #008080; text-decoration-color: #008080\">INFO</span>    | Task run 'get_eia_data_as_df-3e8' - Created task run 'get_eia_data_as_df-3e8' for task 'get_eia_data_as_df'\n",
       "</pre>\n"
      ],
      "text/plain": [
       "18:50:27.365 | \u001b[36mINFO\u001b[0m    | Task run 'get_eia_data_as_df-3e8' - Created task run 'get_eia_data_as_df-3e8' for task 'get_eia_data_as_df'\n"
      ]
     },
     "metadata": {},
     "output_type": "display_data"
    },
    {
     "data": {
      "text/html": [
       "<pre style=\"white-space:pre;overflow-x:auto;line-height:normal;font-family:Menlo,'DejaVu Sans Mono',consolas,'Courier New',monospace\">18:50:27.371 | <span style=\"color: #008080; text-decoration-color: #008080\">INFO</span>    | Task run 'get_eia_data_as_df-3e8' - Fetching API page. offset:0. length:2017\n",
       "</pre>\n"
      ],
      "text/plain": [
       "18:50:27.371 | \u001b[36mINFO\u001b[0m    | Task run 'get_eia_data_as_df-3e8' - Fetching API page. offset:0. length:2017\n"
      ]
     },
     "metadata": {},
     "output_type": "display_data"
    },
    {
     "data": {
      "text/html": [
       "<pre style=\"white-space:pre;overflow-x:auto;line-height:normal;font-family:Menlo,'DejaVu Sans Mono',consolas,'Courier New',monospace\">18:50:29.172 | <span style=\"color: #008080; text-decoration-color: #008080\">INFO</span>    | Task run 'get_eia_data_as_df-3e8' - Finished in state <span style=\"color: #008000; text-decoration-color: #008000\">Completed</span>()\n",
       "</pre>\n"
      ],
      "text/plain": [
       "18:50:29.172 | \u001b[36mINFO\u001b[0m    | Task run 'get_eia_data_as_df-3e8' - Finished in state \u001b[32mCompleted\u001b[0m()\n"
      ]
     },
     "metadata": {},
     "output_type": "display_data"
    },
    {
     "data": {
      "text/html": [
       "<pre style=\"white-space:pre;overflow-x:auto;line-height:normal;font-family:Menlo,'DejaVu Sans Mono',consolas,'Courier New',monospace\">18:50:29.180 | <span style=\"color: #008080; text-decoration-color: #008080\">INFO</span>    | Task run 'concurrent_fetch_EIA_data-0cd' - Finished in state <span style=\"color: #008000; text-decoration-color: #008000\">Completed</span>()\n",
       "</pre>\n"
      ],
      "text/plain": [
       "18:50:29.180 | \u001b[36mINFO\u001b[0m    | Task run 'concurrent_fetch_EIA_data-0cd' - Finished in state \u001b[32mCompleted\u001b[0m()\n"
      ]
     },
     "metadata": {},
     "output_type": "display_data"
    },
    {
     "data": {
      "text/html": [
       "<pre style=\"white-space:pre;overflow-x:auto;line-height:normal;font-family:Menlo,'DejaVu Sans Mono',consolas,'Courier New',monospace\">18:50:29.191 | <span style=\"color: #008080; text-decoration-color: #008080\">INFO</span>    | Task run 'extract-3ba' - Dataframe info:\n",
       "&lt;class 'pandas.core.frame.DataFrame'&gt;\n",
       "DatetimeIndex: 2017 entries, 2024-08-05 00:00:00+00:00 to 2024-10-28 00:00:00+00:00\n",
       "Data columns (total 6 columns):\n",
       " #   Column           Non-Null Count  Dtype \n",
       "---  ------           --------------  ----- \n",
       " 0   respondent       2017 non-null   object\n",
       " 1   respondent-name  2017 non-null   object\n",
       " 2   type             2017 non-null   object\n",
       " 3   type-name        2017 non-null   object\n",
       " 4   value            2017 non-null   object\n",
       " 5   value-units      2017 non-null   object\n",
       "dtypes: object(6)\n",
       "memory usage: 110.3+ KB\n",
       "\n",
       "Dataframe summary:\n",
       "                          respondent           respondent-name type type-name  \\\n",
       "utc_ts                                                                          \n",
       "2024-08-05 00:00:00+00:00        PJM  PJM Interconnection, LLC    D    Demand   \n",
       "2024-08-05 01:00:00+00:00        PJM  PJM Interconnection, LLC    D    Demand   \n",
       "2024-08-05 02:00:00+00:00        PJM  PJM Interconnection, LLC    D    Demand   \n",
       "2024-08-05 03:00:00+00:00        PJM  PJM Interconnection, LLC    D    Demand   \n",
       "2024-08-05 04:00:00+00:00        PJM  PJM Interconnection, LLC    D    Demand   \n",
       "...                              ...                       ...  ...       ...   \n",
       "2024-10-27 20:00:00+00:00        PJM  PJM Interconnection, LLC    D    Demand   \n",
       "2024-10-27 21:00:00+00:00        PJM  PJM Interconnection, LLC    D    Demand   \n",
       "2024-10-27 22:00:00+00:00        PJM  PJM Interconnection, LLC    D    Demand   \n",
       "2024-10-27 23:00:00+00:00        PJM  PJM Interconnection, LLC    D    Demand   \n",
       "2024-10-28 00:00:00+00:00        PJM  PJM Interconnection, LLC    D    Demand   \n",
       "\n",
       "                            value    value-units  \n",
       "utc_ts                                            \n",
       "2024-08-05 00:00:00+00:00  126121  megawatthours  \n",
       "2024-08-05 01:00:00+00:00  122023  megawatthours  \n",
       "2024-08-05 02:00:00+00:00  117820  megawatthours  \n",
       "2024-08-05 03:00:00+00:00  111233  megawatthours  \n",
       "2024-08-05 04:00:00+00:00  105890  megawatthours  \n",
       "...                           ...            ...  \n",
       "2024-10-27 20:00:00+00:00   73640  megawatthours  \n",
       "2024-10-27 21:00:00+00:00   75328  megawatthours  \n",
       "2024-10-27 22:00:00+00:00   77959  megawatthours  \n",
       "2024-10-27 23:00:00+00:00   81371  megawatthours  \n",
       "2024-10-28 00:00:00+00:00   83483  megawatthours  \n",
       "\n",
       "[2017 rows x 6 columns]\n",
       "</pre>\n"
      ],
      "text/plain": [
       "18:50:29.191 | \u001b[36mINFO\u001b[0m    | Task run 'extract-3ba' - Dataframe info:\n",
       "<class 'pandas.core.frame.DataFrame'>\n",
       "DatetimeIndex: 2017 entries, 2024-08-05 00:00:00+00:00 to 2024-10-28 00:00:00+00:00\n",
       "Data columns (total 6 columns):\n",
       " #   Column           Non-Null Count  Dtype \n",
       "---  ------           --------------  ----- \n",
       " 0   respondent       2017 non-null   object\n",
       " 1   respondent-name  2017 non-null   object\n",
       " 2   type             2017 non-null   object\n",
       " 3   type-name        2017 non-null   object\n",
       " 4   value            2017 non-null   object\n",
       " 5   value-units      2017 non-null   object\n",
       "dtypes: object(6)\n",
       "memory usage: 110.3+ KB\n",
       "\n",
       "Dataframe summary:\n",
       "                          respondent           respondent-name type type-name  \\\n",
       "utc_ts                                                                          \n",
       "2024-08-05 00:00:00+00:00        PJM  PJM Interconnection, LLC    D    Demand   \n",
       "2024-08-05 01:00:00+00:00        PJM  PJM Interconnection, LLC    D    Demand   \n",
       "2024-08-05 02:00:00+00:00        PJM  PJM Interconnection, LLC    D    Demand   \n",
       "2024-08-05 03:00:00+00:00        PJM  PJM Interconnection, LLC    D    Demand   \n",
       "2024-08-05 04:00:00+00:00        PJM  PJM Interconnection, LLC    D    Demand   \n",
       "...                              ...                       ...  ...       ...   \n",
       "2024-10-27 20:00:00+00:00        PJM  PJM Interconnection, LLC    D    Demand   \n",
       "2024-10-27 21:00:00+00:00        PJM  PJM Interconnection, LLC    D    Demand   \n",
       "2024-10-27 22:00:00+00:00        PJM  PJM Interconnection, LLC    D    Demand   \n",
       "2024-10-27 23:00:00+00:00        PJM  PJM Interconnection, LLC    D    Demand   \n",
       "2024-10-28 00:00:00+00:00        PJM  PJM Interconnection, LLC    D    Demand   \n",
       "\n",
       "                            value    value-units  \n",
       "utc_ts                                            \n",
       "2024-08-05 00:00:00+00:00  126121  megawatthours  \n",
       "2024-08-05 01:00:00+00:00  122023  megawatthours  \n",
       "2024-08-05 02:00:00+00:00  117820  megawatthours  \n",
       "2024-08-05 03:00:00+00:00  111233  megawatthours  \n",
       "2024-08-05 04:00:00+00:00  105890  megawatthours  \n",
       "...                           ...            ...  \n",
       "2024-10-27 20:00:00+00:00   73640  megawatthours  \n",
       "2024-10-27 21:00:00+00:00   75328  megawatthours  \n",
       "2024-10-27 22:00:00+00:00   77959  megawatthours  \n",
       "2024-10-27 23:00:00+00:00   81371  megawatthours  \n",
       "2024-10-28 00:00:00+00:00   83483  megawatthours  \n",
       "\n",
       "[2017 rows x 6 columns]\n"
      ]
     },
     "metadata": {},
     "output_type": "display_data"
    },
    {
     "data": {
      "text/html": [
       "<pre style=\"white-space:pre;overflow-x:auto;line-height:normal;font-family:Menlo,'DejaVu Sans Mono',consolas,'Courier New',monospace\">18:50:29.197 | <span style=\"color: #008080; text-decoration-color: #008080\">INFO</span>    | Task run 'extract-3ba' - Finished in state <span style=\"color: #008000; text-decoration-color: #008000\">Completed</span>()\n",
       "</pre>\n"
      ],
      "text/plain": [
       "18:50:29.197 | \u001b[36mINFO\u001b[0m    | Task run 'extract-3ba' - Finished in state \u001b[32mCompleted\u001b[0m()\n"
      ]
     },
     "metadata": {},
     "output_type": "display_data"
    },
    {
     "data": {
      "text/html": [
       "<pre style=\"white-space:pre;overflow-x:auto;line-height:normal;font-family:Menlo,'DejaVu Sans Mono',consolas,'Courier New',monospace\">18:50:29.230 | <span style=\"color: #008080; text-decoration-color: #008080\">INFO</span>    | Task run 'transform-cf6' - Created task run 'transform-cf6' for task 'transform'\n",
       "</pre>\n"
      ],
      "text/plain": [
       "18:50:29.230 | \u001b[36mINFO\u001b[0m    | Task run 'transform-cf6' - Created task run 'transform-cf6' for task 'transform'\n"
      ]
     },
     "metadata": {},
     "output_type": "display_data"
    },
    {
     "data": {
      "text/html": [
       "<pre style=\"white-space:pre;overflow-x:auto;line-height:normal;font-family:Menlo,'DejaVu Sans Mono',consolas,'Courier New',monospace\">18:50:29.237 | <span style=\"color: #008080; text-decoration-color: #008080\">INFO</span>    | Task run 'transform-cf6' - Transforming timeseries.\n",
       "</pre>\n"
      ],
      "text/plain": [
       "18:50:29.237 | \u001b[36mINFO\u001b[0m    | Task run 'transform-cf6' - Transforming timeseries.\n"
      ]
     },
     "metadata": {},
     "output_type": "display_data"
    },
    {
     "data": {
      "text/html": [
       "<pre style=\"white-space:pre;overflow-x:auto;line-height:normal;font-family:Menlo,'DejaVu Sans Mono',consolas,'Courier New',monospace\">18:50:29.246 | <span style=\"color: #008080; text-decoration-color: #008080\">INFO</span>    | Task run 'transform-cf6' - Dataframe info:\n",
       "&lt;class 'pandas.core.frame.DataFrame'&gt;\n",
       "DatetimeIndex: 2017 entries, 2024-08-05 00:00:00+00:00 to 2024-10-28 00:00:00+00:00\n",
       "Data columns (total 1 columns):\n",
       " #   Column  Non-Null Count  Dtype\n",
       "---  ------  --------------  -----\n",
       " 0   D       2017 non-null   int64\n",
       "dtypes: int64(1)\n",
       "memory usage: 96.1 KB\n",
       "\n",
       "Dataframe summary:\n",
       "                                D\n",
       "utc_ts                           \n",
       "2024-08-05 00:00:00+00:00  126121\n",
       "2024-08-05 01:00:00+00:00  122023\n",
       "2024-08-05 02:00:00+00:00  117820\n",
       "2024-08-05 03:00:00+00:00  111233\n",
       "2024-08-05 04:00:00+00:00  105890\n",
       "...                           ...\n",
       "2024-10-27 20:00:00+00:00   73640\n",
       "2024-10-27 21:00:00+00:00   75328\n",
       "2024-10-27 22:00:00+00:00   77959\n",
       "2024-10-27 23:00:00+00:00   81371\n",
       "2024-10-28 00:00:00+00:00   83483\n",
       "\n",
       "[2017 rows x 1 columns]\n",
       "</pre>\n"
      ],
      "text/plain": [
       "18:50:29.246 | \u001b[36mINFO\u001b[0m    | Task run 'transform-cf6' - Dataframe info:\n",
       "<class 'pandas.core.frame.DataFrame'>\n",
       "DatetimeIndex: 2017 entries, 2024-08-05 00:00:00+00:00 to 2024-10-28 00:00:00+00:00\n",
       "Data columns (total 1 columns):\n",
       " #   Column  Non-Null Count  Dtype\n",
       "---  ------  --------------  -----\n",
       " 0   D       2017 non-null   int64\n",
       "dtypes: int64(1)\n",
       "memory usage: 96.1 KB\n",
       "\n",
       "Dataframe summary:\n",
       "                                D\n",
       "utc_ts                           \n",
       "2024-08-05 00:00:00+00:00  126121\n",
       "2024-08-05 01:00:00+00:00  122023\n",
       "2024-08-05 02:00:00+00:00  117820\n",
       "2024-08-05 03:00:00+00:00  111233\n",
       "2024-08-05 04:00:00+00:00  105890\n",
       "...                           ...\n",
       "2024-10-27 20:00:00+00:00   73640\n",
       "2024-10-27 21:00:00+00:00   75328\n",
       "2024-10-27 22:00:00+00:00   77959\n",
       "2024-10-27 23:00:00+00:00   81371\n",
       "2024-10-28 00:00:00+00:00   83483\n",
       "\n",
       "[2017 rows x 1 columns]\n"
      ]
     },
     "metadata": {},
     "output_type": "display_data"
    },
    {
     "data": {
      "text/html": [
       "<pre style=\"white-space:pre;overflow-x:auto;line-height:normal;font-family:Menlo,'DejaVu Sans Mono',consolas,'Courier New',monospace\">18:50:29.250 | <span style=\"color: #008080; text-decoration-color: #008080\">INFO</span>    | Task run 'transform-cf6' - Finished in state <span style=\"color: #008000; text-decoration-color: #008000\">Completed</span>()\n",
       "</pre>\n"
      ],
      "text/plain": [
       "18:50:29.250 | \u001b[36mINFO\u001b[0m    | Task run 'transform-cf6' - Finished in state \u001b[32mCompleted\u001b[0m()\n"
      ]
     },
     "metadata": {},
     "output_type": "display_data"
    },
    {
     "name": "stderr",
     "output_type": "stream",
     "text": [
      "/app/core/data.py:77: UserWarning: Converting to Period representation will drop timezone information.\n",
      "  q_start = pd.Timestamp(start_ts).to_period('Q').start_time.tz_localize('UTC')\n",
      "/app/core/data.py:78: UserWarning: Converting to Period representation will drop timezone information.\n",
      "  q_end = pd.Timestamp(end_ts).to_period('Q').end_time.tz_localize('UTC')\n"
     ]
    },
    {
     "data": {
      "text/html": [
       "<pre style=\"white-space:pre;overflow-x:auto;line-height:normal;font-family:Menlo,'DejaVu Sans Mono',consolas,'Courier New',monospace\"></pre>\n"
      ],
      "text/plain": []
     },
     "metadata": {},
     "output_type": "display_data"
    },
    {
     "name": "stdout",
     "output_type": "stream",
     "text": [
      "\n",
      "To track the changes with git, run:\n",
      "\n",
      "\tgit add ../../tmp/df-dvc-dev/v1/data/2015_Q3_from_2015-07-01-00_to_2015-09-30-23.parquet.dvc ../../tmp/df-dvc-dev/v1/data/.gitignore\n"
     ]
    },
    {
     "data": {
      "text/html": [
       "<pre style=\"white-space:pre;overflow-x:auto;line-height:normal;font-family:Menlo,'DejaVu Sans Mono',consolas,'Courier New',monospace\">18:50:29.323 | <span style=\"color: #008080; text-decoration-color: #008080\">INFO</span>    | dvc.repo.scm_context - \n",
       "To track the changes with git, run:\n",
       "\n",
       "        git add ../../tmp/df-dvc-dev/v1/data/2015_Q3_from_2015-07-01-00_to_2015-09-30-23.parquet.dvc ../../tmp/df-dvc-dev/v1/data/.gitignore\n",
       "</pre>\n"
      ],
      "text/plain": [
       "18:50:29.323 | \u001b[36mINFO\u001b[0m    | dvc.repo.scm_context - \n",
       "To track the changes with git, run:\n",
       "\n",
       "        git add ../../tmp/df-dvc-dev/v1/data/2015_Q3_from_2015-07-01-00_to_2015-09-30-23.parquet.dvc ../../tmp/df-dvc-dev/v1/data/.gitignore\n"
      ]
     },
     "metadata": {},
     "output_type": "display_data"
    },
    {
     "name": "stdout",
     "output_type": "stream",
     "text": [
      "\n",
      "To enable auto staging, run:\n",
      "\n",
      "\tdvc config core.autostage true\n"
     ]
    },
    {
     "data": {
      "text/html": [
       "<pre style=\"white-space:pre;overflow-x:auto;line-height:normal;font-family:Menlo,'DejaVu Sans Mono',consolas,'Courier New',monospace\">18:50:29.325 | <span style=\"color: #008080; text-decoration-color: #008080\">INFO</span>    | dvc.repo.scm_context - \n",
       "To enable auto staging, run:\n",
       "\n",
       "        dvc config core.autostage true\n",
       "</pre>\n"
      ],
      "text/plain": [
       "18:50:29.325 | \u001b[36mINFO\u001b[0m    | dvc.repo.scm_context - \n",
       "To enable auto staging, run:\n",
       "\n",
       "        dvc config core.autostage true\n"
      ]
     },
     "metadata": {},
     "output_type": "display_data"
    },
    {
     "data": {
      "text/html": [
       "<pre style=\"white-space:pre;overflow-x:auto;line-height:normal;font-family:Menlo,'DejaVu Sans Mono',consolas,'Courier New',monospace\"></pre>\n"
      ],
      "text/plain": []
     },
     "metadata": {},
     "output_type": "display_data"
    },
    {
     "name": "stdout",
     "output_type": "stream",
     "text": [
      "\n",
      "To track the changes with git, run:\n",
      "\n",
      "\tgit add ../../tmp/df-dvc-dev/v1/data/2015_Q4_from_2015-10-01-00_to_2015-12-31-23.parquet.dvc ../../tmp/df-dvc-dev/v1/data/.gitignore\n"
     ]
    },
    {
     "data": {
      "text/html": [
       "<pre style=\"white-space:pre;overflow-x:auto;line-height:normal;font-family:Menlo,'DejaVu Sans Mono',consolas,'Courier New',monospace\">18:50:29.359 | <span style=\"color: #008080; text-decoration-color: #008080\">INFO</span>    | dvc.repo.scm_context - \n",
       "To track the changes with git, run:\n",
       "\n",
       "        git add ../../tmp/df-dvc-dev/v1/data/2015_Q4_from_2015-10-01-00_to_2015-12-31-23.parquet.dvc ../../tmp/df-dvc-dev/v1/data/.gitignore\n",
       "</pre>\n"
      ],
      "text/plain": [
       "18:50:29.359 | \u001b[36mINFO\u001b[0m    | dvc.repo.scm_context - \n",
       "To track the changes with git, run:\n",
       "\n",
       "        git add ../../tmp/df-dvc-dev/v1/data/2015_Q4_from_2015-10-01-00_to_2015-12-31-23.parquet.dvc ../../tmp/df-dvc-dev/v1/data/.gitignore\n"
      ]
     },
     "metadata": {},
     "output_type": "display_data"
    },
    {
     "name": "stdout",
     "output_type": "stream",
     "text": [
      "\n",
      "To enable auto staging, run:\n",
      "\n",
      "\tdvc config core.autostage true\n"
     ]
    },
    {
     "data": {
      "text/html": [
       "<pre style=\"white-space:pre;overflow-x:auto;line-height:normal;font-family:Menlo,'DejaVu Sans Mono',consolas,'Courier New',monospace\">18:50:29.360 | <span style=\"color: #008080; text-decoration-color: #008080\">INFO</span>    | dvc.repo.scm_context - \n",
       "To enable auto staging, run:\n",
       "\n",
       "        dvc config core.autostage true\n",
       "</pre>\n"
      ],
      "text/plain": [
       "18:50:29.360 | \u001b[36mINFO\u001b[0m    | dvc.repo.scm_context - \n",
       "To enable auto staging, run:\n",
       "\n",
       "        dvc config core.autostage true\n"
      ]
     },
     "metadata": {},
     "output_type": "display_data"
    },
    {
     "data": {
      "text/html": [
       "<pre style=\"white-space:pre;overflow-x:auto;line-height:normal;font-family:Menlo,'DejaVu Sans Mono',consolas,'Courier New',monospace\"></pre>\n"
      ],
      "text/plain": []
     },
     "metadata": {},
     "output_type": "display_data"
    },
    {
     "name": "stdout",
     "output_type": "stream",
     "text": [
      "\n",
      "To track the changes with git, run:\n",
      "\n",
      "\tgit add ../../tmp/df-dvc-dev/v1/data/2016_Q1_from_2016-01-01-00_to_2016-03-31-23.parquet.dvc ../../tmp/df-dvc-dev/v1/data/.gitignore\n"
     ]
    },
    {
     "data": {
      "text/html": [
       "<pre style=\"white-space:pre;overflow-x:auto;line-height:normal;font-family:Menlo,'DejaVu Sans Mono',consolas,'Courier New',monospace\">18:50:29.392 | <span style=\"color: #008080; text-decoration-color: #008080\">INFO</span>    | dvc.repo.scm_context - \n",
       "To track the changes with git, run:\n",
       "\n",
       "        git add ../../tmp/df-dvc-dev/v1/data/2016_Q1_from_2016-01-01-00_to_2016-03-31-23.parquet.dvc ../../tmp/df-dvc-dev/v1/data/.gitignore\n",
       "</pre>\n"
      ],
      "text/plain": [
       "18:50:29.392 | \u001b[36mINFO\u001b[0m    | dvc.repo.scm_context - \n",
       "To track the changes with git, run:\n",
       "\n",
       "        git add ../../tmp/df-dvc-dev/v1/data/2016_Q1_from_2016-01-01-00_to_2016-03-31-23.parquet.dvc ../../tmp/df-dvc-dev/v1/data/.gitignore\n"
      ]
     },
     "metadata": {},
     "output_type": "display_data"
    },
    {
     "name": "stdout",
     "output_type": "stream",
     "text": [
      "\n",
      "To enable auto staging, run:\n",
      "\n",
      "\tdvc config core.autostage true\n"
     ]
    },
    {
     "data": {
      "text/html": [
       "<pre style=\"white-space:pre;overflow-x:auto;line-height:normal;font-family:Menlo,'DejaVu Sans Mono',consolas,'Courier New',monospace\">18:50:29.394 | <span style=\"color: #008080; text-decoration-color: #008080\">INFO</span>    | dvc.repo.scm_context - \n",
       "To enable auto staging, run:\n",
       "\n",
       "        dvc config core.autostage true\n",
       "</pre>\n"
      ],
      "text/plain": [
       "18:50:29.394 | \u001b[36mINFO\u001b[0m    | dvc.repo.scm_context - \n",
       "To enable auto staging, run:\n",
       "\n",
       "        dvc config core.autostage true\n"
      ]
     },
     "metadata": {},
     "output_type": "display_data"
    },
    {
     "data": {
      "text/html": [
       "<pre style=\"white-space:pre;overflow-x:auto;line-height:normal;font-family:Menlo,'DejaVu Sans Mono',consolas,'Courier New',monospace\"></pre>\n"
      ],
      "text/plain": []
     },
     "metadata": {},
     "output_type": "display_data"
    },
    {
     "name": "stdout",
     "output_type": "stream",
     "text": [
      "\n",
      "To track the changes with git, run:\n",
      "\n",
      "\tgit add ../../tmp/df-dvc-dev/v1/data/2016_Q2_from_2016-04-01-00_to_2016-06-30-23.parquet.dvc ../../tmp/df-dvc-dev/v1/data/.gitignore\n"
     ]
    },
    {
     "data": {
      "text/html": [
       "<pre style=\"white-space:pre;overflow-x:auto;line-height:normal;font-family:Menlo,'DejaVu Sans Mono',consolas,'Courier New',monospace\">18:50:29.425 | <span style=\"color: #008080; text-decoration-color: #008080\">INFO</span>    | dvc.repo.scm_context - \n",
       "To track the changes with git, run:\n",
       "\n",
       "        git add ../../tmp/df-dvc-dev/v1/data/2016_Q2_from_2016-04-01-00_to_2016-06-30-23.parquet.dvc ../../tmp/df-dvc-dev/v1/data/.gitignore\n",
       "</pre>\n"
      ],
      "text/plain": [
       "18:50:29.425 | \u001b[36mINFO\u001b[0m    | dvc.repo.scm_context - \n",
       "To track the changes with git, run:\n",
       "\n",
       "        git add ../../tmp/df-dvc-dev/v1/data/2016_Q2_from_2016-04-01-00_to_2016-06-30-23.parquet.dvc ../../tmp/df-dvc-dev/v1/data/.gitignore\n"
      ]
     },
     "metadata": {},
     "output_type": "display_data"
    },
    {
     "name": "stdout",
     "output_type": "stream",
     "text": [
      "\n",
      "To enable auto staging, run:\n",
      "\n",
      "\tdvc config core.autostage true\n"
     ]
    },
    {
     "data": {
      "text/html": [
       "<pre style=\"white-space:pre;overflow-x:auto;line-height:normal;font-family:Menlo,'DejaVu Sans Mono',consolas,'Courier New',monospace\">18:50:29.427 | <span style=\"color: #008080; text-decoration-color: #008080\">INFO</span>    | dvc.repo.scm_context - \n",
       "To enable auto staging, run:\n",
       "\n",
       "        dvc config core.autostage true\n",
       "</pre>\n"
      ],
      "text/plain": [
       "18:50:29.427 | \u001b[36mINFO\u001b[0m    | dvc.repo.scm_context - \n",
       "To enable auto staging, run:\n",
       "\n",
       "        dvc config core.autostage true\n"
      ]
     },
     "metadata": {},
     "output_type": "display_data"
    },
    {
     "data": {
      "text/html": [
       "<pre style=\"white-space:pre;overflow-x:auto;line-height:normal;font-family:Menlo,'DejaVu Sans Mono',consolas,'Courier New',monospace\"></pre>\n"
      ],
      "text/plain": []
     },
     "metadata": {},
     "output_type": "display_data"
    },
    {
     "name": "stdout",
     "output_type": "stream",
     "text": [
      "\n",
      "To track the changes with git, run:\n",
      "\n",
      "\tgit add ../../tmp/df-dvc-dev/v1/data/2016_Q3_from_2016-07-01-00_to_2016-09-30-23.parquet.dvc ../../tmp/df-dvc-dev/v1/data/.gitignore\n"
     ]
    },
    {
     "data": {
      "text/html": [
       "<pre style=\"white-space:pre;overflow-x:auto;line-height:normal;font-family:Menlo,'DejaVu Sans Mono',consolas,'Courier New',monospace\">18:50:29.459 | <span style=\"color: #008080; text-decoration-color: #008080\">INFO</span>    | dvc.repo.scm_context - \n",
       "To track the changes with git, run:\n",
       "\n",
       "        git add ../../tmp/df-dvc-dev/v1/data/2016_Q3_from_2016-07-01-00_to_2016-09-30-23.parquet.dvc ../../tmp/df-dvc-dev/v1/data/.gitignore\n",
       "</pre>\n"
      ],
      "text/plain": [
       "18:50:29.459 | \u001b[36mINFO\u001b[0m    | dvc.repo.scm_context - \n",
       "To track the changes with git, run:\n",
       "\n",
       "        git add ../../tmp/df-dvc-dev/v1/data/2016_Q3_from_2016-07-01-00_to_2016-09-30-23.parquet.dvc ../../tmp/df-dvc-dev/v1/data/.gitignore\n"
      ]
     },
     "metadata": {},
     "output_type": "display_data"
    },
    {
     "name": "stdout",
     "output_type": "stream",
     "text": [
      "\n",
      "To enable auto staging, run:\n",
      "\n",
      "\tdvc config core.autostage true\n"
     ]
    },
    {
     "data": {
      "text/html": [
       "<pre style=\"white-space:pre;overflow-x:auto;line-height:normal;font-family:Menlo,'DejaVu Sans Mono',consolas,'Courier New',monospace\">18:50:29.461 | <span style=\"color: #008080; text-decoration-color: #008080\">INFO</span>    | dvc.repo.scm_context - \n",
       "To enable auto staging, run:\n",
       "\n",
       "        dvc config core.autostage true\n",
       "</pre>\n"
      ],
      "text/plain": [
       "18:50:29.461 | \u001b[36mINFO\u001b[0m    | dvc.repo.scm_context - \n",
       "To enable auto staging, run:\n",
       "\n",
       "        dvc config core.autostage true\n"
      ]
     },
     "metadata": {},
     "output_type": "display_data"
    },
    {
     "data": {
      "text/html": [
       "<pre style=\"white-space:pre;overflow-x:auto;line-height:normal;font-family:Menlo,'DejaVu Sans Mono',consolas,'Courier New',monospace\"></pre>\n"
      ],
      "text/plain": []
     },
     "metadata": {},
     "output_type": "display_data"
    },
    {
     "name": "stdout",
     "output_type": "stream",
     "text": [
      "\n",
      "To track the changes with git, run:\n",
      "\n",
      "\tgit add ../../tmp/df-dvc-dev/v1/data/2016_Q4_from_2016-10-01-00_to_2016-12-31-23.parquet.dvc ../../tmp/df-dvc-dev/v1/data/.gitignore\n"
     ]
    },
    {
     "data": {
      "text/html": [
       "<pre style=\"white-space:pre;overflow-x:auto;line-height:normal;font-family:Menlo,'DejaVu Sans Mono',consolas,'Courier New',monospace\">18:50:29.497 | <span style=\"color: #008080; text-decoration-color: #008080\">INFO</span>    | dvc.repo.scm_context - \n",
       "To track the changes with git, run:\n",
       "\n",
       "        git add ../../tmp/df-dvc-dev/v1/data/2016_Q4_from_2016-10-01-00_to_2016-12-31-23.parquet.dvc ../../tmp/df-dvc-dev/v1/data/.gitignore\n",
       "</pre>\n"
      ],
      "text/plain": [
       "18:50:29.497 | \u001b[36mINFO\u001b[0m    | dvc.repo.scm_context - \n",
       "To track the changes with git, run:\n",
       "\n",
       "        git add ../../tmp/df-dvc-dev/v1/data/2016_Q4_from_2016-10-01-00_to_2016-12-31-23.parquet.dvc ../../tmp/df-dvc-dev/v1/data/.gitignore\n"
      ]
     },
     "metadata": {},
     "output_type": "display_data"
    },
    {
     "name": "stdout",
     "output_type": "stream",
     "text": [
      "\n",
      "To enable auto staging, run:\n",
      "\n",
      "\tdvc config core.autostage true\n"
     ]
    },
    {
     "data": {
      "text/html": [
       "<pre style=\"white-space:pre;overflow-x:auto;line-height:normal;font-family:Menlo,'DejaVu Sans Mono',consolas,'Courier New',monospace\">18:50:29.498 | <span style=\"color: #008080; text-decoration-color: #008080\">INFO</span>    | dvc.repo.scm_context - \n",
       "To enable auto staging, run:\n",
       "\n",
       "        dvc config core.autostage true\n",
       "</pre>\n"
      ],
      "text/plain": [
       "18:50:29.498 | \u001b[36mINFO\u001b[0m    | dvc.repo.scm_context - \n",
       "To enable auto staging, run:\n",
       "\n",
       "        dvc config core.autostage true\n"
      ]
     },
     "metadata": {},
     "output_type": "display_data"
    },
    {
     "data": {
      "text/html": [
       "<pre style=\"white-space:pre;overflow-x:auto;line-height:normal;font-family:Menlo,'DejaVu Sans Mono',consolas,'Courier New',monospace\"></pre>\n"
      ],
      "text/plain": []
     },
     "metadata": {},
     "output_type": "display_data"
    },
    {
     "name": "stdout",
     "output_type": "stream",
     "text": [
      "\n",
      "To track the changes with git, run:\n",
      "\n",
      "\tgit add ../../tmp/df-dvc-dev/v1/data/2017_Q1_from_2017-01-01-00_to_2017-03-31-23.parquet.dvc ../../tmp/df-dvc-dev/v1/data/.gitignore\n"
     ]
    },
    {
     "data": {
      "text/html": [
       "<pre style=\"white-space:pre;overflow-x:auto;line-height:normal;font-family:Menlo,'DejaVu Sans Mono',consolas,'Courier New',monospace\">18:50:29.534 | <span style=\"color: #008080; text-decoration-color: #008080\">INFO</span>    | dvc.repo.scm_context - \n",
       "To track the changes with git, run:\n",
       "\n",
       "        git add ../../tmp/df-dvc-dev/v1/data/2017_Q1_from_2017-01-01-00_to_2017-03-31-23.parquet.dvc ../../tmp/df-dvc-dev/v1/data/.gitignore\n",
       "</pre>\n"
      ],
      "text/plain": [
       "18:50:29.534 | \u001b[36mINFO\u001b[0m    | dvc.repo.scm_context - \n",
       "To track the changes with git, run:\n",
       "\n",
       "        git add ../../tmp/df-dvc-dev/v1/data/2017_Q1_from_2017-01-01-00_to_2017-03-31-23.parquet.dvc ../../tmp/df-dvc-dev/v1/data/.gitignore\n"
      ]
     },
     "metadata": {},
     "output_type": "display_data"
    },
    {
     "name": "stdout",
     "output_type": "stream",
     "text": [
      "\n",
      "To enable auto staging, run:\n",
      "\n",
      "\tdvc config core.autostage true\n"
     ]
    },
    {
     "data": {
      "text/html": [
       "<pre style=\"white-space:pre;overflow-x:auto;line-height:normal;font-family:Menlo,'DejaVu Sans Mono',consolas,'Courier New',monospace\">18:50:29.537 | <span style=\"color: #008080; text-decoration-color: #008080\">INFO</span>    | dvc.repo.scm_context - \n",
       "To enable auto staging, run:\n",
       "\n",
       "        dvc config core.autostage true\n",
       "</pre>\n"
      ],
      "text/plain": [
       "18:50:29.537 | \u001b[36mINFO\u001b[0m    | dvc.repo.scm_context - \n",
       "To enable auto staging, run:\n",
       "\n",
       "        dvc config core.autostage true\n"
      ]
     },
     "metadata": {},
     "output_type": "display_data"
    },
    {
     "data": {
      "text/html": [
       "<pre style=\"white-space:pre;overflow-x:auto;line-height:normal;font-family:Menlo,'DejaVu Sans Mono',consolas,'Courier New',monospace\"></pre>\n"
      ],
      "text/plain": []
     },
     "metadata": {},
     "output_type": "display_data"
    },
    {
     "name": "stdout",
     "output_type": "stream",
     "text": [
      "\n",
      "To track the changes with git, run:\n",
      "\n",
      "\tgit add ../../tmp/df-dvc-dev/v1/data/2017_Q2_from_2017-04-01-00_to_2017-06-30-23.parquet.dvc ../../tmp/df-dvc-dev/v1/data/.gitignore\n"
     ]
    },
    {
     "data": {
      "text/html": [
       "<pre style=\"white-space:pre;overflow-x:auto;line-height:normal;font-family:Menlo,'DejaVu Sans Mono',consolas,'Courier New',monospace\">18:50:29.576 | <span style=\"color: #008080; text-decoration-color: #008080\">INFO</span>    | dvc.repo.scm_context - \n",
       "To track the changes with git, run:\n",
       "\n",
       "        git add ../../tmp/df-dvc-dev/v1/data/2017_Q2_from_2017-04-01-00_to_2017-06-30-23.parquet.dvc ../../tmp/df-dvc-dev/v1/data/.gitignore\n",
       "</pre>\n"
      ],
      "text/plain": [
       "18:50:29.576 | \u001b[36mINFO\u001b[0m    | dvc.repo.scm_context - \n",
       "To track the changes with git, run:\n",
       "\n",
       "        git add ../../tmp/df-dvc-dev/v1/data/2017_Q2_from_2017-04-01-00_to_2017-06-30-23.parquet.dvc ../../tmp/df-dvc-dev/v1/data/.gitignore\n"
      ]
     },
     "metadata": {},
     "output_type": "display_data"
    },
    {
     "name": "stdout",
     "output_type": "stream",
     "text": [
      "\n",
      "To enable auto staging, run:\n",
      "\n",
      "\tdvc config core.autostage true\n"
     ]
    },
    {
     "data": {
      "text/html": [
       "<pre style=\"white-space:pre;overflow-x:auto;line-height:normal;font-family:Menlo,'DejaVu Sans Mono',consolas,'Courier New',monospace\">18:50:29.578 | <span style=\"color: #008080; text-decoration-color: #008080\">INFO</span>    | dvc.repo.scm_context - \n",
       "To enable auto staging, run:\n",
       "\n",
       "        dvc config core.autostage true\n",
       "</pre>\n"
      ],
      "text/plain": [
       "18:50:29.578 | \u001b[36mINFO\u001b[0m    | dvc.repo.scm_context - \n",
       "To enable auto staging, run:\n",
       "\n",
       "        dvc config core.autostage true\n"
      ]
     },
     "metadata": {},
     "output_type": "display_data"
    },
    {
     "data": {
      "text/html": [
       "<pre style=\"white-space:pre;overflow-x:auto;line-height:normal;font-family:Menlo,'DejaVu Sans Mono',consolas,'Courier New',monospace\"></pre>\n"
      ],
      "text/plain": []
     },
     "metadata": {},
     "output_type": "display_data"
    },
    {
     "name": "stdout",
     "output_type": "stream",
     "text": [
      "\n",
      "To track the changes with git, run:\n",
      "\n",
      "\tgit add ../../tmp/df-dvc-dev/v1/data/2017_Q3_from_2017-07-01-00_to_2017-09-30-23.parquet.dvc ../../tmp/df-dvc-dev/v1/data/.gitignore\n"
     ]
    },
    {
     "data": {
      "text/html": [
       "<pre style=\"white-space:pre;overflow-x:auto;line-height:normal;font-family:Menlo,'DejaVu Sans Mono',consolas,'Courier New',monospace\">18:50:29.623 | <span style=\"color: #008080; text-decoration-color: #008080\">INFO</span>    | dvc.repo.scm_context - \n",
       "To track the changes with git, run:\n",
       "\n",
       "        git add ../../tmp/df-dvc-dev/v1/data/2017_Q3_from_2017-07-01-00_to_2017-09-30-23.parquet.dvc ../../tmp/df-dvc-dev/v1/data/.gitignore\n",
       "</pre>\n"
      ],
      "text/plain": [
       "18:50:29.623 | \u001b[36mINFO\u001b[0m    | dvc.repo.scm_context - \n",
       "To track the changes with git, run:\n",
       "\n",
       "        git add ../../tmp/df-dvc-dev/v1/data/2017_Q3_from_2017-07-01-00_to_2017-09-30-23.parquet.dvc ../../tmp/df-dvc-dev/v1/data/.gitignore\n"
      ]
     },
     "metadata": {},
     "output_type": "display_data"
    },
    {
     "name": "stdout",
     "output_type": "stream",
     "text": [
      "\n",
      "To enable auto staging, run:\n",
      "\n",
      "\tdvc config core.autostage true\n"
     ]
    },
    {
     "data": {
      "text/html": [
       "<pre style=\"white-space:pre;overflow-x:auto;line-height:normal;font-family:Menlo,'DejaVu Sans Mono',consolas,'Courier New',monospace\">18:50:29.624 | <span style=\"color: #008080; text-decoration-color: #008080\">INFO</span>    | dvc.repo.scm_context - \n",
       "To enable auto staging, run:\n",
       "\n",
       "        dvc config core.autostage true\n",
       "</pre>\n"
      ],
      "text/plain": [
       "18:50:29.624 | \u001b[36mINFO\u001b[0m    | dvc.repo.scm_context - \n",
       "To enable auto staging, run:\n",
       "\n",
       "        dvc config core.autostage true\n"
      ]
     },
     "metadata": {},
     "output_type": "display_data"
    },
    {
     "data": {
      "text/html": [
       "<pre style=\"white-space:pre;overflow-x:auto;line-height:normal;font-family:Menlo,'DejaVu Sans Mono',consolas,'Courier New',monospace\"></pre>\n"
      ],
      "text/plain": []
     },
     "metadata": {},
     "output_type": "display_data"
    },
    {
     "name": "stdout",
     "output_type": "stream",
     "text": [
      "\n",
      "To track the changes with git, run:\n",
      "\n",
      "\tgit add ../../tmp/df-dvc-dev/v1/data/2017_Q4_from_2017-10-01-00_to_2017-12-31-23.parquet.dvc ../../tmp/df-dvc-dev/v1/data/.gitignore\n"
     ]
    },
    {
     "data": {
      "text/html": [
       "<pre style=\"white-space:pre;overflow-x:auto;line-height:normal;font-family:Menlo,'DejaVu Sans Mono',consolas,'Courier New',monospace\">18:50:29.661 | <span style=\"color: #008080; text-decoration-color: #008080\">INFO</span>    | dvc.repo.scm_context - \n",
       "To track the changes with git, run:\n",
       "\n",
       "        git add ../../tmp/df-dvc-dev/v1/data/2017_Q4_from_2017-10-01-00_to_2017-12-31-23.parquet.dvc ../../tmp/df-dvc-dev/v1/data/.gitignore\n",
       "</pre>\n"
      ],
      "text/plain": [
       "18:50:29.661 | \u001b[36mINFO\u001b[0m    | dvc.repo.scm_context - \n",
       "To track the changes with git, run:\n",
       "\n",
       "        git add ../../tmp/df-dvc-dev/v1/data/2017_Q4_from_2017-10-01-00_to_2017-12-31-23.parquet.dvc ../../tmp/df-dvc-dev/v1/data/.gitignore\n"
      ]
     },
     "metadata": {},
     "output_type": "display_data"
    },
    {
     "name": "stdout",
     "output_type": "stream",
     "text": [
      "\n",
      "To enable auto staging, run:\n",
      "\n",
      "\tdvc config core.autostage true\n"
     ]
    },
    {
     "data": {
      "text/html": [
       "<pre style=\"white-space:pre;overflow-x:auto;line-height:normal;font-family:Menlo,'DejaVu Sans Mono',consolas,'Courier New',monospace\">18:50:29.662 | <span style=\"color: #008080; text-decoration-color: #008080\">INFO</span>    | dvc.repo.scm_context - \n",
       "To enable auto staging, run:\n",
       "\n",
       "        dvc config core.autostage true\n",
       "</pre>\n"
      ],
      "text/plain": [
       "18:50:29.662 | \u001b[36mINFO\u001b[0m    | dvc.repo.scm_context - \n",
       "To enable auto staging, run:\n",
       "\n",
       "        dvc config core.autostage true\n"
      ]
     },
     "metadata": {},
     "output_type": "display_data"
    },
    {
     "data": {
      "text/html": [
       "<pre style=\"white-space:pre;overflow-x:auto;line-height:normal;font-family:Menlo,'DejaVu Sans Mono',consolas,'Courier New',monospace\"></pre>\n"
      ],
      "text/plain": []
     },
     "metadata": {},
     "output_type": "display_data"
    },
    {
     "name": "stdout",
     "output_type": "stream",
     "text": [
      "\n",
      "To track the changes with git, run:\n",
      "\n",
      "\tgit add ../../tmp/df-dvc-dev/v1/data/2018_Q1_from_2018-01-01-00_to_2018-03-31-23.parquet.dvc ../../tmp/df-dvc-dev/v1/data/.gitignore\n"
     ]
    },
    {
     "data": {
      "text/html": [
       "<pre style=\"white-space:pre;overflow-x:auto;line-height:normal;font-family:Menlo,'DejaVu Sans Mono',consolas,'Courier New',monospace\">18:50:29.699 | <span style=\"color: #008080; text-decoration-color: #008080\">INFO</span>    | dvc.repo.scm_context - \n",
       "To track the changes with git, run:\n",
       "\n",
       "        git add ../../tmp/df-dvc-dev/v1/data/2018_Q1_from_2018-01-01-00_to_2018-03-31-23.parquet.dvc ../../tmp/df-dvc-dev/v1/data/.gitignore\n",
       "</pre>\n"
      ],
      "text/plain": [
       "18:50:29.699 | \u001b[36mINFO\u001b[0m    | dvc.repo.scm_context - \n",
       "To track the changes with git, run:\n",
       "\n",
       "        git add ../../tmp/df-dvc-dev/v1/data/2018_Q1_from_2018-01-01-00_to_2018-03-31-23.parquet.dvc ../../tmp/df-dvc-dev/v1/data/.gitignore\n"
      ]
     },
     "metadata": {},
     "output_type": "display_data"
    },
    {
     "name": "stdout",
     "output_type": "stream",
     "text": [
      "\n",
      "To enable auto staging, run:\n",
      "\n",
      "\tdvc config core.autostage true\n"
     ]
    },
    {
     "data": {
      "text/html": [
       "<pre style=\"white-space:pre;overflow-x:auto;line-height:normal;font-family:Menlo,'DejaVu Sans Mono',consolas,'Courier New',monospace\">18:50:29.702 | <span style=\"color: #008080; text-decoration-color: #008080\">INFO</span>    | dvc.repo.scm_context - \n",
       "To enable auto staging, run:\n",
       "\n",
       "        dvc config core.autostage true\n",
       "</pre>\n"
      ],
      "text/plain": [
       "18:50:29.702 | \u001b[36mINFO\u001b[0m    | dvc.repo.scm_context - \n",
       "To enable auto staging, run:\n",
       "\n",
       "        dvc config core.autostage true\n"
      ]
     },
     "metadata": {},
     "output_type": "display_data"
    },
    {
     "data": {
      "text/html": [
       "<pre style=\"white-space:pre;overflow-x:auto;line-height:normal;font-family:Menlo,'DejaVu Sans Mono',consolas,'Courier New',monospace\"></pre>\n"
      ],
      "text/plain": []
     },
     "metadata": {},
     "output_type": "display_data"
    },
    {
     "name": "stdout",
     "output_type": "stream",
     "text": [
      "\n",
      "To track the changes with git, run:\n",
      "\n",
      "\tgit add ../../tmp/df-dvc-dev/v1/data/2018_Q2_from_2018-04-01-00_to_2018-06-30-23.parquet.dvc ../../tmp/df-dvc-dev/v1/data/.gitignore\n"
     ]
    },
    {
     "data": {
      "text/html": [
       "<pre style=\"white-space:pre;overflow-x:auto;line-height:normal;font-family:Menlo,'DejaVu Sans Mono',consolas,'Courier New',monospace\">18:50:29.739 | <span style=\"color: #008080; text-decoration-color: #008080\">INFO</span>    | dvc.repo.scm_context - \n",
       "To track the changes with git, run:\n",
       "\n",
       "        git add ../../tmp/df-dvc-dev/v1/data/2018_Q2_from_2018-04-01-00_to_2018-06-30-23.parquet.dvc ../../tmp/df-dvc-dev/v1/data/.gitignore\n",
       "</pre>\n"
      ],
      "text/plain": [
       "18:50:29.739 | \u001b[36mINFO\u001b[0m    | dvc.repo.scm_context - \n",
       "To track the changes with git, run:\n",
       "\n",
       "        git add ../../tmp/df-dvc-dev/v1/data/2018_Q2_from_2018-04-01-00_to_2018-06-30-23.parquet.dvc ../../tmp/df-dvc-dev/v1/data/.gitignore\n"
      ]
     },
     "metadata": {},
     "output_type": "display_data"
    },
    {
     "name": "stdout",
     "output_type": "stream",
     "text": [
      "\n",
      "To enable auto staging, run:\n",
      "\n",
      "\tdvc config core.autostage true\n"
     ]
    },
    {
     "data": {
      "text/html": [
       "<pre style=\"white-space:pre;overflow-x:auto;line-height:normal;font-family:Menlo,'DejaVu Sans Mono',consolas,'Courier New',monospace\">18:50:29.741 | <span style=\"color: #008080; text-decoration-color: #008080\">INFO</span>    | dvc.repo.scm_context - \n",
       "To enable auto staging, run:\n",
       "\n",
       "        dvc config core.autostage true\n",
       "</pre>\n"
      ],
      "text/plain": [
       "18:50:29.741 | \u001b[36mINFO\u001b[0m    | dvc.repo.scm_context - \n",
       "To enable auto staging, run:\n",
       "\n",
       "        dvc config core.autostage true\n"
      ]
     },
     "metadata": {},
     "output_type": "display_data"
    },
    {
     "data": {
      "text/html": [
       "<pre style=\"white-space:pre;overflow-x:auto;line-height:normal;font-family:Menlo,'DejaVu Sans Mono',consolas,'Courier New',monospace\"></pre>\n"
      ],
      "text/plain": []
     },
     "metadata": {},
     "output_type": "display_data"
    },
    {
     "name": "stdout",
     "output_type": "stream",
     "text": [
      "\n",
      "To track the changes with git, run:\n",
      "\n",
      "\tgit add ../../tmp/df-dvc-dev/v1/data/2018_Q3_from_2018-07-01-00_to_2018-09-30-23.parquet.dvc ../../tmp/df-dvc-dev/v1/data/.gitignore\n"
     ]
    },
    {
     "data": {
      "text/html": [
       "<pre style=\"white-space:pre;overflow-x:auto;line-height:normal;font-family:Menlo,'DejaVu Sans Mono',consolas,'Courier New',monospace\">18:50:29.780 | <span style=\"color: #008080; text-decoration-color: #008080\">INFO</span>    | dvc.repo.scm_context - \n",
       "To track the changes with git, run:\n",
       "\n",
       "        git add ../../tmp/df-dvc-dev/v1/data/2018_Q3_from_2018-07-01-00_to_2018-09-30-23.parquet.dvc ../../tmp/df-dvc-dev/v1/data/.gitignore\n",
       "</pre>\n"
      ],
      "text/plain": [
       "18:50:29.780 | \u001b[36mINFO\u001b[0m    | dvc.repo.scm_context - \n",
       "To track the changes with git, run:\n",
       "\n",
       "        git add ../../tmp/df-dvc-dev/v1/data/2018_Q3_from_2018-07-01-00_to_2018-09-30-23.parquet.dvc ../../tmp/df-dvc-dev/v1/data/.gitignore\n"
      ]
     },
     "metadata": {},
     "output_type": "display_data"
    },
    {
     "name": "stdout",
     "output_type": "stream",
     "text": [
      "\n",
      "To enable auto staging, run:\n",
      "\n",
      "\tdvc config core.autostage true\n"
     ]
    },
    {
     "data": {
      "text/html": [
       "<pre style=\"white-space:pre;overflow-x:auto;line-height:normal;font-family:Menlo,'DejaVu Sans Mono',consolas,'Courier New',monospace\">18:50:29.782 | <span style=\"color: #008080; text-decoration-color: #008080\">INFO</span>    | dvc.repo.scm_context - \n",
       "To enable auto staging, run:\n",
       "\n",
       "        dvc config core.autostage true\n",
       "</pre>\n"
      ],
      "text/plain": [
       "18:50:29.782 | \u001b[36mINFO\u001b[0m    | dvc.repo.scm_context - \n",
       "To enable auto staging, run:\n",
       "\n",
       "        dvc config core.autostage true\n"
      ]
     },
     "metadata": {},
     "output_type": "display_data"
    },
    {
     "data": {
      "text/html": [
       "<pre style=\"white-space:pre;overflow-x:auto;line-height:normal;font-family:Menlo,'DejaVu Sans Mono',consolas,'Courier New',monospace\"></pre>\n"
      ],
      "text/plain": []
     },
     "metadata": {},
     "output_type": "display_data"
    },
    {
     "name": "stdout",
     "output_type": "stream",
     "text": [
      "\n",
      "To track the changes with git, run:\n",
      "\n",
      "\tgit add ../../tmp/df-dvc-dev/v1/data/2018_Q4_from_2018-10-01-00_to_2018-12-31-23.parquet.dvc ../../tmp/df-dvc-dev/v1/data/.gitignore\n"
     ]
    },
    {
     "data": {
      "text/html": [
       "<pre style=\"white-space:pre;overflow-x:auto;line-height:normal;font-family:Menlo,'DejaVu Sans Mono',consolas,'Courier New',monospace\">18:50:29.824 | <span style=\"color: #008080; text-decoration-color: #008080\">INFO</span>    | dvc.repo.scm_context - \n",
       "To track the changes with git, run:\n",
       "\n",
       "        git add ../../tmp/df-dvc-dev/v1/data/2018_Q4_from_2018-10-01-00_to_2018-12-31-23.parquet.dvc ../../tmp/df-dvc-dev/v1/data/.gitignore\n",
       "</pre>\n"
      ],
      "text/plain": [
       "18:50:29.824 | \u001b[36mINFO\u001b[0m    | dvc.repo.scm_context - \n",
       "To track the changes with git, run:\n",
       "\n",
       "        git add ../../tmp/df-dvc-dev/v1/data/2018_Q4_from_2018-10-01-00_to_2018-12-31-23.parquet.dvc ../../tmp/df-dvc-dev/v1/data/.gitignore\n"
      ]
     },
     "metadata": {},
     "output_type": "display_data"
    },
    {
     "name": "stdout",
     "output_type": "stream",
     "text": [
      "\n",
      "To enable auto staging, run:\n",
      "\n",
      "\tdvc config core.autostage true\n"
     ]
    },
    {
     "data": {
      "text/html": [
       "<pre style=\"white-space:pre;overflow-x:auto;line-height:normal;font-family:Menlo,'DejaVu Sans Mono',consolas,'Courier New',monospace\">18:50:29.825 | <span style=\"color: #008080; text-decoration-color: #008080\">INFO</span>    | dvc.repo.scm_context - \n",
       "To enable auto staging, run:\n",
       "\n",
       "        dvc config core.autostage true\n",
       "</pre>\n"
      ],
      "text/plain": [
       "18:50:29.825 | \u001b[36mINFO\u001b[0m    | dvc.repo.scm_context - \n",
       "To enable auto staging, run:\n",
       "\n",
       "        dvc config core.autostage true\n"
      ]
     },
     "metadata": {},
     "output_type": "display_data"
    },
    {
     "data": {
      "text/html": [
       "<pre style=\"white-space:pre;overflow-x:auto;line-height:normal;font-family:Menlo,'DejaVu Sans Mono',consolas,'Courier New',monospace\"></pre>\n"
      ],
      "text/plain": []
     },
     "metadata": {},
     "output_type": "display_data"
    },
    {
     "name": "stdout",
     "output_type": "stream",
     "text": [
      "\n",
      "To track the changes with git, run:\n",
      "\n",
      "\tgit add ../../tmp/df-dvc-dev/v1/data/2019_Q1_from_2019-01-01-00_to_2019-03-31-23.parquet.dvc ../../tmp/df-dvc-dev/v1/data/.gitignore\n"
     ]
    },
    {
     "data": {
      "text/html": [
       "<pre style=\"white-space:pre;overflow-x:auto;line-height:normal;font-family:Menlo,'DejaVu Sans Mono',consolas,'Courier New',monospace\">18:50:29.864 | <span style=\"color: #008080; text-decoration-color: #008080\">INFO</span>    | dvc.repo.scm_context - \n",
       "To track the changes with git, run:\n",
       "\n",
       "        git add ../../tmp/df-dvc-dev/v1/data/2019_Q1_from_2019-01-01-00_to_2019-03-31-23.parquet.dvc ../../tmp/df-dvc-dev/v1/data/.gitignore\n",
       "</pre>\n"
      ],
      "text/plain": [
       "18:50:29.864 | \u001b[36mINFO\u001b[0m    | dvc.repo.scm_context - \n",
       "To track the changes with git, run:\n",
       "\n",
       "        git add ../../tmp/df-dvc-dev/v1/data/2019_Q1_from_2019-01-01-00_to_2019-03-31-23.parquet.dvc ../../tmp/df-dvc-dev/v1/data/.gitignore\n"
      ]
     },
     "metadata": {},
     "output_type": "display_data"
    },
    {
     "name": "stdout",
     "output_type": "stream",
     "text": [
      "\n",
      "To enable auto staging, run:\n",
      "\n",
      "\tdvc config core.autostage true\n"
     ]
    },
    {
     "data": {
      "text/html": [
       "<pre style=\"white-space:pre;overflow-x:auto;line-height:normal;font-family:Menlo,'DejaVu Sans Mono',consolas,'Courier New',monospace\">18:50:29.865 | <span style=\"color: #008080; text-decoration-color: #008080\">INFO</span>    | dvc.repo.scm_context - \n",
       "To enable auto staging, run:\n",
       "\n",
       "        dvc config core.autostage true\n",
       "</pre>\n"
      ],
      "text/plain": [
       "18:50:29.865 | \u001b[36mINFO\u001b[0m    | dvc.repo.scm_context - \n",
       "To enable auto staging, run:\n",
       "\n",
       "        dvc config core.autostage true\n"
      ]
     },
     "metadata": {},
     "output_type": "display_data"
    },
    {
     "data": {
      "text/html": [
       "<pre style=\"white-space:pre;overflow-x:auto;line-height:normal;font-family:Menlo,'DejaVu Sans Mono',consolas,'Courier New',monospace\"></pre>\n"
      ],
      "text/plain": []
     },
     "metadata": {},
     "output_type": "display_data"
    },
    {
     "name": "stdout",
     "output_type": "stream",
     "text": [
      "\n",
      "To track the changes with git, run:\n",
      "\n",
      "\tgit add ../../tmp/df-dvc-dev/v1/data/2019_Q2_from_2019-04-01-00_to_2019-06-30-23.parquet.dvc ../../tmp/df-dvc-dev/v1/data/.gitignore\n"
     ]
    },
    {
     "data": {
      "text/html": [
       "<pre style=\"white-space:pre;overflow-x:auto;line-height:normal;font-family:Menlo,'DejaVu Sans Mono',consolas,'Courier New',monospace\">18:50:29.905 | <span style=\"color: #008080; text-decoration-color: #008080\">INFO</span>    | dvc.repo.scm_context - \n",
       "To track the changes with git, run:\n",
       "\n",
       "        git add ../../tmp/df-dvc-dev/v1/data/2019_Q2_from_2019-04-01-00_to_2019-06-30-23.parquet.dvc ../../tmp/df-dvc-dev/v1/data/.gitignore\n",
       "</pre>\n"
      ],
      "text/plain": [
       "18:50:29.905 | \u001b[36mINFO\u001b[0m    | dvc.repo.scm_context - \n",
       "To track the changes with git, run:\n",
       "\n",
       "        git add ../../tmp/df-dvc-dev/v1/data/2019_Q2_from_2019-04-01-00_to_2019-06-30-23.parquet.dvc ../../tmp/df-dvc-dev/v1/data/.gitignore\n"
      ]
     },
     "metadata": {},
     "output_type": "display_data"
    },
    {
     "name": "stdout",
     "output_type": "stream",
     "text": [
      "\n",
      "To enable auto staging, run:\n",
      "\n",
      "\tdvc config core.autostage true\n"
     ]
    },
    {
     "data": {
      "text/html": [
       "<pre style=\"white-space:pre;overflow-x:auto;line-height:normal;font-family:Menlo,'DejaVu Sans Mono',consolas,'Courier New',monospace\">18:50:29.907 | <span style=\"color: #008080; text-decoration-color: #008080\">INFO</span>    | dvc.repo.scm_context - \n",
       "To enable auto staging, run:\n",
       "\n",
       "        dvc config core.autostage true\n",
       "</pre>\n"
      ],
      "text/plain": [
       "18:50:29.907 | \u001b[36mINFO\u001b[0m    | dvc.repo.scm_context - \n",
       "To enable auto staging, run:\n",
       "\n",
       "        dvc config core.autostage true\n"
      ]
     },
     "metadata": {},
     "output_type": "display_data"
    },
    {
     "data": {
      "text/html": [
       "<pre style=\"white-space:pre;overflow-x:auto;line-height:normal;font-family:Menlo,'DejaVu Sans Mono',consolas,'Courier New',monospace\"></pre>\n"
      ],
      "text/plain": []
     },
     "metadata": {},
     "output_type": "display_data"
    },
    {
     "name": "stdout",
     "output_type": "stream",
     "text": [
      "\n",
      "To track the changes with git, run:\n",
      "\n",
      "\tgit add ../../tmp/df-dvc-dev/v1/data/2019_Q3_from_2019-07-01-00_to_2019-09-30-23.parquet.dvc ../../tmp/df-dvc-dev/v1/data/.gitignore\n"
     ]
    },
    {
     "data": {
      "text/html": [
       "<pre style=\"white-space:pre;overflow-x:auto;line-height:normal;font-family:Menlo,'DejaVu Sans Mono',consolas,'Courier New',monospace\">18:50:29.949 | <span style=\"color: #008080; text-decoration-color: #008080\">INFO</span>    | dvc.repo.scm_context - \n",
       "To track the changes with git, run:\n",
       "\n",
       "        git add ../../tmp/df-dvc-dev/v1/data/2019_Q3_from_2019-07-01-00_to_2019-09-30-23.parquet.dvc ../../tmp/df-dvc-dev/v1/data/.gitignore\n",
       "</pre>\n"
      ],
      "text/plain": [
       "18:50:29.949 | \u001b[36mINFO\u001b[0m    | dvc.repo.scm_context - \n",
       "To track the changes with git, run:\n",
       "\n",
       "        git add ../../tmp/df-dvc-dev/v1/data/2019_Q3_from_2019-07-01-00_to_2019-09-30-23.parquet.dvc ../../tmp/df-dvc-dev/v1/data/.gitignore\n"
      ]
     },
     "metadata": {},
     "output_type": "display_data"
    },
    {
     "name": "stdout",
     "output_type": "stream",
     "text": [
      "\n",
      "To enable auto staging, run:\n",
      "\n",
      "\tdvc config core.autostage true\n"
     ]
    },
    {
     "data": {
      "text/html": [
       "<pre style=\"white-space:pre;overflow-x:auto;line-height:normal;font-family:Menlo,'DejaVu Sans Mono',consolas,'Courier New',monospace\">18:50:29.952 | <span style=\"color: #008080; text-decoration-color: #008080\">INFO</span>    | dvc.repo.scm_context - \n",
       "To enable auto staging, run:\n",
       "\n",
       "        dvc config core.autostage true\n",
       "</pre>\n"
      ],
      "text/plain": [
       "18:50:29.952 | \u001b[36mINFO\u001b[0m    | dvc.repo.scm_context - \n",
       "To enable auto staging, run:\n",
       "\n",
       "        dvc config core.autostage true\n"
      ]
     },
     "metadata": {},
     "output_type": "display_data"
    },
    {
     "data": {
      "text/html": [
       "<pre style=\"white-space:pre;overflow-x:auto;line-height:normal;font-family:Menlo,'DejaVu Sans Mono',consolas,'Courier New',monospace\"></pre>\n"
      ],
      "text/plain": []
     },
     "metadata": {},
     "output_type": "display_data"
    },
    {
     "name": "stdout",
     "output_type": "stream",
     "text": [
      "\n",
      "To track the changes with git, run:\n",
      "\n",
      "\tgit add ../../tmp/df-dvc-dev/v1/data/2019_Q4_from_2019-10-01-00_to_2019-12-31-23.parquet.dvc ../../tmp/df-dvc-dev/v1/data/.gitignore\n"
     ]
    },
    {
     "data": {
      "text/html": [
       "<pre style=\"white-space:pre;overflow-x:auto;line-height:normal;font-family:Menlo,'DejaVu Sans Mono',consolas,'Courier New',monospace\">18:50:29.995 | <span style=\"color: #008080; text-decoration-color: #008080\">INFO</span>    | dvc.repo.scm_context - \n",
       "To track the changes with git, run:\n",
       "\n",
       "        git add ../../tmp/df-dvc-dev/v1/data/2019_Q4_from_2019-10-01-00_to_2019-12-31-23.parquet.dvc ../../tmp/df-dvc-dev/v1/data/.gitignore\n",
       "</pre>\n"
      ],
      "text/plain": [
       "18:50:29.995 | \u001b[36mINFO\u001b[0m    | dvc.repo.scm_context - \n",
       "To track the changes with git, run:\n",
       "\n",
       "        git add ../../tmp/df-dvc-dev/v1/data/2019_Q4_from_2019-10-01-00_to_2019-12-31-23.parquet.dvc ../../tmp/df-dvc-dev/v1/data/.gitignore\n"
      ]
     },
     "metadata": {},
     "output_type": "display_data"
    },
    {
     "name": "stdout",
     "output_type": "stream",
     "text": [
      "\n",
      "To enable auto staging, run:\n",
      "\n",
      "\tdvc config core.autostage true\n"
     ]
    },
    {
     "data": {
      "text/html": [
       "<pre style=\"white-space:pre;overflow-x:auto;line-height:normal;font-family:Menlo,'DejaVu Sans Mono',consolas,'Courier New',monospace\">18:50:29.996 | <span style=\"color: #008080; text-decoration-color: #008080\">INFO</span>    | dvc.repo.scm_context - \n",
       "To enable auto staging, run:\n",
       "\n",
       "        dvc config core.autostage true\n",
       "</pre>\n"
      ],
      "text/plain": [
       "18:50:29.996 | \u001b[36mINFO\u001b[0m    | dvc.repo.scm_context - \n",
       "To enable auto staging, run:\n",
       "\n",
       "        dvc config core.autostage true\n"
      ]
     },
     "metadata": {},
     "output_type": "display_data"
    },
    {
     "data": {
      "text/html": [
       "<pre style=\"white-space:pre;overflow-x:auto;line-height:normal;font-family:Menlo,'DejaVu Sans Mono',consolas,'Courier New',monospace\"></pre>\n"
      ],
      "text/plain": []
     },
     "metadata": {},
     "output_type": "display_data"
    },
    {
     "name": "stdout",
     "output_type": "stream",
     "text": [
      "\n",
      "To track the changes with git, run:\n",
      "\n",
      "\tgit add ../../tmp/df-dvc-dev/v1/data/2020_Q1_from_2020-01-01-00_to_2020-03-31-23.parquet.dvc ../../tmp/df-dvc-dev/v1/data/.gitignore\n"
     ]
    },
    {
     "data": {
      "text/html": [
       "<pre style=\"white-space:pre;overflow-x:auto;line-height:normal;font-family:Menlo,'DejaVu Sans Mono',consolas,'Courier New',monospace\">18:50:30.037 | <span style=\"color: #008080; text-decoration-color: #008080\">INFO</span>    | dvc.repo.scm_context - \n",
       "To track the changes with git, run:\n",
       "\n",
       "        git add ../../tmp/df-dvc-dev/v1/data/2020_Q1_from_2020-01-01-00_to_2020-03-31-23.parquet.dvc ../../tmp/df-dvc-dev/v1/data/.gitignore\n",
       "</pre>\n"
      ],
      "text/plain": [
       "18:50:30.037 | \u001b[36mINFO\u001b[0m    | dvc.repo.scm_context - \n",
       "To track the changes with git, run:\n",
       "\n",
       "        git add ../../tmp/df-dvc-dev/v1/data/2020_Q1_from_2020-01-01-00_to_2020-03-31-23.parquet.dvc ../../tmp/df-dvc-dev/v1/data/.gitignore\n"
      ]
     },
     "metadata": {},
     "output_type": "display_data"
    },
    {
     "name": "stdout",
     "output_type": "stream",
     "text": [
      "\n",
      "To enable auto staging, run:\n",
      "\n",
      "\tdvc config core.autostage true\n"
     ]
    },
    {
     "data": {
      "text/html": [
       "<pre style=\"white-space:pre;overflow-x:auto;line-height:normal;font-family:Menlo,'DejaVu Sans Mono',consolas,'Courier New',monospace\">18:50:30.040 | <span style=\"color: #008080; text-decoration-color: #008080\">INFO</span>    | dvc.repo.scm_context - \n",
       "To enable auto staging, run:\n",
       "\n",
       "        dvc config core.autostage true\n",
       "</pre>\n"
      ],
      "text/plain": [
       "18:50:30.040 | \u001b[36mINFO\u001b[0m    | dvc.repo.scm_context - \n",
       "To enable auto staging, run:\n",
       "\n",
       "        dvc config core.autostage true\n"
      ]
     },
     "metadata": {},
     "output_type": "display_data"
    },
    {
     "data": {
      "text/html": [
       "<pre style=\"white-space:pre;overflow-x:auto;line-height:normal;font-family:Menlo,'DejaVu Sans Mono',consolas,'Courier New',monospace\"></pre>\n"
      ],
      "text/plain": []
     },
     "metadata": {},
     "output_type": "display_data"
    },
    {
     "name": "stdout",
     "output_type": "stream",
     "text": [
      "\n",
      "To track the changes with git, run:\n",
      "\n",
      "\tgit add ../../tmp/df-dvc-dev/v1/data/2020_Q2_from_2020-04-01-00_to_2020-06-30-23.parquet.dvc ../../tmp/df-dvc-dev/v1/data/.gitignore\n"
     ]
    },
    {
     "data": {
      "text/html": [
       "<pre style=\"white-space:pre;overflow-x:auto;line-height:normal;font-family:Menlo,'DejaVu Sans Mono',consolas,'Courier New',monospace\">18:50:30.084 | <span style=\"color: #008080; text-decoration-color: #008080\">INFO</span>    | dvc.repo.scm_context - \n",
       "To track the changes with git, run:\n",
       "\n",
       "        git add ../../tmp/df-dvc-dev/v1/data/2020_Q2_from_2020-04-01-00_to_2020-06-30-23.parquet.dvc ../../tmp/df-dvc-dev/v1/data/.gitignore\n",
       "</pre>\n"
      ],
      "text/plain": [
       "18:50:30.084 | \u001b[36mINFO\u001b[0m    | dvc.repo.scm_context - \n",
       "To track the changes with git, run:\n",
       "\n",
       "        git add ../../tmp/df-dvc-dev/v1/data/2020_Q2_from_2020-04-01-00_to_2020-06-30-23.parquet.dvc ../../tmp/df-dvc-dev/v1/data/.gitignore\n"
      ]
     },
     "metadata": {},
     "output_type": "display_data"
    },
    {
     "name": "stdout",
     "output_type": "stream",
     "text": [
      "\n",
      "To enable auto staging, run:\n",
      "\n",
      "\tdvc config core.autostage true\n"
     ]
    },
    {
     "data": {
      "text/html": [
       "<pre style=\"white-space:pre;overflow-x:auto;line-height:normal;font-family:Menlo,'DejaVu Sans Mono',consolas,'Courier New',monospace\">18:50:30.086 | <span style=\"color: #008080; text-decoration-color: #008080\">INFO</span>    | dvc.repo.scm_context - \n",
       "To enable auto staging, run:\n",
       "\n",
       "        dvc config core.autostage true\n",
       "</pre>\n"
      ],
      "text/plain": [
       "18:50:30.086 | \u001b[36mINFO\u001b[0m    | dvc.repo.scm_context - \n",
       "To enable auto staging, run:\n",
       "\n",
       "        dvc config core.autostage true\n"
      ]
     },
     "metadata": {},
     "output_type": "display_data"
    },
    {
     "data": {
      "text/html": [
       "<pre style=\"white-space:pre;overflow-x:auto;line-height:normal;font-family:Menlo,'DejaVu Sans Mono',consolas,'Courier New',monospace\"></pre>\n"
      ],
      "text/plain": []
     },
     "metadata": {},
     "output_type": "display_data"
    },
    {
     "name": "stdout",
     "output_type": "stream",
     "text": [
      "\n",
      "To track the changes with git, run:\n",
      "\n",
      "\tgit add ../../tmp/df-dvc-dev/v1/data/2020_Q3_from_2020-07-01-00_to_2020-09-30-23.parquet.dvc ../../tmp/df-dvc-dev/v1/data/.gitignore\n"
     ]
    },
    {
     "data": {
      "text/html": [
       "<pre style=\"white-space:pre;overflow-x:auto;line-height:normal;font-family:Menlo,'DejaVu Sans Mono',consolas,'Courier New',monospace\">18:50:30.137 | <span style=\"color: #008080; text-decoration-color: #008080\">INFO</span>    | dvc.repo.scm_context - \n",
       "To track the changes with git, run:\n",
       "\n",
       "        git add ../../tmp/df-dvc-dev/v1/data/2020_Q3_from_2020-07-01-00_to_2020-09-30-23.parquet.dvc ../../tmp/df-dvc-dev/v1/data/.gitignore\n",
       "</pre>\n"
      ],
      "text/plain": [
       "18:50:30.137 | \u001b[36mINFO\u001b[0m    | dvc.repo.scm_context - \n",
       "To track the changes with git, run:\n",
       "\n",
       "        git add ../../tmp/df-dvc-dev/v1/data/2020_Q3_from_2020-07-01-00_to_2020-09-30-23.parquet.dvc ../../tmp/df-dvc-dev/v1/data/.gitignore\n"
      ]
     },
     "metadata": {},
     "output_type": "display_data"
    },
    {
     "name": "stdout",
     "output_type": "stream",
     "text": [
      "\n",
      "To enable auto staging, run:\n",
      "\n",
      "\tdvc config core.autostage true\n"
     ]
    },
    {
     "data": {
      "text/html": [
       "<pre style=\"white-space:pre;overflow-x:auto;line-height:normal;font-family:Menlo,'DejaVu Sans Mono',consolas,'Courier New',monospace\">18:50:30.139 | <span style=\"color: #008080; text-decoration-color: #008080\">INFO</span>    | dvc.repo.scm_context - \n",
       "To enable auto staging, run:\n",
       "\n",
       "        dvc config core.autostage true\n",
       "</pre>\n"
      ],
      "text/plain": [
       "18:50:30.139 | \u001b[36mINFO\u001b[0m    | dvc.repo.scm_context - \n",
       "To enable auto staging, run:\n",
       "\n",
       "        dvc config core.autostage true\n"
      ]
     },
     "metadata": {},
     "output_type": "display_data"
    },
    {
     "data": {
      "text/html": [
       "<pre style=\"white-space:pre;overflow-x:auto;line-height:normal;font-family:Menlo,'DejaVu Sans Mono',consolas,'Courier New',monospace\"></pre>\n"
      ],
      "text/plain": []
     },
     "metadata": {},
     "output_type": "display_data"
    },
    {
     "name": "stdout",
     "output_type": "stream",
     "text": [
      "\n",
      "To track the changes with git, run:\n",
      "\n",
      "\tgit add ../../tmp/df-dvc-dev/v1/data/2020_Q4_from_2020-10-01-00_to_2020-12-31-23.parquet.dvc ../../tmp/df-dvc-dev/v1/data/.gitignore\n"
     ]
    },
    {
     "data": {
      "text/html": [
       "<pre style=\"white-space:pre;overflow-x:auto;line-height:normal;font-family:Menlo,'DejaVu Sans Mono',consolas,'Courier New',monospace\">18:50:30.189 | <span style=\"color: #008080; text-decoration-color: #008080\">INFO</span>    | dvc.repo.scm_context - \n",
       "To track the changes with git, run:\n",
       "\n",
       "        git add ../../tmp/df-dvc-dev/v1/data/2020_Q4_from_2020-10-01-00_to_2020-12-31-23.parquet.dvc ../../tmp/df-dvc-dev/v1/data/.gitignore\n",
       "</pre>\n"
      ],
      "text/plain": [
       "18:50:30.189 | \u001b[36mINFO\u001b[0m    | dvc.repo.scm_context - \n",
       "To track the changes with git, run:\n",
       "\n",
       "        git add ../../tmp/df-dvc-dev/v1/data/2020_Q4_from_2020-10-01-00_to_2020-12-31-23.parquet.dvc ../../tmp/df-dvc-dev/v1/data/.gitignore\n"
      ]
     },
     "metadata": {},
     "output_type": "display_data"
    },
    {
     "name": "stdout",
     "output_type": "stream",
     "text": [
      "\n",
      "To enable auto staging, run:\n",
      "\n",
      "\tdvc config core.autostage true\n"
     ]
    },
    {
     "data": {
      "text/html": [
       "<pre style=\"white-space:pre;overflow-x:auto;line-height:normal;font-family:Menlo,'DejaVu Sans Mono',consolas,'Courier New',monospace\">18:50:30.190 | <span style=\"color: #008080; text-decoration-color: #008080\">INFO</span>    | dvc.repo.scm_context - \n",
       "To enable auto staging, run:\n",
       "\n",
       "        dvc config core.autostage true\n",
       "</pre>\n"
      ],
      "text/plain": [
       "18:50:30.190 | \u001b[36mINFO\u001b[0m    | dvc.repo.scm_context - \n",
       "To enable auto staging, run:\n",
       "\n",
       "        dvc config core.autostage true\n"
      ]
     },
     "metadata": {},
     "output_type": "display_data"
    },
    {
     "data": {
      "text/html": [
       "<pre style=\"white-space:pre;overflow-x:auto;line-height:normal;font-family:Menlo,'DejaVu Sans Mono',consolas,'Courier New',monospace\"></pre>\n"
      ],
      "text/plain": []
     },
     "metadata": {},
     "output_type": "display_data"
    },
    {
     "name": "stdout",
     "output_type": "stream",
     "text": [
      "\n",
      "To track the changes with git, run:\n",
      "\n",
      "\tgit add ../../tmp/df-dvc-dev/v1/data/2021_Q1_from_2021-01-01-00_to_2021-03-31-23.parquet.dvc ../../tmp/df-dvc-dev/v1/data/.gitignore\n"
     ]
    },
    {
     "data": {
      "text/html": [
       "<pre style=\"white-space:pre;overflow-x:auto;line-height:normal;font-family:Menlo,'DejaVu Sans Mono',consolas,'Courier New',monospace\">18:50:30.233 | <span style=\"color: #008080; text-decoration-color: #008080\">INFO</span>    | dvc.repo.scm_context - \n",
       "To track the changes with git, run:\n",
       "\n",
       "        git add ../../tmp/df-dvc-dev/v1/data/2021_Q1_from_2021-01-01-00_to_2021-03-31-23.parquet.dvc ../../tmp/df-dvc-dev/v1/data/.gitignore\n",
       "</pre>\n"
      ],
      "text/plain": [
       "18:50:30.233 | \u001b[36mINFO\u001b[0m    | dvc.repo.scm_context - \n",
       "To track the changes with git, run:\n",
       "\n",
       "        git add ../../tmp/df-dvc-dev/v1/data/2021_Q1_from_2021-01-01-00_to_2021-03-31-23.parquet.dvc ../../tmp/df-dvc-dev/v1/data/.gitignore\n"
      ]
     },
     "metadata": {},
     "output_type": "display_data"
    },
    {
     "name": "stdout",
     "output_type": "stream",
     "text": [
      "\n",
      "To enable auto staging, run:\n",
      "\n",
      "\tdvc config core.autostage true\n"
     ]
    },
    {
     "data": {
      "text/html": [
       "<pre style=\"white-space:pre;overflow-x:auto;line-height:normal;font-family:Menlo,'DejaVu Sans Mono',consolas,'Courier New',monospace\">18:50:30.235 | <span style=\"color: #008080; text-decoration-color: #008080\">INFO</span>    | dvc.repo.scm_context - \n",
       "To enable auto staging, run:\n",
       "\n",
       "        dvc config core.autostage true\n",
       "</pre>\n"
      ],
      "text/plain": [
       "18:50:30.235 | \u001b[36mINFO\u001b[0m    | dvc.repo.scm_context - \n",
       "To enable auto staging, run:\n",
       "\n",
       "        dvc config core.autostage true\n"
      ]
     },
     "metadata": {},
     "output_type": "display_data"
    },
    {
     "data": {
      "text/html": [
       "<pre style=\"white-space:pre;overflow-x:auto;line-height:normal;font-family:Menlo,'DejaVu Sans Mono',consolas,'Courier New',monospace\"></pre>\n"
      ],
      "text/plain": []
     },
     "metadata": {},
     "output_type": "display_data"
    },
    {
     "name": "stdout",
     "output_type": "stream",
     "text": [
      "\n",
      "To track the changes with git, run:\n",
      "\n",
      "\tgit add ../../tmp/df-dvc-dev/v1/data/2021_Q2_from_2021-04-01-00_to_2021-06-30-23.parquet.dvc ../../tmp/df-dvc-dev/v1/data/.gitignore\n"
     ]
    },
    {
     "data": {
      "text/html": [
       "<pre style=\"white-space:pre;overflow-x:auto;line-height:normal;font-family:Menlo,'DejaVu Sans Mono',consolas,'Courier New',monospace\">18:50:30.290 | <span style=\"color: #008080; text-decoration-color: #008080\">INFO</span>    | dvc.repo.scm_context - \n",
       "To track the changes with git, run:\n",
       "\n",
       "        git add ../../tmp/df-dvc-dev/v1/data/2021_Q2_from_2021-04-01-00_to_2021-06-30-23.parquet.dvc ../../tmp/df-dvc-dev/v1/data/.gitignore\n",
       "</pre>\n"
      ],
      "text/plain": [
       "18:50:30.290 | \u001b[36mINFO\u001b[0m    | dvc.repo.scm_context - \n",
       "To track the changes with git, run:\n",
       "\n",
       "        git add ../../tmp/df-dvc-dev/v1/data/2021_Q2_from_2021-04-01-00_to_2021-06-30-23.parquet.dvc ../../tmp/df-dvc-dev/v1/data/.gitignore\n"
      ]
     },
     "metadata": {},
     "output_type": "display_data"
    },
    {
     "name": "stdout",
     "output_type": "stream",
     "text": [
      "\n",
      "To enable auto staging, run:\n",
      "\n",
      "\tdvc config core.autostage true\n"
     ]
    },
    {
     "data": {
      "text/html": [
       "<pre style=\"white-space:pre;overflow-x:auto;line-height:normal;font-family:Menlo,'DejaVu Sans Mono',consolas,'Courier New',monospace\">18:50:30.291 | <span style=\"color: #008080; text-decoration-color: #008080\">INFO</span>    | dvc.repo.scm_context - \n",
       "To enable auto staging, run:\n",
       "\n",
       "        dvc config core.autostage true\n",
       "</pre>\n"
      ],
      "text/plain": [
       "18:50:30.291 | \u001b[36mINFO\u001b[0m    | dvc.repo.scm_context - \n",
       "To enable auto staging, run:\n",
       "\n",
       "        dvc config core.autostage true\n"
      ]
     },
     "metadata": {},
     "output_type": "display_data"
    },
    {
     "data": {
      "text/html": [
       "<pre style=\"white-space:pre;overflow-x:auto;line-height:normal;font-family:Menlo,'DejaVu Sans Mono',consolas,'Courier New',monospace\"></pre>\n"
      ],
      "text/plain": []
     },
     "metadata": {},
     "output_type": "display_data"
    },
    {
     "name": "stdout",
     "output_type": "stream",
     "text": [
      "\n",
      "To track the changes with git, run:\n",
      "\n",
      "\tgit add ../../tmp/df-dvc-dev/v1/data/2021_Q3_from_2021-07-01-00_to_2021-09-30-23.parquet.dvc ../../tmp/df-dvc-dev/v1/data/.gitignore\n"
     ]
    },
    {
     "data": {
      "text/html": [
       "<pre style=\"white-space:pre;overflow-x:auto;line-height:normal;font-family:Menlo,'DejaVu Sans Mono',consolas,'Courier New',monospace\">18:50:30.338 | <span style=\"color: #008080; text-decoration-color: #008080\">INFO</span>    | dvc.repo.scm_context - \n",
       "To track the changes with git, run:\n",
       "\n",
       "        git add ../../tmp/df-dvc-dev/v1/data/2021_Q3_from_2021-07-01-00_to_2021-09-30-23.parquet.dvc ../../tmp/df-dvc-dev/v1/data/.gitignore\n",
       "</pre>\n"
      ],
      "text/plain": [
       "18:50:30.338 | \u001b[36mINFO\u001b[0m    | dvc.repo.scm_context - \n",
       "To track the changes with git, run:\n",
       "\n",
       "        git add ../../tmp/df-dvc-dev/v1/data/2021_Q3_from_2021-07-01-00_to_2021-09-30-23.parquet.dvc ../../tmp/df-dvc-dev/v1/data/.gitignore\n"
      ]
     },
     "metadata": {},
     "output_type": "display_data"
    },
    {
     "name": "stdout",
     "output_type": "stream",
     "text": [
      "\n",
      "To enable auto staging, run:\n",
      "\n",
      "\tdvc config core.autostage true\n"
     ]
    },
    {
     "data": {
      "text/html": [
       "<pre style=\"white-space:pre;overflow-x:auto;line-height:normal;font-family:Menlo,'DejaVu Sans Mono',consolas,'Courier New',monospace\">18:50:30.340 | <span style=\"color: #008080; text-decoration-color: #008080\">INFO</span>    | dvc.repo.scm_context - \n",
       "To enable auto staging, run:\n",
       "\n",
       "        dvc config core.autostage true\n",
       "</pre>\n"
      ],
      "text/plain": [
       "18:50:30.340 | \u001b[36mINFO\u001b[0m    | dvc.repo.scm_context - \n",
       "To enable auto staging, run:\n",
       "\n",
       "        dvc config core.autostage true\n"
      ]
     },
     "metadata": {},
     "output_type": "display_data"
    },
    {
     "data": {
      "text/html": [
       "<pre style=\"white-space:pre;overflow-x:auto;line-height:normal;font-family:Menlo,'DejaVu Sans Mono',consolas,'Courier New',monospace\"></pre>\n"
      ],
      "text/plain": []
     },
     "metadata": {},
     "output_type": "display_data"
    },
    {
     "name": "stdout",
     "output_type": "stream",
     "text": [
      "\n",
      "To track the changes with git, run:\n",
      "\n",
      "\tgit add ../../tmp/df-dvc-dev/v1/data/2021_Q4_from_2021-10-01-00_to_2021-12-31-23.parquet.dvc ../../tmp/df-dvc-dev/v1/data/.gitignore\n"
     ]
    },
    {
     "data": {
      "text/html": [
       "<pre style=\"white-space:pre;overflow-x:auto;line-height:normal;font-family:Menlo,'DejaVu Sans Mono',consolas,'Courier New',monospace\">18:50:30.387 | <span style=\"color: #008080; text-decoration-color: #008080\">INFO</span>    | dvc.repo.scm_context - \n",
       "To track the changes with git, run:\n",
       "\n",
       "        git add ../../tmp/df-dvc-dev/v1/data/2021_Q4_from_2021-10-01-00_to_2021-12-31-23.parquet.dvc ../../tmp/df-dvc-dev/v1/data/.gitignore\n",
       "</pre>\n"
      ],
      "text/plain": [
       "18:50:30.387 | \u001b[36mINFO\u001b[0m    | dvc.repo.scm_context - \n",
       "To track the changes with git, run:\n",
       "\n",
       "        git add ../../tmp/df-dvc-dev/v1/data/2021_Q4_from_2021-10-01-00_to_2021-12-31-23.parquet.dvc ../../tmp/df-dvc-dev/v1/data/.gitignore\n"
      ]
     },
     "metadata": {},
     "output_type": "display_data"
    },
    {
     "name": "stdout",
     "output_type": "stream",
     "text": [
      "\n",
      "To enable auto staging, run:\n",
      "\n",
      "\tdvc config core.autostage true\n"
     ]
    },
    {
     "data": {
      "text/html": [
       "<pre style=\"white-space:pre;overflow-x:auto;line-height:normal;font-family:Menlo,'DejaVu Sans Mono',consolas,'Courier New',monospace\">18:50:30.388 | <span style=\"color: #008080; text-decoration-color: #008080\">INFO</span>    | dvc.repo.scm_context - \n",
       "To enable auto staging, run:\n",
       "\n",
       "        dvc config core.autostage true\n",
       "</pre>\n"
      ],
      "text/plain": [
       "18:50:30.388 | \u001b[36mINFO\u001b[0m    | dvc.repo.scm_context - \n",
       "To enable auto staging, run:\n",
       "\n",
       "        dvc config core.autostage true\n"
      ]
     },
     "metadata": {},
     "output_type": "display_data"
    },
    {
     "data": {
      "text/html": [
       "<pre style=\"white-space:pre;overflow-x:auto;line-height:normal;font-family:Menlo,'DejaVu Sans Mono',consolas,'Courier New',monospace\"></pre>\n"
      ],
      "text/plain": []
     },
     "metadata": {},
     "output_type": "display_data"
    },
    {
     "name": "stdout",
     "output_type": "stream",
     "text": [
      "\n",
      "To track the changes with git, run:\n",
      "\n",
      "\tgit add ../../tmp/df-dvc-dev/v1/data/2022_Q1_from_2022-01-01-00_to_2022-03-31-23.parquet.dvc ../../tmp/df-dvc-dev/v1/data/.gitignore\n"
     ]
    },
    {
     "data": {
      "text/html": [
       "<pre style=\"white-space:pre;overflow-x:auto;line-height:normal;font-family:Menlo,'DejaVu Sans Mono',consolas,'Courier New',monospace\">18:50:30.434 | <span style=\"color: #008080; text-decoration-color: #008080\">INFO</span>    | dvc.repo.scm_context - \n",
       "To track the changes with git, run:\n",
       "\n",
       "        git add ../../tmp/df-dvc-dev/v1/data/2022_Q1_from_2022-01-01-00_to_2022-03-31-23.parquet.dvc ../../tmp/df-dvc-dev/v1/data/.gitignore\n",
       "</pre>\n"
      ],
      "text/plain": [
       "18:50:30.434 | \u001b[36mINFO\u001b[0m    | dvc.repo.scm_context - \n",
       "To track the changes with git, run:\n",
       "\n",
       "        git add ../../tmp/df-dvc-dev/v1/data/2022_Q1_from_2022-01-01-00_to_2022-03-31-23.parquet.dvc ../../tmp/df-dvc-dev/v1/data/.gitignore\n"
      ]
     },
     "metadata": {},
     "output_type": "display_data"
    },
    {
     "name": "stdout",
     "output_type": "stream",
     "text": [
      "\n",
      "To enable auto staging, run:\n",
      "\n",
      "\tdvc config core.autostage true\n"
     ]
    },
    {
     "data": {
      "text/html": [
       "<pre style=\"white-space:pre;overflow-x:auto;line-height:normal;font-family:Menlo,'DejaVu Sans Mono',consolas,'Courier New',monospace\">18:50:30.437 | <span style=\"color: #008080; text-decoration-color: #008080\">INFO</span>    | dvc.repo.scm_context - \n",
       "To enable auto staging, run:\n",
       "\n",
       "        dvc config core.autostage true\n",
       "</pre>\n"
      ],
      "text/plain": [
       "18:50:30.437 | \u001b[36mINFO\u001b[0m    | dvc.repo.scm_context - \n",
       "To enable auto staging, run:\n",
       "\n",
       "        dvc config core.autostage true\n"
      ]
     },
     "metadata": {},
     "output_type": "display_data"
    },
    {
     "data": {
      "text/html": [
       "<pre style=\"white-space:pre;overflow-x:auto;line-height:normal;font-family:Menlo,'DejaVu Sans Mono',consolas,'Courier New',monospace\"></pre>\n"
      ],
      "text/plain": []
     },
     "metadata": {},
     "output_type": "display_data"
    },
    {
     "name": "stdout",
     "output_type": "stream",
     "text": [
      "\n",
      "To track the changes with git, run:\n",
      "\n",
      "\tgit add ../../tmp/df-dvc-dev/v1/data/2022_Q2_from_2022-04-01-00_to_2022-06-30-23.parquet.dvc ../../tmp/df-dvc-dev/v1/data/.gitignore\n"
     ]
    },
    {
     "data": {
      "text/html": [
       "<pre style=\"white-space:pre;overflow-x:auto;line-height:normal;font-family:Menlo,'DejaVu Sans Mono',consolas,'Courier New',monospace\">18:50:30.484 | <span style=\"color: #008080; text-decoration-color: #008080\">INFO</span>    | dvc.repo.scm_context - \n",
       "To track the changes with git, run:\n",
       "\n",
       "        git add ../../tmp/df-dvc-dev/v1/data/2022_Q2_from_2022-04-01-00_to_2022-06-30-23.parquet.dvc ../../tmp/df-dvc-dev/v1/data/.gitignore\n",
       "</pre>\n"
      ],
      "text/plain": [
       "18:50:30.484 | \u001b[36mINFO\u001b[0m    | dvc.repo.scm_context - \n",
       "To track the changes with git, run:\n",
       "\n",
       "        git add ../../tmp/df-dvc-dev/v1/data/2022_Q2_from_2022-04-01-00_to_2022-06-30-23.parquet.dvc ../../tmp/df-dvc-dev/v1/data/.gitignore\n"
      ]
     },
     "metadata": {},
     "output_type": "display_data"
    },
    {
     "name": "stdout",
     "output_type": "stream",
     "text": [
      "\n",
      "To enable auto staging, run:\n",
      "\n",
      "\tdvc config core.autostage true\n"
     ]
    },
    {
     "data": {
      "text/html": [
       "<pre style=\"white-space:pre;overflow-x:auto;line-height:normal;font-family:Menlo,'DejaVu Sans Mono',consolas,'Courier New',monospace\">18:50:30.486 | <span style=\"color: #008080; text-decoration-color: #008080\">INFO</span>    | dvc.repo.scm_context - \n",
       "To enable auto staging, run:\n",
       "\n",
       "        dvc config core.autostage true\n",
       "</pre>\n"
      ],
      "text/plain": [
       "18:50:30.486 | \u001b[36mINFO\u001b[0m    | dvc.repo.scm_context - \n",
       "To enable auto staging, run:\n",
       "\n",
       "        dvc config core.autostage true\n"
      ]
     },
     "metadata": {},
     "output_type": "display_data"
    },
    {
     "data": {
      "text/html": [
       "<pre style=\"white-space:pre;overflow-x:auto;line-height:normal;font-family:Menlo,'DejaVu Sans Mono',consolas,'Courier New',monospace\"></pre>\n"
      ],
      "text/plain": []
     },
     "metadata": {},
     "output_type": "display_data"
    },
    {
     "name": "stdout",
     "output_type": "stream",
     "text": [
      "\n",
      "To track the changes with git, run:\n",
      "\n",
      "\tgit add ../../tmp/df-dvc-dev/v1/data/2022_Q3_from_2022-07-01-00_to_2022-09-30-23.parquet.dvc ../../tmp/df-dvc-dev/v1/data/.gitignore\n"
     ]
    },
    {
     "data": {
      "text/html": [
       "<pre style=\"white-space:pre;overflow-x:auto;line-height:normal;font-family:Menlo,'DejaVu Sans Mono',consolas,'Courier New',monospace\">18:50:30.534 | <span style=\"color: #008080; text-decoration-color: #008080\">INFO</span>    | dvc.repo.scm_context - \n",
       "To track the changes with git, run:\n",
       "\n",
       "        git add ../../tmp/df-dvc-dev/v1/data/2022_Q3_from_2022-07-01-00_to_2022-09-30-23.parquet.dvc ../../tmp/df-dvc-dev/v1/data/.gitignore\n",
       "</pre>\n"
      ],
      "text/plain": [
       "18:50:30.534 | \u001b[36mINFO\u001b[0m    | dvc.repo.scm_context - \n",
       "To track the changes with git, run:\n",
       "\n",
       "        git add ../../tmp/df-dvc-dev/v1/data/2022_Q3_from_2022-07-01-00_to_2022-09-30-23.parquet.dvc ../../tmp/df-dvc-dev/v1/data/.gitignore\n"
      ]
     },
     "metadata": {},
     "output_type": "display_data"
    },
    {
     "name": "stdout",
     "output_type": "stream",
     "text": [
      "\n",
      "To enable auto staging, run:\n",
      "\n",
      "\tdvc config core.autostage true\n"
     ]
    },
    {
     "data": {
      "text/html": [
       "<pre style=\"white-space:pre;overflow-x:auto;line-height:normal;font-family:Menlo,'DejaVu Sans Mono',consolas,'Courier New',monospace\">18:50:30.537 | <span style=\"color: #008080; text-decoration-color: #008080\">INFO</span>    | dvc.repo.scm_context - \n",
       "To enable auto staging, run:\n",
       "\n",
       "        dvc config core.autostage true\n",
       "</pre>\n"
      ],
      "text/plain": [
       "18:50:30.537 | \u001b[36mINFO\u001b[0m    | dvc.repo.scm_context - \n",
       "To enable auto staging, run:\n",
       "\n",
       "        dvc config core.autostage true\n"
      ]
     },
     "metadata": {},
     "output_type": "display_data"
    },
    {
     "data": {
      "text/html": [
       "<pre style=\"white-space:pre;overflow-x:auto;line-height:normal;font-family:Menlo,'DejaVu Sans Mono',consolas,'Courier New',monospace\"></pre>\n"
      ],
      "text/plain": []
     },
     "metadata": {},
     "output_type": "display_data"
    },
    {
     "name": "stdout",
     "output_type": "stream",
     "text": [
      "\n",
      "To track the changes with git, run:\n",
      "\n",
      "\tgit add ../../tmp/df-dvc-dev/v1/data/2022_Q4_from_2022-10-01-00_to_2022-12-31-23.parquet.dvc ../../tmp/df-dvc-dev/v1/data/.gitignore\n"
     ]
    },
    {
     "data": {
      "text/html": [
       "<pre style=\"white-space:pre;overflow-x:auto;line-height:normal;font-family:Menlo,'DejaVu Sans Mono',consolas,'Courier New',monospace\">18:50:30.586 | <span style=\"color: #008080; text-decoration-color: #008080\">INFO</span>    | dvc.repo.scm_context - \n",
       "To track the changes with git, run:\n",
       "\n",
       "        git add ../../tmp/df-dvc-dev/v1/data/2022_Q4_from_2022-10-01-00_to_2022-12-31-23.parquet.dvc ../../tmp/df-dvc-dev/v1/data/.gitignore\n",
       "</pre>\n"
      ],
      "text/plain": [
       "18:50:30.586 | \u001b[36mINFO\u001b[0m    | dvc.repo.scm_context - \n",
       "To track the changes with git, run:\n",
       "\n",
       "        git add ../../tmp/df-dvc-dev/v1/data/2022_Q4_from_2022-10-01-00_to_2022-12-31-23.parquet.dvc ../../tmp/df-dvc-dev/v1/data/.gitignore\n"
      ]
     },
     "metadata": {},
     "output_type": "display_data"
    },
    {
     "name": "stdout",
     "output_type": "stream",
     "text": [
      "\n",
      "To enable auto staging, run:\n",
      "\n",
      "\tdvc config core.autostage true\n"
     ]
    },
    {
     "data": {
      "text/html": [
       "<pre style=\"white-space:pre;overflow-x:auto;line-height:normal;font-family:Menlo,'DejaVu Sans Mono',consolas,'Courier New',monospace\">18:50:30.588 | <span style=\"color: #008080; text-decoration-color: #008080\">INFO</span>    | dvc.repo.scm_context - \n",
       "To enable auto staging, run:\n",
       "\n",
       "        dvc config core.autostage true\n",
       "</pre>\n"
      ],
      "text/plain": [
       "18:50:30.588 | \u001b[36mINFO\u001b[0m    | dvc.repo.scm_context - \n",
       "To enable auto staging, run:\n",
       "\n",
       "        dvc config core.autostage true\n"
      ]
     },
     "metadata": {},
     "output_type": "display_data"
    },
    {
     "data": {
      "text/html": [
       "<pre style=\"white-space:pre;overflow-x:auto;line-height:normal;font-family:Menlo,'DejaVu Sans Mono',consolas,'Courier New',monospace\"></pre>\n"
      ],
      "text/plain": []
     },
     "metadata": {},
     "output_type": "display_data"
    },
    {
     "name": "stdout",
     "output_type": "stream",
     "text": [
      "\n",
      "To track the changes with git, run:\n",
      "\n",
      "\tgit add ../../tmp/df-dvc-dev/v1/data/2023_Q1_from_2023-01-01-00_to_2023-03-31-23.parquet.dvc ../../tmp/df-dvc-dev/v1/data/.gitignore\n"
     ]
    },
    {
     "data": {
      "text/html": [
       "<pre style=\"white-space:pre;overflow-x:auto;line-height:normal;font-family:Menlo,'DejaVu Sans Mono',consolas,'Courier New',monospace\">18:50:30.638 | <span style=\"color: #008080; text-decoration-color: #008080\">INFO</span>    | dvc.repo.scm_context - \n",
       "To track the changes with git, run:\n",
       "\n",
       "        git add ../../tmp/df-dvc-dev/v1/data/2023_Q1_from_2023-01-01-00_to_2023-03-31-23.parquet.dvc ../../tmp/df-dvc-dev/v1/data/.gitignore\n",
       "</pre>\n"
      ],
      "text/plain": [
       "18:50:30.638 | \u001b[36mINFO\u001b[0m    | dvc.repo.scm_context - \n",
       "To track the changes with git, run:\n",
       "\n",
       "        git add ../../tmp/df-dvc-dev/v1/data/2023_Q1_from_2023-01-01-00_to_2023-03-31-23.parquet.dvc ../../tmp/df-dvc-dev/v1/data/.gitignore\n"
      ]
     },
     "metadata": {},
     "output_type": "display_data"
    },
    {
     "name": "stdout",
     "output_type": "stream",
     "text": [
      "\n",
      "To enable auto staging, run:\n",
      "\n",
      "\tdvc config core.autostage true\n"
     ]
    },
    {
     "data": {
      "text/html": [
       "<pre style=\"white-space:pre;overflow-x:auto;line-height:normal;font-family:Menlo,'DejaVu Sans Mono',consolas,'Courier New',monospace\">18:50:30.640 | <span style=\"color: #008080; text-decoration-color: #008080\">INFO</span>    | dvc.repo.scm_context - \n",
       "To enable auto staging, run:\n",
       "\n",
       "        dvc config core.autostage true\n",
       "</pre>\n"
      ],
      "text/plain": [
       "18:50:30.640 | \u001b[36mINFO\u001b[0m    | dvc.repo.scm_context - \n",
       "To enable auto staging, run:\n",
       "\n",
       "        dvc config core.autostage true\n"
      ]
     },
     "metadata": {},
     "output_type": "display_data"
    },
    {
     "data": {
      "text/html": [
       "<pre style=\"white-space:pre;overflow-x:auto;line-height:normal;font-family:Menlo,'DejaVu Sans Mono',consolas,'Courier New',monospace\"></pre>\n"
      ],
      "text/plain": []
     },
     "metadata": {},
     "output_type": "display_data"
    },
    {
     "name": "stdout",
     "output_type": "stream",
     "text": [
      "\n",
      "To track the changes with git, run:\n",
      "\n",
      "\tgit add ../../tmp/df-dvc-dev/v1/data/2023_Q2_from_2023-04-01-00_to_2023-06-30-23.parquet.dvc ../../tmp/df-dvc-dev/v1/data/.gitignore\n"
     ]
    },
    {
     "data": {
      "text/html": [
       "<pre style=\"white-space:pre;overflow-x:auto;line-height:normal;font-family:Menlo,'DejaVu Sans Mono',consolas,'Courier New',monospace\">18:50:30.690 | <span style=\"color: #008080; text-decoration-color: #008080\">INFO</span>    | dvc.repo.scm_context - \n",
       "To track the changes with git, run:\n",
       "\n",
       "        git add ../../tmp/df-dvc-dev/v1/data/2023_Q2_from_2023-04-01-00_to_2023-06-30-23.parquet.dvc ../../tmp/df-dvc-dev/v1/data/.gitignore\n",
       "</pre>\n"
      ],
      "text/plain": [
       "18:50:30.690 | \u001b[36mINFO\u001b[0m    | dvc.repo.scm_context - \n",
       "To track the changes with git, run:\n",
       "\n",
       "        git add ../../tmp/df-dvc-dev/v1/data/2023_Q2_from_2023-04-01-00_to_2023-06-30-23.parquet.dvc ../../tmp/df-dvc-dev/v1/data/.gitignore\n"
      ]
     },
     "metadata": {},
     "output_type": "display_data"
    },
    {
     "name": "stdout",
     "output_type": "stream",
     "text": [
      "\n",
      "To enable auto staging, run:\n",
      "\n",
      "\tdvc config core.autostage true\n"
     ]
    },
    {
     "data": {
      "text/html": [
       "<pre style=\"white-space:pre;overflow-x:auto;line-height:normal;font-family:Menlo,'DejaVu Sans Mono',consolas,'Courier New',monospace\">18:50:30.692 | <span style=\"color: #008080; text-decoration-color: #008080\">INFO</span>    | dvc.repo.scm_context - \n",
       "To enable auto staging, run:\n",
       "\n",
       "        dvc config core.autostage true\n",
       "</pre>\n"
      ],
      "text/plain": [
       "18:50:30.692 | \u001b[36mINFO\u001b[0m    | dvc.repo.scm_context - \n",
       "To enable auto staging, run:\n",
       "\n",
       "        dvc config core.autostage true\n"
      ]
     },
     "metadata": {},
     "output_type": "display_data"
    },
    {
     "data": {
      "text/html": [
       "<pre style=\"white-space:pre;overflow-x:auto;line-height:normal;font-family:Menlo,'DejaVu Sans Mono',consolas,'Courier New',monospace\"></pre>\n"
      ],
      "text/plain": []
     },
     "metadata": {},
     "output_type": "display_data"
    },
    {
     "name": "stdout",
     "output_type": "stream",
     "text": [
      "\n",
      "To track the changes with git, run:\n",
      "\n",
      "\tgit add ../../tmp/df-dvc-dev/v1/data/2023_Q3_from_2023-07-01-00_to_2023-09-30-23.parquet.dvc ../../tmp/df-dvc-dev/v1/data/.gitignore\n"
     ]
    },
    {
     "data": {
      "text/html": [
       "<pre style=\"white-space:pre;overflow-x:auto;line-height:normal;font-family:Menlo,'DejaVu Sans Mono',consolas,'Courier New',monospace\">18:50:30.741 | <span style=\"color: #008080; text-decoration-color: #008080\">INFO</span>    | dvc.repo.scm_context - \n",
       "To track the changes with git, run:\n",
       "\n",
       "        git add ../../tmp/df-dvc-dev/v1/data/2023_Q3_from_2023-07-01-00_to_2023-09-30-23.parquet.dvc ../../tmp/df-dvc-dev/v1/data/.gitignore\n",
       "</pre>\n"
      ],
      "text/plain": [
       "18:50:30.741 | \u001b[36mINFO\u001b[0m    | dvc.repo.scm_context - \n",
       "To track the changes with git, run:\n",
       "\n",
       "        git add ../../tmp/df-dvc-dev/v1/data/2023_Q3_from_2023-07-01-00_to_2023-09-30-23.parquet.dvc ../../tmp/df-dvc-dev/v1/data/.gitignore\n"
      ]
     },
     "metadata": {},
     "output_type": "display_data"
    },
    {
     "name": "stdout",
     "output_type": "stream",
     "text": [
      "\n",
      "To enable auto staging, run:\n",
      "\n",
      "\tdvc config core.autostage true\n"
     ]
    },
    {
     "data": {
      "text/html": [
       "<pre style=\"white-space:pre;overflow-x:auto;line-height:normal;font-family:Menlo,'DejaVu Sans Mono',consolas,'Courier New',monospace\">18:50:30.743 | <span style=\"color: #008080; text-decoration-color: #008080\">INFO</span>    | dvc.repo.scm_context - \n",
       "To enable auto staging, run:\n",
       "\n",
       "        dvc config core.autostage true\n",
       "</pre>\n"
      ],
      "text/plain": [
       "18:50:30.743 | \u001b[36mINFO\u001b[0m    | dvc.repo.scm_context - \n",
       "To enable auto staging, run:\n",
       "\n",
       "        dvc config core.autostage true\n"
      ]
     },
     "metadata": {},
     "output_type": "display_data"
    },
    {
     "data": {
      "text/html": [
       "<pre style=\"white-space:pre;overflow-x:auto;line-height:normal;font-family:Menlo,'DejaVu Sans Mono',consolas,'Courier New',monospace\"></pre>\n"
      ],
      "text/plain": []
     },
     "metadata": {},
     "output_type": "display_data"
    },
    {
     "name": "stdout",
     "output_type": "stream",
     "text": [
      "\n",
      "To track the changes with git, run:\n",
      "\n",
      "\tgit add ../../tmp/df-dvc-dev/v1/data/2023_Q4_from_2023-10-01-00_to_2023-12-31-23.parquet.dvc ../../tmp/df-dvc-dev/v1/data/.gitignore\n"
     ]
    },
    {
     "data": {
      "text/html": [
       "<pre style=\"white-space:pre;overflow-x:auto;line-height:normal;font-family:Menlo,'DejaVu Sans Mono',consolas,'Courier New',monospace\">18:50:30.793 | <span style=\"color: #008080; text-decoration-color: #008080\">INFO</span>    | dvc.repo.scm_context - \n",
       "To track the changes with git, run:\n",
       "\n",
       "        git add ../../tmp/df-dvc-dev/v1/data/2023_Q4_from_2023-10-01-00_to_2023-12-31-23.parquet.dvc ../../tmp/df-dvc-dev/v1/data/.gitignore\n",
       "</pre>\n"
      ],
      "text/plain": [
       "18:50:30.793 | \u001b[36mINFO\u001b[0m    | dvc.repo.scm_context - \n",
       "To track the changes with git, run:\n",
       "\n",
       "        git add ../../tmp/df-dvc-dev/v1/data/2023_Q4_from_2023-10-01-00_to_2023-12-31-23.parquet.dvc ../../tmp/df-dvc-dev/v1/data/.gitignore\n"
      ]
     },
     "metadata": {},
     "output_type": "display_data"
    },
    {
     "name": "stdout",
     "output_type": "stream",
     "text": [
      "\n",
      "To enable auto staging, run:\n",
      "\n",
      "\tdvc config core.autostage true\n"
     ]
    },
    {
     "data": {
      "text/html": [
       "<pre style=\"white-space:pre;overflow-x:auto;line-height:normal;font-family:Menlo,'DejaVu Sans Mono',consolas,'Courier New',monospace\">18:50:30.795 | <span style=\"color: #008080; text-decoration-color: #008080\">INFO</span>    | dvc.repo.scm_context - \n",
       "To enable auto staging, run:\n",
       "\n",
       "        dvc config core.autostage true\n",
       "</pre>\n"
      ],
      "text/plain": [
       "18:50:30.795 | \u001b[36mINFO\u001b[0m    | dvc.repo.scm_context - \n",
       "To enable auto staging, run:\n",
       "\n",
       "        dvc config core.autostage true\n"
      ]
     },
     "metadata": {},
     "output_type": "display_data"
    },
    {
     "data": {
      "text/html": [
       "<pre style=\"white-space:pre;overflow-x:auto;line-height:normal;font-family:Menlo,'DejaVu Sans Mono',consolas,'Courier New',monospace\"></pre>\n"
      ],
      "text/plain": []
     },
     "metadata": {},
     "output_type": "display_data"
    },
    {
     "name": "stdout",
     "output_type": "stream",
     "text": [
      "\n",
      "To track the changes with git, run:\n",
      "\n",
      "\tgit add ../../tmp/df-dvc-dev/v1/data/2024_Q1_from_2024-01-01-00_to_2024-03-31-23.parquet.dvc ../../tmp/df-dvc-dev/v1/data/.gitignore\n"
     ]
    },
    {
     "data": {
      "text/html": [
       "<pre style=\"white-space:pre;overflow-x:auto;line-height:normal;font-family:Menlo,'DejaVu Sans Mono',consolas,'Courier New',monospace\">18:50:30.848 | <span style=\"color: #008080; text-decoration-color: #008080\">INFO</span>    | dvc.repo.scm_context - \n",
       "To track the changes with git, run:\n",
       "\n",
       "        git add ../../tmp/df-dvc-dev/v1/data/2024_Q1_from_2024-01-01-00_to_2024-03-31-23.parquet.dvc ../../tmp/df-dvc-dev/v1/data/.gitignore\n",
       "</pre>\n"
      ],
      "text/plain": [
       "18:50:30.848 | \u001b[36mINFO\u001b[0m    | dvc.repo.scm_context - \n",
       "To track the changes with git, run:\n",
       "\n",
       "        git add ../../tmp/df-dvc-dev/v1/data/2024_Q1_from_2024-01-01-00_to_2024-03-31-23.parquet.dvc ../../tmp/df-dvc-dev/v1/data/.gitignore\n"
      ]
     },
     "metadata": {},
     "output_type": "display_data"
    },
    {
     "name": "stdout",
     "output_type": "stream",
     "text": [
      "\n",
      "To enable auto staging, run:\n",
      "\n",
      "\tdvc config core.autostage true\n"
     ]
    },
    {
     "data": {
      "text/html": [
       "<pre style=\"white-space:pre;overflow-x:auto;line-height:normal;font-family:Menlo,'DejaVu Sans Mono',consolas,'Courier New',monospace\">18:50:30.850 | <span style=\"color: #008080; text-decoration-color: #008080\">INFO</span>    | dvc.repo.scm_context - \n",
       "To enable auto staging, run:\n",
       "\n",
       "        dvc config core.autostage true\n",
       "</pre>\n"
      ],
      "text/plain": [
       "18:50:30.850 | \u001b[36mINFO\u001b[0m    | dvc.repo.scm_context - \n",
       "To enable auto staging, run:\n",
       "\n",
       "        dvc config core.autostage true\n"
      ]
     },
     "metadata": {},
     "output_type": "display_data"
    },
    {
     "data": {
      "text/html": [
       "<pre style=\"white-space:pre;overflow-x:auto;line-height:normal;font-family:Menlo,'DejaVu Sans Mono',consolas,'Courier New',monospace\"></pre>\n"
      ],
      "text/plain": []
     },
     "metadata": {},
     "output_type": "display_data"
    },
    {
     "name": "stdout",
     "output_type": "stream",
     "text": [
      "\n",
      "To track the changes with git, run:\n",
      "\n",
      "\tgit add ../../tmp/df-dvc-dev/v1/data/2024_Q2_from_2024-04-01-00_to_2024-06-30-23.parquet.dvc ../../tmp/df-dvc-dev/v1/data/.gitignore\n"
     ]
    },
    {
     "data": {
      "text/html": [
       "<pre style=\"white-space:pre;overflow-x:auto;line-height:normal;font-family:Menlo,'DejaVu Sans Mono',consolas,'Courier New',monospace\">18:50:30.905 | <span style=\"color: #008080; text-decoration-color: #008080\">INFO</span>    | dvc.repo.scm_context - \n",
       "To track the changes with git, run:\n",
       "\n",
       "        git add ../../tmp/df-dvc-dev/v1/data/2024_Q2_from_2024-04-01-00_to_2024-06-30-23.parquet.dvc ../../tmp/df-dvc-dev/v1/data/.gitignore\n",
       "</pre>\n"
      ],
      "text/plain": [
       "18:50:30.905 | \u001b[36mINFO\u001b[0m    | dvc.repo.scm_context - \n",
       "To track the changes with git, run:\n",
       "\n",
       "        git add ../../tmp/df-dvc-dev/v1/data/2024_Q2_from_2024-04-01-00_to_2024-06-30-23.parquet.dvc ../../tmp/df-dvc-dev/v1/data/.gitignore\n"
      ]
     },
     "metadata": {},
     "output_type": "display_data"
    },
    {
     "name": "stdout",
     "output_type": "stream",
     "text": [
      "\n",
      "To enable auto staging, run:\n",
      "\n",
      "\tdvc config core.autostage true\n"
     ]
    },
    {
     "data": {
      "text/html": [
       "<pre style=\"white-space:pre;overflow-x:auto;line-height:normal;font-family:Menlo,'DejaVu Sans Mono',consolas,'Courier New',monospace\">18:50:30.907 | <span style=\"color: #008080; text-decoration-color: #008080\">INFO</span>    | dvc.repo.scm_context - \n",
       "To enable auto staging, run:\n",
       "\n",
       "        dvc config core.autostage true\n",
       "</pre>\n"
      ],
      "text/plain": [
       "18:50:30.907 | \u001b[36mINFO\u001b[0m    | dvc.repo.scm_context - \n",
       "To enable auto staging, run:\n",
       "\n",
       "        dvc config core.autostage true\n"
      ]
     },
     "metadata": {},
     "output_type": "display_data"
    },
    {
     "data": {
      "text/html": [
       "<pre style=\"white-space:pre;overflow-x:auto;line-height:normal;font-family:Menlo,'DejaVu Sans Mono',consolas,'Courier New',monospace\"></pre>\n"
      ],
      "text/plain": []
     },
     "metadata": {},
     "output_type": "display_data"
    },
    {
     "name": "stdout",
     "output_type": "stream",
     "text": [
      "\n",
      "To track the changes with git, run:\n",
      "\n",
      "\tgit add ../../tmp/df-dvc-dev/v1/data/2024_Q3_from_2024-07-01-00_to_2024-09-30-23.parquet.dvc ../../tmp/df-dvc-dev/v1/data/.gitignore\n"
     ]
    },
    {
     "data": {
      "text/html": [
       "<pre style=\"white-space:pre;overflow-x:auto;line-height:normal;font-family:Menlo,'DejaVu Sans Mono',consolas,'Courier New',monospace\">18:50:30.960 | <span style=\"color: #008080; text-decoration-color: #008080\">INFO</span>    | dvc.repo.scm_context - \n",
       "To track the changes with git, run:\n",
       "\n",
       "        git add ../../tmp/df-dvc-dev/v1/data/2024_Q3_from_2024-07-01-00_to_2024-09-30-23.parquet.dvc ../../tmp/df-dvc-dev/v1/data/.gitignore\n",
       "</pre>\n"
      ],
      "text/plain": [
       "18:50:30.960 | \u001b[36mINFO\u001b[0m    | dvc.repo.scm_context - \n",
       "To track the changes with git, run:\n",
       "\n",
       "        git add ../../tmp/df-dvc-dev/v1/data/2024_Q3_from_2024-07-01-00_to_2024-09-30-23.parquet.dvc ../../tmp/df-dvc-dev/v1/data/.gitignore\n"
      ]
     },
     "metadata": {},
     "output_type": "display_data"
    },
    {
     "name": "stdout",
     "output_type": "stream",
     "text": [
      "\n",
      "To enable auto staging, run:\n",
      "\n",
      "\tdvc config core.autostage true\n"
     ]
    },
    {
     "data": {
      "text/html": [
       "<pre style=\"white-space:pre;overflow-x:auto;line-height:normal;font-family:Menlo,'DejaVu Sans Mono',consolas,'Courier New',monospace\">18:50:30.962 | <span style=\"color: #008080; text-decoration-color: #008080\">INFO</span>    | dvc.repo.scm_context - \n",
       "To enable auto staging, run:\n",
       "\n",
       "        dvc config core.autostage true\n",
       "</pre>\n"
      ],
      "text/plain": [
       "18:50:30.962 | \u001b[36mINFO\u001b[0m    | dvc.repo.scm_context - \n",
       "To enable auto staging, run:\n",
       "\n",
       "        dvc config core.autostage true\n"
      ]
     },
     "metadata": {},
     "output_type": "display_data"
    },
    {
     "data": {
      "text/html": [
       "<pre style=\"white-space:pre;overflow-x:auto;line-height:normal;font-family:Menlo,'DejaVu Sans Mono',consolas,'Courier New',monospace\"></pre>\n"
      ],
      "text/plain": []
     },
     "metadata": {},
     "output_type": "display_data"
    },
    {
     "name": "stdout",
     "output_type": "stream",
     "text": [
      "\n",
      "To track the changes with git, run:\n",
      "\n",
      "\tgit add ../../tmp/df-dvc-dev/v1/data/2024_Q4_from_2024-10-01-00_to_2024-12-31-23.parquet.dvc ../../tmp/df-dvc-dev/v1/data/.gitignore\n"
     ]
    },
    {
     "data": {
      "text/html": [
       "<pre style=\"white-space:pre;overflow-x:auto;line-height:normal;font-family:Menlo,'DejaVu Sans Mono',consolas,'Courier New',monospace\">18:50:31.030 | <span style=\"color: #008080; text-decoration-color: #008080\">INFO</span>    | dvc.repo.scm_context - \n",
       "To track the changes with git, run:\n",
       "\n",
       "        git add ../../tmp/df-dvc-dev/v1/data/2024_Q4_from_2024-10-01-00_to_2024-12-31-23.parquet.dvc ../../tmp/df-dvc-dev/v1/data/.gitignore\n",
       "</pre>\n"
      ],
      "text/plain": [
       "18:50:31.030 | \u001b[36mINFO\u001b[0m    | dvc.repo.scm_context - \n",
       "To track the changes with git, run:\n",
       "\n",
       "        git add ../../tmp/df-dvc-dev/v1/data/2024_Q4_from_2024-10-01-00_to_2024-12-31-23.parquet.dvc ../../tmp/df-dvc-dev/v1/data/.gitignore\n"
      ]
     },
     "metadata": {},
     "output_type": "display_data"
    },
    {
     "name": "stdout",
     "output_type": "stream",
     "text": [
      "\n",
      "To enable auto staging, run:\n",
      "\n",
      "\tdvc config core.autostage true\n"
     ]
    },
    {
     "data": {
      "text/html": [
       "<pre style=\"white-space:pre;overflow-x:auto;line-height:normal;font-family:Menlo,'DejaVu Sans Mono',consolas,'Courier New',monospace\">18:50:31.032 | <span style=\"color: #008080; text-decoration-color: #008080\">INFO</span>    | dvc.repo.scm_context - \n",
       "To enable auto staging, run:\n",
       "\n",
       "        dvc config core.autostage true\n",
       "</pre>\n"
      ],
      "text/plain": [
       "18:50:31.032 | \u001b[36mINFO\u001b[0m    | dvc.repo.scm_context - \n",
       "To enable auto staging, run:\n",
       "\n",
       "        dvc config core.autostage true\n"
      ]
     },
     "metadata": {},
     "output_type": "display_data"
    },
    {
     "data": {
      "text/html": [
       "<pre style=\"white-space:pre;overflow-x:auto;line-height:normal;font-family:Menlo,'DejaVu Sans Mono',consolas,'Courier New',monospace\">18:50:31.060 | <span style=\"color: #008080; text-decoration-color: #008080\">INFO</span>    | Task run 'initialize_chunk_index-af8' - Staged files:\n",
       "['v1/chunk_idx.parquet', 'v1/data/.gitignore', 'v1/data/2015_Q3_from_2015-07-01-00_to_2015-09-30-23.parquet.dvc', 'v1/data/2015_Q4_from_2015-10-01-00_to_2015-12-31-23.parquet.dvc', 'v1/data/2016_Q1_from_2016-01-01-00_to_2016-03-31-23.parquet.dvc', 'v1/data/2016_Q2_from_2016-04-01-00_to_2016-06-30-23.parquet.dvc', 'v1/data/2016_Q3_from_2016-07-01-00_to_2016-09-30-23.parquet.dvc', 'v1/data/2016_Q4_from_2016-10-01-00_to_2016-12-31-23.parquet.dvc', 'v1/data/2017_Q1_from_2017-01-01-00_to_2017-03-31-23.parquet.dvc', 'v1/data/2017_Q2_from_2017-04-01-00_to_2017-06-30-23.parquet.dvc', 'v1/data/2017_Q3_from_2017-07-01-00_to_2017-09-30-23.parquet.dvc', 'v1/data/2017_Q4_from_2017-10-01-00_to_2017-12-31-23.parquet.dvc', 'v1/data/2018_Q1_from_2018-01-01-00_to_2018-03-31-23.parquet.dvc', 'v1/data/2018_Q2_from_2018-04-01-00_to_2018-06-30-23.parquet.dvc', 'v1/data/2018_Q3_from_2018-07-01-00_to_2018-09-30-23.parquet.dvc', 'v1/data/2018_Q4_from_2018-10-01-00_to_2018-12-31-23.parquet.dvc', 'v1/data/2019_Q1_from_2019-01-01-00_to_2019-03-31-23.parquet.dvc', 'v1/data/2019_Q2_from_2019-04-01-00_to_2019-06-30-23.parquet.dvc', 'v1/data/2019_Q3_from_2019-07-01-00_to_2019-09-30-23.parquet.dvc', 'v1/data/2019_Q4_from_2019-10-01-00_to_2019-12-31-23.parquet.dvc', 'v1/data/2020_Q1_from_2020-01-01-00_to_2020-03-31-23.parquet.dvc', 'v1/data/2020_Q2_from_2020-04-01-00_to_2020-06-30-23.parquet.dvc', 'v1/data/2020_Q3_from_2020-07-01-00_to_2020-09-30-23.parquet.dvc', 'v1/data/2020_Q4_from_2020-10-01-00_to_2020-12-31-23.parquet.dvc', 'v1/data/2021_Q1_from_2021-01-01-00_to_2021-03-31-23.parquet.dvc', 'v1/data/2021_Q2_from_2021-04-01-00_to_2021-06-30-23.parquet.dvc', 'v1/data/2021_Q3_from_2021-07-01-00_to_2021-09-30-23.parquet.dvc', 'v1/data/2021_Q4_from_2021-10-01-00_to_2021-12-31-23.parquet.dvc', 'v1/data/2022_Q1_from_2022-01-01-00_to_2022-03-31-23.parquet.dvc', 'v1/data/2022_Q2_from_2022-04-01-00_to_2022-06-30-23.parquet.dvc', 'v1/data/2022_Q3_from_2022-07-01-00_to_2022-09-30-23.parquet.dvc', 'v1/data/2022_Q4_from_2022-10-01-00_to_2022-12-31-23.parquet.dvc', 'v1/data/2023_Q1_from_2023-01-01-00_to_2023-03-31-23.parquet.dvc', 'v1/data/2023_Q2_from_2023-04-01-00_to_2023-06-30-23.parquet.dvc', 'v1/data/2023_Q3_from_2023-07-01-00_to_2023-09-30-23.parquet.dvc', 'v1/data/2023_Q4_from_2023-10-01-00_to_2023-12-31-23.parquet.dvc', 'v1/data/2024_Q1_from_2024-01-01-00_to_2024-03-31-23.parquet.dvc', 'v1/data/2024_Q2_from_2024-04-01-00_to_2024-06-30-23.parquet.dvc', 'v1/data/2024_Q3_from_2024-07-01-00_to_2024-09-30-23.parquet.dvc', 'v1/data/2024_Q4_from_2024-10-01-00_to_2024-12-31-23.parquet.dvc']\n",
       "</pre>\n"
      ],
      "text/plain": [
       "18:50:31.060 | \u001b[36mINFO\u001b[0m    | Task run 'initialize_chunk_index-af8' - Staged files:\n",
       "['v1/chunk_idx.parquet', 'v1/data/.gitignore', 'v1/data/2015_Q3_from_2015-07-01-00_to_2015-09-30-23.parquet.dvc', 'v1/data/2015_Q4_from_2015-10-01-00_to_2015-12-31-23.parquet.dvc', 'v1/data/2016_Q1_from_2016-01-01-00_to_2016-03-31-23.parquet.dvc', 'v1/data/2016_Q2_from_2016-04-01-00_to_2016-06-30-23.parquet.dvc', 'v1/data/2016_Q3_from_2016-07-01-00_to_2016-09-30-23.parquet.dvc', 'v1/data/2016_Q4_from_2016-10-01-00_to_2016-12-31-23.parquet.dvc', 'v1/data/2017_Q1_from_2017-01-01-00_to_2017-03-31-23.parquet.dvc', 'v1/data/2017_Q2_from_2017-04-01-00_to_2017-06-30-23.parquet.dvc', 'v1/data/2017_Q3_from_2017-07-01-00_to_2017-09-30-23.parquet.dvc', 'v1/data/2017_Q4_from_2017-10-01-00_to_2017-12-31-23.parquet.dvc', 'v1/data/2018_Q1_from_2018-01-01-00_to_2018-03-31-23.parquet.dvc', 'v1/data/2018_Q2_from_2018-04-01-00_to_2018-06-30-23.parquet.dvc', 'v1/data/2018_Q3_from_2018-07-01-00_to_2018-09-30-23.parquet.dvc', 'v1/data/2018_Q4_from_2018-10-01-00_to_2018-12-31-23.parquet.dvc', 'v1/data/2019_Q1_from_2019-01-01-00_to_2019-03-31-23.parquet.dvc', 'v1/data/2019_Q2_from_2019-04-01-00_to_2019-06-30-23.parquet.dvc', 'v1/data/2019_Q3_from_2019-07-01-00_to_2019-09-30-23.parquet.dvc', 'v1/data/2019_Q4_from_2019-10-01-00_to_2019-12-31-23.parquet.dvc', 'v1/data/2020_Q1_from_2020-01-01-00_to_2020-03-31-23.parquet.dvc', 'v1/data/2020_Q2_from_2020-04-01-00_to_2020-06-30-23.parquet.dvc', 'v1/data/2020_Q3_from_2020-07-01-00_to_2020-09-30-23.parquet.dvc', 'v1/data/2020_Q4_from_2020-10-01-00_to_2020-12-31-23.parquet.dvc', 'v1/data/2021_Q1_from_2021-01-01-00_to_2021-03-31-23.parquet.dvc', 'v1/data/2021_Q2_from_2021-04-01-00_to_2021-06-30-23.parquet.dvc', 'v1/data/2021_Q3_from_2021-07-01-00_to_2021-09-30-23.parquet.dvc', 'v1/data/2021_Q4_from_2021-10-01-00_to_2021-12-31-23.parquet.dvc', 'v1/data/2022_Q1_from_2022-01-01-00_to_2022-03-31-23.parquet.dvc', 'v1/data/2022_Q2_from_2022-04-01-00_to_2022-06-30-23.parquet.dvc', 'v1/data/2022_Q3_from_2022-07-01-00_to_2022-09-30-23.parquet.dvc', 'v1/data/2022_Q4_from_2022-10-01-00_to_2022-12-31-23.parquet.dvc', 'v1/data/2023_Q1_from_2023-01-01-00_to_2023-03-31-23.parquet.dvc', 'v1/data/2023_Q2_from_2023-04-01-00_to_2023-06-30-23.parquet.dvc', 'v1/data/2023_Q3_from_2023-07-01-00_to_2023-09-30-23.parquet.dvc', 'v1/data/2023_Q4_from_2023-10-01-00_to_2023-12-31-23.parquet.dvc', 'v1/data/2024_Q1_from_2024-01-01-00_to_2024-03-31-23.parquet.dvc', 'v1/data/2024_Q2_from_2024-04-01-00_to_2024-06-30-23.parquet.dvc', 'v1/data/2024_Q3_from_2024-07-01-00_to_2024-09-30-23.parquet.dvc', 'v1/data/2024_Q4_from_2024-10-01-00_to_2024-12-31-23.parquet.dvc']\n"
      ]
     },
     "metadata": {},
     "output_type": "display_data"
    },
    {
     "data": {
      "text/html": [
       "<pre style=\"white-space:pre;overflow-x:auto;line-height:normal;font-family:Menlo,'DejaVu Sans Mono',consolas,'Courier New',monospace\">18:50:31.063 | <span style=\"color: #008080; text-decoration-color: #008080\">INFO</span>    | Task run 'initialize_chunk_index-af8' - &gt; \u001b[0;32m/app/flows/etl_flow.py\u001b[0m(220)\u001b[0;36minitialize_chunk_index\u001b[0;34m()\u001b[0m\n",
       "\u001b[0;32m    218 \u001b[0;31m\u001b[0;34m\u001b[0m\u001b[0m\n",
       "\u001b[0m\u001b[0;32m    219 \u001b[0;31m    \u001b[0;31m# Commit chunks and index to dvc/git\u001b[0m\u001b[0;34m\u001b[0m\u001b[0;34m\u001b[0m\u001b[0m\n",
       "\u001b[0m\u001b[0;32m--&gt; 220 \u001b[0;31m    \u001b[0mprint\u001b[0m\u001b[0;34m(\u001b[0m\u001b[0;34m'Done'\u001b[0m\u001b[0;34m)\u001b[0m\u001b[0;34m\u001b[0m\u001b[0;34m\u001b[0m\u001b[0m\n",
       "\u001b[0m\u001b[0;32m    221 \u001b[0;31m\u001b[0;34m\u001b[0m\u001b[0m\n",
       "\u001b[0m\u001b[0;32m    222 \u001b[0;31m\u001b[0;34m\u001b[0m\u001b[0m\n",
       "\u001b[0m\n",
       "</pre>\n"
      ],
      "text/plain": [
       "18:50:31.063 | \u001b[36mINFO\u001b[0m    | Task run 'initialize_chunk_index-af8' - > \u001b[0;32m/app/flows/etl_flow.py\u001b[0m(220)\u001b[0;36minitialize_chunk_index\u001b[0;34m()\u001b[0m\n",
       "\u001b[0;32m    218 \u001b[0;31m\u001b[0;34m\u001b[0m\u001b[0m\n",
       "\u001b[0m\u001b[0;32m    219 \u001b[0;31m    \u001b[0;31m# Commit chunks and index to dvc/git\u001b[0m\u001b[0;34m\u001b[0m\u001b[0;34m\u001b[0m\u001b[0m\n",
       "\u001b[0m\u001b[0;32m--> 220 \u001b[0;31m    \u001b[0mprint\u001b[0m\u001b[0;34m(\u001b[0m\u001b[0;34m'Done'\u001b[0m\u001b[0;34m)\u001b[0m\u001b[0;34m\u001b[0m\u001b[0;34m\u001b[0m\u001b[0m\n",
       "\u001b[0m\u001b[0;32m    221 \u001b[0;31m\u001b[0;34m\u001b[0m\u001b[0m\n",
       "\u001b[0m\u001b[0;32m    222 \u001b[0;31m\u001b[0;34m\u001b[0m\u001b[0m\n",
       "\u001b[0m\n"
      ]
     },
     "metadata": {},
     "output_type": "display_data"
    },
    {
     "name": "stdin",
     "output_type": "stream",
     "text": [
      "ipdb>  from prettyprint import pp\n"
     ]
    },
    {
     "data": {
      "text/html": [
       "<pre style=\"white-space:pre;overflow-x:auto;line-height:normal;font-family:Menlo,'DejaVu Sans Mono',consolas,'Courier New',monospace\">18:50:51.947 | <span style=\"color: #008080; text-decoration-color: #008080\">INFO</span>    | Task run 'initialize_chunk_index-af8' - *** ModuleNotFoundError: No module named 'prettyprint'\n",
       "</pre>\n"
      ],
      "text/plain": [
       "18:50:51.947 | \u001b[36mINFO\u001b[0m    | Task run 'initialize_chunk_index-af8' - *** ModuleNotFoundError: No module named 'prettyprint'\n"
      ]
     },
     "metadata": {},
     "output_type": "display_data"
    },
    {
     "name": "stdin",
     "output_type": "stream",
     "text": [
      "ipdb>  from pprint import pp\n",
      "ipdb>  pp(diff_files)\n"
     ]
    },
    {
     "data": {
      "text/html": [
       "<pre style=\"white-space:pre;overflow-x:auto;line-height:normal;font-family:Menlo,'DejaVu Sans Mono',consolas,'Courier New',monospace\">18:51:15.008 | <span style=\"color: #008080; text-decoration-color: #008080\">INFO</span>    | Task run 'initialize_chunk_index-af8' - ['v1/chunk_idx.parquet',\n",
       " 'v1/data/.gitignore',\n",
       " 'v1/data/2015_Q3_from_2015-07-01-00_to_2015-09-30-23.parquet.dvc',\n",
       " 'v1/data/2015_Q4_from_2015-10-01-00_to_2015-12-31-23.parquet.dvc',\n",
       " 'v1/data/2016_Q1_from_2016-01-01-00_to_2016-03-31-23.parquet.dvc',\n",
       " 'v1/data/2016_Q2_from_2016-04-01-00_to_2016-06-30-23.parquet.dvc',\n",
       " 'v1/data/2016_Q3_from_2016-07-01-00_to_2016-09-30-23.parquet.dvc',\n",
       " 'v1/data/2016_Q4_from_2016-10-01-00_to_2016-12-31-23.parquet.dvc',\n",
       " 'v1/data/2017_Q1_from_2017-01-01-00_to_2017-03-31-23.parquet.dvc',\n",
       " 'v1/data/2017_Q2_from_2017-04-01-00_to_2017-06-30-23.parquet.dvc',\n",
       " 'v1/data/2017_Q3_from_2017-07-01-00_to_2017-09-30-23.parquet.dvc',\n",
       " 'v1/data/2017_Q4_from_2017-10-01-00_to_2017-12-31-23.parquet.dvc',\n",
       " 'v1/data/2018_Q1_from_2018-01-01-00_to_2018-03-31-23.parquet.dvc',\n",
       " 'v1/data/2018_Q2_from_2018-04-01-00_to_2018-06-30-23.parquet.dvc',\n",
       " 'v1/data/2018_Q3_from_2018-07-01-00_to_2018-09-30-23.parquet.dvc',\n",
       " 'v1/data/2018_Q4_from_2018-10-01-00_to_2018-12-31-23.parquet.dvc',\n",
       " 'v1/data/2019_Q1_from_2019-01-01-00_to_2019-03-31-23.parquet.dvc',\n",
       " 'v1/data/2019_Q2_from_2019-04-01-00_to_2019-06-30-23.parquet.dvc',\n",
       " 'v1/data/2019_Q3_from_2019-07-01-00_to_2019-09-30-23.parquet.dvc',\n",
       " 'v1/data/2019_Q4_from_2019-10-01-00_to_2019-12-31-23.parquet.dvc',\n",
       " 'v1/data/2020_Q1_from_2020-01-01-00_to_2020-03-31-23.parquet.dvc',\n",
       " 'v1/data/2020_Q2_from_2020-04-01-00_to_2020-06-30-23.parquet.dvc',\n",
       " 'v1/data/2020_Q3_from_2020-07-01-00_to_2020-09-30-23.parquet.dvc',\n",
       " 'v1/data/2020_Q4_from_2020-10-01-00_to_2020-12-31-23.parquet.dvc',\n",
       " 'v1/data/2021_Q1_from_2021-01-01-00_to_2021-03-31-23.parquet.dvc',\n",
       " 'v1/data/2021_Q2_from_2021-04-01-00_to_2021-06-30-23.parquet.dvc',\n",
       " 'v1/data/2021_Q3_from_2021-07-01-00_to_2021-09-30-23.parquet.dvc',\n",
       " 'v1/data/2021_Q4_from_2021-10-01-00_to_2021-12-31-23.parquet.dvc',\n",
       " 'v1/data/2022_Q1_from_2022-01-01-00_to_2022-03-31-23.parquet.dvc',\n",
       " 'v1/data/2022_Q2_from_2022-04-01-00_to_2022-06-30-23.parquet.dvc',\n",
       " 'v1/data/2022_Q3_from_2022-07-01-00_to_2022-09-30-23.parquet.dvc',\n",
       " 'v1/data/2022_Q4_from_2022-10-01-00_to_2022-12-31-23.parquet.dvc',\n",
       " 'v1/data/2023_Q1_from_2023-01-01-00_to_2023-03-31-23.parquet.dvc',\n",
       " 'v1/data/2023_Q2_from_2023-04-01-00_to_2023-06-30-23.parquet.dvc',\n",
       " 'v1/data/2023_Q3_from_2023-07-01-00_to_2023-09-30-23.parquet.dvc',\n",
       " 'v1/data/2023_Q4_from_2023-10-01-00_to_2023-12-31-23.parquet.dvc',\n",
       " 'v1/data/2024_Q1_from_2024-01-01-00_to_2024-03-31-23.parquet.dvc',\n",
       " 'v1/data/2024_Q2_from_2024-04-01-00_to_2024-06-30-23.parquet.dvc',\n",
       " 'v1/data/2024_Q3_from_2024-07-01-00_to_2024-09-30-23.parquet.dvc',\n",
       " 'v1/data/2024_Q4_from_2024-10-01-00_to_2024-12-31-23.parquet.dvc']\n",
       "</pre>\n"
      ],
      "text/plain": [
       "18:51:15.008 | \u001b[36mINFO\u001b[0m    | Task run 'initialize_chunk_index-af8' - ['v1/chunk_idx.parquet',\n",
       " 'v1/data/.gitignore',\n",
       " 'v1/data/2015_Q3_from_2015-07-01-00_to_2015-09-30-23.parquet.dvc',\n",
       " 'v1/data/2015_Q4_from_2015-10-01-00_to_2015-12-31-23.parquet.dvc',\n",
       " 'v1/data/2016_Q1_from_2016-01-01-00_to_2016-03-31-23.parquet.dvc',\n",
       " 'v1/data/2016_Q2_from_2016-04-01-00_to_2016-06-30-23.parquet.dvc',\n",
       " 'v1/data/2016_Q3_from_2016-07-01-00_to_2016-09-30-23.parquet.dvc',\n",
       " 'v1/data/2016_Q4_from_2016-10-01-00_to_2016-12-31-23.parquet.dvc',\n",
       " 'v1/data/2017_Q1_from_2017-01-01-00_to_2017-03-31-23.parquet.dvc',\n",
       " 'v1/data/2017_Q2_from_2017-04-01-00_to_2017-06-30-23.parquet.dvc',\n",
       " 'v1/data/2017_Q3_from_2017-07-01-00_to_2017-09-30-23.parquet.dvc',\n",
       " 'v1/data/2017_Q4_from_2017-10-01-00_to_2017-12-31-23.parquet.dvc',\n",
       " 'v1/data/2018_Q1_from_2018-01-01-00_to_2018-03-31-23.parquet.dvc',\n",
       " 'v1/data/2018_Q2_from_2018-04-01-00_to_2018-06-30-23.parquet.dvc',\n",
       " 'v1/data/2018_Q3_from_2018-07-01-00_to_2018-09-30-23.parquet.dvc',\n",
       " 'v1/data/2018_Q4_from_2018-10-01-00_to_2018-12-31-23.parquet.dvc',\n",
       " 'v1/data/2019_Q1_from_2019-01-01-00_to_2019-03-31-23.parquet.dvc',\n",
       " 'v1/data/2019_Q2_from_2019-04-01-00_to_2019-06-30-23.parquet.dvc',\n",
       " 'v1/data/2019_Q3_from_2019-07-01-00_to_2019-09-30-23.parquet.dvc',\n",
       " 'v1/data/2019_Q4_from_2019-10-01-00_to_2019-12-31-23.parquet.dvc',\n",
       " 'v1/data/2020_Q1_from_2020-01-01-00_to_2020-03-31-23.parquet.dvc',\n",
       " 'v1/data/2020_Q2_from_2020-04-01-00_to_2020-06-30-23.parquet.dvc',\n",
       " 'v1/data/2020_Q3_from_2020-07-01-00_to_2020-09-30-23.parquet.dvc',\n",
       " 'v1/data/2020_Q4_from_2020-10-01-00_to_2020-12-31-23.parquet.dvc',\n",
       " 'v1/data/2021_Q1_from_2021-01-01-00_to_2021-03-31-23.parquet.dvc',\n",
       " 'v1/data/2021_Q2_from_2021-04-01-00_to_2021-06-30-23.parquet.dvc',\n",
       " 'v1/data/2021_Q3_from_2021-07-01-00_to_2021-09-30-23.parquet.dvc',\n",
       " 'v1/data/2021_Q4_from_2021-10-01-00_to_2021-12-31-23.parquet.dvc',\n",
       " 'v1/data/2022_Q1_from_2022-01-01-00_to_2022-03-31-23.parquet.dvc',\n",
       " 'v1/data/2022_Q2_from_2022-04-01-00_to_2022-06-30-23.parquet.dvc',\n",
       " 'v1/data/2022_Q3_from_2022-07-01-00_to_2022-09-30-23.parquet.dvc',\n",
       " 'v1/data/2022_Q4_from_2022-10-01-00_to_2022-12-31-23.parquet.dvc',\n",
       " 'v1/data/2023_Q1_from_2023-01-01-00_to_2023-03-31-23.parquet.dvc',\n",
       " 'v1/data/2023_Q2_from_2023-04-01-00_to_2023-06-30-23.parquet.dvc',\n",
       " 'v1/data/2023_Q3_from_2023-07-01-00_to_2023-09-30-23.parquet.dvc',\n",
       " 'v1/data/2023_Q4_from_2023-10-01-00_to_2023-12-31-23.parquet.dvc',\n",
       " 'v1/data/2024_Q1_from_2024-01-01-00_to_2024-03-31-23.parquet.dvc',\n",
       " 'v1/data/2024_Q2_from_2024-04-01-00_to_2024-06-30-23.parquet.dvc',\n",
       " 'v1/data/2024_Q3_from_2024-07-01-00_to_2024-09-30-23.parquet.dvc',\n",
       " 'v1/data/2024_Q4_from_2024-10-01-00_to_2024-12-31-23.parquet.dvc']\n"
      ]
     },
     "metadata": {},
     "output_type": "display_data"
    }
   ],
   "source": [
    "etl()"
   ]
  },
  {
   "cell_type": "code",
   "execution_count": null,
   "id": "a3f1a66c-d216-479b-bfbe-e0a778b2ca1d",
   "metadata": {},
   "outputs": [],
   "source": []
  }
 ],
 "metadata": {
  "kernelspec": {
   "display_name": "Python 3 (ipykernel)",
   "language": "python",
   "name": "python3"
  },
  "language_info": {
   "codemirror_mode": {
    "name": "ipython",
    "version": 3
   },
   "file_extension": ".py",
   "mimetype": "text/x-python",
   "name": "python",
   "nbconvert_exporter": "python",
   "pygments_lexer": "ipython3",
   "version": "3.10.15"
  }
 },
 "nbformat": 4,
 "nbformat_minor": 5
}
