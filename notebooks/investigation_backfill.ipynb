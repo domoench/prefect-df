{
 "cells": [
  {
   "cell_type": "code",
   "execution_count": 2,
   "id": "93d14a66-fbb8-4d31-91ae-552388ca6077",
   "metadata": {},
   "outputs": [],
   "source": [
    "%load_ext autoreload\n",
    "%autoreload 2"
   ]
  },
  {
   "cell_type": "code",
   "execution_count": 34,
   "id": "8d50d3bc-c7c7-4434-b3b3-47a45c54061b",
   "metadata": {},
   "outputs": [],
   "source": [
    "import pandas as pd\n",
    "import os\n",
    "from prefect import flow\n",
    "from core.types import DVCDatasetInfo, ModelFeatureFlags\n",
    "from core.consts import EIA_TEST_SET_HOURS, EIA_EARLIEST_HOUR_UTC\n",
    "from core.utils import utcnow_minus_buffer_ts\n",
    "from core.data import get_dvc_remote_repo_url\n",
    "from flows.train_model_flow import train_model"
   ]
  },
  {
   "cell_type": "code",
   "execution_count": 35,
   "id": "7764449d-66fc-47ce-9198-10fea509084c",
   "metadata": {},
   "outputs": [
    {
     "data": {
      "text/html": [
       "<pre style=\"white-space:pre;overflow-x:auto;line-height:normal;font-family:Menlo,'DejaVu Sans Mono',consolas,'Courier New',monospace\">20:04:41.392 | <span style=\"color: #008080; text-decoration-color: #008080\">INFO</span>    | prefect.engine - Created flow run<span style=\"color: #800080; text-decoration-color: #800080\"> 'tacky-lyrebird'</span> for flow<span style=\"color: #800080; text-decoration-color: #800080; font-weight: bold\"> 'run-train-model-flow'</span>\n",
       "</pre>\n"
      ],
      "text/plain": [
       "20:04:41.392 | \u001b[36mINFO\u001b[0m    | prefect.engine - Created flow run\u001b[35m 'tacky-lyrebird'\u001b[0m for flow\u001b[1;35m 'run-train-model-flow'\u001b[0m\n"
      ]
     },
     "metadata": {},
     "output_type": "display_data"
    },
    {
     "data": {
      "text/html": [
       "<pre style=\"white-space:pre;overflow-x:auto;line-height:normal;font-family:Menlo,'DejaVu Sans Mono',consolas,'Courier New',monospace\">20:04:41.397 | <span style=\"color: #008080; text-decoration-color: #008080\">INFO</span>    | prefect.engine - View at <span style=\"color: #0000ff; text-decoration-color: #0000ff\">https://app.prefect.cloud/account/914106c7-cc3b-4c5c-99f4-915f39352746/workspace/d3b27b3d-41ca-47a0-9b5b-2eebd92a4b25/runs/flow-run/35b49886-52f2-4cf1-829a-78f681c4181e</span>\n",
       "</pre>\n"
      ],
      "text/plain": [
       "20:04:41.397 | \u001b[36mINFO\u001b[0m    | prefect.engine - View at \u001b[94mhttps://app.prefect.cloud/account/914106c7-cc3b-4c5c-99f4-915f39352746/workspace/d3b27b3d-41ca-47a0-9b5b-2eebd92a4b25/runs/flow-run/35b49886-52f2-4cf1-829a-78f681c4181e\u001b[0m\n"
      ]
     },
     "metadata": {},
     "output_type": "display_data"
    },
    {
     "data": {
      "text/html": [
       "<pre style=\"white-space:pre;overflow-x:auto;line-height:normal;font-family:Menlo,'DejaVu Sans Mono',consolas,'Courier New',monospace\">20:04:42.199 | <span style=\"color: #008080; text-decoration-color: #008080\">INFO</span>    | Flow run<span style=\"color: #800080; text-decoration-color: #800080\"> 'tacky-lyrebird'</span> - Created subflow run<span style=\"color: #800080; text-decoration-color: #800080\"> 'energetic-turkey'</span> for flow<span style=\"color: #800080; text-decoration-color: #800080; font-weight: bold\"> 'train-model'</span>\n",
       "</pre>\n"
      ],
      "text/plain": [
       "20:04:42.199 | \u001b[36mINFO\u001b[0m    | Flow run\u001b[35m 'tacky-lyrebird'\u001b[0m - Created subflow run\u001b[35m 'energetic-turkey'\u001b[0m for flow\u001b[1;35m 'train-model'\u001b[0m\n"
      ]
     },
     "metadata": {},
     "output_type": "display_data"
    },
    {
     "data": {
      "text/html": [
       "<pre style=\"white-space:pre;overflow-x:auto;line-height:normal;font-family:Menlo,'DejaVu Sans Mono',consolas,'Courier New',monospace\">20:04:42.205 | <span style=\"color: #008080; text-decoration-color: #008080\">INFO</span>    | prefect.engine - View at <span style=\"color: #0000ff; text-decoration-color: #0000ff\">https://app.prefect.cloud/account/914106c7-cc3b-4c5c-99f4-915f39352746/workspace/d3b27b3d-41ca-47a0-9b5b-2eebd92a4b25/runs/flow-run/0c8c1e9b-02b1-4b40-b944-682b28ca3328</span>\n",
       "</pre>\n"
      ],
      "text/plain": [
       "20:04:42.205 | \u001b[36mINFO\u001b[0m    | prefect.engine - View at \u001b[94mhttps://app.prefect.cloud/account/914106c7-cc3b-4c5c-99f4-915f39352746/workspace/d3b27b3d-41ca-47a0-9b5b-2eebd92a4b25/runs/flow-run/0c8c1e9b-02b1-4b40-b944-682b28ca3328\u001b[0m\n"
      ]
     },
     "metadata": {},
     "output_type": "display_data"
    },
    {
     "data": {
      "application/vnd.jupyter.widget-view+json": {
       "model_id": "d4d32d9d939c4cc5a2888f31495e0cf7",
       "version_major": 2,
       "version_minor": 0
      },
      "text/plain": [
       "Calculating Metrics:   0%|          | 0/15 [00:00<?, ?it/s]"
      ]
     },
     "metadata": {},
     "output_type": "display_data"
    },
    {
     "name": "stdout",
     "output_type": "stream",
     "text": [
      "GX Validation success: suite:etl\n",
      "PRE-BACKFILL DATAFRAME\n",
      "Dataframe info:\n",
      "<class 'pandas.core.frame.DataFrame'>\n",
      "DatetimeIndex: 24529 entries, 2022-01-01 00:00:00+00:00 to 2024-10-19 00:00:00+00:00\n",
      "Data columns (total 1 columns):\n",
      " #   Column  Non-Null Count  Dtype  \n",
      "---  ------  --------------  -----  \n",
      " 0   D       24459 non-null  float64\n",
      "dtypes: float64(1)\n",
      "memory usage: 383.3 KB\n",
      "\n",
      "Dataframe summary:\n",
      "                                 D\n",
      "utc_ts                            \n",
      "2022-01-01 00:00:00+00:00  86665.0\n",
      "2022-01-01 01:00:00+00:00  84516.0\n",
      "2022-01-01 02:00:00+00:00  81848.0\n",
      "2022-01-01 03:00:00+00:00  79441.0\n",
      "2022-01-01 04:00:00+00:00  76489.0\n",
      "...                            ...\n",
      "2024-10-18 20:00:00+00:00  81956.0\n",
      "2024-10-18 21:00:00+00:00  82417.0\n",
      "2024-10-18 22:00:00+00:00  83010.0\n",
      "2024-10-18 23:00:00+00:00  83991.0\n",
      "2024-10-19 00:00:00+00:00  84789.0\n",
      "\n",
      "[24529 rows x 1 columns]\n",
      "\n"
     ]
    },
    {
     "data": {
      "text/html": [
       "<pre style=\"white-space:pre;overflow-x:auto;line-height:normal;font-family:Menlo,'DejaVu Sans Mono',consolas,'Courier New',monospace\">20:04:43.317 | <span style=\"color: #008080; text-decoration-color: #008080\">INFO</span>    | Task run 'add_lag_backfill_data-06d' - Created task run 'add_lag_backfill_data-06d' for task 'add_lag_backfill_data'\n",
       "</pre>\n"
      ],
      "text/plain": [
       "20:04:43.317 | \u001b[36mINFO\u001b[0m    | Task run 'add_lag_backfill_data-06d' - Created task run 'add_lag_backfill_data-06d' for task 'add_lag_backfill_data'\n"
      ]
     },
     "metadata": {},
     "output_type": "display_data"
    },
    {
     "name": "stdout",
     "output_type": "stream",
     "text": [
      "Fetching lag data. start:2019-01-05 00:00:00+00:00. end:2022-01-01 00:00:00+00:00. Delta:1092 days 00:00:00\n"
     ]
    },
    {
     "data": {
      "text/html": [
       "<pre style=\"white-space:pre;overflow-x:auto;line-height:normal;font-family:Menlo,'DejaVu Sans Mono',consolas,'Courier New',monospace\">20:04:43.344 | <span style=\"color: #008080; text-decoration-color: #008080\">INFO</span>    | Task run 'concurrent_fetch_EIA_data-a10' - Created task run 'concurrent_fetch_EIA_data-a10' for task 'concurrent_fetch_EIA_data'\n",
       "</pre>\n"
      ],
      "text/plain": [
       "20:04:43.344 | \u001b[36mINFO\u001b[0m    | Task run 'concurrent_fetch_EIA_data-a10' - Created task run 'concurrent_fetch_EIA_data-a10' for task 'concurrent_fetch_EIA_data'\n"
      ]
     },
     "metadata": {},
     "output_type": "display_data"
    },
    {
     "name": "stdout",
     "output_type": "stream",
     "text": [
      "Fetching API page. offset:0. length:5000\n",
      "Total records to fetch: 26209\n",
      "('Fetching 26208 hours of data: 26209 records.\\n', 'Start: 2019-01-05 00:00:00+00:00. End: 2022-01-01 00:00:00+00:00')\n",
      "Will make 5 5000-length requests and one 1209-length request.\n"
     ]
    },
    {
     "data": {
      "text/html": [
       "<pre style=\"white-space:pre;overflow-x:auto;line-height:normal;font-family:Menlo,'DejaVu Sans Mono',consolas,'Courier New',monospace\">20:04:46.667 | <span style=\"color: #008080; text-decoration-color: #008080\">INFO</span>    | Task run 'concurrent_fetch_EIA_data-a10' - Submitting task get_eia_data_as_df to thread pool executor...\n",
       "</pre>\n"
      ],
      "text/plain": [
       "20:04:46.667 | \u001b[36mINFO\u001b[0m    | Task run 'concurrent_fetch_EIA_data-a10' - Submitting task get_eia_data_as_df to thread pool executor...\n"
      ]
     },
     "metadata": {},
     "output_type": "display_data"
    },
    {
     "data": {
      "text/html": [
       "<pre style=\"white-space:pre;overflow-x:auto;line-height:normal;font-family:Menlo,'DejaVu Sans Mono',consolas,'Courier New',monospace\">20:04:46.679 | <span style=\"color: #008080; text-decoration-color: #008080\">INFO</span>    | Task run 'concurrent_fetch_EIA_data-a10' - Submitting task get_eia_data_as_df to thread pool executor...\n",
       "</pre>\n"
      ],
      "text/plain": [
       "20:04:46.679 | \u001b[36mINFO\u001b[0m    | Task run 'concurrent_fetch_EIA_data-a10' - Submitting task get_eia_data_as_df to thread pool executor...\n"
      ]
     },
     "metadata": {},
     "output_type": "display_data"
    },
    {
     "data": {
      "text/html": [
       "<pre style=\"white-space:pre;overflow-x:auto;line-height:normal;font-family:Menlo,'DejaVu Sans Mono',consolas,'Courier New',monospace\">20:04:46.683 | <span style=\"color: #008080; text-decoration-color: #008080\">INFO</span>    | Task run 'concurrent_fetch_EIA_data-a10' - Submitting task get_eia_data_as_df to thread pool executor...\n",
       "</pre>\n"
      ],
      "text/plain": [
       "20:04:46.683 | \u001b[36mINFO\u001b[0m    | Task run 'concurrent_fetch_EIA_data-a10' - Submitting task get_eia_data_as_df to thread pool executor...\n"
      ]
     },
     "metadata": {},
     "output_type": "display_data"
    },
    {
     "data": {
      "text/html": [
       "<pre style=\"white-space:pre;overflow-x:auto;line-height:normal;font-family:Menlo,'DejaVu Sans Mono',consolas,'Courier New',monospace\">20:04:46.686 | <span style=\"color: #008080; text-decoration-color: #008080\">INFO</span>    | Task run 'concurrent_fetch_EIA_data-a10' - Submitting task get_eia_data_as_df to thread pool executor...\n",
       "</pre>\n"
      ],
      "text/plain": [
       "20:04:46.686 | \u001b[36mINFO\u001b[0m    | Task run 'concurrent_fetch_EIA_data-a10' - Submitting task get_eia_data_as_df to thread pool executor...\n"
      ]
     },
     "metadata": {},
     "output_type": "display_data"
    },
    {
     "data": {
      "text/html": [
       "<pre style=\"white-space:pre;overflow-x:auto;line-height:normal;font-family:Menlo,'DejaVu Sans Mono',consolas,'Courier New',monospace\">20:04:46.690 | <span style=\"color: #008080; text-decoration-color: #008080\">INFO</span>    | Task run 'concurrent_fetch_EIA_data-a10' - Submitting task get_eia_data_as_df to thread pool executor...\n",
       "</pre>\n"
      ],
      "text/plain": [
       "20:04:46.690 | \u001b[36mINFO\u001b[0m    | Task run 'concurrent_fetch_EIA_data-a10' - Submitting task get_eia_data_as_df to thread pool executor...\n"
      ]
     },
     "metadata": {},
     "output_type": "display_data"
    },
    {
     "data": {
      "text/html": [
       "<pre style=\"white-space:pre;overflow-x:auto;line-height:normal;font-family:Menlo,'DejaVu Sans Mono',consolas,'Courier New',monospace\">20:04:46.693 | <span style=\"color: #008080; text-decoration-color: #008080\">INFO</span>    | Task run 'concurrent_fetch_EIA_data-a10' - Submitting task get_eia_data_as_df to thread pool executor...\n",
       "</pre>\n"
      ],
      "text/plain": [
       "20:04:46.693 | \u001b[36mINFO\u001b[0m    | Task run 'concurrent_fetch_EIA_data-a10' - Submitting task get_eia_data_as_df to thread pool executor...\n"
      ]
     },
     "metadata": {},
     "output_type": "display_data"
    },
    {
     "data": {
      "text/html": [
       "<pre style=\"white-space:pre;overflow-x:auto;line-height:normal;font-family:Menlo,'DejaVu Sans Mono',consolas,'Courier New',monospace\">20:04:46.811 | <span style=\"color: #008080; text-decoration-color: #008080\">INFO</span>    | Task run 'get_eia_data_as_df-fd6' - Created task run 'get_eia_data_as_df-fd6' for task 'get_eia_data_as_df'\n",
       "</pre>\n"
      ],
      "text/plain": [
       "20:04:46.811 | \u001b[36mINFO\u001b[0m    | Task run 'get_eia_data_as_df-fd6' - Created task run 'get_eia_data_as_df-fd6' for task 'get_eia_data_as_df'\n"
      ]
     },
     "metadata": {},
     "output_type": "display_data"
    },
    {
     "data": {
      "text/html": [
       "<pre style=\"white-space:pre;overflow-x:auto;line-height:normal;font-family:Menlo,'DejaVu Sans Mono',consolas,'Courier New',monospace\">20:04:46.814 | <span style=\"color: #008080; text-decoration-color: #008080\">INFO</span>    | Task run 'get_eia_data_as_df-da2' - Created task run 'get_eia_data_as_df-da2' for task 'get_eia_data_as_df'\n",
       "</pre>\n"
      ],
      "text/plain": [
       "20:04:46.814 | \u001b[36mINFO\u001b[0m    | Task run 'get_eia_data_as_df-da2' - Created task run 'get_eia_data_as_df-da2' for task 'get_eia_data_as_df'\n"
      ]
     },
     "metadata": {},
     "output_type": "display_data"
    },
    {
     "data": {
      "text/html": [
       "<pre style=\"white-space:pre;overflow-x:auto;line-height:normal;font-family:Menlo,'DejaVu Sans Mono',consolas,'Courier New',monospace\">20:04:46.814 | <span style=\"color: #008080; text-decoration-color: #008080\">INFO</span>    | Task run 'get_eia_data_as_df-179' - Created task run 'get_eia_data_as_df-179' for task 'get_eia_data_as_df'\n",
       "</pre>\n"
      ],
      "text/plain": [
       "20:04:46.814 | \u001b[36mINFO\u001b[0m    | Task run 'get_eia_data_as_df-179' - Created task run 'get_eia_data_as_df-179' for task 'get_eia_data_as_df'\n"
      ]
     },
     "metadata": {},
     "output_type": "display_data"
    },
    {
     "data": {
      "text/html": [
       "<pre style=\"white-space:pre;overflow-x:auto;line-height:normal;font-family:Menlo,'DejaVu Sans Mono',consolas,'Courier New',monospace\">20:04:46.815 | <span style=\"color: #008080; text-decoration-color: #008080\">INFO</span>    | Task run 'get_eia_data_as_df-cfd' - Created task run 'get_eia_data_as_df-cfd' for task 'get_eia_data_as_df'\n",
       "</pre>\n"
      ],
      "text/plain": [
       "20:04:46.815 | \u001b[36mINFO\u001b[0m    | Task run 'get_eia_data_as_df-cfd' - Created task run 'get_eia_data_as_df-cfd' for task 'get_eia_data_as_df'\n"
      ]
     },
     "metadata": {},
     "output_type": "display_data"
    },
    {
     "name": "stdout",
     "output_type": "stream",
     "text": [
      "Fetching API page. offset:0. length:5000Fetching API page. offset:15000. length:5000"
     ]
    },
    {
     "data": {
      "text/html": [
       "<pre style=\"white-space:pre;overflow-x:auto;line-height:normal;font-family:Menlo,'DejaVu Sans Mono',consolas,'Courier New',monospace\">20:04:46.815 | <span style=\"color: #008080; text-decoration-color: #008080\">INFO</span>    | Task run 'get_eia_data_as_df-cb9' - Created task run 'get_eia_data_as_df-cb9' for task 'get_eia_data_as_df'\n",
       "</pre>\n"
      ],
      "text/plain": [
       "20:04:46.815 | \u001b[36mINFO\u001b[0m    | Task run 'get_eia_data_as_df-cb9' - Created task run 'get_eia_data_as_df-cb9' for task 'get_eia_data_as_df'\n"
      ]
     },
     "metadata": {},
     "output_type": "display_data"
    },
    {
     "name": "stdout",
     "output_type": "stream",
     "text": [
      "\n",
      "\n",
      "Fetching API page. offset:5000. length:5000\n",
      "Fetching API page. offset:20000. length:5000"
     ]
    },
    {
     "data": {
      "text/html": [
       "<pre style=\"white-space:pre;overflow-x:auto;line-height:normal;font-family:Menlo,'DejaVu Sans Mono',consolas,'Courier New',monospace\">20:04:46.815 | <span style=\"color: #008080; text-decoration-color: #008080\">INFO</span>    | Task run 'get_eia_data_as_df-7c7' - Created task run 'get_eia_data_as_df-7c7' for task 'get_eia_data_as_df'\n",
       "</pre>\n"
      ],
      "text/plain": [
       "20:04:46.815 | \u001b[36mINFO\u001b[0m    | Task run 'get_eia_data_as_df-7c7' - Created task run 'get_eia_data_as_df-7c7' for task 'get_eia_data_as_df'\n"
      ]
     },
     "metadata": {},
     "output_type": "display_data"
    },
    {
     "name": "stdout",
     "output_type": "stream",
     "text": [
      "\n",
      "Fetching API page. offset:25000. length:1209Fetching API page. offset:10000. length:5000\n",
      "\n"
     ]
    },
    {
     "data": {
      "text/html": [
       "<pre style=\"white-space:pre;overflow-x:auto;line-height:normal;font-family:Menlo,'DejaVu Sans Mono',consolas,'Courier New',monospace\">20:04:48.791 | <span style=\"color: #008080; text-decoration-color: #008080\">INFO</span>    | Task run 'get_eia_data_as_df-fd6' - Finished in state <span style=\"color: #008000; text-decoration-color: #008000\">Completed</span>()\n",
       "</pre>\n"
      ],
      "text/plain": [
       "20:04:48.791 | \u001b[36mINFO\u001b[0m    | Task run 'get_eia_data_as_df-fd6' - Finished in state \u001b[32mCompleted\u001b[0m()\n"
      ]
     },
     "metadata": {},
     "output_type": "display_data"
    },
    {
     "data": {
      "text/html": [
       "<pre style=\"white-space:pre;overflow-x:auto;line-height:normal;font-family:Menlo,'DejaVu Sans Mono',consolas,'Courier New',monospace\">20:04:48.795 | <span style=\"color: #008080; text-decoration-color: #008080\">INFO</span>    | Task run 'get_eia_data_as_df-cb9' - Finished in state <span style=\"color: #008000; text-decoration-color: #008000\">Completed</span>()\n",
       "</pre>\n"
      ],
      "text/plain": [
       "20:04:48.795 | \u001b[36mINFO\u001b[0m    | Task run 'get_eia_data_as_df-cb9' - Finished in state \u001b[32mCompleted\u001b[0m()\n"
      ]
     },
     "metadata": {},
     "output_type": "display_data"
    },
    {
     "data": {
      "text/html": [
       "<pre style=\"white-space:pre;overflow-x:auto;line-height:normal;font-family:Menlo,'DejaVu Sans Mono',consolas,'Courier New',monospace\">20:04:49.256 | <span style=\"color: #008080; text-decoration-color: #008080\">INFO</span>    | Task run 'get_eia_data_as_df-179' - Finished in state <span style=\"color: #008000; text-decoration-color: #008000\">Completed</span>()\n",
       "</pre>\n"
      ],
      "text/plain": [
       "20:04:49.256 | \u001b[36mINFO\u001b[0m    | Task run 'get_eia_data_as_df-179' - Finished in state \u001b[32mCompleted\u001b[0m()\n"
      ]
     },
     "metadata": {},
     "output_type": "display_data"
    },
    {
     "data": {
      "text/html": [
       "<pre style=\"white-space:pre;overflow-x:auto;line-height:normal;font-family:Menlo,'DejaVu Sans Mono',consolas,'Courier New',monospace\">20:04:49.279 | <span style=\"color: #008080; text-decoration-color: #008080\">INFO</span>    | Task run 'get_eia_data_as_df-cfd' - Finished in state <span style=\"color: #008000; text-decoration-color: #008000\">Completed</span>()\n",
       "</pre>\n"
      ],
      "text/plain": [
       "20:04:49.279 | \u001b[36mINFO\u001b[0m    | Task run 'get_eia_data_as_df-cfd' - Finished in state \u001b[32mCompleted\u001b[0m()\n"
      ]
     },
     "metadata": {},
     "output_type": "display_data"
    },
    {
     "data": {
      "text/html": [
       "<pre style=\"white-space:pre;overflow-x:auto;line-height:normal;font-family:Menlo,'DejaVu Sans Mono',consolas,'Courier New',monospace\">20:04:49.460 | <span style=\"color: #008080; text-decoration-color: #008080\">INFO</span>    | Task run 'get_eia_data_as_df-7c7' - Finished in state <span style=\"color: #008000; text-decoration-color: #008000\">Completed</span>()\n",
       "</pre>\n"
      ],
      "text/plain": [
       "20:04:49.460 | \u001b[36mINFO\u001b[0m    | Task run 'get_eia_data_as_df-7c7' - Finished in state \u001b[32mCompleted\u001b[0m()\n"
      ]
     },
     "metadata": {},
     "output_type": "display_data"
    },
    {
     "data": {
      "text/html": [
       "<pre style=\"white-space:pre;overflow-x:auto;line-height:normal;font-family:Menlo,'DejaVu Sans Mono',consolas,'Courier New',monospace\">20:04:50.329 | <span style=\"color: #008080; text-decoration-color: #008080\">INFO</span>    | Task run 'get_eia_data_as_df-da2' - Finished in state <span style=\"color: #008000; text-decoration-color: #008000\">Completed</span>()\n",
       "</pre>\n"
      ],
      "text/plain": [
       "20:04:50.329 | \u001b[36mINFO\u001b[0m    | Task run 'get_eia_data_as_df-da2' - Finished in state \u001b[32mCompleted\u001b[0m()\n"
      ]
     },
     "metadata": {},
     "output_type": "display_data"
    },
    {
     "data": {
      "text/html": [
       "<pre style=\"white-space:pre;overflow-x:auto;line-height:normal;font-family:Menlo,'DejaVu Sans Mono',consolas,'Courier New',monospace\">20:04:50.342 | <span style=\"color: #008080; text-decoration-color: #008080\">INFO</span>    | Task run 'concurrent_fetch_EIA_data-a10' - Finished in state <span style=\"color: #008000; text-decoration-color: #008000\">Completed</span>()\n",
       "</pre>\n"
      ],
      "text/plain": [
       "20:04:50.342 | \u001b[36mINFO\u001b[0m    | Task run 'concurrent_fetch_EIA_data-a10' - Finished in state \u001b[32mCompleted\u001b[0m()\n"
      ]
     },
     "metadata": {},
     "output_type": "display_data"
    },
    {
     "name": "stdout",
     "output_type": "stream",
     "text": [
      "[add_lag_backfill_data] PRE-TRANSFORM LEN: 26209\n"
     ]
    },
    {
     "data": {
      "text/html": [
       "<pre style=\"white-space:pre;overflow-x:auto;line-height:normal;font-family:Menlo,'DejaVu Sans Mono',consolas,'Courier New',monospace\">20:04:50.371 | <span style=\"color: #008080; text-decoration-color: #008080\">INFO</span>    | Task run 'transform-85e' - Created task run 'transform-85e' for task 'transform'\n",
       "</pre>\n"
      ],
      "text/plain": [
       "20:04:50.371 | \u001b[36mINFO\u001b[0m    | Task run 'transform-85e' - Created task run 'transform-85e' for task 'transform'\n"
      ]
     },
     "metadata": {},
     "output_type": "display_data"
    },
    {
     "name": "stdout",
     "output_type": "stream",
     "text": [
      "Transforming timeseries.\n",
      "Dataframe info:\n",
      "<class 'pandas.core.frame.DataFrame'>\n",
      "DatetimeIndex: 26209 entries, 2019-01-05 00:00:00+00:00 to 2022-01-01 00:00:00+00:00\n",
      "Data columns (total 1 columns):\n",
      " #   Column  Non-Null Count  Dtype  \n",
      "---  ------  --------------  -----  \n",
      " 0   D       26162 non-null  float64\n",
      "dtypes: float64(1)\n",
      "memory usage: 409.5 KB\n",
      "\n",
      "Dataframe summary:\n",
      "                                 D\n",
      "utc_ts                            \n",
      "2019-01-05 00:00:00+00:00  98880.0\n",
      "2019-01-05 01:00:00+00:00  97204.0\n",
      "2019-01-05 02:00:00+00:00  95065.0\n",
      "2019-01-05 03:00:00+00:00  92189.0\n",
      "2019-01-05 04:00:00+00:00  88575.0\n",
      "...                            ...\n",
      "2021-12-31 20:00:00+00:00  80870.0\n",
      "2021-12-31 21:00:00+00:00  80981.0\n",
      "2021-12-31 22:00:00+00:00  83127.0\n",
      "2021-12-31 23:00:00+00:00  87170.0\n",
      "2022-01-01 00:00:00+00:00  86665.0\n",
      "\n",
      "[26209 rows x 1 columns]\n",
      "\n"
     ]
    },
    {
     "data": {
      "text/html": [
       "<pre style=\"white-space:pre;overflow-x:auto;line-height:normal;font-family:Menlo,'DejaVu Sans Mono',consolas,'Courier New',monospace\">20:04:50.451 | <span style=\"color: #008080; text-decoration-color: #008080\">INFO</span>    | Task run 'transform-85e' - Finished in state <span style=\"color: #008000; text-decoration-color: #008000\">Completed</span>()\n",
       "</pre>\n"
      ],
      "text/plain": [
       "20:04:50.451 | \u001b[36mINFO\u001b[0m    | Task run 'transform-85e' - Finished in state \u001b[32mCompleted\u001b[0m()\n"
      ]
     },
     "metadata": {},
     "output_type": "display_data"
    },
    {
     "name": "stdout",
     "output_type": "stream",
     "text": [
      "[add_lag_backfill_data] POST-TRANSFORM LEN: 26209\n"
     ]
    },
    {
     "data": {
      "text/html": [
       "<pre style=\"white-space:pre;overflow-x:auto;line-height:normal;font-family:Menlo,'DejaVu Sans Mono',consolas,'Courier New',monospace\">20:04:50.583 | <span style=\"color: #008080; text-decoration-color: #008080\">INFO</span>    | Task run 'add_lag_backfill_data-06d' - Finished in state <span style=\"color: #008000; text-decoration-color: #008000\">Completed</span>()\n",
       "</pre>\n"
      ],
      "text/plain": [
       "20:04:50.583 | \u001b[36mINFO\u001b[0m    | Task run 'add_lag_backfill_data-06d' - Finished in state \u001b[32mCompleted\u001b[0m()\n"
      ]
     },
     "metadata": {},
     "output_type": "display_data"
    },
    {
     "name": "stdout",
     "output_type": "stream",
     "text": [
      "POST-BACKFILL DATAFRAME\n",
      "Dataframe info:\n",
      "<class 'pandas.core.frame.DataFrame'>\n",
      "DatetimeIndex: 50737 entries, 2019-01-05 00:00:00+00:00 to 2024-10-19 00:00:00+00:00\n",
      "Data columns (total 1 columns):\n",
      " #   Column  Non-Null Count  Dtype  \n",
      "---  ------  --------------  -----  \n",
      " 0   D       50620 non-null  float64\n",
      "dtypes: float64(1)\n",
      "memory usage: 2.8 MB\n",
      "\n",
      "Dataframe summary:\n",
      "                                 D\n",
      "utc_ts                            \n",
      "2019-01-05 00:00:00+00:00  98880.0\n",
      "2019-01-05 01:00:00+00:00  97204.0\n",
      "2019-01-05 02:00:00+00:00  95065.0\n",
      "2019-01-05 03:00:00+00:00  92189.0\n",
      "2019-01-05 04:00:00+00:00  88575.0\n",
      "...                            ...\n",
      "2024-10-18 20:00:00+00:00  81956.0\n",
      "2024-10-18 21:00:00+00:00  82417.0\n",
      "2024-10-18 22:00:00+00:00  83010.0\n",
      "2024-10-18 23:00:00+00:00  83991.0\n",
      "2024-10-19 00:00:00+00:00  84789.0\n",
      "\n",
      "[50737 rows x 1 columns]\n",
      "\n"
     ]
    },
    {
     "data": {
      "text/html": [
       "<pre style=\"white-space:pre;overflow-x:auto;line-height:normal;font-family:Menlo,'DejaVu Sans Mono',consolas,'Courier New',monospace\">20:04:50.621 | <span style=\"color: #008080; text-decoration-color: #008080\">INFO</span>    | Task run 'preprocess_data-b94' - Created task run 'preprocess_data-b94' for task 'preprocess_data'\n",
       "</pre>\n"
      ],
      "text/plain": [
       "20:04:50.621 | \u001b[36mINFO\u001b[0m    | Task run 'preprocess_data-b94' - Created task run 'preprocess_data-b94' for task 'preprocess_data'\n"
      ]
     },
     "metadata": {},
     "output_type": "display_data"
    },
    {
     "data": {
      "text/html": [
       "<pre style=\"white-space:pre;overflow-x:auto;line-height:normal;font-family:Menlo,'DejaVu Sans Mono',consolas,'Courier New',monospace\">20:04:50.648 | <span style=\"color: #008080; text-decoration-color: #008080\">INFO</span>    | Task run 'clean_data-6b7' - Created task run 'clean_data-6b7' for task 'clean_data'\n",
       "</pre>\n"
      ],
      "text/plain": [
       "20:04:50.648 | \u001b[36mINFO\u001b[0m    | Task run 'clean_data-6b7' - Created task run 'clean_data-6b7' for task 'clean_data'\n"
      ]
     },
     "metadata": {},
     "output_type": "display_data"
    },
    {
     "name": "stdout",
     "output_type": "stream",
     "text": [
      "Input data skew: 160.0620412372387\n",
      "Output data skew: 0.8545978138105746\n",
      "Null demand values: 117\n"
     ]
    },
    {
     "data": {
      "text/html": [
       "<pre style=\"white-space:pre;overflow-x:auto;line-height:normal;font-family:Menlo,'DejaVu Sans Mono',consolas,'Courier New',monospace\">20:04:51.290 | <span style=\"color: #008080; text-decoration-color: #008080\">INFO</span>    | Task run 'clean_data-6b7' - Finished in state <span style=\"color: #008000; text-decoration-color: #008000\">Completed</span>()\n",
       "</pre>\n"
      ],
      "text/plain": [
       "20:04:51.290 | \u001b[36mINFO\u001b[0m    | Task run 'clean_data-6b7' - Finished in state \u001b[32mCompleted\u001b[0m()\n"
      ]
     },
     "metadata": {},
     "output_type": "display_data"
    },
    {
     "data": {
      "text/html": [
       "<pre style=\"white-space:pre;overflow-x:auto;line-height:normal;font-family:Menlo,'DejaVu Sans Mono',consolas,'Courier New',monospace\">20:04:51.312 | <span style=\"color: #008080; text-decoration-color: #008080\">INFO</span>    | Task run 'features-400' - Created task run 'features-400' for task 'features'\n",
       "</pre>\n"
      ],
      "text/plain": [
       "20:04:51.312 | \u001b[36mINFO\u001b[0m    | Task run 'features-400' - Created task run 'features-400' for task 'features'\n"
      ]
     },
     "metadata": {},
     "output_type": "display_data"
    },
    {
     "name": "stdout",
     "output_type": "stream",
     "text": [
      "                                 D  hour  month  year  quarter  dayofweek  \\\n",
      "utc_ts                                                                      \n",
      "2019-01-05 00:00:00+00:00  98880.0     0      1  2019        1          5   \n",
      "2019-01-05 01:00:00+00:00  97204.0     1      1  2019        1          5   \n",
      "2019-01-05 02:00:00+00:00  95065.0     2      1  2019        1          5   \n",
      "2019-01-05 03:00:00+00:00  92189.0     3      1  2019        1          5   \n",
      "2019-01-05 04:00:00+00:00  88575.0     4      1  2019        1          5   \n",
      "...                            ...   ...    ...   ...      ...        ...   \n",
      "2024-10-18 20:00:00+00:00  81956.0    20     10  2024        4          4   \n",
      "2024-10-18 21:00:00+00:00  82417.0    21     10  2024        4          4   \n",
      "2024-10-18 22:00:00+00:00  83010.0    22     10  2024        4          4   \n",
      "2024-10-18 23:00:00+00:00  83991.0    23     10  2024        4          4   \n",
      "2024-10-19 00:00:00+00:00  84789.0     0     10  2024        4          5   \n",
      "\n",
      "                           dayofmonth  dayofyear   lag_1y   lag_2y   lag_3y  \\\n",
      "utc_ts                                                                        \n",
      "2019-01-05 00:00:00+00:00           5          5      NaN      NaN      NaN   \n",
      "2019-01-05 01:00:00+00:00           5          5      NaN      NaN      NaN   \n",
      "2019-01-05 02:00:00+00:00           5          5      NaN      NaN      NaN   \n",
      "2019-01-05 03:00:00+00:00           5          5      NaN      NaN      NaN   \n",
      "2019-01-05 04:00:00+00:00           5          5      NaN      NaN      NaN   \n",
      "...                               ...        ...      ...      ...      ...   \n",
      "2024-10-18 20:00:00+00:00          18        292  82387.0  82160.0  81960.0   \n",
      "2024-10-18 21:00:00+00:00          18        292  82514.0  81371.0  82198.0   \n",
      "2024-10-18 22:00:00+00:00          18        292  83199.0  81522.0  82434.0   \n",
      "2024-10-18 23:00:00+00:00          18        292  84055.0  82645.0  83370.0   \n",
      "2024-10-19 00:00:00+00:00          19        293  84164.0  83673.0  83467.0   \n",
      "\n",
      "                           is_holiday  \n",
      "utc_ts                                 \n",
      "2019-01-05 00:00:00+00:00           0  \n",
      "2019-01-05 01:00:00+00:00           0  \n",
      "2019-01-05 02:00:00+00:00           0  \n",
      "2019-01-05 03:00:00+00:00           0  \n",
      "2019-01-05 04:00:00+00:00           0  \n",
      "...                               ...  \n",
      "2024-10-18 20:00:00+00:00           0  \n",
      "2024-10-18 21:00:00+00:00           0  \n",
      "2024-10-18 22:00:00+00:00           0  \n",
      "2024-10-18 23:00:00+00:00           0  \n",
      "2024-10-19 00:00:00+00:00           0  \n",
      "\n",
      "[50737 rows x 12 columns]\n"
     ]
    },
    {
     "data": {
      "text/html": [
       "<pre style=\"white-space:pre;overflow-x:auto;line-height:normal;font-family:Menlo,'DejaVu Sans Mono',consolas,'Courier New',monospace\">20:04:51.568 | <span style=\"color: #008080; text-decoration-color: #008080\">INFO</span>    | Task run 'features-400' - Finished in state <span style=\"color: #008000; text-decoration-color: #008000\">Completed</span>()\n",
       "</pre>\n"
      ],
      "text/plain": [
       "20:04:51.568 | \u001b[36mINFO\u001b[0m    | Task run 'features-400' - Finished in state \u001b[32mCompleted\u001b[0m()\n"
      ]
     },
     "metadata": {},
     "output_type": "display_data"
    },
    {
     "data": {
      "text/html": [
       "<pre style=\"white-space:pre;overflow-x:auto;line-height:normal;font-family:Menlo,'DejaVu Sans Mono',consolas,'Courier New',monospace\">20:04:51.573 | <span style=\"color: #008080; text-decoration-color: #008080\">INFO</span>    | Task run 'preprocess_data-b94' - Finished in state <span style=\"color: #008000; text-decoration-color: #008000\">Completed</span>()\n",
       "</pre>\n"
      ],
      "text/plain": [
       "20:04:51.573 | \u001b[36mINFO\u001b[0m    | Task run 'preprocess_data-b94' - Finished in state \u001b[32mCompleted\u001b[0m()\n"
      ]
     },
     "metadata": {},
     "output_type": "display_data"
    },
    {
     "name": "stdout",
     "output_type": "stream",
     "text": [
      "POST-PREPROCESS DATAFRAME\n",
      "Dataframe info:\n",
      "<class 'pandas.core.frame.DataFrame'>\n",
      "DatetimeIndex: 50065 entries, 2019-01-05 00:00:00+00:00 to 2024-09-21 00:00:00+00:00\n",
      "Data columns (total 12 columns):\n",
      " #   Column      Non-Null Count  Dtype  \n",
      "---  ------      --------------  -----  \n",
      " 0   D           50065 non-null  float64\n",
      " 1   hour        50065 non-null  int32  \n",
      " 2   month       50065 non-null  int32  \n",
      " 3   year        50065 non-null  int32  \n",
      " 4   quarter     50065 non-null  int32  \n",
      " 5   dayofweek   50065 non-null  int32  \n",
      " 6   dayofmonth  50065 non-null  int32  \n",
      " 7   dayofyear   50065 non-null  int32  \n",
      " 8   lag_1y      41329 non-null  float64\n",
      " 9   lag_2y      32593 non-null  float64\n",
      " 10  lag_3y      23857 non-null  float64\n",
      " 11  is_holiday  50065 non-null  int64  \n",
      "dtypes: float64(4), int32(7), int64(1)\n",
      "memory usage: 3.6 MB\n",
      "\n",
      "Dataframe summary:\n",
      "                                  D  hour  month  year  quarter  dayofweek  \\\n",
      "utc_ts                                                                       \n",
      "2019-01-05 00:00:00+00:00   98880.0     0      1  2019        1          5   \n",
      "2019-01-05 01:00:00+00:00   97204.0     1      1  2019        1          5   \n",
      "2019-01-05 02:00:00+00:00   95065.0     2      1  2019        1          5   \n",
      "2019-01-05 03:00:00+00:00   92189.0     3      1  2019        1          5   \n",
      "2019-01-05 04:00:00+00:00   88575.0     4      1  2019        1          5   \n",
      "...                             ...   ...    ...   ...      ...        ...   \n",
      "2024-09-20 20:00:00+00:00  118067.0    20      9  2024        3          4   \n",
      "2024-09-20 21:00:00+00:00  120191.0    21      9  2024        3          4   \n",
      "2024-09-20 22:00:00+00:00  119992.0    22      9  2024        3          4   \n",
      "2024-09-20 23:00:00+00:00  116120.0    23      9  2024        3          4   \n",
      "2024-09-21 00:00:00+00:00  111470.0     0      9  2024        3          5   \n",
      "\n",
      "                           dayofmonth  dayofyear   lag_1y   lag_2y   lag_3y  \\\n",
      "utc_ts                                                                        \n",
      "2019-01-05 00:00:00+00:00           5          5      NaN      NaN      NaN   \n",
      "2019-01-05 01:00:00+00:00           5          5      NaN      NaN      NaN   \n",
      "2019-01-05 02:00:00+00:00           5          5      NaN      NaN      NaN   \n",
      "2019-01-05 03:00:00+00:00           5          5      NaN      NaN      NaN   \n",
      "2019-01-05 04:00:00+00:00           5          5      NaN      NaN      NaN   \n",
      "...                               ...        ...      ...      ...      ...   \n",
      "2024-09-20 20:00:00+00:00          20        264  93285.0  79523.0  88133.0   \n",
      "2024-09-20 21:00:00+00:00          20        264  93709.0  80534.0  89616.0   \n",
      "2024-09-20 22:00:00+00:00          20        264  93336.0  81328.0  90102.0   \n",
      "2024-09-20 23:00:00+00:00          20        264  91664.0  80729.0  88255.0   \n",
      "2024-09-21 00:00:00+00:00          21        265  90080.0  81498.0  87044.0   \n",
      "\n",
      "                           is_holiday  \n",
      "utc_ts                                 \n",
      "2019-01-05 00:00:00+00:00           0  \n",
      "2019-01-05 01:00:00+00:00           0  \n",
      "2019-01-05 02:00:00+00:00           0  \n",
      "2019-01-05 03:00:00+00:00           0  \n",
      "2019-01-05 04:00:00+00:00           0  \n",
      "...                               ...  \n",
      "2024-09-20 20:00:00+00:00           0  \n",
      "2024-09-20 21:00:00+00:00           0  \n",
      "2024-09-20 22:00:00+00:00           0  \n",
      "2024-09-20 23:00:00+00:00           0  \n",
      "2024-09-21 00:00:00+00:00           0  \n",
      "\n",
      "[50065 rows x 12 columns]\n",
      "\n"
     ]
    },
    {
     "data": {
      "application/vnd.jupyter.widget-view+json": {
       "model_id": "a449fc58059047139077e8028a41b49f",
       "version_major": 2,
       "version_minor": 0
      },
      "text/plain": [
       "Calculating Metrics:   0%|          | 0/35 [00:00<?, ?it/s]"
      ]
     },
     "metadata": {},
     "output_type": "display_data"
    },
    {
     "name": "stdout",
     "output_type": "stream",
     "text": [
      "GX Validation success: suite:train\n",
      "Performing  cross validation\n",
      "Fitting 8 folds for each of 1 candidates, totalling 8 fits\n",
      "[CV] END learning_rate=0.02, max_depth=5, n_estimators=1000, objective=reg:squarederror; total time=   1.0s\n",
      "[CV] END learning_rate=0.02, max_depth=5, n_estimators=1000, objective=reg:squarederror; total time=   0.9s\n",
      "[CV] END learning_rate=0.02, max_depth=5, n_estimators=1000, objective=reg:squarederror; total time=   0.7s\n",
      "[CV] END learning_rate=0.02, max_depth=5, n_estimators=1000, objective=reg:squarederror; total time=   0.6s\n",
      "[CV] END learning_rate=0.02, max_depth=5, n_estimators=1000, objective=reg:squarederror; total time=   0.6s\n",
      "[CV] END learning_rate=0.02, max_depth=5, n_estimators=1000, objective=reg:squarederror; total time=   1.1s\n",
      "[CV] END learning_rate=0.02, max_depth=5, n_estimators=1000, objective=reg:squarederror; total time=   1.1s\n",
      "[CV] END learning_rate=0.02, max_depth=5, n_estimators=1000, objective=reg:squarederror; total time=   0.8s\n",
      "Cross validation results:\n",
      "   mean_fit_time  std_fit_time  mean_score_time  std_score_time  \\\n",
      "0       0.846817      0.176777         0.005141        0.000684   \n",
      "\n",
      "   param_learning_rate  param_max_depth  param_n_estimators   param_objective  \\\n",
      "0                 0.02                5                1000  reg:squarederror   \n",
      "\n",
      "                                              params  split0_test_score  \\\n",
      "0  {'learning_rate': 0.02, 'max_depth': 5, 'n_est...           0.556433   \n",
      "\n",
      "   split1_test_score  split2_test_score  split3_test_score  split4_test_score  \\\n",
      "0          -0.004764           0.655085           0.383642           0.214418   \n",
      "\n",
      "   split5_test_score  split6_test_score  split7_test_score  mean_test_score  \\\n",
      "0           0.497304           0.471508            0.07697         0.356325   \n",
      "\n",
      "   std_test_score  rank_test_score  \n",
      "0        0.221289                1  \n",
      "Best parameters:\n",
      "{'learning_rate': 0.02, 'max_depth': 5, 'n_estimators': 1000, 'objective': 'reg:squarederror'}\n",
      "Feature importances: [0.34386584 0.1425952  0.05578598 0.         0.0844964  0.0501781\n",
      " 0.32307845]\n"
     ]
    },
    {
     "data": {
      "text/html": [
       "<pre style=\"white-space:pre;overflow-x:auto;line-height:normal;font-family:Menlo,'DejaVu Sans Mono',consolas,'Courier New',monospace\">20:04:59.749 | <span style=\"color: #008080; text-decoration-color: #008080\">INFO</span>    | Flow run<span style=\"color: #800080; text-decoration-color: #800080\"> 'energetic-turkey'</span> - Finished in state <span style=\"color: #008000; text-decoration-color: #008000\">Completed</span>()\n",
       "</pre>\n"
      ],
      "text/plain": [
       "20:04:59.749 | \u001b[36mINFO\u001b[0m    | Flow run\u001b[35m 'energetic-turkey'\u001b[0m - Finished in state \u001b[32mCompleted\u001b[0m()\n"
      ]
     },
     "metadata": {},
     "output_type": "display_data"
    },
    {
     "data": {
      "text/html": [
       "<pre style=\"white-space:pre;overflow-x:auto;line-height:normal;font-family:Menlo,'DejaVu Sans Mono',consolas,'Courier New',monospace\">20:04:59.898 | <span style=\"color: #008080; text-decoration-color: #008080\">INFO</span>    | Flow run<span style=\"color: #800080; text-decoration-color: #800080\"> 'tacky-lyrebird'</span> - Finished in state <span style=\"color: #008000; text-decoration-color: #008000\">Completed</span>()\n",
       "</pre>\n"
      ],
      "text/plain": [
       "20:04:59.898 | \u001b[36mINFO\u001b[0m    | Flow run\u001b[35m 'tacky-lyrebird'\u001b[0m - Finished in state \u001b[32mCompleted\u001b[0m()\n"
      ]
     },
     "metadata": {},
     "output_type": "display_data"
    }
   ],
   "source": [
    "git_PAT = os.getenv('DVC_GIT_REPO_PAT')\n",
    "@flow\n",
    "def run_train_model_flow():\n",
    "    dvc_dataset_info = DVCDatasetInfo(\n",
    "        rev=\"33a9b318ad381fdbb8cd6caf98413c721b150a99\",\n",
    "        path=\"data/eia_d_df_2022-01-01_00_2024-10-19_00.parquet\",\n",
    "        repo=get_dvc_remote_repo_url(git_PAT)\n",
    "    )\n",
    "    mff = ModelFeatureFlags()\n",
    " \n",
    "    return train_model(\n",
    "        dvc_dataset_info=dvc_dataset_info, \n",
    "        mlflow_tracking=False,\n",
    "        feature_flags=mff,\n",
    "        log_prints=True\n",
    "    )\n",
    "reg = run_train_model_flow()"
   ]
  }
 ],
 "metadata": {
  "kernelspec": {
   "display_name": "Python 3 (ipykernel)",
   "language": "python",
   "name": "python3"
  },
  "language_info": {
   "codemirror_mode": {
    "name": "ipython",
    "version": 3
   },
   "file_extension": ".py",
   "mimetype": "text/x-python",
   "name": "python",
   "nbconvert_exporter": "python",
   "pygments_lexer": "ipython3",
   "version": "3.10.15"
  }
 },
 "nbformat": 4,
 "nbformat_minor": 5
}
