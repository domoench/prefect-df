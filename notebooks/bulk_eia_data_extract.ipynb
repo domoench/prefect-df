{
 "cells": [
  {
   "cell_type": "code",
   "execution_count": 1,
   "id": "784fbb1e-6b3a-435a-9f07-6c9e98cc5c48",
   "metadata": {},
   "outputs": [],
   "source": [
    "import numpy as np\n",
    "import pandas as pd\n",
    "import seaborn as sns\n",
    "import matplotlib.pyplot as plt\n",
    "import os"
   ]
  },
  {
   "cell_type": "code",
   "execution_count": 2,
   "id": "13f0fac1-1789-4ed7-8fdc-87288401244e",
   "metadata": {},
   "outputs": [],
   "source": [
    "# Original source: https://www.eia.gov/electricity/gridmonitor/knownissues/xls/PJM.xlsx\n",
    "# Downloaded 6/3/24\n",
    "\n",
    "df = pd.read_csv('data/pjm_hourly_published_data_20240603.csv') "
   ]
  },
  {
   "cell_type": "code",
   "execution_count": 3,
   "id": "c2a9eddc-3e61-4d5e-865d-8da6bd13fa1e",
   "metadata": {},
   "outputs": [
    {
     "name": "stdout",
     "output_type": "stream",
     "text": [
      "<class 'pandas.core.frame.DataFrame'>\n",
      "RangeIndex: 78840 entries, 0 to 78839\n",
      "Data columns (total 17 columns):\n",
      " #   Column            Non-Null Count  Dtype  \n",
      "---  ------            --------------  -----  \n",
      " 0   BA                78840 non-null  object \n",
      " 1   UTC time          78840 non-null  object \n",
      " 2   Local date        78840 non-null  object \n",
      " 3   Hour              78840 non-null  int64  \n",
      " 4   Local time        78840 non-null  object \n",
      " 5   Time zone         78840 non-null  object \n",
      " 6   Generation only?  78840 non-null  object \n",
      " 7   DF                78554 non-null  object \n",
      " 8   D                 78646 non-null  object \n",
      " 9   NG                78621 non-null  object \n",
      " 10  TI                78622 non-null  object \n",
      " 11  Imputed D         175 non-null    object \n",
      " 12  Imputed NG        196 non-null    object \n",
      " 13  Imputed TI        4 non-null      float64\n",
      " 14  Adjusted D        78813 non-null  object \n",
      " 15  Adjusted NG       78813 non-null  object \n",
      " 16  Adjusted TI       78622 non-null  object \n",
      "dtypes: float64(1), int64(1), object(15)\n",
      "memory usage: 10.2+ MB\n"
     ]
    }
   ],
   "source": [
    "df.info()"
   ]
  },
  {
   "cell_type": "code",
   "execution_count": 4,
   "id": "94897fc3-e390-48c3-a2e8-19c0aa02560e",
   "metadata": {},
   "outputs": [],
   "source": [
    "# Data column descriptions from EIA\n",
    "column_descr = {\n",
    "    'BA': '2-4 letter code that identifies the balancing authority',\n",
    "    'UTC time': 'The end of the hour in Coordinated Universal Time (UTC)',\n",
    "    'Local date': 'The date (using local time zone) for which data has been reported',\n",
    "    'Hour': 'The hour number for the day.  Hour 1 corresponds to the time period 12:00 AM - 1:00 AM',\n",
    "    'Local time': 'The end of the hour in local time',\n",
    "    'Time zone': 'The local time zone',\n",
    "    'Generation only?': ' Y indicates the balancing authority is a generation-only BA. Generation-only BAs consist of a power plant or group of power plants and do not directly serve retail customers. Therefore, they only report net generation and interchange and do not report demand or demand forecasts.',\n",
    "    'DF': 'Demand forecast (DF): Each BA produces a day-ahead electricity demand forecast for every hour of the next day. These forecasts help BAs plan for and coordinate the reliable operation of their electric system on the following day. This column displays the actual data reported to EIA in MWh.',\n",
    "    'D': 'Demand (D): A calculated value representing the amount of electricity load within the balancing authority’s electric system. A BA derives its demand value by taking the total metered net electricity generation within its electric system and subtracting the total metered net electricity interchange occurring between the BA and its neighboring BAs. This column displays the actual data reported to EIA in MWh.',\n",
    "    'NG': 'Net generation (NG): the metered output of electric generating units in the balancing authority’s electric system. This generation only includes generating units that are managed by the balancing authority or whose operations are visible to the balancing authority.  This column displays the actual data reported to EIA in MWh.',\n",
    "    'TI': 'Total Interchange (TI): the net metered tie line flow from one BA to another directly interconnected BA. Total net interchange is the net sum of all interchange occurring between a BA and it\\'s directly interconnected neighboring BAs.  Negative interchange values indicate net inflows, and positive interchange values indicate net outflows.  This column displays the actual data reported to EIA in MWh.',\n",
    "    'Imputed D': 'EIA imputes for anomalous values for total demand (D) if the value is missing or reported as negative, zero, or at least 1.5 times greater than the maximum of past total demand values reported by that BA. This column displays imputed values in MWh when they are made.',\n",
    "    'Imputed NG': 'EIA imputes for anomalous values for total net generation (NG) if the value is missing or reported as negative, zero, or at least 1.5 times greater than the maximum of past total net generation values reported by that BA. This column displays imputed values in MWh when they are made.',\n",
    "    'Imputed TI': 'EIA imputes for anomalous values for total interchange (TI) if the value is as at least 1.5 times greater than the maximum of past positive total interchange values reported by that BA or at least 1.5 times less than the minimum of past negative total interchange values reported by that BA. This column displays imputed values in MWh when they are made.',\n",
    "    'Adjusted D': 'This column displays the demand (D) reported by the balancing authority in MWh unless imputation was required. When imputation was required, this column displays the imputed demand.',\n",
    "    'Adjusted NG': 'This column displays the net generation (NG) reported by the balancing authority in MWh unless imputation was required. When imputation was required, this column displays the imputed net generation.',\n",
    "    'Adjusted TI': 'This column displays the total interchange (TI) reported by the balancing authority in MWh unless imputation was required. When imputation was required, this column displays the imputed total interchange.',\n",
    "}"
   ]
  },
  {
   "cell_type": "markdown",
   "id": "c027ef9b-ddaa-4103-a736-3653c3a7c201",
   "metadata": {},
   "source": [
    "TODO\n",
    "- I think the important value columns are 'Adjusted D' and DF. Confirm this matches data we can pull from the API (where there is no distinction between raw and adjusted - I'm assuming that's the same as adjusted)."
   ]
  },
  {
   "cell_type": "markdown",
   "id": "105327a2-dc67-4984-8e3e-1b5d9d1575ac",
   "metadata": {},
   "source": [
    "Drop columns we're ignoring for now"
   ]
  },
  {
   "cell_type": "code",
   "execution_count": 5,
   "id": "7046d6dc-dbd2-46e9-b1a4-58ed0218a540",
   "metadata": {},
   "outputs": [],
   "source": [
    "df = df[['UTC time', 'Time zone', 'DF', 'D', 'Adjusted D']]"
   ]
  },
  {
   "cell_type": "markdown",
   "id": "b9d9e2f6-4c5b-4905-9ace-4dd34569163f",
   "metadata": {},
   "source": [
    "Convert columns to appropriate types"
   ]
  },
  {
   "cell_type": "code",
   "execution_count": 6,
   "id": "2002a442-1ac2-4bd3-bd6a-11ce24b7a12c",
   "metadata": {},
   "outputs": [
    {
     "data": {
      "text/html": [
       "<div>\n",
       "<style scoped>\n",
       "    .dataframe tbody tr th:only-of-type {\n",
       "        vertical-align: middle;\n",
       "    }\n",
       "\n",
       "    .dataframe tbody tr th {\n",
       "        vertical-align: top;\n",
       "    }\n",
       "\n",
       "    .dataframe thead th {\n",
       "        text-align: right;\n",
       "    }\n",
       "</style>\n",
       "<table border=\"1\" class=\"dataframe\">\n",
       "  <thead>\n",
       "    <tr style=\"text-align: right;\">\n",
       "      <th></th>\n",
       "      <th>D</th>\n",
       "    </tr>\n",
       "  </thead>\n",
       "  <tbody>\n",
       "    <tr>\n",
       "      <th>0</th>\n",
       "      <td>84,024</td>\n",
       "    </tr>\n",
       "    <tr>\n",
       "      <th>1</th>\n",
       "      <td>79,791</td>\n",
       "    </tr>\n",
       "    <tr>\n",
       "      <th>2</th>\n",
       "      <td>76,760</td>\n",
       "    </tr>\n",
       "    <tr>\n",
       "      <th>3</th>\n",
       "      <td>74,931</td>\n",
       "    </tr>\n",
       "    <tr>\n",
       "      <th>4</th>\n",
       "      <td>74,368</td>\n",
       "    </tr>\n",
       "    <tr>\n",
       "      <th>...</th>\n",
       "      <td>...</td>\n",
       "    </tr>\n",
       "    <tr>\n",
       "      <th>78835</th>\n",
       "      <td>NaN</td>\n",
       "    </tr>\n",
       "    <tr>\n",
       "      <th>78836</th>\n",
       "      <td>NaN</td>\n",
       "    </tr>\n",
       "    <tr>\n",
       "      <th>78837</th>\n",
       "      <td>NaN</td>\n",
       "    </tr>\n",
       "    <tr>\n",
       "      <th>78838</th>\n",
       "      <td>NaN</td>\n",
       "    </tr>\n",
       "    <tr>\n",
       "      <th>78839</th>\n",
       "      <td>NaN</td>\n",
       "    </tr>\n",
       "  </tbody>\n",
       "</table>\n",
       "<p>78840 rows × 1 columns</p>\n",
       "</div>"
      ],
      "text/plain": [
       "            D\n",
       "0      84,024\n",
       "1      79,791\n",
       "2      76,760\n",
       "3      74,931\n",
       "4      74,368\n",
       "...       ...\n",
       "78835     NaN\n",
       "78836     NaN\n",
       "78837     NaN\n",
       "78838     NaN\n",
       "78839     NaN\n",
       "\n",
       "[78840 rows x 1 columns]"
      ]
     },
     "execution_count": 6,
     "metadata": {},
     "output_type": "execute_result"
    }
   ],
   "source": [
    "df.loc[:,['D']]"
   ]
  },
  {
   "cell_type": "code",
   "execution_count": 7,
   "id": "b2292ad1-c71d-448e-b2a2-c2511dca611f",
   "metadata": {},
   "outputs": [],
   "source": [
    "df['UTC time'] = pd.to_datetime(df['UTC time'], format='%d%b%Y %H:%M:%S', utc=True)\n",
    "#df['Local time'] = pd.to_datetime(df['Local time'], format='%d%b%Y %H:%M:%S').dt.tz_localize('EST')\n",
    "for col in ['DF', 'D', 'Adjusted D']:\n",
    "    # Handle commas in string-encoded integers\n",
    "    df.loc[:, col] = pd.to_numeric(df[col].str.replace(',', ''))"
   ]
  },
  {
   "cell_type": "code",
   "execution_count": 8,
   "id": "c1476940-2c9e-497d-9a71-1f272c237fcf",
   "metadata": {},
   "outputs": [
    {
     "data": {
      "text/html": [
       "<div>\n",
       "<style scoped>\n",
       "    .dataframe tbody tr th:only-of-type {\n",
       "        vertical-align: middle;\n",
       "    }\n",
       "\n",
       "    .dataframe tbody tr th {\n",
       "        vertical-align: top;\n",
       "    }\n",
       "\n",
       "    .dataframe thead th {\n",
       "        text-align: right;\n",
       "    }\n",
       "</style>\n",
       "<table border=\"1\" class=\"dataframe\">\n",
       "  <thead>\n",
       "    <tr style=\"text-align: right;\">\n",
       "      <th></th>\n",
       "      <th>UTC time</th>\n",
       "      <th>Time zone</th>\n",
       "      <th>DF</th>\n",
       "      <th>D</th>\n",
       "      <th>Adjusted D</th>\n",
       "    </tr>\n",
       "  </thead>\n",
       "  <tbody>\n",
       "    <tr>\n",
       "      <th>0</th>\n",
       "      <td>2015-07-01 05:00:00+00:00</td>\n",
       "      <td>Eastern</td>\n",
       "      <td>29415.0</td>\n",
       "      <td>84024.0</td>\n",
       "      <td>84024.0</td>\n",
       "    </tr>\n",
       "    <tr>\n",
       "      <th>1</th>\n",
       "      <td>2015-07-01 06:00:00+00:00</td>\n",
       "      <td>Eastern</td>\n",
       "      <td>27687.0</td>\n",
       "      <td>79791.0</td>\n",
       "      <td>79791.0</td>\n",
       "    </tr>\n",
       "    <tr>\n",
       "      <th>2</th>\n",
       "      <td>2015-07-01 07:00:00+00:00</td>\n",
       "      <td>Eastern</td>\n",
       "      <td>26574.0</td>\n",
       "      <td>76760.0</td>\n",
       "      <td>76760.0</td>\n",
       "    </tr>\n",
       "    <tr>\n",
       "      <th>3</th>\n",
       "      <td>2015-07-01 08:00:00+00:00</td>\n",
       "      <td>Eastern</td>\n",
       "      <td>26029.0</td>\n",
       "      <td>74931.0</td>\n",
       "      <td>74931.0</td>\n",
       "    </tr>\n",
       "    <tr>\n",
       "      <th>4</th>\n",
       "      <td>2015-07-01 09:00:00+00:00</td>\n",
       "      <td>Eastern</td>\n",
       "      <td>26220.0</td>\n",
       "      <td>74368.0</td>\n",
       "      <td>74368.0</td>\n",
       "    </tr>\n",
       "  </tbody>\n",
       "</table>\n",
       "</div>"
      ],
      "text/plain": [
       "                   UTC time Time zone       DF        D Adjusted D\n",
       "0 2015-07-01 05:00:00+00:00   Eastern  29415.0  84024.0    84024.0\n",
       "1 2015-07-01 06:00:00+00:00   Eastern  27687.0  79791.0    79791.0\n",
       "2 2015-07-01 07:00:00+00:00   Eastern  26574.0  76760.0    76760.0\n",
       "3 2015-07-01 08:00:00+00:00   Eastern  26029.0  74931.0    74931.0\n",
       "4 2015-07-01 09:00:00+00:00   Eastern  26220.0  74368.0    74368.0"
      ]
     },
     "execution_count": 8,
     "metadata": {},
     "output_type": "execute_result"
    }
   ],
   "source": [
    "df.head()"
   ]
  },
  {
   "cell_type": "markdown",
   "id": "31332c45-683c-40ab-b26a-8206d78d5260",
   "metadata": {},
   "source": [
    "Let's confirm that the 'Adjusted D' values in this dataset match the demand values available through the API."
   ]
  },
  {
   "cell_type": "code",
   "execution_count": 9,
   "id": "eeb7ca0d-6e8a-40b5-a751-aa1975602e33",
   "metadata": {},
   "outputs": [
    {
     "name": "stdout",
     "output_type": "stream",
     "text": [
      "https://api.eia.gov/v2/electricity/rto/region-data/data/?frequency=hourly&data%5B0%5D=value&facets%5Brespondent%5D%5B%5D=PJM&facets%5Btype%5D%5B%5D=D&facets%5Btype%5D%5B%5D=NG&sort%5B0%5D%5Bcolumn%5D=period&sort%5B0%5D%5Bdirection%5D=asc&offset=0&length=5000&api_key=ud2LESO91DtxL8k7V906bughtNPqCmdcUD1o0CuU&start=2015-07-01T00&end=2015-07-20T00\n"
     ]
    }
   ],
   "source": [
    "import requests\n",
    "\n",
    "url = \"https://api.eia.gov/v2/electricity/rto/region-data/data/?frequency=hourly&data[0]=value&facets[respondent][]=PJM&facets[type][]=D&facets[type][]=NG&sort[0][column]=period&sort[0][direction]=asc\"\n",
    "\n",
    "# TODO fetch all data via API back to 2015-07-01 in 6-month intervals to confirm\n",
    "# it matches your bulk-downloaded CSV data.\n",
    "params = {\n",
    "    'offset': 0,\n",
    "    'length': 5000,\n",
    "    'api_key': os.environ['EIA_API_KEY'],\n",
    "    'start': '2015-07-01T00',\n",
    "    'end': '2015-07-20T00',\n",
    "}\n",
    "\n",
    "r = requests.get(url, params=params)\n",
    "response.raise_for_status() \n",
    "\n",
    "print(r.url)\n",
    "\n",
    "api_df = pd.DataFrame(r.json()['response']['data'])"
   ]
  },
  {
   "cell_type": "code",
   "execution_count": 10,
   "id": "e97e873a-06fd-4015-87e6-b817fed132fb",
   "metadata": {},
   "outputs": [],
   "source": [
    "api_df['UTC period'] = pd.to_datetime(api_df['period'], utc=True)\n",
    "api_df['value'] = pd.to_numeric(api_df['value'])\n",
    "api_demand_df = api_df[api_df['type-name'] == 'Demand']"
   ]
  },
  {
   "cell_type": "code",
   "execution_count": 11,
   "id": "f0bc4a62-e412-4c98-b2a0-e894a4c84a07",
   "metadata": {},
   "outputs": [
    {
     "data": {
      "text/html": [
       "<div>\n",
       "<style scoped>\n",
       "    .dataframe tbody tr th:only-of-type {\n",
       "        vertical-align: middle;\n",
       "    }\n",
       "\n",
       "    .dataframe tbody tr th {\n",
       "        vertical-align: top;\n",
       "    }\n",
       "\n",
       "    .dataframe thead th {\n",
       "        text-align: right;\n",
       "    }\n",
       "</style>\n",
       "<table border=\"1\" class=\"dataframe\">\n",
       "  <thead>\n",
       "    <tr style=\"text-align: right;\">\n",
       "      <th></th>\n",
       "      <th>UTC time</th>\n",
       "      <th>D</th>\n",
       "      <th>Adjusted D</th>\n",
       "      <th>UTC period</th>\n",
       "      <th>value</th>\n",
       "    </tr>\n",
       "  </thead>\n",
       "  <tbody>\n",
       "    <tr>\n",
       "      <th>0</th>\n",
       "      <td>2015-07-01 05:00:00+00:00</td>\n",
       "      <td>84024.0</td>\n",
       "      <td>84024.0</td>\n",
       "      <td>2015-07-01 05:00:00+00:00</td>\n",
       "      <td>84024.0</td>\n",
       "    </tr>\n",
       "    <tr>\n",
       "      <th>1</th>\n",
       "      <td>2015-07-01 06:00:00+00:00</td>\n",
       "      <td>79791.0</td>\n",
       "      <td>79791.0</td>\n",
       "      <td>2015-07-01 06:00:00+00:00</td>\n",
       "      <td>79791.0</td>\n",
       "    </tr>\n",
       "    <tr>\n",
       "      <th>2</th>\n",
       "      <td>2015-07-01 07:00:00+00:00</td>\n",
       "      <td>76760.0</td>\n",
       "      <td>76760.0</td>\n",
       "      <td>2015-07-01 07:00:00+00:00</td>\n",
       "      <td>76760.0</td>\n",
       "    </tr>\n",
       "    <tr>\n",
       "      <th>3</th>\n",
       "      <td>2015-07-01 08:00:00+00:00</td>\n",
       "      <td>74931.0</td>\n",
       "      <td>74931.0</td>\n",
       "      <td>2015-07-01 08:00:00+00:00</td>\n",
       "      <td>74931.0</td>\n",
       "    </tr>\n",
       "    <tr>\n",
       "      <th>4</th>\n",
       "      <td>2015-07-01 09:00:00+00:00</td>\n",
       "      <td>74368.0</td>\n",
       "      <td>74368.0</td>\n",
       "      <td>2015-07-01 09:00:00+00:00</td>\n",
       "      <td>74368.0</td>\n",
       "    </tr>\n",
       "  </tbody>\n",
       "</table>\n",
       "</div>"
      ],
      "text/plain": [
       "                   UTC time        D Adjusted D                UTC period  \\\n",
       "0 2015-07-01 05:00:00+00:00  84024.0    84024.0 2015-07-01 05:00:00+00:00   \n",
       "1 2015-07-01 06:00:00+00:00  79791.0    79791.0 2015-07-01 06:00:00+00:00   \n",
       "2 2015-07-01 07:00:00+00:00  76760.0    76760.0 2015-07-01 07:00:00+00:00   \n",
       "3 2015-07-01 08:00:00+00:00  74931.0    74931.0 2015-07-01 08:00:00+00:00   \n",
       "4 2015-07-01 09:00:00+00:00  74368.0    74368.0 2015-07-01 09:00:00+00:00   \n",
       "\n",
       "     value  \n",
       "0  84024.0  \n",
       "1  79791.0  \n",
       "2  76760.0  \n",
       "3  74931.0  \n",
       "4  74368.0  "
      ]
     },
     "execution_count": 11,
     "metadata": {},
     "output_type": "execute_result"
    }
   ],
   "source": [
    "merged_df = pd.merge(df[['UTC time', 'D', 'Adjusted D']], api_demand_df[['UTC period', 'value']], \n",
    "                     left_on='UTC time', right_on='UTC period')\n",
    "\n",
    "merged_df.head()"
   ]
  },
  {
   "cell_type": "code",
   "execution_count": 16,
   "id": "865e246c-cfbf-413f-8280-d03bce700fec",
   "metadata": {},
   "outputs": [
    {
     "data": {
      "text/plain": [
       "np.int64(0)"
      ]
     },
     "execution_count": 16,
     "metadata": {},
     "output_type": "execute_result"
    }
   ],
   "source": [
    "merged_df['Adjusted D'].isna().sum()"
   ]
  },
  {
   "cell_type": "code",
   "execution_count": 14,
   "id": "ab5f1194-a2d2-49f9-b88a-795daf8e386f",
   "metadata": {},
   "outputs": [],
   "source": [
    "assert np.all(merged_df['Adjusted D'] == merged_df['value'])\n",
    "\n",
    "# diff_mask = merged_df['Adjusted D'] != merged_df['value']\n",
    "# merged_df[diff_mask].head()"
   ]
  }
 ],
 "metadata": {
  "kernelspec": {
   "display_name": "Python 3 (ipykernel)",
   "language": "python",
   "name": "python3"
  },
  "language_info": {
   "codemirror_mode": {
    "name": "ipython",
    "version": 3
   },
   "file_extension": ".py",
   "mimetype": "text/x-python",
   "name": "python",
   "nbconvert_exporter": "python",
   "pygments_lexer": "ipython3",
   "version": "3.10.0"
  }
 },
 "nbformat": 4,
 "nbformat_minor": 5
}
