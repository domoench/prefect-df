{
 "cells": [
  {
   "cell_type": "markdown",
   "id": "6334d671-efa5-4ec7-8609-c68c2bcde8bd",
   "metadata": {},
   "source": [
    "# Goal\n",
    "\n",
    "In this notebook, I explore the hourly \n",
    "[EIA Electric Power Operations data](https://www.eia.gov/opendata/browser/electricity/rto/region-data).\n",
    "\n",
    "It is available in two main formats:\n",
    "\n",
    "1. Spreadsheets (many types at different resolutions and facet hierachies)\n",
    "1. [API](https://www.eia.gov/opendata/documentation.php)\n",
    "\n",
    "**Main Question**: Are these 2 data sources consistent? (i.e. Could I train on bulk historical data downloaded via spreadsheet, then retrain periodically on recent data pulled from API?)\n",
    "\n",
    "**Answer**: Yes, but be careful. I found that the spreadsheet version of the data has imputed/adjusted values (missing and outlier data\n",
    "\n",
    "Other questions:\n",
    "\n",
    "**Q**: Can I use the API to pull all historical data? \n",
    "**A**: Yes. But you need to paginate when pulling more than 5k rows.\n"
   ]
  },
  {
   "cell_type": "code",
   "execution_count": 2,
   "id": "784fbb1e-6b3a-435a-9f07-6c9e98cc5c48",
   "metadata": {},
   "outputs": [],
   "source": [
    "import numpy as np\n",
    "import pandas as pd\n",
    "import seaborn as sns\n",
    "import matplotlib.pyplot as plt\n",
    "import os"
   ]
  },
  {
   "cell_type": "markdown",
   "id": "69a81488-2be0-4195-a027-2edcee2e73d6",
   "metadata": {},
   "source": [
    "# Spreadsheet Data Source\n",
    "\n",
    "This is hourly data with a lot of columns (demand, demand forecast, many generation sources, etc) and a lot of rows (every hour back to july 2015). The original spreadsheet had this data for all balancing authorities, I filtered it down to only PJM, and removed a number of columns to produce the CSV file in the `data/` directory of this project.\n",
    "\n",
    "For each metric, it includes raw values, imputed values, and adjusted values:\n",
    "\n",
    "- Raw: The raw metrics reported by the balancing authority.\n",
    "- Imputed: Where there are missing data or outliers in the raw timeseries, EIA imputes more realistic values.\n",
    "- Adjusted: A merge of the raw and imputed values. Where imputed values were required they replace the raw values."
   ]
  },
  {
   "cell_type": "code",
   "execution_count": 3,
   "id": "13f0fac1-1789-4ed7-8fdc-87288401244e",
   "metadata": {},
   "outputs": [],
   "source": [
    "# Original source: https://www.eia.gov/electricity/gridmonitor/knownissues/xls/PJM.xlsx\n",
    "# Downloaded 6/3/24\n",
    "\n",
    "df = pd.read_csv('../data/pjm_hourly_published_data_20240603.csv') \n"
   ]
  },
  {
   "cell_type": "code",
   "execution_count": 4,
   "id": "c2a9eddc-3e61-4d5e-865d-8da6bd13fa1e",
   "metadata": {},
   "outputs": [
    {
     "name": "stdout",
     "output_type": "stream",
     "text": [
      "<class 'pandas.core.frame.DataFrame'>\n",
      "RangeIndex: 78840 entries, 0 to 78839\n",
      "Data columns (total 17 columns):\n",
      " #   Column            Non-Null Count  Dtype  \n",
      "---  ------            --------------  -----  \n",
      " 0   BA                78840 non-null  object \n",
      " 1   UTC time          78840 non-null  object \n",
      " 2   Local date        78840 non-null  object \n",
      " 3   Hour              78840 non-null  int64  \n",
      " 4   Local time        78840 non-null  object \n",
      " 5   Time zone         78840 non-null  object \n",
      " 6   Generation only?  78840 non-null  object \n",
      " 7   DF                78554 non-null  object \n",
      " 8   D                 78646 non-null  object \n",
      " 9   NG                78621 non-null  object \n",
      " 10  TI                78622 non-null  object \n",
      " 11  Imputed D         175 non-null    object \n",
      " 12  Imputed NG        196 non-null    object \n",
      " 13  Imputed TI        4 non-null      float64\n",
      " 14  Adjusted D        78813 non-null  object \n",
      " 15  Adjusted NG       78813 non-null  object \n",
      " 16  Adjusted TI       78622 non-null  object \n",
      "dtypes: float64(1), int64(1), object(15)\n",
      "memory usage: 10.2+ MB\n"
     ]
    }
   ],
   "source": [
    "df.info()"
   ]
  },
  {
   "cell_type": "code",
   "execution_count": 5,
   "id": "94897fc3-e390-48c3-a2e8-19c0aa02560e",
   "metadata": {},
   "outputs": [],
   "source": [
    "# Data column descriptions from EIA\n",
    "column_descr = {\n",
    "    'BA': '2-4 letter code that identifies the balancing authority',\n",
    "    'UTC time': 'The end of the hour in Coordinated Universal Time (UTC)',\n",
    "    'Local date': 'The date (using local time zone) for which data has been reported',\n",
    "    'Hour': 'The hour number for the day.  Hour 1 corresponds to the time period 12:00 AM - 1:00 AM',\n",
    "    'Local time': 'The end of the hour in local time',\n",
    "    'Time zone': 'The local time zone',\n",
    "    'Generation only?': ' Y indicates the balancing authority is a generation-only BA. Generation-only BAs consist of a power plant or group of power plants and do not directly serve retail customers. Therefore, they only report net generation and interchange and do not report demand or demand forecasts.',\n",
    "    'DF': 'Demand forecast (DF): Each BA produces a day-ahead electricity demand forecast for every hour of the next day. These forecasts help BAs plan for and coordinate the reliable operation of their electric system on the following day. This column displays the actual data reported to EIA in MWh.',\n",
    "    'D': 'Demand (D): A calculated value representing the amount of electricity load within the balancing authority’s electric system. A BA derives its demand value by taking the total metered net electricity generation within its electric system and subtracting the total metered net electricity interchange occurring between the BA and its neighboring BAs. This column displays the actual data reported to EIA in MWh.',\n",
    "    'NG': 'Net generation (NG): the metered output of electric generating units in the balancing authority’s electric system. This generation only includes generating units that are managed by the balancing authority or whose operations are visible to the balancing authority.  This column displays the actual data reported to EIA in MWh.',\n",
    "    'TI': 'Total Interchange (TI): the net metered tie line flow from one BA to another directly interconnected BA. Total net interchange is the net sum of all interchange occurring between a BA and it\\'s directly interconnected neighboring BAs.  Negative interchange values indicate net inflows, and positive interchange values indicate net outflows.  This column displays the actual data reported to EIA in MWh.',\n",
    "    'Imputed D': 'EIA imputes for anomalous values for total demand (D) if the value is missing or reported as negative, zero, or at least 1.5 times greater than the maximum of past total demand values reported by that BA. This column displays imputed values in MWh when they are made.',\n",
    "    'Imputed NG': 'EIA imputes for anomalous values for total net generation (NG) if the value is missing or reported as negative, zero, or at least 1.5 times greater than the maximum of past total net generation values reported by that BA. This column displays imputed values in MWh when they are made.',\n",
    "    'Imputed TI': 'EIA imputes for anomalous values for total interchange (TI) if the value is as at least 1.5 times greater than the maximum of past positive total interchange values reported by that BA or at least 1.5 times less than the minimum of past negative total interchange values reported by that BA. This column displays imputed values in MWh when they are made.',\n",
    "    'Adjusted D': 'This column displays the demand (D) reported by the balancing authority in MWh unless imputation was required. When imputation was required, this column displays the imputed demand.',\n",
    "    'Adjusted NG': 'This column displays the net generation (NG) reported by the balancing authority in MWh unless imputation was required. When imputation was required, this column displays the imputed net generation.',\n",
    "    'Adjusted TI': 'This column displays the total interchange (TI) reported by the balancing authority in MWh unless imputation was required. When imputation was required, this column displays the imputed total interchange.',\n",
    "}"
   ]
  },
  {
   "cell_type": "markdown",
   "id": "c027ef9b-ddaa-4103-a736-3653c3a7c201",
   "metadata": {},
   "source": []
  },
  {
   "cell_type": "markdown",
   "id": "105327a2-dc67-4984-8e3e-1b5d9d1575ac",
   "metadata": {},
   "source": [
    "Drop columns we're ignoring for now"
   ]
  },
  {
   "cell_type": "code",
   "execution_count": 6,
   "id": "7046d6dc-dbd2-46e9-b1a4-58ed0218a540",
   "metadata": {},
   "outputs": [],
   "source": [
    "df = df[['UTC time', 'Time zone', 'DF', 'D', 'Adjusted D']]"
   ]
  },
  {
   "cell_type": "markdown",
   "id": "b9d9e2f6-4c5b-4905-9ace-4dd34569163f",
   "metadata": {},
   "source": [
    "Convert columns to appropriate types"
   ]
  },
  {
   "cell_type": "code",
   "execution_count": 7,
   "id": "b2292ad1-c71d-448e-b2a2-c2511dca611f",
   "metadata": {},
   "outputs": [],
   "source": [
    "df['UTC time'] = pd.to_datetime(df['UTC time'], format='%d%b%Y %H:%M:%S', utc=True)\n",
    "#df['Local time'] = pd.to_datetime(df['Local time'], format='%d%b%Y %H:%M:%S').dt.tz_localize('EST')\n",
    "for col in ['DF', 'D', 'Adjusted D']:\n",
    "    # Handle commas in string-encoded integers\n",
    "    # df.loc[:, col] = pd.to_numeric(df[col].str.replace(',', ''))\n",
    "    df[col] = pd.to_numeric(df[col].str.replace(',', ''))"
   ]
  },
  {
   "cell_type": "code",
   "execution_count": 8,
   "id": "c1476940-2c9e-497d-9a71-1f272c237fcf",
   "metadata": {},
   "outputs": [
    {
     "data": {
      "text/html": [
       "<div>\n",
       "<style scoped>\n",
       "    .dataframe tbody tr th:only-of-type {\n",
       "        vertical-align: middle;\n",
       "    }\n",
       "\n",
       "    .dataframe tbody tr th {\n",
       "        vertical-align: top;\n",
       "    }\n",
       "\n",
       "    .dataframe thead th {\n",
       "        text-align: right;\n",
       "    }\n",
       "</style>\n",
       "<table border=\"1\" class=\"dataframe\">\n",
       "  <thead>\n",
       "    <tr style=\"text-align: right;\">\n",
       "      <th></th>\n",
       "      <th>UTC time</th>\n",
       "      <th>Time zone</th>\n",
       "      <th>DF</th>\n",
       "      <th>D</th>\n",
       "      <th>Adjusted D</th>\n",
       "    </tr>\n",
       "  </thead>\n",
       "  <tbody>\n",
       "    <tr>\n",
       "      <th>0</th>\n",
       "      <td>2015-07-01 05:00:00+00:00</td>\n",
       "      <td>Eastern</td>\n",
       "      <td>29415.0</td>\n",
       "      <td>84024.0</td>\n",
       "      <td>84024.0</td>\n",
       "    </tr>\n",
       "    <tr>\n",
       "      <th>1</th>\n",
       "      <td>2015-07-01 06:00:00+00:00</td>\n",
       "      <td>Eastern</td>\n",
       "      <td>27687.0</td>\n",
       "      <td>79791.0</td>\n",
       "      <td>79791.0</td>\n",
       "    </tr>\n",
       "    <tr>\n",
       "      <th>2</th>\n",
       "      <td>2015-07-01 07:00:00+00:00</td>\n",
       "      <td>Eastern</td>\n",
       "      <td>26574.0</td>\n",
       "      <td>76760.0</td>\n",
       "      <td>76760.0</td>\n",
       "    </tr>\n",
       "    <tr>\n",
       "      <th>3</th>\n",
       "      <td>2015-07-01 08:00:00+00:00</td>\n",
       "      <td>Eastern</td>\n",
       "      <td>26029.0</td>\n",
       "      <td>74931.0</td>\n",
       "      <td>74931.0</td>\n",
       "    </tr>\n",
       "    <tr>\n",
       "      <th>4</th>\n",
       "      <td>2015-07-01 09:00:00+00:00</td>\n",
       "      <td>Eastern</td>\n",
       "      <td>26220.0</td>\n",
       "      <td>74368.0</td>\n",
       "      <td>74368.0</td>\n",
       "    </tr>\n",
       "  </tbody>\n",
       "</table>\n",
       "</div>"
      ],
      "text/plain": [
       "                   UTC time Time zone       DF        D  Adjusted D\n",
       "0 2015-07-01 05:00:00+00:00   Eastern  29415.0  84024.0     84024.0\n",
       "1 2015-07-01 06:00:00+00:00   Eastern  27687.0  79791.0     79791.0\n",
       "2 2015-07-01 07:00:00+00:00   Eastern  26574.0  76760.0     76760.0\n",
       "3 2015-07-01 08:00:00+00:00   Eastern  26029.0  74931.0     74931.0\n",
       "4 2015-07-01 09:00:00+00:00   Eastern  26220.0  74368.0     74368.0"
      ]
     },
     "execution_count": 8,
     "metadata": {},
     "output_type": "execute_result"
    }
   ],
   "source": [
    "df.head()"
   ]
  },
  {
   "cell_type": "code",
   "execution_count": 9,
   "id": "271a3fdf-2295-4a96-9481-34d26363b90a",
   "metadata": {},
   "outputs": [],
   "source": [
    "start = df['UTC time'].min()\n",
    "end = df['UTC time'].max()"
   ]
  },
  {
   "cell_type": "code",
   "execution_count": 47,
   "id": "d536f2d2-ebce-4b9c-886d-d09d1e7f1e8f",
   "metadata": {},
   "outputs": [
    {
     "name": "stdout",
     "output_type": "stream",
     "text": [
      "2024-06-28 04:00:00+00:00\n"
     ]
    },
    {
     "data": {
      "text/plain": [
       "Timestamp('2024-06-28 04:00:00+0000', tz='UTC')"
      ]
     },
     "execution_count": 47,
     "metadata": {},
     "output_type": "execute_result"
    }
   ],
   "source": [
    "print(end)\n",
    "pd.Timestamp('2024-06-28 04:00:00+00:00')"
   ]
  },
  {
   "cell_type": "markdown",
   "id": "8de062a6-c13f-48c0-b5de-f11880854b61",
   "metadata": {},
   "source": [
    "# API Data Source\n",
    "\n",
    "Below I query the API for all the hours covered in the spreadsheet to:\n",
    "\n",
    "- Test out bulk querying with pagination (TLDR: works well)\n",
    "- Check for consistency with the spreadsheet data (TLDR: The API gives the raw values found in the spreadsheet - not the adjusted values. So I'll need to impute missing and anamolous values myself.)"
   ]
  },
  {
   "cell_type": "code",
   "execution_count": 10,
   "id": "440c8275-2f5e-465b-8246-a7d3ad5a6ab0",
   "metadata": {},
   "outputs": [
    {
     "name": "stdout",
     "output_type": "stream",
     "text": [
      "Fetching 78839 hours of data. Start: 2015-07-01 05:00:00+00:00. End: 2024-06-28 04:00:00+00:00\n",
      "Will make 15 5000-length requests and one 3839-length request.\n"
     ]
    }
   ],
   "source": [
    "# Calculate the number of rows to fetch from the API between start and end\n",
    "time_span = end - start\n",
    "hours = int(time_span.total_seconds() / 3600)\n",
    "\n",
    "# Calculate how many paginated API requests will be required to fetch all the \n",
    "# timeseries data\n",
    "REQUEST_ROWS = 5000\n",
    "num_full_requests = hours // REQUEST_ROWS\n",
    "final_request_length = hours % REQUEST_ROWS\n",
    "print(f'Fetching {hours} hours of data. Start: {start}. End: {end}')\n",
    "print(f'Will make {num_full_requests} {REQUEST_ROWS}-length requests and one {final_request_length}-length request.')"
   ]
  },
  {
   "cell_type": "markdown",
   "id": "31332c45-683c-40ab-b26a-8206d78d5260",
   "metadata": {},
   "source": [
    "Let's confirm that the 'Adjusted D' values in this dataset match the demand values available through the API."
   ]
  },
  {
   "cell_type": "code",
   "execution_count": 11,
   "id": "eeb7ca0d-6e8a-40b5-a751-aa1975602e33",
   "metadata": {},
   "outputs": [
    {
     "name": "stdout",
     "output_type": "stream",
     "text": [
      "Fetching API page. offset:0. length:5000\n",
      "Fetching API page. offset:5000. length:5000\n",
      "Fetching API page. offset:10000. length:5000\n",
      "Fetching API page. offset:15000. length:5000\n",
      "Fetching API page. offset:20000. length:5000\n",
      "Fetching API page. offset:25000. length:5000\n",
      "Fetching API page. offset:30000. length:5000\n",
      "Fetching API page. offset:35000. length:5000\n",
      "Fetching API page. offset:40000. length:5000\n",
      "Fetching API page. offset:45000. length:5000\n",
      "Fetching API page. offset:50000. length:5000\n",
      "Fetching API page. offset:55000. length:5000\n",
      "Fetching API page. offset:60000. length:5000\n",
      "Fetching API page. offset:65000. length:5000\n",
      "Fetching API page. offset:70000. length:5000\n",
      "Fetching API page. offset:75000. length:3839\n"
     ]
    }
   ],
   "source": [
    "import requests\n",
    "\n",
    "url = \"https://api.eia.gov/v2/electricity/rto/region-data/data/?frequency=hourly&data[0]=value&facets[respondent][]=PJM&facets[type][]=D&facets[type][]=DF&sort[0][column]=period&sort[0][direction]=asc\"\n",
    "\n",
    "# Build a list of dataframes storing each API request (page)'s response\n",
    "response_dfs = []\n",
    "\n",
    "def append_EIA_page_response_df(start, end, offset, length, result_list):\n",
    "    print(f'Fetching API page. offset:{offset}. length:{length}')\n",
    "\n",
    "    params = {\n",
    "        'offset': offset,\n",
    "        'length': length,\n",
    "        'api_key': os.environ['EIA_API_KEY'],\n",
    "        'start': start.strftime('%Y-%m-%dT%H'),\n",
    "        'end': end.strftime('%Y-%m-%dT%H'),\n",
    "    }\n",
    "\n",
    "    r = requests.get(url, params=params)\n",
    "    r.raise_for_status() \n",
    "    result_df = pd.DataFrame(r.json()['response']['data'])\n",
    "    assert len(result_df) == length\n",
    "    result_list.append(result_df)\n",
    "\n",
    "# Make the full-length requests\n",
    "for i in range(num_full_requests):\n",
    "    offset = i * REQUEST_ROWS\n",
    "    append_EIA_page_response_df(start, end, offset, REQUEST_ROWS, response_dfs)\n",
    "# Make the final remainder request\n",
    "append_EIA_page_response_df(start, end, num_full_requests * REQUEST_ROWS, final_request_length, response_dfs)\n",
    "\n",
    "api_df = pd.concat(response_dfs)"
   ]
  },
  {
   "cell_type": "markdown",
   "id": "97ead6b2-8bc8-4e4e-ab7a-499999ccca3f",
   "metadata": {},
   "source": [
    "Cast columns from string to appropriate types"
   ]
  },
  {
   "cell_type": "code",
   "execution_count": 12,
   "id": "0c439620-c9fc-46e6-852a-0e732a429a76",
   "metadata": {},
   "outputs": [],
   "source": [
    "api_df['UTC period'] = pd.to_datetime(api_df['period'], utc=True)\n",
    "api_df['value'] = pd.to_numeric(api_df['value'])"
   ]
  },
  {
   "cell_type": "code",
   "execution_count": 13,
   "id": "0062d110-10e0-4a5a-bd7e-881922a6b217",
   "metadata": {},
   "outputs": [
    {
     "data": {
      "text/plain": [
       "78839"
      ]
     },
     "execution_count": 13,
     "metadata": {},
     "output_type": "execute_result"
    }
   ],
   "source": [
    "len(api_df)"
   ]
  },
  {
   "cell_type": "code",
   "execution_count": 14,
   "id": "1608de23-27ec-4699-a72e-5a8ece7ff871",
   "metadata": {},
   "outputs": [
    {
     "data": {
      "text/html": [
       "<div>\n",
       "<style scoped>\n",
       "    .dataframe tbody tr th:only-of-type {\n",
       "        vertical-align: middle;\n",
       "    }\n",
       "\n",
       "    .dataframe tbody tr th {\n",
       "        vertical-align: top;\n",
       "    }\n",
       "\n",
       "    .dataframe thead th {\n",
       "        text-align: right;\n",
       "    }\n",
       "</style>\n",
       "<table border=\"1\" class=\"dataframe\">\n",
       "  <thead>\n",
       "    <tr style=\"text-align: right;\">\n",
       "      <th></th>\n",
       "      <th>period</th>\n",
       "      <th>respondent</th>\n",
       "      <th>respondent-name</th>\n",
       "      <th>type</th>\n",
       "      <th>type-name</th>\n",
       "      <th>value</th>\n",
       "      <th>value-units</th>\n",
       "      <th>UTC period</th>\n",
       "    </tr>\n",
       "  </thead>\n",
       "  <tbody>\n",
       "    <tr>\n",
       "      <th>0</th>\n",
       "      <td>2015-07-01T05</td>\n",
       "      <td>PJM</td>\n",
       "      <td>PJM Interconnection, LLC</td>\n",
       "      <td>D</td>\n",
       "      <td>Demand</td>\n",
       "      <td>84024.0</td>\n",
       "      <td>megawatthours</td>\n",
       "      <td>2015-07-01 05:00:00+00:00</td>\n",
       "    </tr>\n",
       "    <tr>\n",
       "      <th>1</th>\n",
       "      <td>2015-07-01T05</td>\n",
       "      <td>PJM</td>\n",
       "      <td>PJM Interconnection, LLC</td>\n",
       "      <td>DF</td>\n",
       "      <td>Day-ahead demand forecast</td>\n",
       "      <td>29415.0</td>\n",
       "      <td>megawatthours</td>\n",
       "      <td>2015-07-01 05:00:00+00:00</td>\n",
       "    </tr>\n",
       "    <tr>\n",
       "      <th>2</th>\n",
       "      <td>2015-07-01T06</td>\n",
       "      <td>PJM</td>\n",
       "      <td>PJM Interconnection, LLC</td>\n",
       "      <td>DF</td>\n",
       "      <td>Day-ahead demand forecast</td>\n",
       "      <td>27687.0</td>\n",
       "      <td>megawatthours</td>\n",
       "      <td>2015-07-01 06:00:00+00:00</td>\n",
       "    </tr>\n",
       "    <tr>\n",
       "      <th>3</th>\n",
       "      <td>2015-07-01T06</td>\n",
       "      <td>PJM</td>\n",
       "      <td>PJM Interconnection, LLC</td>\n",
       "      <td>D</td>\n",
       "      <td>Demand</td>\n",
       "      <td>79791.0</td>\n",
       "      <td>megawatthours</td>\n",
       "      <td>2015-07-01 06:00:00+00:00</td>\n",
       "    </tr>\n",
       "    <tr>\n",
       "      <th>4</th>\n",
       "      <td>2015-07-01T07</td>\n",
       "      <td>PJM</td>\n",
       "      <td>PJM Interconnection, LLC</td>\n",
       "      <td>DF</td>\n",
       "      <td>Day-ahead demand forecast</td>\n",
       "      <td>26574.0</td>\n",
       "      <td>megawatthours</td>\n",
       "      <td>2015-07-01 07:00:00+00:00</td>\n",
       "    </tr>\n",
       "  </tbody>\n",
       "</table>\n",
       "</div>"
      ],
      "text/plain": [
       "          period respondent           respondent-name type  \\\n",
       "0  2015-07-01T05        PJM  PJM Interconnection, LLC    D   \n",
       "1  2015-07-01T05        PJM  PJM Interconnection, LLC   DF   \n",
       "2  2015-07-01T06        PJM  PJM Interconnection, LLC   DF   \n",
       "3  2015-07-01T06        PJM  PJM Interconnection, LLC    D   \n",
       "4  2015-07-01T07        PJM  PJM Interconnection, LLC   DF   \n",
       "\n",
       "                   type-name    value    value-units                UTC period  \n",
       "0                     Demand  84024.0  megawatthours 2015-07-01 05:00:00+00:00  \n",
       "1  Day-ahead demand forecast  29415.0  megawatthours 2015-07-01 05:00:00+00:00  \n",
       "2  Day-ahead demand forecast  27687.0  megawatthours 2015-07-01 06:00:00+00:00  \n",
       "3                     Demand  79791.0  megawatthours 2015-07-01 06:00:00+00:00  \n",
       "4  Day-ahead demand forecast  26574.0  megawatthours 2015-07-01 07:00:00+00:00  "
      ]
     },
     "execution_count": 14,
     "metadata": {},
     "output_type": "execute_result"
    }
   ],
   "source": [
    "api_df.head()"
   ]
  },
  {
   "cell_type": "code",
   "execution_count": 15,
   "id": "d3f47980-fe16-48ef-8e44-9034f525f939",
   "metadata": {},
   "outputs": [],
   "source": [
    "api_demand_df = api_df[api_df['type'] == 'D']"
   ]
  },
  {
   "cell_type": "code",
   "execution_count": 16,
   "id": "f0bc4a62-e412-4c98-b2a0-e894a4c84a07",
   "metadata": {},
   "outputs": [
    {
     "data": {
      "text/html": [
       "<div>\n",
       "<style scoped>\n",
       "    .dataframe tbody tr th:only-of-type {\n",
       "        vertical-align: middle;\n",
       "    }\n",
       "\n",
       "    .dataframe tbody tr th {\n",
       "        vertical-align: top;\n",
       "    }\n",
       "\n",
       "    .dataframe thead th {\n",
       "        text-align: right;\n",
       "    }\n",
       "</style>\n",
       "<table border=\"1\" class=\"dataframe\">\n",
       "  <thead>\n",
       "    <tr style=\"text-align: right;\">\n",
       "      <th></th>\n",
       "      <th>UTC time</th>\n",
       "      <th>D</th>\n",
       "      <th>Adjusted D</th>\n",
       "      <th>UTC period</th>\n",
       "      <th>value</th>\n",
       "    </tr>\n",
       "  </thead>\n",
       "  <tbody>\n",
       "    <tr>\n",
       "      <th>0</th>\n",
       "      <td>2015-07-01 05:00:00+00:00</td>\n",
       "      <td>84024.0</td>\n",
       "      <td>84024.0</td>\n",
       "      <td>2015-07-01 05:00:00+00:00</td>\n",
       "      <td>84024.0</td>\n",
       "    </tr>\n",
       "    <tr>\n",
       "      <th>1</th>\n",
       "      <td>2015-07-01 06:00:00+00:00</td>\n",
       "      <td>79791.0</td>\n",
       "      <td>79791.0</td>\n",
       "      <td>2015-07-01 06:00:00+00:00</td>\n",
       "      <td>79791.0</td>\n",
       "    </tr>\n",
       "    <tr>\n",
       "      <th>2</th>\n",
       "      <td>2015-07-01 07:00:00+00:00</td>\n",
       "      <td>76760.0</td>\n",
       "      <td>76760.0</td>\n",
       "      <td>2015-07-01 07:00:00+00:00</td>\n",
       "      <td>76760.0</td>\n",
       "    </tr>\n",
       "    <tr>\n",
       "      <th>3</th>\n",
       "      <td>2015-07-01 08:00:00+00:00</td>\n",
       "      <td>74931.0</td>\n",
       "      <td>74931.0</td>\n",
       "      <td>2015-07-01 08:00:00+00:00</td>\n",
       "      <td>74931.0</td>\n",
       "    </tr>\n",
       "    <tr>\n",
       "      <th>4</th>\n",
       "      <td>2015-07-01 09:00:00+00:00</td>\n",
       "      <td>74368.0</td>\n",
       "      <td>74368.0</td>\n",
       "      <td>2015-07-01 09:00:00+00:00</td>\n",
       "      <td>74368.0</td>\n",
       "    </tr>\n",
       "  </tbody>\n",
       "</table>\n",
       "</div>"
      ],
      "text/plain": [
       "                   UTC time        D  Adjusted D                UTC period  \\\n",
       "0 2015-07-01 05:00:00+00:00  84024.0     84024.0 2015-07-01 05:00:00+00:00   \n",
       "1 2015-07-01 06:00:00+00:00  79791.0     79791.0 2015-07-01 06:00:00+00:00   \n",
       "2 2015-07-01 07:00:00+00:00  76760.0     76760.0 2015-07-01 07:00:00+00:00   \n",
       "3 2015-07-01 08:00:00+00:00  74931.0     74931.0 2015-07-01 08:00:00+00:00   \n",
       "4 2015-07-01 09:00:00+00:00  74368.0     74368.0 2015-07-01 09:00:00+00:00   \n",
       "\n",
       "     value  \n",
       "0  84024.0  \n",
       "1  79791.0  \n",
       "2  76760.0  \n",
       "3  74931.0  \n",
       "4  74368.0  "
      ]
     },
     "execution_count": 16,
     "metadata": {},
     "output_type": "execute_result"
    }
   ],
   "source": [
    "merged_df = pd.merge(df[['UTC time', 'D', 'Adjusted D']], api_demand_df[['UTC period', 'value']], \n",
    "                     left_on='UTC time', right_on='UTC period')\n",
    "\n",
    "merged_df.head()"
   ]
  },
  {
   "cell_type": "markdown",
   "id": "576597ff-0c07-4126-b1ca-216c66c17af2",
   "metadata": {},
   "source": [
    "Null values are imputed in the spreadsheet's `Adjusted D` column"
   ]
  },
  {
   "cell_type": "code",
   "execution_count": 17,
   "id": "865e246c-cfbf-413f-8280-d03bce700fec",
   "metadata": {},
   "outputs": [],
   "source": [
    "assert merged_df['Adjusted D'].isna().sum() == 0"
   ]
  },
  {
   "cell_type": "markdown",
   "id": "19a01f2c-3e4f-4a3e-9aeb-a6c7837a4448",
   "metadata": {},
   "source": [
    "But they are not removed from the raw values of the `D` column, which matches the demand values returned by the API."
   ]
  },
  {
   "cell_type": "code",
   "execution_count": 18,
   "id": "ac162884-bec1-4e17-b634-811d42afae29",
   "metadata": {},
   "outputs": [],
   "source": [
    "assert merged_df['D'].isna().sum() > 0\n",
    "assert merged_df['D'].isna().sum() == merged_df['value'].isna().sum()"
   ]
  },
  {
   "cell_type": "markdown",
   "id": "b46533a3-9b27-43b9-8765-7d49a45a58f4",
   "metadata": {},
   "source": [
    "The API reported values match the spreadsheet-reported raw values."
   ]
  },
  {
   "cell_type": "code",
   "execution_count": 19,
   "id": "ab5f1194-a2d2-49f9-b88a-795daf8e386f",
   "metadata": {},
   "outputs": [],
   "source": [
    "equal_mask = merged_df['D'] == merged_df['value']\n",
    "both_nan_mask = pd.isna(merged_df['D']) & pd.isna(merged_df['value'])\n",
    "equal_or_nan_mask = equal_mask | both_nan_mask\n",
    "assert len(merged_df[~equal_or_nan_mask]) == 0"
   ]
  },
  {
   "cell_type": "markdown",
   "id": "5750d578-bf2a-4161-bc3e-847ba7f3ac69",
   "metadata": {},
   "source": [
    "# Create separate columns for D and DF in API results."
   ]
  },
  {
   "cell_type": "code",
   "execution_count": 30,
   "id": "85269693-6787-4fd3-b36e-82b6210cffad",
   "metadata": {},
   "outputs": [
    {
     "name": "stdout",
     "output_type": "stream",
     "text": [
      "<class 'pandas.core.frame.DataFrame'>\n",
      "RangeIndex: 39333 entries, 0 to 39332\n",
      "Data columns (total 4 columns):\n",
      " #   Column      Non-Null Count  Dtype              \n",
      "---  ------      --------------  -----              \n",
      " 0   UTC period  39333 non-null  datetime64[ns, UTC]\n",
      " 1   respondent  39333 non-null  object             \n",
      " 2   D           39333 non-null  float64            \n",
      " 3   DF          39333 non-null  float64            \n",
      "dtypes: datetime64[ns, UTC](1), float64(2), object(1)\n",
      "memory usage: 1.2+ MB\n"
     ]
    }
   ],
   "source": [
    "demand_df = api_df[api_df.type == 'D']\n",
    "d_forecast_df = api_df[api_df.type == 'DF']\n",
    "new_api_df = pd.merge(demand_df[['UTC period', 'respondent', 'value']].rename(columns={'value': 'D'}), \n",
    "                      d_forecast_df[['UTC period', 'value']].rename(columns={'value': 'DF'}), \n",
    "                      on='UTC period')\n",
    "new_api_df.info()"
   ]
  },
  {
   "cell_type": "code",
   "execution_count": 43,
   "id": "610cccea-7c91-4d7e-8f9b-1bebc64ec9d1",
   "metadata": {},
   "outputs": [
    {
     "name": "stdout",
     "output_type": "stream",
     "text": [
      "<class 'pandas.core.frame.DataFrame'>\n",
      "RangeIndex: 39333 entries, 0 to 39332\n",
      "Data columns (total 4 columns):\n",
      " #   Column      Non-Null Count  Dtype              \n",
      "---  ------      --------------  -----              \n",
      " 0   UTC period  39333 non-null  datetime64[ns, UTC]\n",
      " 1   respondent  39333 non-null  object             \n",
      " 2   D           39333 non-null  float64            \n",
      " 3   DF          39333 non-null  float64            \n",
      "dtypes: datetime64[ns, UTC](1), float64(2), object(1)\n",
      "memory usage: 1.2+ MB\n",
      "\n"
     ]
    }
   ],
   "source": [
    "import io\n",
    "buffer = io.StringIO()\n",
    "new_api_df.info(buf=buffer)\n",
    "print(buffer.getvalue())"
   ]
  }
 ],
 "metadata": {
  "kernelspec": {
   "display_name": "Python 3 (ipykernel)",
   "language": "python",
   "name": "python3"
  },
  "language_info": {
   "codemirror_mode": {
    "name": "ipython",
    "version": 3
   },
   "file_extension": ".py",
   "mimetype": "text/x-python",
   "name": "python",
   "nbconvert_exporter": "python",
   "pygments_lexer": "ipython3",
   "version": "3.10.0"
  }
 },
 "nbformat": 4,
 "nbformat_minor": 5
}
