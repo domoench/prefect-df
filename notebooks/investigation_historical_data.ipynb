{
 "cells": [
  {
   "cell_type": "code",
   "execution_count": 1,
   "id": "648c7ba2-f12d-45b4-9a4c-e608bdc5d8a5",
   "metadata": {},
   "outputs": [],
   "source": [
    "%load_ext autoreload\n",
    "%autoreload 2"
   ]
  },
  {
   "cell_type": "code",
   "execution_count": 14,
   "id": "6911d64f-9359-4f5e-b320-3f8f824e9138",
   "metadata": {},
   "outputs": [],
   "source": [
    "import pandas as pd\n",
    "from prefect import flow\n",
    "from core.consts import EIA_TEST_SET_HOURS, EIA_EARLIEST_HOUR_UTC\n",
    "from core.utils import utcnow_minus_buffer_ts\n",
    "from flows.compare_models_flow import fetch_eval_dataset\n",
    "from flows.etl_flow import concurrent_fetch_EIA_data"
   ]
  },
  {
   "cell_type": "code",
   "execution_count": 10,
   "id": "a2326cb9-327b-4c7d-b1af-953c7bd7d23c",
   "metadata": {},
   "outputs": [],
   "source": [
    "start_ts= pd.to_datetime(EIA_EARLIEST_HOUR_UTC).to_pydatetime()\n",
    "end_ts = utcnow_minus_buffer_ts()"
   ]
  },
  {
   "cell_type": "code",
   "execution_count": 17,
   "id": "e5dc0039-fc3a-40b8-83b1-862ad82ed0a6",
   "metadata": {},
   "outputs": [
    {
     "data": {
      "text/html": [
       "<pre style=\"white-space:pre;overflow-x:auto;line-height:normal;font-family:Menlo,'DejaVu Sans Mono',consolas,'Courier New',monospace\">17:32:43.499 | <span style=\"color: #008080; text-decoration-color: #008080\">INFO</span>    | prefect.engine - Created flow run<span style=\"color: #800080; text-decoration-color: #800080\"> 'righteous-monkey'</span> for flow<span style=\"color: #800080; text-decoration-color: #800080; font-weight: bold\"> 'run-fetch'</span>\n",
       "</pre>\n"
      ],
      "text/plain": [
       "17:32:43.499 | \u001b[36mINFO\u001b[0m    | prefect.engine - Created flow run\u001b[35m 'righteous-monkey'\u001b[0m for flow\u001b[1;35m 'run-fetch'\u001b[0m\n"
      ]
     },
     "metadata": {},
     "output_type": "display_data"
    },
    {
     "data": {
      "text/html": [
       "<pre style=\"white-space:pre;overflow-x:auto;line-height:normal;font-family:Menlo,'DejaVu Sans Mono',consolas,'Courier New',monospace\">17:32:43.504 | <span style=\"color: #008080; text-decoration-color: #008080\">INFO</span>    | prefect.engine - View at <span style=\"color: #0000ff; text-decoration-color: #0000ff\">https://app.prefect.cloud/account/914106c7-cc3b-4c5c-99f4-915f39352746/workspace/d3b27b3d-41ca-47a0-9b5b-2eebd92a4b25/runs/flow-run/b142f1cf-b501-4720-8b71-15a07033c86f</span>\n",
       "</pre>\n"
      ],
      "text/plain": [
       "17:32:43.504 | \u001b[36mINFO\u001b[0m    | prefect.engine - View at \u001b[94mhttps://app.prefect.cloud/account/914106c7-cc3b-4c5c-99f4-915f39352746/workspace/d3b27b3d-41ca-47a0-9b5b-2eebd92a4b25/runs/flow-run/b142f1cf-b501-4720-8b71-15a07033c86f\u001b[0m\n"
      ]
     },
     "metadata": {},
     "output_type": "display_data"
    },
    {
     "data": {
      "text/html": [
       "<pre style=\"white-space:pre;overflow-x:auto;line-height:normal;font-family:Menlo,'DejaVu Sans Mono',consolas,'Courier New',monospace\">17:32:43.980 | <span style=\"color: #008080; text-decoration-color: #008080\">INFO</span>    | Task run 'concurrent_fetch_EIA_data-855' - Created task run 'concurrent_fetch_EIA_data-855' for task 'concurrent_fetch_EIA_data'\n",
       "</pre>\n"
      ],
      "text/plain": [
       "17:32:43.980 | \u001b[36mINFO\u001b[0m    | Task run 'concurrent_fetch_EIA_data-855' - Created task run 'concurrent_fetch_EIA_data-855' for task 'concurrent_fetch_EIA_data'\n"
      ]
     },
     "metadata": {},
     "output_type": "display_data"
    },
    {
     "name": "stdout",
     "output_type": "stream",
     "text": [
      "Fetching API page. offset:0. length:5000\n",
      "Total records to fetch: 50904\n",
      "('Fetching 81636 hours of data: 50904 records.\\n', 'Start: 2015-07-01 05:00:00+00:00. End: 2024-10-22 17:00:00+00:00')\n",
      "Will make 10 5000-length requests and one 904-length request.\n"
     ]
    },
    {
     "data": {
      "text/html": [
       "<pre style=\"white-space:pre;overflow-x:auto;line-height:normal;font-family:Menlo,'DejaVu Sans Mono',consolas,'Courier New',monospace\">17:32:45.504 | <span style=\"color: #008080; text-decoration-color: #008080\">INFO</span>    | Task run 'concurrent_fetch_EIA_data-855' - Submitting task get_eia_data_as_df to thread pool executor...\n",
       "</pre>\n"
      ],
      "text/plain": [
       "17:32:45.504 | \u001b[36mINFO\u001b[0m    | Task run 'concurrent_fetch_EIA_data-855' - Submitting task get_eia_data_as_df to thread pool executor...\n"
      ]
     },
     "metadata": {},
     "output_type": "display_data"
    },
    {
     "data": {
      "text/html": [
       "<pre style=\"white-space:pre;overflow-x:auto;line-height:normal;font-family:Menlo,'DejaVu Sans Mono',consolas,'Courier New',monospace\">17:32:45.509 | <span style=\"color: #008080; text-decoration-color: #008080\">INFO</span>    | Task run 'concurrent_fetch_EIA_data-855' - Submitting task get_eia_data_as_df to thread pool executor...\n",
       "</pre>\n"
      ],
      "text/plain": [
       "17:32:45.509 | \u001b[36mINFO\u001b[0m    | Task run 'concurrent_fetch_EIA_data-855' - Submitting task get_eia_data_as_df to thread pool executor...\n"
      ]
     },
     "metadata": {},
     "output_type": "display_data"
    },
    {
     "data": {
      "text/html": [
       "<pre style=\"white-space:pre;overflow-x:auto;line-height:normal;font-family:Menlo,'DejaVu Sans Mono',consolas,'Courier New',monospace\">17:32:45.512 | <span style=\"color: #008080; text-decoration-color: #008080\">INFO</span>    | Task run 'concurrent_fetch_EIA_data-855' - Submitting task get_eia_data_as_df to thread pool executor...\n",
       "</pre>\n"
      ],
      "text/plain": [
       "17:32:45.512 | \u001b[36mINFO\u001b[0m    | Task run 'concurrent_fetch_EIA_data-855' - Submitting task get_eia_data_as_df to thread pool executor...\n"
      ]
     },
     "metadata": {},
     "output_type": "display_data"
    },
    {
     "data": {
      "text/html": [
       "<pre style=\"white-space:pre;overflow-x:auto;line-height:normal;font-family:Menlo,'DejaVu Sans Mono',consolas,'Courier New',monospace\">17:32:45.516 | <span style=\"color: #008080; text-decoration-color: #008080\">INFO</span>    | Task run 'concurrent_fetch_EIA_data-855' - Submitting task get_eia_data_as_df to thread pool executor...\n",
       "</pre>\n"
      ],
      "text/plain": [
       "17:32:45.516 | \u001b[36mINFO\u001b[0m    | Task run 'concurrent_fetch_EIA_data-855' - Submitting task get_eia_data_as_df to thread pool executor...\n"
      ]
     },
     "metadata": {},
     "output_type": "display_data"
    },
    {
     "data": {
      "text/html": [
       "<pre style=\"white-space:pre;overflow-x:auto;line-height:normal;font-family:Menlo,'DejaVu Sans Mono',consolas,'Courier New',monospace\">17:32:45.519 | <span style=\"color: #008080; text-decoration-color: #008080\">INFO</span>    | Task run 'concurrent_fetch_EIA_data-855' - Submitting task get_eia_data_as_df to thread pool executor...\n",
       "</pre>\n"
      ],
      "text/plain": [
       "17:32:45.519 | \u001b[36mINFO\u001b[0m    | Task run 'concurrent_fetch_EIA_data-855' - Submitting task get_eia_data_as_df to thread pool executor...\n"
      ]
     },
     "metadata": {},
     "output_type": "display_data"
    },
    {
     "data": {
      "text/html": [
       "<pre style=\"white-space:pre;overflow-x:auto;line-height:normal;font-family:Menlo,'DejaVu Sans Mono',consolas,'Courier New',monospace\">17:32:45.521 | <span style=\"color: #008080; text-decoration-color: #008080\">INFO</span>    | Task run 'concurrent_fetch_EIA_data-855' - Submitting task get_eia_data_as_df to thread pool executor...\n",
       "</pre>\n"
      ],
      "text/plain": [
       "17:32:45.521 | \u001b[36mINFO\u001b[0m    | Task run 'concurrent_fetch_EIA_data-855' - Submitting task get_eia_data_as_df to thread pool executor...\n"
      ]
     },
     "metadata": {},
     "output_type": "display_data"
    },
    {
     "data": {
      "text/html": [
       "<pre style=\"white-space:pre;overflow-x:auto;line-height:normal;font-family:Menlo,'DejaVu Sans Mono',consolas,'Courier New',monospace\">17:32:45.526 | <span style=\"color: #008080; text-decoration-color: #008080\">INFO</span>    | Task run 'concurrent_fetch_EIA_data-855' - Submitting task get_eia_data_as_df to thread pool executor...\n",
       "</pre>\n"
      ],
      "text/plain": [
       "17:32:45.526 | \u001b[36mINFO\u001b[0m    | Task run 'concurrent_fetch_EIA_data-855' - Submitting task get_eia_data_as_df to thread pool executor...\n"
      ]
     },
     "metadata": {},
     "output_type": "display_data"
    },
    {
     "data": {
      "text/html": [
       "<pre style=\"white-space:pre;overflow-x:auto;line-height:normal;font-family:Menlo,'DejaVu Sans Mono',consolas,'Courier New',monospace\">17:32:45.528 | <span style=\"color: #008080; text-decoration-color: #008080\">INFO</span>    | Task run 'concurrent_fetch_EIA_data-855' - Submitting task get_eia_data_as_df to thread pool executor...\n",
       "</pre>\n"
      ],
      "text/plain": [
       "17:32:45.528 | \u001b[36mINFO\u001b[0m    | Task run 'concurrent_fetch_EIA_data-855' - Submitting task get_eia_data_as_df to thread pool executor...\n"
      ]
     },
     "metadata": {},
     "output_type": "display_data"
    },
    {
     "data": {
      "text/html": [
       "<pre style=\"white-space:pre;overflow-x:auto;line-height:normal;font-family:Menlo,'DejaVu Sans Mono',consolas,'Courier New',monospace\">17:32:45.531 | <span style=\"color: #008080; text-decoration-color: #008080\">INFO</span>    | Task run 'concurrent_fetch_EIA_data-855' - Submitting task get_eia_data_as_df to thread pool executor...\n",
       "</pre>\n"
      ],
      "text/plain": [
       "17:32:45.531 | \u001b[36mINFO\u001b[0m    | Task run 'concurrent_fetch_EIA_data-855' - Submitting task get_eia_data_as_df to thread pool executor...\n"
      ]
     },
     "metadata": {},
     "output_type": "display_data"
    },
    {
     "data": {
      "text/html": [
       "<pre style=\"white-space:pre;overflow-x:auto;line-height:normal;font-family:Menlo,'DejaVu Sans Mono',consolas,'Courier New',monospace\">17:32:45.533 | <span style=\"color: #008080; text-decoration-color: #008080\">INFO</span>    | Task run 'concurrent_fetch_EIA_data-855' - Submitting task get_eia_data_as_df to thread pool executor...\n",
       "</pre>\n"
      ],
      "text/plain": [
       "17:32:45.533 | \u001b[36mINFO\u001b[0m    | Task run 'concurrent_fetch_EIA_data-855' - Submitting task get_eia_data_as_df to thread pool executor...\n"
      ]
     },
     "metadata": {},
     "output_type": "display_data"
    },
    {
     "data": {
      "text/html": [
       "<pre style=\"white-space:pre;overflow-x:auto;line-height:normal;font-family:Menlo,'DejaVu Sans Mono',consolas,'Courier New',monospace\">17:32:45.535 | <span style=\"color: #008080; text-decoration-color: #008080\">INFO</span>    | Task run 'concurrent_fetch_EIA_data-855' - Submitting task get_eia_data_as_df to thread pool executor...\n",
       "</pre>\n"
      ],
      "text/plain": [
       "17:32:45.535 | \u001b[36mINFO\u001b[0m    | Task run 'concurrent_fetch_EIA_data-855' - Submitting task get_eia_data_as_df to thread pool executor...\n"
      ]
     },
     "metadata": {},
     "output_type": "display_data"
    },
    {
     "data": {
      "text/html": [
       "<pre style=\"white-space:pre;overflow-x:auto;line-height:normal;font-family:Menlo,'DejaVu Sans Mono',consolas,'Courier New',monospace\">17:32:45.719 | <span style=\"color: #008080; text-decoration-color: #008080\">INFO</span>    | Task run 'get_eia_data_as_df-672' - Created task run 'get_eia_data_as_df-672' for task 'get_eia_data_as_df'\n",
       "</pre>\n"
      ],
      "text/plain": [
       "17:32:45.719 | \u001b[36mINFO\u001b[0m    | Task run 'get_eia_data_as_df-672' - Created task run 'get_eia_data_as_df-672' for task 'get_eia_data_as_df'\n"
      ]
     },
     "metadata": {},
     "output_type": "display_data"
    },
    {
     "name": "stdout",
     "output_type": "stream",
     "text": [
      "Fetching API page. offset:35000. length:5000"
     ]
    },
    {
     "data": {
      "text/html": [
       "<pre style=\"white-space:pre;overflow-x:auto;line-height:normal;font-family:Menlo,'DejaVu Sans Mono',consolas,'Courier New',monospace\">17:32:45.721 | <span style=\"color: #008080; text-decoration-color: #008080\">INFO</span>    | Task run 'get_eia_data_as_df-94b' - Created task run 'get_eia_data_as_df-94b' for task 'get_eia_data_as_df'\n",
       "</pre>\n"
      ],
      "text/plain": [
       "17:32:45.721 | \u001b[36mINFO\u001b[0m    | Task run 'get_eia_data_as_df-94b' - Created task run 'get_eia_data_as_df-94b' for task 'get_eia_data_as_df'\n"
      ]
     },
     "metadata": {},
     "output_type": "display_data"
    },
    {
     "name": "stdout",
     "output_type": "stream",
     "text": [
      "\n",
      "Fetching API page. offset:40000. length:5000"
     ]
    },
    {
     "data": {
      "text/html": [
       "<pre style=\"white-space:pre;overflow-x:auto;line-height:normal;font-family:Menlo,'DejaVu Sans Mono',consolas,'Courier New',monospace\">17:32:45.721 | <span style=\"color: #008080; text-decoration-color: #008080\">INFO</span>    | Task run 'get_eia_data_as_df-bc6' - Created task run 'get_eia_data_as_df-bc6' for task 'get_eia_data_as_df'\n",
       "</pre>\n"
      ],
      "text/plain": [
       "17:32:45.721 | \u001b[36mINFO\u001b[0m    | Task run 'get_eia_data_as_df-bc6' - Created task run 'get_eia_data_as_df-bc6' for task 'get_eia_data_as_df'\n"
      ]
     },
     "metadata": {},
     "output_type": "display_data"
    },
    {
     "name": "stdout",
     "output_type": "stream",
     "text": [
      "\n"
     ]
    },
    {
     "data": {
      "text/html": [
       "<pre style=\"white-space:pre;overflow-x:auto;line-height:normal;font-family:Menlo,'DejaVu Sans Mono',consolas,'Courier New',monospace\">17:32:45.721 | <span style=\"color: #008080; text-decoration-color: #008080\">INFO</span>    | Task run 'get_eia_data_as_df-cf6' - Created task run 'get_eia_data_as_df-cf6' for task 'get_eia_data_as_df'\n",
       "</pre>\n"
      ],
      "text/plain": [
       "17:32:45.721 | \u001b[36mINFO\u001b[0m    | Task run 'get_eia_data_as_df-cf6' - Created task run 'get_eia_data_as_df-cf6' for task 'get_eia_data_as_df'\n"
      ]
     },
     "metadata": {},
     "output_type": "display_data"
    },
    {
     "data": {
      "text/html": [
       "<pre style=\"white-space:pre;overflow-x:auto;line-height:normal;font-family:Menlo,'DejaVu Sans Mono',consolas,'Courier New',monospace\">17:32:45.721 | <span style=\"color: #008080; text-decoration-color: #008080\">INFO</span>    | Task run 'get_eia_data_as_df-f04' - Created task run 'get_eia_data_as_df-f04' for task 'get_eia_data_as_df'\n",
       "</pre>\n"
      ],
      "text/plain": [
       "17:32:45.721 | \u001b[36mINFO\u001b[0m    | Task run 'get_eia_data_as_df-f04' - Created task run 'get_eia_data_as_df-f04' for task 'get_eia_data_as_df'\n"
      ]
     },
     "metadata": {},
     "output_type": "display_data"
    },
    {
     "data": {
      "text/html": [
       "<pre style=\"white-space:pre;overflow-x:auto;line-height:normal;font-family:Menlo,'DejaVu Sans Mono',consolas,'Courier New',monospace\">17:32:45.722 | <span style=\"color: #008080; text-decoration-color: #008080\">INFO</span>    | Task run 'get_eia_data_as_df-f51' - Created task run 'get_eia_data_as_df-f51' for task 'get_eia_data_as_df'\n",
       "</pre>\n"
      ],
      "text/plain": [
       "17:32:45.722 | \u001b[36mINFO\u001b[0m    | Task run 'get_eia_data_as_df-f51' - Created task run 'get_eia_data_as_df-f51' for task 'get_eia_data_as_df'\n"
      ]
     },
     "metadata": {},
     "output_type": "display_data"
    },
    {
     "data": {
      "text/html": [
       "<pre style=\"white-space:pre;overflow-x:auto;line-height:normal;font-family:Menlo,'DejaVu Sans Mono',consolas,'Courier New',monospace\">17:32:45.722 | <span style=\"color: #008080; text-decoration-color: #008080\">INFO</span>    | Task run 'get_eia_data_as_df-86d' - Created task run 'get_eia_data_as_df-86d' for task 'get_eia_data_as_df'\n",
       "</pre>\n"
      ],
      "text/plain": [
       "17:32:45.722 | \u001b[36mINFO\u001b[0m    | Task run 'get_eia_data_as_df-86d' - Created task run 'get_eia_data_as_df-86d' for task 'get_eia_data_as_df'\n"
      ]
     },
     "metadata": {},
     "output_type": "display_data"
    },
    {
     "data": {
      "text/html": [
       "<pre style=\"white-space:pre;overflow-x:auto;line-height:normal;font-family:Menlo,'DejaVu Sans Mono',consolas,'Courier New',monospace\">17:32:45.722 | <span style=\"color: #008080; text-decoration-color: #008080\">INFO</span>    | Task run 'get_eia_data_as_df-fb7' - Created task run 'get_eia_data_as_df-fb7' for task 'get_eia_data_as_df'\n",
       "</pre>\n"
      ],
      "text/plain": [
       "17:32:45.722 | \u001b[36mINFO\u001b[0m    | Task run 'get_eia_data_as_df-fb7' - Created task run 'get_eia_data_as_df-fb7' for task 'get_eia_data_as_df'\n"
      ]
     },
     "metadata": {},
     "output_type": "display_data"
    },
    {
     "data": {
      "text/html": [
       "<pre style=\"white-space:pre;overflow-x:auto;line-height:normal;font-family:Menlo,'DejaVu Sans Mono',consolas,'Courier New',monospace\">17:32:45.723 | <span style=\"color: #008080; text-decoration-color: #008080\">INFO</span>    | Task run 'get_eia_data_as_df-748' - Created task run 'get_eia_data_as_df-748' for task 'get_eia_data_as_df'\n",
       "</pre>\n"
      ],
      "text/plain": [
       "17:32:45.723 | \u001b[36mINFO\u001b[0m    | Task run 'get_eia_data_as_df-748' - Created task run 'get_eia_data_as_df-748' for task 'get_eia_data_as_df'\n"
      ]
     },
     "metadata": {},
     "output_type": "display_data"
    },
    {
     "data": {
      "text/html": [
       "<pre style=\"white-space:pre;overflow-x:auto;line-height:normal;font-family:Menlo,'DejaVu Sans Mono',consolas,'Courier New',monospace\">17:32:45.724 | <span style=\"color: #008080; text-decoration-color: #008080\">INFO</span>    | Task run 'get_eia_data_as_df-ca1' - Created task run 'get_eia_data_as_df-ca1' for task 'get_eia_data_as_df'\n",
       "</pre>\n"
      ],
      "text/plain": [
       "17:32:45.724 | \u001b[36mINFO\u001b[0m    | Task run 'get_eia_data_as_df-ca1' - Created task run 'get_eia_data_as_df-ca1' for task 'get_eia_data_as_df'\n"
      ]
     },
     "metadata": {},
     "output_type": "display_data"
    },
    {
     "data": {
      "text/html": [
       "<pre style=\"white-space:pre;overflow-x:auto;line-height:normal;font-family:Menlo,'DejaVu Sans Mono',consolas,'Courier New',monospace\">17:32:45.725 | <span style=\"color: #008080; text-decoration-color: #008080\">INFO</span>    | Task run 'get_eia_data_as_df-9db' - Created task run 'get_eia_data_as_df-9db' for task 'get_eia_data_as_df'\n",
       "</pre>\n"
      ],
      "text/plain": [
       "17:32:45.725 | \u001b[36mINFO\u001b[0m    | Task run 'get_eia_data_as_df-9db' - Created task run 'get_eia_data_as_df-9db' for task 'get_eia_data_as_df'\n"
      ]
     },
     "metadata": {},
     "output_type": "display_data"
    },
    {
     "name": "stdout",
     "output_type": "stream",
     "text": [
      "Fetching API page. offset:25000. length:5000\n",
      "Fetching API page. offset:50000. length:904\n",
      "Fetching API page. offset:45000. length:5000Fetching API page. offset:15000. length:5000\n",
      "Fetching API page. offset:5000. length:5000\n",
      "\n",
      "Fetching API page. offset:30000. length:5000Fetching API page. offset:0. length:5000\n",
      "\n",
      "Fetching API page. offset:20000. length:5000\n",
      "Fetching API page. offset:10000. length:5000\n"
     ]
    },
    {
     "data": {
      "text/html": [
       "<pre style=\"white-space:pre;overflow-x:auto;line-height:normal;font-family:Menlo,'DejaVu Sans Mono',consolas,'Courier New',monospace\">17:32:49.065 | <span style=\"color: #008080; text-decoration-color: #008080\">INFO</span>    | Task run 'get_eia_data_as_df-f04' - Finished in state <span style=\"color: #008000; text-decoration-color: #008000\">Completed</span>()\n",
       "</pre>\n"
      ],
      "text/plain": [
       "17:32:49.065 | \u001b[36mINFO\u001b[0m    | Task run 'get_eia_data_as_df-f04' - Finished in state \u001b[32mCompleted\u001b[0m()\n"
      ]
     },
     "metadata": {},
     "output_type": "display_data"
    },
    {
     "data": {
      "text/html": [
       "<pre style=\"white-space:pre;overflow-x:auto;line-height:normal;font-family:Menlo,'DejaVu Sans Mono',consolas,'Courier New',monospace\">17:32:49.141 | <span style=\"color: #008080; text-decoration-color: #008080\">INFO</span>    | Task run 'get_eia_data_as_df-748' - Finished in state <span style=\"color: #008000; text-decoration-color: #008000\">Completed</span>()\n",
       "</pre>\n"
      ],
      "text/plain": [
       "17:32:49.141 | \u001b[36mINFO\u001b[0m    | Task run 'get_eia_data_as_df-748' - Finished in state \u001b[32mCompleted\u001b[0m()\n"
      ]
     },
     "metadata": {},
     "output_type": "display_data"
    },
    {
     "data": {
      "text/html": [
       "<pre style=\"white-space:pre;overflow-x:auto;line-height:normal;font-family:Menlo,'DejaVu Sans Mono',consolas,'Courier New',monospace\">17:32:49.355 | <span style=\"color: #008080; text-decoration-color: #008080\">INFO</span>    | Task run 'get_eia_data_as_df-94b' - Finished in state <span style=\"color: #008000; text-decoration-color: #008000\">Completed</span>()\n",
       "</pre>\n"
      ],
      "text/plain": [
       "17:32:49.355 | \u001b[36mINFO\u001b[0m    | Task run 'get_eia_data_as_df-94b' - Finished in state \u001b[32mCompleted\u001b[0m()\n"
      ]
     },
     "metadata": {},
     "output_type": "display_data"
    },
    {
     "data": {
      "text/html": [
       "<pre style=\"white-space:pre;overflow-x:auto;line-height:normal;font-family:Menlo,'DejaVu Sans Mono',consolas,'Courier New',monospace\">17:32:49.567 | <span style=\"color: #008080; text-decoration-color: #008080\">INFO</span>    | Task run 'get_eia_data_as_df-86d' - Finished in state <span style=\"color: #008000; text-decoration-color: #008000\">Completed</span>()\n",
       "</pre>\n"
      ],
      "text/plain": [
       "17:32:49.567 | \u001b[36mINFO\u001b[0m    | Task run 'get_eia_data_as_df-86d' - Finished in state \u001b[32mCompleted\u001b[0m()\n"
      ]
     },
     "metadata": {},
     "output_type": "display_data"
    },
    {
     "data": {
      "text/html": [
       "<pre style=\"white-space:pre;overflow-x:auto;line-height:normal;font-family:Menlo,'DejaVu Sans Mono',consolas,'Courier New',monospace\">17:32:49.652 | <span style=\"color: #008080; text-decoration-color: #008080\">INFO</span>    | Task run 'get_eia_data_as_df-bc6' - Finished in state <span style=\"color: #008000; text-decoration-color: #008000\">Completed</span>()\n",
       "</pre>\n"
      ],
      "text/plain": [
       "17:32:49.652 | \u001b[36mINFO\u001b[0m    | Task run 'get_eia_data_as_df-bc6' - Finished in state \u001b[32mCompleted\u001b[0m()\n"
      ]
     },
     "metadata": {},
     "output_type": "display_data"
    },
    {
     "data": {
      "text/html": [
       "<pre style=\"white-space:pre;overflow-x:auto;line-height:normal;font-family:Menlo,'DejaVu Sans Mono',consolas,'Courier New',monospace\">17:32:49.709 | <span style=\"color: #008080; text-decoration-color: #008080\">INFO</span>    | Task run 'get_eia_data_as_df-fb7' - Finished in state <span style=\"color: #008000; text-decoration-color: #008000\">Completed</span>()\n",
       "</pre>\n"
      ],
      "text/plain": [
       "17:32:49.709 | \u001b[36mINFO\u001b[0m    | Task run 'get_eia_data_as_df-fb7' - Finished in state \u001b[32mCompleted\u001b[0m()\n"
      ]
     },
     "metadata": {},
     "output_type": "display_data"
    },
    {
     "data": {
      "text/html": [
       "<pre style=\"white-space:pre;overflow-x:auto;line-height:normal;font-family:Menlo,'DejaVu Sans Mono',consolas,'Courier New',monospace\">17:32:49.710 | <span style=\"color: #008080; text-decoration-color: #008080\">INFO</span>    | Task run 'get_eia_data_as_df-ca1' - Finished in state <span style=\"color: #008000; text-decoration-color: #008000\">Completed</span>()\n",
       "</pre>\n"
      ],
      "text/plain": [
       "17:32:49.710 | \u001b[36mINFO\u001b[0m    | Task run 'get_eia_data_as_df-ca1' - Finished in state \u001b[32mCompleted\u001b[0m()\n"
      ]
     },
     "metadata": {},
     "output_type": "display_data"
    },
    {
     "data": {
      "text/html": [
       "<pre style=\"white-space:pre;overflow-x:auto;line-height:normal;font-family:Menlo,'DejaVu Sans Mono',consolas,'Courier New',monospace\">17:32:49.710 | <span style=\"color: #008080; text-decoration-color: #008080\">INFO</span>    | Task run 'get_eia_data_as_df-cf6' - Finished in state <span style=\"color: #008000; text-decoration-color: #008000\">Completed</span>()\n",
       "</pre>\n"
      ],
      "text/plain": [
       "17:32:49.710 | \u001b[36mINFO\u001b[0m    | Task run 'get_eia_data_as_df-cf6' - Finished in state \u001b[32mCompleted\u001b[0m()\n"
      ]
     },
     "metadata": {},
     "output_type": "display_data"
    },
    {
     "data": {
      "text/html": [
       "<pre style=\"white-space:pre;overflow-x:auto;line-height:normal;font-family:Menlo,'DejaVu Sans Mono',consolas,'Courier New',monospace\">17:32:49.711 | <span style=\"color: #008080; text-decoration-color: #008080\">INFO</span>    | Task run 'get_eia_data_as_df-9db' - Finished in state <span style=\"color: #008000; text-decoration-color: #008000\">Completed</span>()\n",
       "</pre>\n"
      ],
      "text/plain": [
       "17:32:49.711 | \u001b[36mINFO\u001b[0m    | Task run 'get_eia_data_as_df-9db' - Finished in state \u001b[32mCompleted\u001b[0m()\n"
      ]
     },
     "metadata": {},
     "output_type": "display_data"
    },
    {
     "data": {
      "text/html": [
       "<pre style=\"white-space:pre;overflow-x:auto;line-height:normal;font-family:Menlo,'DejaVu Sans Mono',consolas,'Courier New',monospace\">17:32:49.712 | <span style=\"color: #008080; text-decoration-color: #008080\">INFO</span>    | Task run 'get_eia_data_as_df-f51' - Finished in state <span style=\"color: #008000; text-decoration-color: #008000\">Completed</span>()\n",
       "</pre>\n"
      ],
      "text/plain": [
       "17:32:49.712 | \u001b[36mINFO\u001b[0m    | Task run 'get_eia_data_as_df-f51' - Finished in state \u001b[32mCompleted\u001b[0m()\n"
      ]
     },
     "metadata": {},
     "output_type": "display_data"
    },
    {
     "data": {
      "text/html": [
       "<pre style=\"white-space:pre;overflow-x:auto;line-height:normal;font-family:Menlo,'DejaVu Sans Mono',consolas,'Courier New',monospace\">17:32:49.712 | <span style=\"color: #008080; text-decoration-color: #008080\">INFO</span>    | Task run 'get_eia_data_as_df-672' - Finished in state <span style=\"color: #008000; text-decoration-color: #008000\">Completed</span>()\n",
       "</pre>\n"
      ],
      "text/plain": [
       "17:32:49.712 | \u001b[36mINFO\u001b[0m    | Task run 'get_eia_data_as_df-672' - Finished in state \u001b[32mCompleted\u001b[0m()\n"
      ]
     },
     "metadata": {},
     "output_type": "display_data"
    },
    {
     "data": {
      "text/html": [
       "<pre style=\"white-space:pre;overflow-x:auto;line-height:normal;font-family:Menlo,'DejaVu Sans Mono',consolas,'Courier New',monospace\">17:32:49.900 | <span style=\"color: #008080; text-decoration-color: #008080\">INFO</span>    | Task run 'concurrent_fetch_EIA_data-855' - Finished in state <span style=\"color: #008000; text-decoration-color: #008000\">Completed</span>()\n",
       "</pre>\n"
      ],
      "text/plain": [
       "17:32:49.900 | \u001b[36mINFO\u001b[0m    | Task run 'concurrent_fetch_EIA_data-855' - Finished in state \u001b[32mCompleted\u001b[0m()\n"
      ]
     },
     "metadata": {},
     "output_type": "display_data"
    },
    {
     "data": {
      "text/html": [
       "<pre style=\"white-space:pre;overflow-x:auto;line-height:normal;font-family:Menlo,'DejaVu Sans Mono',consolas,'Courier New',monospace\">17:32:50.091 | <span style=\"color: #008080; text-decoration-color: #008080\">INFO</span>    | Flow run<span style=\"color: #800080; text-decoration-color: #800080\"> 'righteous-monkey'</span> - Finished in state <span style=\"color: #008000; text-decoration-color: #008000\">Completed</span>()\n",
       "</pre>\n"
      ],
      "text/plain": [
       "17:32:50.091 | \u001b[36mINFO\u001b[0m    | Flow run\u001b[35m 'righteous-monkey'\u001b[0m - Finished in state \u001b[32mCompleted\u001b[0m()\n"
      ]
     },
     "metadata": {},
     "output_type": "display_data"
    },
    {
     "data": {
      "text/html": [
       "<div>\n",
       "<style scoped>\n",
       "    .dataframe tbody tr th:only-of-type {\n",
       "        vertical-align: middle;\n",
       "    }\n",
       "\n",
       "    .dataframe tbody tr th {\n",
       "        vertical-align: top;\n",
       "    }\n",
       "\n",
       "    .dataframe thead th {\n",
       "        text-align: right;\n",
       "    }\n",
       "</style>\n",
       "<table border=\"1\" class=\"dataframe\">\n",
       "  <thead>\n",
       "    <tr style=\"text-align: right;\">\n",
       "      <th></th>\n",
       "      <th>period</th>\n",
       "      <th>respondent</th>\n",
       "      <th>respondent-name</th>\n",
       "      <th>type</th>\n",
       "      <th>type-name</th>\n",
       "      <th>value</th>\n",
       "      <th>value-units</th>\n",
       "    </tr>\n",
       "  </thead>\n",
       "  <tbody>\n",
       "    <tr>\n",
       "      <th>0</th>\n",
       "      <td>2019-01-01T00</td>\n",
       "      <td>PJM</td>\n",
       "      <td>PJM Interconnection, LLC</td>\n",
       "      <td>D</td>\n",
       "      <td>Demand</td>\n",
       "      <td>94016</td>\n",
       "      <td>megawatthours</td>\n",
       "    </tr>\n",
       "    <tr>\n",
       "      <th>1</th>\n",
       "      <td>2019-01-01T01</td>\n",
       "      <td>PJM</td>\n",
       "      <td>PJM Interconnection, LLC</td>\n",
       "      <td>D</td>\n",
       "      <td>Demand</td>\n",
       "      <td>90385</td>\n",
       "      <td>megawatthours</td>\n",
       "    </tr>\n",
       "    <tr>\n",
       "      <th>2</th>\n",
       "      <td>2019-01-01T02</td>\n",
       "      <td>PJM</td>\n",
       "      <td>PJM Interconnection, LLC</td>\n",
       "      <td>D</td>\n",
       "      <td>Demand</td>\n",
       "      <td>86724</td>\n",
       "      <td>megawatthours</td>\n",
       "    </tr>\n",
       "    <tr>\n",
       "      <th>3</th>\n",
       "      <td>2019-01-01T03</td>\n",
       "      <td>PJM</td>\n",
       "      <td>PJM Interconnection, LLC</td>\n",
       "      <td>D</td>\n",
       "      <td>Demand</td>\n",
       "      <td>82978</td>\n",
       "      <td>megawatthours</td>\n",
       "    </tr>\n",
       "    <tr>\n",
       "      <th>4</th>\n",
       "      <td>2019-01-01T04</td>\n",
       "      <td>PJM</td>\n",
       "      <td>PJM Interconnection, LLC</td>\n",
       "      <td>D</td>\n",
       "      <td>Demand</td>\n",
       "      <td>79536</td>\n",
       "      <td>megawatthours</td>\n",
       "    </tr>\n",
       "    <tr>\n",
       "      <th>...</th>\n",
       "      <td>...</td>\n",
       "      <td>...</td>\n",
       "      <td>...</td>\n",
       "      <td>...</td>\n",
       "      <td>...</td>\n",
       "      <td>...</td>\n",
       "      <td>...</td>\n",
       "    </tr>\n",
       "    <tr>\n",
       "      <th>899</th>\n",
       "      <td>2024-10-21T20</td>\n",
       "      <td>PJM</td>\n",
       "      <td>PJM Interconnection, LLC</td>\n",
       "      <td>D</td>\n",
       "      <td>Demand</td>\n",
       "      <td>86553</td>\n",
       "      <td>megawatthours</td>\n",
       "    </tr>\n",
       "    <tr>\n",
       "      <th>900</th>\n",
       "      <td>2024-10-21T21</td>\n",
       "      <td>PJM</td>\n",
       "      <td>PJM Interconnection, LLC</td>\n",
       "      <td>D</td>\n",
       "      <td>Demand</td>\n",
       "      <td>88442</td>\n",
       "      <td>megawatthours</td>\n",
       "    </tr>\n",
       "    <tr>\n",
       "      <th>901</th>\n",
       "      <td>2024-10-21T22</td>\n",
       "      <td>PJM</td>\n",
       "      <td>PJM Interconnection, LLC</td>\n",
       "      <td>D</td>\n",
       "      <td>Demand</td>\n",
       "      <td>90244</td>\n",
       "      <td>megawatthours</td>\n",
       "    </tr>\n",
       "    <tr>\n",
       "      <th>902</th>\n",
       "      <td>2024-10-21T23</td>\n",
       "      <td>PJM</td>\n",
       "      <td>PJM Interconnection, LLC</td>\n",
       "      <td>D</td>\n",
       "      <td>Demand</td>\n",
       "      <td>90789</td>\n",
       "      <td>megawatthours</td>\n",
       "    </tr>\n",
       "    <tr>\n",
       "      <th>903</th>\n",
       "      <td>2024-10-22T00</td>\n",
       "      <td>PJM</td>\n",
       "      <td>PJM Interconnection, LLC</td>\n",
       "      <td>D</td>\n",
       "      <td>Demand</td>\n",
       "      <td>91116</td>\n",
       "      <td>megawatthours</td>\n",
       "    </tr>\n",
       "  </tbody>\n",
       "</table>\n",
       "<p>50904 rows × 7 columns</p>\n",
       "</div>"
      ],
      "text/plain": [
       "            period respondent           respondent-name type type-name  value  \\\n",
       "0    2019-01-01T00        PJM  PJM Interconnection, LLC    D    Demand  94016   \n",
       "1    2019-01-01T01        PJM  PJM Interconnection, LLC    D    Demand  90385   \n",
       "2    2019-01-01T02        PJM  PJM Interconnection, LLC    D    Demand  86724   \n",
       "3    2019-01-01T03        PJM  PJM Interconnection, LLC    D    Demand  82978   \n",
       "4    2019-01-01T04        PJM  PJM Interconnection, LLC    D    Demand  79536   \n",
       "..             ...        ...                       ...  ...       ...    ...   \n",
       "899  2024-10-21T20        PJM  PJM Interconnection, LLC    D    Demand  86553   \n",
       "900  2024-10-21T21        PJM  PJM Interconnection, LLC    D    Demand  88442   \n",
       "901  2024-10-21T22        PJM  PJM Interconnection, LLC    D    Demand  90244   \n",
       "902  2024-10-21T23        PJM  PJM Interconnection, LLC    D    Demand  90789   \n",
       "903  2024-10-22T00        PJM  PJM Interconnection, LLC    D    Demand  91116   \n",
       "\n",
       "       value-units  \n",
       "0    megawatthours  \n",
       "1    megawatthours  \n",
       "2    megawatthours  \n",
       "3    megawatthours  \n",
       "4    megawatthours  \n",
       "..             ...  \n",
       "899  megawatthours  \n",
       "900  megawatthours  \n",
       "901  megawatthours  \n",
       "902  megawatthours  \n",
       "903  megawatthours  \n",
       "\n",
       "[50904 rows x 7 columns]"
      ]
     },
     "execution_count": 17,
     "metadata": {},
     "output_type": "execute_result"
    }
   ],
   "source": [
    "@flow\n",
    "def run_fetch(start_ts, end_ts):\n",
    "    return concurrent_fetch_EIA_data(start_ts, end_ts)\n",
    "    \n",
    "run_fetch(start_ts, end_ts) "
   ]
  },
  {
   "cell_type": "code",
   "execution_count": 18,
   "id": "b3f172a9-daff-4514-bfcc-1841596c21d1",
   "metadata": {},
   "outputs": [],
   "source": [
    "df = _"
   ]
  },
  {
   "cell_type": "code",
   "execution_count": 20,
   "id": "87d9d3b3-b382-44f8-940e-56d7665edce4",
   "metadata": {},
   "outputs": [
    {
     "data": {
      "text/html": [
       "<div>\n",
       "<style scoped>\n",
       "    .dataframe tbody tr th:only-of-type {\n",
       "        vertical-align: middle;\n",
       "    }\n",
       "\n",
       "    .dataframe tbody tr th {\n",
       "        vertical-align: top;\n",
       "    }\n",
       "\n",
       "    .dataframe thead th {\n",
       "        text-align: right;\n",
       "    }\n",
       "</style>\n",
       "<table border=\"1\" class=\"dataframe\">\n",
       "  <thead>\n",
       "    <tr style=\"text-align: right;\">\n",
       "      <th></th>\n",
       "      <th>period</th>\n",
       "      <th>respondent</th>\n",
       "      <th>respondent-name</th>\n",
       "      <th>type</th>\n",
       "      <th>type-name</th>\n",
       "      <th>value</th>\n",
       "      <th>value-units</th>\n",
       "    </tr>\n",
       "  </thead>\n",
       "  <tbody>\n",
       "    <tr>\n",
       "      <th>count</th>\n",
       "      <td>50904</td>\n",
       "      <td>50904</td>\n",
       "      <td>50904</td>\n",
       "      <td>50904</td>\n",
       "      <td>50904</td>\n",
       "      <td>50788</td>\n",
       "      <td>50904</td>\n",
       "    </tr>\n",
       "    <tr>\n",
       "      <th>unique</th>\n",
       "      <td>50904</td>\n",
       "      <td>1</td>\n",
       "      <td>1</td>\n",
       "      <td>1</td>\n",
       "      <td>1</td>\n",
       "      <td>32825</td>\n",
       "      <td>1</td>\n",
       "    </tr>\n",
       "    <tr>\n",
       "      <th>top</th>\n",
       "      <td>2019-01-01T00</td>\n",
       "      <td>PJM</td>\n",
       "      <td>PJM Interconnection, LLC</td>\n",
       "      <td>D</td>\n",
       "      <td>Demand</td>\n",
       "      <td>85298</td>\n",
       "      <td>megawatthours</td>\n",
       "    </tr>\n",
       "    <tr>\n",
       "      <th>freq</th>\n",
       "      <td>1</td>\n",
       "      <td>50904</td>\n",
       "      <td>50904</td>\n",
       "      <td>50904</td>\n",
       "      <td>50904</td>\n",
       "      <td>8</td>\n",
       "      <td>50904</td>\n",
       "    </tr>\n",
       "  </tbody>\n",
       "</table>\n",
       "</div>"
      ],
      "text/plain": [
       "               period respondent           respondent-name   type type-name  \\\n",
       "count           50904      50904                     50904  50904     50904   \n",
       "unique          50904          1                         1      1         1   \n",
       "top     2019-01-01T00        PJM  PJM Interconnection, LLC      D    Demand   \n",
       "freq                1      50904                     50904  50904     50904   \n",
       "\n",
       "        value    value-units  \n",
       "count   50788          50904  \n",
       "unique  32825              1  \n",
       "top     85298  megawatthours  \n",
       "freq        8          50904  "
      ]
     },
     "execution_count": 20,
     "metadata": {},
     "output_type": "execute_result"
    }
   ],
   "source": [
    "df.describe()"
   ]
  }
 ],
 "metadata": {
  "kernelspec": {
   "display_name": "Python 3 (ipykernel)",
   "language": "python",
   "name": "python3"
  },
  "language_info": {
   "codemirror_mode": {
    "name": "ipython",
    "version": 3
   },
   "file_extension": ".py",
   "mimetype": "text/x-python",
   "name": "python",
   "nbconvert_exporter": "python",
   "pygments_lexer": "ipython3",
   "version": "3.10.15"
  }
 },
 "nbformat": 4,
 "nbformat_minor": 5
}
