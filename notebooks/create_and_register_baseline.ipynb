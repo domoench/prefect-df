{
 "cells": [
  {
   "cell_type": "markdown",
   "id": "604770d5-41c5-40f4-88cf-3575bc341b91",
   "metadata": {},
   "source": [
    "This is a script to create and register a naive non-ML baseline forecasting model.\n",
    "\n",
    "**The model**: For a given input (with a timestamp index feature), it predicts the average electricity demand value for that month and hour of day.\n",
    "\n",
    "This model is then registered to the MLFlow model registry."
   ]
  },
  {
   "cell_type": "markdown",
   "id": "73e1eaca-c2bb-4a55-8547-c6b0c14098df",
   "metadata": {},
   "source": [
    "# Import Libraries"
   ]
  },
  {
   "cell_type": "code",
   "execution_count": 1,
   "id": "87c5a2b5-c153-4b03-b70c-f1fb9262349d",
   "metadata": {},
   "outputs": [],
   "source": [
    "import pandas as pd\n",
    "import matplotlib.pyplot as plt\n",
    "import sys\n",
    "import mlflow\n",
    "import getpass"
   ]
  },
  {
   "cell_type": "code",
   "execution_count": 2,
   "id": "59390f18-9213-4ca1-b32a-80da7f283d1f",
   "metadata": {},
   "outputs": [
    {
     "name": "stdout",
     "output_type": "stream",
     "text": [
      "/app/notebooks\n"
     ]
    }
   ],
   "source": [
    "import os\n",
    "print(os.getcwd())"
   ]
  },
  {
   "cell_type": "code",
   "execution_count": 3,
   "id": "cf18b249-d9ed-4169-9c19-580b983ee812",
   "metadata": {},
   "outputs": [],
   "source": [
    "# Auto reload core modules so I don't need to restart kernel when I change\n",
    "# the code in those modules\n",
    "%load_ext autoreload\n",
    "%autoreload 2"
   ]
  },
  {
   "cell_type": "code",
   "execution_count": 4,
   "id": "3c0890c2-960f-475b-8d17-f2ff8b38276a",
   "metadata": {},
   "outputs": [
    {
     "data": {
      "text/html": [
       "<pre style=\"white-space:pre;overflow-x:auto;line-height:normal;font-family:Menlo,'DejaVu Sans Mono',consolas,'Courier New',monospace\">15:58:30.530 | <span style=\"color: #d7d700; text-decoration-color: #d7d700\">WARNING</span> | py.warnings - /usr/local/lib/python3.10/site-packages/pydantic/_internal/_model_construction.py:268: PydanticDeprecatedSince20: The `__fields__` attribute is deprecated, use `model_fields` instead. Deprecated in Pydantic V2.0 to be removed in V3.0. See Pydantic V2 Migration Guide at <span style=\"color: #0000ff; text-decoration-color: #0000ff\">https://errors.pydantic.dev/2.8/migration/</span>\n",
       "  warnings.warn(\n",
       "\n",
       "</pre>\n"
      ],
      "text/plain": [
       "15:58:30.530 | \u001b[38;5;184mWARNING\u001b[0m | py.warnings - /usr/local/lib/python3.10/site-packages/pydantic/_internal/_model_construction.py:268: PydanticDeprecatedSince20: The `__fields__` attribute is deprecated, use `model_fields` instead. Deprecated in Pydantic V2.0 to be removed in V3.0. See Pydantic V2 Migration Guide at \u001b[94mhttps://errors.pydantic.dev/2.8/migration/\u001b[0m\n",
       "  warnings.warn(\n",
       "\n"
      ]
     },
     "metadata": {},
     "output_type": "display_data"
    },
    {
     "data": {
      "text/html": [
       "<pre style=\"white-space:pre;overflow-x:auto;line-height:normal;font-family:Menlo,'DejaVu Sans Mono',consolas,'Courier New',monospace\">15:58:30.536 | <span style=\"color: #d7d700; text-decoration-color: #d7d700\">WARNING</span> | py.warnings - /usr/local/lib/python3.10/site-packages/pydantic/_internal/_config.py:291: PydanticDeprecatedSince20: Support for class-based `config` is deprecated, use ConfigDict instead. Deprecated in Pydantic V2.0 to be removed in V3.0. See Pydantic V2 Migration Guide at <span style=\"color: #0000ff; text-decoration-color: #0000ff\">https://errors.pydantic.dev/2.8/migration/</span>\n",
       "  warnings.warn(DEPRECATION_MESSAGE, DeprecationWarning)\n",
       "\n",
       "</pre>\n"
      ],
      "text/plain": [
       "15:58:30.536 | \u001b[38;5;184mWARNING\u001b[0m | py.warnings - /usr/local/lib/python3.10/site-packages/pydantic/_internal/_config.py:291: PydanticDeprecatedSince20: Support for class-based `config` is deprecated, use ConfigDict instead. Deprecated in Pydantic V2.0 to be removed in V3.0. See Pydantic V2 Migration Guide at \u001b[94mhttps://errors.pydantic.dev/2.8/migration/\u001b[0m\n",
       "  warnings.warn(DEPRECATION_MESSAGE, DeprecationWarning)\n",
       "\n"
      ]
     },
     "metadata": {},
     "output_type": "display_data"
    },
    {
     "data": {
      "text/html": [
       "<pre style=\"white-space:pre;overflow-x:auto;line-height:normal;font-family:Menlo,'DejaVu Sans Mono',consolas,'Courier New',monospace\">15:58:30.688 | <span style=\"color: #d7d700; text-decoration-color: #d7d700\">WARNING</span> | py.warnings - /usr/local/lib/python3.10/site-packages/pydantic/_internal/_config.py:291: PydanticDeprecatedSince20: Support for class-based `config` is deprecated, use ConfigDict instead. Deprecated in Pydantic V2.0 to be removed in V3.0. See Pydantic V2 Migration Guide at <span style=\"color: #0000ff; text-decoration-color: #0000ff\">https://errors.pydantic.dev/2.8/migration/</span>\n",
       "  warnings.warn(DEPRECATION_MESSAGE, DeprecationWarning)\n",
       "\n",
       "</pre>\n"
      ],
      "text/plain": [
       "15:58:30.688 | \u001b[38;5;184mWARNING\u001b[0m | py.warnings - /usr/local/lib/python3.10/site-packages/pydantic/_internal/_config.py:291: PydanticDeprecatedSince20: Support for class-based `config` is deprecated, use ConfigDict instead. Deprecated in Pydantic V2.0 to be removed in V3.0. See Pydantic V2 Migration Guide at \u001b[94mhttps://errors.pydantic.dev/2.8/migration/\u001b[0m\n",
       "  warnings.warn(DEPRECATION_MESSAGE, DeprecationWarning)\n",
       "\n"
      ]
     },
     "metadata": {},
     "output_type": "display_data"
    },
    {
     "data": {
      "text/html": [
       "<pre style=\"white-space:pre;overflow-x:auto;line-height:normal;font-family:Menlo,'DejaVu Sans Mono',consolas,'Courier New',monospace\">15:58:30.694 | <span style=\"color: #d7d700; text-decoration-color: #d7d700\">WARNING</span> | py.warnings - /usr/local/lib/python3.10/site-packages/pydantic/_internal/_model_construction.py:268: PydanticDeprecatedSince20: The `__fields__` attribute is deprecated, use `model_fields` instead. Deprecated in Pydantic V2.0 to be removed in V3.0. See Pydantic V2 Migration Guide at <span style=\"color: #0000ff; text-decoration-color: #0000ff\">https://errors.pydantic.dev/2.8/migration/</span>\n",
       "  warnings.warn(\n",
       "\n",
       "</pre>\n"
      ],
      "text/plain": [
       "15:58:30.694 | \u001b[38;5;184mWARNING\u001b[0m | py.warnings - /usr/local/lib/python3.10/site-packages/pydantic/_internal/_model_construction.py:268: PydanticDeprecatedSince20: The `__fields__` attribute is deprecated, use `model_fields` instead. Deprecated in Pydantic V2.0 to be removed in V3.0. See Pydantic V2 Migration Guide at \u001b[94mhttps://errors.pydantic.dev/2.8/migration/\u001b[0m\n",
       "  warnings.warn(\n",
       "\n"
      ]
     },
     "metadata": {},
     "output_type": "display_data"
    },
    {
     "data": {
      "text/html": [
       "<pre style=\"white-space:pre;overflow-x:auto;line-height:normal;font-family:Menlo,'DejaVu Sans Mono',consolas,'Courier New',monospace\">15:58:30.697 | <span style=\"color: #d7d700; text-decoration-color: #d7d700\">WARNING</span> | py.warnings - /usr/local/lib/python3.10/site-packages/pydantic/_internal/_fields.py:161: UserWarning: Field \"model_specifiers\" has conflict with protected namespace \"model_\".\n",
       "\n",
       "You may be able to resolve this warning by setting `model_config['protected_namespaces'] = ()`.\n",
       "  warnings.warn(\n",
       "\n",
       "</pre>\n"
      ],
      "text/plain": [
       "15:58:30.697 | \u001b[38;5;184mWARNING\u001b[0m | py.warnings - /usr/local/lib/python3.10/site-packages/pydantic/_internal/_fields.py:161: UserWarning: Field \"model_specifiers\" has conflict with protected namespace \"model_\".\n",
       "\n",
       "You may be able to resolve this warning by setting `model_config['protected_namespaces'] = ()`.\n",
       "  warnings.warn(\n",
       "\n"
      ]
     },
     "metadata": {},
     "output_type": "display_data"
    }
   ],
   "source": [
    "#sys.path.append('../')\n",
    "from core.data import (\n",
    "    request_EIA_data, get_dvc_remote_repo_url, get_dvc_dataset_as_df,\n",
    ")\n",
    "from core.consts import EIA_TEST_SET_HOURS\n",
    "from flows.train_model_flow import clean_data, features, mlflow_emit_tags_and_params\n",
    "from flows.compare_models_flow import fetch_eval_dataset\n",
    "from core.types import DVCDatasetInfo, MLFlowModelSpecifier\n",
    "from core.utils import mlflow_endpoint_uri"
   ]
  },
  {
   "cell_type": "markdown",
   "id": "412d0e67-de58-4dec-ac75-33ba33e6ebcd",
   "metadata": {},
   "source": [
    "# Get training data"
   ]
  },
  {
   "cell_type": "code",
   "execution_count": 5,
   "id": "06f11acd-cb09-4e78-bec3-91792efb9509",
   "metadata": {},
   "outputs": [
    {
     "name": "stdin",
     "output_type": "stream",
     "text": [
      "Enter DVC git repo PAT ········\n"
     ]
    }
   ],
   "source": [
    "git_PAT = getpass.getpass(prompt='Enter DVC git repo PAT')"
   ]
  },
  {
   "cell_type": "code",
   "execution_count": 6,
   "id": "67edfd75-248d-4a33-b26f-48b6ba16174e",
   "metadata": {},
   "outputs": [
    {
     "data": {
      "text/html": [
       "<pre style=\"white-space:pre;overflow-x:auto;line-height:normal;font-family:Menlo,'DejaVu Sans Mono',consolas,'Courier New',monospace\">15:58:33.760 | <span style=\"color: #d7d700; text-decoration-color: #d7d700\">WARNING</span> | py.warnings - /usr/local/lib/python3.10/site-packages/dulwich/repo.py:888: DeprecationWarning: use get_user_identity() rather than Repo._get_user_identity\n",
       "  warnings.warn(\n",
       "\n",
       "</pre>\n"
      ],
      "text/plain": [
       "15:58:33.760 | \u001b[38;5;184mWARNING\u001b[0m | py.warnings - /usr/local/lib/python3.10/site-packages/dulwich/repo.py:888: DeprecationWarning: use get_user_identity() rather than Repo._get_user_identity\n",
       "  warnings.warn(\n",
       "\n"
      ]
     },
     "metadata": {},
     "output_type": "display_data"
    },
    {
     "data": {
      "text/html": [
       "<pre style=\"white-space:pre;overflow-x:auto;line-height:normal;font-family:Menlo,'DejaVu Sans Mono',consolas,'Courier New',monospace\">15:58:34.606 | <span style=\"color: #008080; text-decoration-color: #008080\">INFO</span>    | great_expectations.data_context.types.base - Created temporary directory '/tmp/tmp2zi4kj_y' for ephemeral docs site\n",
       "</pre>\n"
      ],
      "text/plain": [
       "15:58:34.606 | \u001b[36mINFO\u001b[0m    | great_expectations.data_context.types.base - Created temporary directory '/tmp/tmp2zi4kj_y' for ephemeral docs site\n"
      ]
     },
     "metadata": {},
     "output_type": "display_data"
    },
    {
     "data": {
      "text/html": [
       "<pre style=\"white-space:pre;overflow-x:auto;line-height:normal;font-family:Menlo,'DejaVu Sans Mono',consolas,'Courier New',monospace\">15:58:34.637 | <span style=\"color: #d7d700; text-decoration-color: #d7d700\">WARNING</span> | py.warnings - /usr/local/lib/python3.10/site-packages/great_expectations/data_context/data_context/abstract_data_context.py:441: DeprecationWarning: save_expectation_suite is deprecated as of v0.15.48 and will be removed in v0.18. Please use update_expectation_suite or add_or_update_expectation_suite instead.\n",
       "  warnings.warn(\n",
       "\n",
       "</pre>\n"
      ],
      "text/plain": [
       "15:58:34.637 | \u001b[38;5;184mWARNING\u001b[0m | py.warnings - /usr/local/lib/python3.10/site-packages/great_expectations/data_context/data_context/abstract_data_context.py:441: DeprecationWarning: save_expectation_suite is deprecated as of v0.15.48 and will be removed in v0.18. Please use update_expectation_suite or add_or_update_expectation_suite instead.\n",
       "  warnings.warn(\n",
       "\n"
      ]
     },
     "metadata": {},
     "output_type": "display_data"
    },
    {
     "data": {
      "application/vnd.jupyter.widget-view+json": {
       "model_id": "818e46e1872f44dfa84b150451d01b34",
       "version_major": 2,
       "version_minor": 0
      },
      "text/plain": [
       "Calculating Metrics:   0%|          | 0/11 [00:00<?, ?it/s]"
      ]
     },
     "metadata": {},
     "output_type": "display_data"
    },
    {
     "name": "stdout",
     "output_type": "stream",
     "text": [
      "GX Checkpoint success: checkpoint_name:etl-checkpoint\n"
     ]
    }
   ],
   "source": [
    "git_repo_url = get_dvc_remote_repo_url(git_PAT)\n",
    "path = 'data/eia_d_df_2019-01-01_00_2024-08-17_00.parquet'\n",
    "rev = '511314f2d0552f4b5396ef118bc45434d0939a2c'\n",
    "dvc_dataset_info = DVCDatasetInfo(repo=git_repo_url, path=path, rev=rev)\n",
    "df = get_dvc_dataset_as_df(dvc_dataset_info)"
   ]
  },
  {
   "cell_type": "code",
   "execution_count": 7,
   "id": "018c5b1a-0286-41de-a6d7-4ed5e09ff113",
   "metadata": {},
   "outputs": [
    {
     "data": {
      "text/html": [
       "<div>\n",
       "<style scoped>\n",
       "    .dataframe tbody tr th:only-of-type {\n",
       "        vertical-align: middle;\n",
       "    }\n",
       "\n",
       "    .dataframe tbody tr th {\n",
       "        vertical-align: top;\n",
       "    }\n",
       "\n",
       "    .dataframe thead th {\n",
       "        text-align: right;\n",
       "    }\n",
       "</style>\n",
       "<table border=\"1\" class=\"dataframe\">\n",
       "  <thead>\n",
       "    <tr style=\"text-align: right;\">\n",
       "      <th></th>\n",
       "      <th>utc_ts</th>\n",
       "      <th>D</th>\n",
       "    </tr>\n",
       "    <tr>\n",
       "      <th>utc_ts</th>\n",
       "      <th></th>\n",
       "      <th></th>\n",
       "    </tr>\n",
       "  </thead>\n",
       "  <tbody>\n",
       "    <tr>\n",
       "      <th>2019-01-01 00:00:00+00:00</th>\n",
       "      <td>2019-01-01 00:00:00+00:00</td>\n",
       "      <td>94016.0</td>\n",
       "    </tr>\n",
       "    <tr>\n",
       "      <th>2019-01-01 01:00:00+00:00</th>\n",
       "      <td>2019-01-01 01:00:00+00:00</td>\n",
       "      <td>90385.0</td>\n",
       "    </tr>\n",
       "    <tr>\n",
       "      <th>2019-01-01 02:00:00+00:00</th>\n",
       "      <td>2019-01-01 02:00:00+00:00</td>\n",
       "      <td>86724.0</td>\n",
       "    </tr>\n",
       "    <tr>\n",
       "      <th>2019-01-01 03:00:00+00:00</th>\n",
       "      <td>2019-01-01 03:00:00+00:00</td>\n",
       "      <td>82978.0</td>\n",
       "    </tr>\n",
       "    <tr>\n",
       "      <th>2019-01-01 04:00:00+00:00</th>\n",
       "      <td>2019-01-01 04:00:00+00:00</td>\n",
       "      <td>79536.0</td>\n",
       "    </tr>\n",
       "    <tr>\n",
       "      <th>...</th>\n",
       "      <td>...</td>\n",
       "      <td>...</td>\n",
       "    </tr>\n",
       "    <tr>\n",
       "      <th>2024-08-16 20:00:00+00:00</th>\n",
       "      <td>2024-08-16 20:00:00+00:00</td>\n",
       "      <td>126636.0</td>\n",
       "    </tr>\n",
       "    <tr>\n",
       "      <th>2024-08-16 21:00:00+00:00</th>\n",
       "      <td>2024-08-16 21:00:00+00:00</td>\n",
       "      <td>128643.0</td>\n",
       "    </tr>\n",
       "    <tr>\n",
       "      <th>2024-08-16 22:00:00+00:00</th>\n",
       "      <td>2024-08-16 22:00:00+00:00</td>\n",
       "      <td>128935.0</td>\n",
       "    </tr>\n",
       "    <tr>\n",
       "      <th>2024-08-16 23:00:00+00:00</th>\n",
       "      <td>2024-08-16 23:00:00+00:00</td>\n",
       "      <td>126208.0</td>\n",
       "    </tr>\n",
       "    <tr>\n",
       "      <th>2024-08-17 00:00:00+00:00</th>\n",
       "      <td>2024-08-17 00:00:00+00:00</td>\n",
       "      <td>121761.0</td>\n",
       "    </tr>\n",
       "  </tbody>\n",
       "</table>\n",
       "<p>49321 rows × 2 columns</p>\n",
       "</div>"
      ],
      "text/plain": [
       "                                             utc_ts         D\n",
       "utc_ts                                                       \n",
       "2019-01-01 00:00:00+00:00 2019-01-01 00:00:00+00:00   94016.0\n",
       "2019-01-01 01:00:00+00:00 2019-01-01 01:00:00+00:00   90385.0\n",
       "2019-01-01 02:00:00+00:00 2019-01-01 02:00:00+00:00   86724.0\n",
       "2019-01-01 03:00:00+00:00 2019-01-01 03:00:00+00:00   82978.0\n",
       "2019-01-01 04:00:00+00:00 2019-01-01 04:00:00+00:00   79536.0\n",
       "...                                             ...       ...\n",
       "2024-08-16 20:00:00+00:00 2024-08-16 20:00:00+00:00  126636.0\n",
       "2024-08-16 21:00:00+00:00 2024-08-16 21:00:00+00:00  128643.0\n",
       "2024-08-16 22:00:00+00:00 2024-08-16 22:00:00+00:00  128935.0\n",
       "2024-08-16 23:00:00+00:00 2024-08-16 23:00:00+00:00  126208.0\n",
       "2024-08-17 00:00:00+00:00 2024-08-17 00:00:00+00:00  121761.0\n",
       "\n",
       "[49321 rows x 2 columns]"
      ]
     },
     "execution_count": 7,
     "metadata": {},
     "output_type": "execute_result"
    }
   ],
   "source": [
    "df"
   ]
  },
  {
   "cell_type": "code",
   "execution_count": 8,
   "id": "103bb894-28f3-455b-a80c-610c5c9bd4c3",
   "metadata": {},
   "outputs": [
    {
     "data": {
      "text/html": [
       "<pre style=\"white-space:pre;overflow-x:auto;line-height:normal;font-family:Menlo,'DejaVu Sans Mono',consolas,'Courier New',monospace\">15:58:35.450 | <span style=\"color: #008080; text-decoration-color: #008080\">INFO</span>    | prefect.engine - Created task run 'clean_data-01d90477' for task 'clean_data'\n",
       "</pre>\n"
      ],
      "text/plain": [
       "15:58:35.450 | \u001b[36mINFO\u001b[0m    | prefect.engine - Created task run 'clean_data-01d90477' for task 'clean_data'\n"
      ]
     },
     "metadata": {},
     "output_type": "display_data"
    },
    {
     "name": "stdout",
     "output_type": "stream",
     "text": [
      "Input data skew: 157.80719172884187\n",
      "Output data skew: 0.8479119351952286\n",
      "Null demand values: 117\n"
     ]
    },
    {
     "data": {
      "text/html": [
       "<pre style=\"white-space:pre;overflow-x:auto;line-height:normal;font-family:Menlo,'DejaVu Sans Mono',consolas,'Courier New',monospace\">15:58:36.676 | <span style=\"color: #008080; text-decoration-color: #008080\">INFO</span>    | Task run 'clean_data-01d90477' - Finished in state <span style=\"color: #008000; text-decoration-color: #008000\">Completed</span>()\n",
       "</pre>\n"
      ],
      "text/plain": [
       "15:58:36.676 | \u001b[36mINFO\u001b[0m    | Task run 'clean_data-01d90477' - Finished in state \u001b[32mCompleted\u001b[0m()\n"
      ]
     },
     "metadata": {},
     "output_type": "display_data"
    },
    {
     "data": {
      "text/html": [
       "<pre style=\"white-space:pre;overflow-x:auto;line-height:normal;font-family:Menlo,'DejaVu Sans Mono',consolas,'Courier New',monospace\">15:58:36.880 | <span style=\"color: #008080; text-decoration-color: #008080\">INFO</span>    | prefect.engine - Created task run 'features-b29207b2' for task 'features'\n",
       "</pre>\n"
      ],
      "text/plain": [
       "15:58:36.880 | \u001b[36mINFO\u001b[0m    | prefect.engine - Created task run 'features-b29207b2' for task 'features'\n"
      ]
     },
     "metadata": {},
     "output_type": "display_data"
    },
    {
     "name": "stdout",
     "output_type": "stream",
     "text": [
      "                                             utc_ts         D  hour  month  \\\n",
      "utc_ts                                                                       \n",
      "2019-01-01 00:00:00+00:00 2019-01-01 00:00:00+00:00   94016.0     0      1   \n",
      "2019-01-01 01:00:00+00:00 2019-01-01 01:00:00+00:00   90385.0     1      1   \n",
      "2019-01-01 02:00:00+00:00 2019-01-01 02:00:00+00:00   86724.0     2      1   \n",
      "2019-01-01 03:00:00+00:00 2019-01-01 03:00:00+00:00   82978.0     3      1   \n",
      "2019-01-01 04:00:00+00:00 2019-01-01 04:00:00+00:00   79536.0     4      1   \n",
      "...                                             ...       ...   ...    ...   \n",
      "2024-08-16 20:00:00+00:00 2024-08-16 20:00:00+00:00  126636.0    20      8   \n",
      "2024-08-16 21:00:00+00:00 2024-08-16 21:00:00+00:00  128643.0    21      8   \n",
      "2024-08-16 22:00:00+00:00 2024-08-16 22:00:00+00:00  128935.0    22      8   \n",
      "2024-08-16 23:00:00+00:00 2024-08-16 23:00:00+00:00  126208.0    23      8   \n",
      "2024-08-17 00:00:00+00:00 2024-08-17 00:00:00+00:00  121761.0     0      8   \n",
      "\n",
      "                           year  quarter  dayofweek  dayofmonth  dayofyear  \n",
      "utc_ts                                                                      \n",
      "2019-01-01 00:00:00+00:00  2019        1          1           1          1  \n",
      "2019-01-01 01:00:00+00:00  2019        1          1           1          1  \n",
      "2019-01-01 02:00:00+00:00  2019        1          1           1          1  \n",
      "2019-01-01 03:00:00+00:00  2019        1          1           1          1  \n",
      "2019-01-01 04:00:00+00:00  2019        1          1           1          1  \n",
      "...                         ...      ...        ...         ...        ...  \n",
      "2024-08-16 20:00:00+00:00  2024        3          4          16        229  \n",
      "2024-08-16 21:00:00+00:00  2024        3          4          16        229  \n",
      "2024-08-16 22:00:00+00:00  2024        3          4          16        229  \n",
      "2024-08-16 23:00:00+00:00  2024        3          4          16        229  \n",
      "2024-08-17 00:00:00+00:00  2024        3          5          17        230  \n",
      "\n",
      "[49321 rows x 9 columns]\n"
     ]
    },
    {
     "data": {
      "text/html": [
       "<pre style=\"white-space:pre;overflow-x:auto;line-height:normal;font-family:Menlo,'DejaVu Sans Mono',consolas,'Courier New',monospace\">15:58:37.232 | <span style=\"color: #008080; text-decoration-color: #008080\">INFO</span>    | Task run 'features-b29207b2' - Finished in state <span style=\"color: #008000; text-decoration-color: #008000\">Completed</span>()\n",
       "</pre>\n"
      ],
      "text/plain": [
       "15:58:37.232 | \u001b[36mINFO\u001b[0m    | Task run 'features-b29207b2' - Finished in state \u001b[32mCompleted\u001b[0m()\n"
      ]
     },
     "metadata": {},
     "output_type": "display_data"
    }
   ],
   "source": [
    "df = await clean_data(df)\n",
    "df = await features(df)"
   ]
  },
  {
   "cell_type": "code",
   "execution_count": 9,
   "id": "27f72047-d0fe-4b6b-9a55-a20ba1d089c6",
   "metadata": {},
   "outputs": [
    {
     "data": {
      "text/html": [
       "<div>\n",
       "<style scoped>\n",
       "    .dataframe tbody tr th:only-of-type {\n",
       "        vertical-align: middle;\n",
       "    }\n",
       "\n",
       "    .dataframe tbody tr th {\n",
       "        vertical-align: top;\n",
       "    }\n",
       "\n",
       "    .dataframe thead th {\n",
       "        text-align: right;\n",
       "    }\n",
       "</style>\n",
       "<table border=\"1\" class=\"dataframe\">\n",
       "  <thead>\n",
       "    <tr style=\"text-align: right;\">\n",
       "      <th></th>\n",
       "      <th>utc_ts</th>\n",
       "      <th>D</th>\n",
       "      <th>hour</th>\n",
       "      <th>month</th>\n",
       "      <th>year</th>\n",
       "      <th>quarter</th>\n",
       "      <th>dayofweek</th>\n",
       "      <th>dayofmonth</th>\n",
       "      <th>dayofyear</th>\n",
       "    </tr>\n",
       "    <tr>\n",
       "      <th>utc_ts</th>\n",
       "      <th></th>\n",
       "      <th></th>\n",
       "      <th></th>\n",
       "      <th></th>\n",
       "      <th></th>\n",
       "      <th></th>\n",
       "      <th></th>\n",
       "      <th></th>\n",
       "      <th></th>\n",
       "    </tr>\n",
       "  </thead>\n",
       "  <tbody>\n",
       "    <tr>\n",
       "      <th>2019-01-01 00:00:00+00:00</th>\n",
       "      <td>2019-01-01 00:00:00+00:00</td>\n",
       "      <td>94016.0</td>\n",
       "      <td>0</td>\n",
       "      <td>1</td>\n",
       "      <td>2019</td>\n",
       "      <td>1</td>\n",
       "      <td>1</td>\n",
       "      <td>1</td>\n",
       "      <td>1</td>\n",
       "    </tr>\n",
       "    <tr>\n",
       "      <th>2019-01-01 01:00:00+00:00</th>\n",
       "      <td>2019-01-01 01:00:00+00:00</td>\n",
       "      <td>90385.0</td>\n",
       "      <td>1</td>\n",
       "      <td>1</td>\n",
       "      <td>2019</td>\n",
       "      <td>1</td>\n",
       "      <td>1</td>\n",
       "      <td>1</td>\n",
       "      <td>1</td>\n",
       "    </tr>\n",
       "    <tr>\n",
       "      <th>2019-01-01 02:00:00+00:00</th>\n",
       "      <td>2019-01-01 02:00:00+00:00</td>\n",
       "      <td>86724.0</td>\n",
       "      <td>2</td>\n",
       "      <td>1</td>\n",
       "      <td>2019</td>\n",
       "      <td>1</td>\n",
       "      <td>1</td>\n",
       "      <td>1</td>\n",
       "      <td>1</td>\n",
       "    </tr>\n",
       "    <tr>\n",
       "      <th>2019-01-01 03:00:00+00:00</th>\n",
       "      <td>2019-01-01 03:00:00+00:00</td>\n",
       "      <td>82978.0</td>\n",
       "      <td>3</td>\n",
       "      <td>1</td>\n",
       "      <td>2019</td>\n",
       "      <td>1</td>\n",
       "      <td>1</td>\n",
       "      <td>1</td>\n",
       "      <td>1</td>\n",
       "    </tr>\n",
       "    <tr>\n",
       "      <th>2019-01-01 04:00:00+00:00</th>\n",
       "      <td>2019-01-01 04:00:00+00:00</td>\n",
       "      <td>79536.0</td>\n",
       "      <td>4</td>\n",
       "      <td>1</td>\n",
       "      <td>2019</td>\n",
       "      <td>1</td>\n",
       "      <td>1</td>\n",
       "      <td>1</td>\n",
       "      <td>1</td>\n",
       "    </tr>\n",
       "    <tr>\n",
       "      <th>...</th>\n",
       "      <td>...</td>\n",
       "      <td>...</td>\n",
       "      <td>...</td>\n",
       "      <td>...</td>\n",
       "      <td>...</td>\n",
       "      <td>...</td>\n",
       "      <td>...</td>\n",
       "      <td>...</td>\n",
       "      <td>...</td>\n",
       "    </tr>\n",
       "    <tr>\n",
       "      <th>2024-08-16 20:00:00+00:00</th>\n",
       "      <td>2024-08-16 20:00:00+00:00</td>\n",
       "      <td>126636.0</td>\n",
       "      <td>20</td>\n",
       "      <td>8</td>\n",
       "      <td>2024</td>\n",
       "      <td>3</td>\n",
       "      <td>4</td>\n",
       "      <td>16</td>\n",
       "      <td>229</td>\n",
       "    </tr>\n",
       "    <tr>\n",
       "      <th>2024-08-16 21:00:00+00:00</th>\n",
       "      <td>2024-08-16 21:00:00+00:00</td>\n",
       "      <td>128643.0</td>\n",
       "      <td>21</td>\n",
       "      <td>8</td>\n",
       "      <td>2024</td>\n",
       "      <td>3</td>\n",
       "      <td>4</td>\n",
       "      <td>16</td>\n",
       "      <td>229</td>\n",
       "    </tr>\n",
       "    <tr>\n",
       "      <th>2024-08-16 22:00:00+00:00</th>\n",
       "      <td>2024-08-16 22:00:00+00:00</td>\n",
       "      <td>128935.0</td>\n",
       "      <td>22</td>\n",
       "      <td>8</td>\n",
       "      <td>2024</td>\n",
       "      <td>3</td>\n",
       "      <td>4</td>\n",
       "      <td>16</td>\n",
       "      <td>229</td>\n",
       "    </tr>\n",
       "    <tr>\n",
       "      <th>2024-08-16 23:00:00+00:00</th>\n",
       "      <td>2024-08-16 23:00:00+00:00</td>\n",
       "      <td>126208.0</td>\n",
       "      <td>23</td>\n",
       "      <td>8</td>\n",
       "      <td>2024</td>\n",
       "      <td>3</td>\n",
       "      <td>4</td>\n",
       "      <td>16</td>\n",
       "      <td>229</td>\n",
       "    </tr>\n",
       "    <tr>\n",
       "      <th>2024-08-17 00:00:00+00:00</th>\n",
       "      <td>2024-08-17 00:00:00+00:00</td>\n",
       "      <td>121761.0</td>\n",
       "      <td>0</td>\n",
       "      <td>8</td>\n",
       "      <td>2024</td>\n",
       "      <td>3</td>\n",
       "      <td>5</td>\n",
       "      <td>17</td>\n",
       "      <td>230</td>\n",
       "    </tr>\n",
       "  </tbody>\n",
       "</table>\n",
       "<p>49321 rows × 9 columns</p>\n",
       "</div>"
      ],
      "text/plain": [
       "                                             utc_ts         D  hour  month  \\\n",
       "utc_ts                                                                       \n",
       "2019-01-01 00:00:00+00:00 2019-01-01 00:00:00+00:00   94016.0     0      1   \n",
       "2019-01-01 01:00:00+00:00 2019-01-01 01:00:00+00:00   90385.0     1      1   \n",
       "2019-01-01 02:00:00+00:00 2019-01-01 02:00:00+00:00   86724.0     2      1   \n",
       "2019-01-01 03:00:00+00:00 2019-01-01 03:00:00+00:00   82978.0     3      1   \n",
       "2019-01-01 04:00:00+00:00 2019-01-01 04:00:00+00:00   79536.0     4      1   \n",
       "...                                             ...       ...   ...    ...   \n",
       "2024-08-16 20:00:00+00:00 2024-08-16 20:00:00+00:00  126636.0    20      8   \n",
       "2024-08-16 21:00:00+00:00 2024-08-16 21:00:00+00:00  128643.0    21      8   \n",
       "2024-08-16 22:00:00+00:00 2024-08-16 22:00:00+00:00  128935.0    22      8   \n",
       "2024-08-16 23:00:00+00:00 2024-08-16 23:00:00+00:00  126208.0    23      8   \n",
       "2024-08-17 00:00:00+00:00 2024-08-17 00:00:00+00:00  121761.0     0      8   \n",
       "\n",
       "                           year  quarter  dayofweek  dayofmonth  dayofyear  \n",
       "utc_ts                                                                      \n",
       "2019-01-01 00:00:00+00:00  2019        1          1           1          1  \n",
       "2019-01-01 01:00:00+00:00  2019        1          1           1          1  \n",
       "2019-01-01 02:00:00+00:00  2019        1          1           1          1  \n",
       "2019-01-01 03:00:00+00:00  2019        1          1           1          1  \n",
       "2019-01-01 04:00:00+00:00  2019        1          1           1          1  \n",
       "...                         ...      ...        ...         ...        ...  \n",
       "2024-08-16 20:00:00+00:00  2024        3          4          16        229  \n",
       "2024-08-16 21:00:00+00:00  2024        3          4          16        229  \n",
       "2024-08-16 22:00:00+00:00  2024        3          4          16        229  \n",
       "2024-08-16 23:00:00+00:00  2024        3          4          16        229  \n",
       "2024-08-17 00:00:00+00:00  2024        3          5          17        230  \n",
       "\n",
       "[49321 rows x 9 columns]"
      ]
     },
     "execution_count": 9,
     "metadata": {},
     "output_type": "execute_result"
    }
   ],
   "source": [
    "df"
   ]
  },
  {
   "cell_type": "markdown",
   "id": "bda22186-b36b-406f-ba37-1b111d4b09fb",
   "metadata": {},
   "source": [
    "Chop off the last `EIA_TEST_SET_HOURS` hours, so the training set leaves enough of a test set window for adhoc model evaluation."
   ]
  },
  {
   "cell_type": "code",
   "execution_count": 10,
   "id": "499c5582-7ad2-4950-97c7-195ddb845ce2",
   "metadata": {},
   "outputs": [],
   "source": [
    "df = df[:-EIA_TEST_SET_HOURS]"
   ]
  },
  {
   "cell_type": "markdown",
   "id": "45ce7a1e-2918-4064-9bbb-82fcf300609a",
   "metadata": {},
   "source": [
    "# Calculate average demand by hour"
   ]
  },
  {
   "cell_type": "code",
   "execution_count": 11,
   "id": "5a322e6c-3a9a-461a-9999-74148b43cd00",
   "metadata": {},
   "outputs": [
    {
     "data": {
      "text/plain": [
       "hour  month\n",
       "0     1        105112.139785\n",
       "      2        100940.605882\n",
       "      3         89774.677596\n",
       "      4         82412.405556\n",
       "      5         88564.392473\n",
       "                   ...      \n",
       "23    8        121760.969464\n",
       "      9        102162.340000\n",
       "      10        86051.445161\n",
       "      11        91628.154362\n",
       "      12        99661.335484\n",
       "Name: D, Length: 288, dtype: float64"
      ]
     },
     "execution_count": 11,
     "metadata": {},
     "output_type": "execute_result"
    }
   ],
   "source": [
    "demand_by_hour_month = df.groupby(['hour','month'])['D'].agg(pd.Series.mean)\n",
    "demand_by_hour_month"
   ]
  },
  {
   "cell_type": "code",
   "execution_count": 12,
   "id": "ade3c48d-a46c-4158-a776-ba00d0bb0590",
   "metadata": {},
   "outputs": [
    {
     "data": {
      "text/plain": [
       "121760.9694642188"
      ]
     },
     "execution_count": 12,
     "metadata": {},
     "output_type": "execute_result"
    }
   ],
   "source": [
    "type(demand_by_hour_month)\n",
    "demand_by_hour_month[(23,8)]"
   ]
  },
  {
   "cell_type": "markdown",
   "id": "81cfde4b-92db-4916-9554-53b29ab5beb5",
   "metadata": {},
   "source": [
    "# Define Baseline Model\n",
    "\n",
    "Define my simple model (lookup table) function so that it implements the sci-kit learn [Predictor interface](https://scikit-learn.org/stable/developers/develop.html#different-objects)."
   ]
  },
  {
   "cell_type": "code",
   "execution_count": 13,
   "id": "44168c15-4498-4695-8747-a6431895fe09",
   "metadata": {},
   "outputs": [],
   "source": [
    "class BaselineModel(mlflow.pyfunc.PythonModel):\n",
    "    def __init__(self, demand_by_hour_month):\n",
    "        self.dbhm = demand_by_hour_month\n",
    "    \n",
    "    def predict(self, context, model_input_df):\n",
    "        # Assuming model_input contains a column 'hour' with the hour of the data point\n",
    "        def demand_for_row(row):\n",
    "            key_tuple = (row['hour'], row['month']) \n",
    "            return self.dbhm[key_tuple]\n",
    "        return model_input_df.apply(demand_for_row, axis=1)"
   ]
  },
  {
   "cell_type": "code",
   "execution_count": 14,
   "id": "890c4ff5-3fff-47c7-9002-62c85c6c5c64",
   "metadata": {},
   "outputs": [],
   "source": [
    "baseline_model = BaselineModel(demand_by_hour_month)"
   ]
  },
  {
   "cell_type": "markdown",
   "id": "34c913a8-9cbd-4167-b401-86f8ebacf901",
   "metadata": {},
   "source": [
    "# Visualize model predictions"
   ]
  },
  {
   "cell_type": "code",
   "execution_count": 15,
   "id": "f1c8dcef-e740-41f4-b6f4-825f9f4d413d",
   "metadata": {},
   "outputs": [
    {
     "data": {
      "text/html": [
       "<pre style=\"white-space:pre;overflow-x:auto;line-height:normal;font-family:Menlo,'DejaVu Sans Mono',consolas,'Courier New',monospace\">15:58:37.690 | <span style=\"color: #008080; text-decoration-color: #008080\">INFO</span>    | prefect.engine - Created task run 'fetch_eval_dataset-35c870e8' for task 'fetch_eval_dataset'\n",
       "</pre>\n"
      ],
      "text/plain": [
       "15:58:37.690 | \u001b[36mINFO\u001b[0m    | prefect.engine - Created task run 'fetch_eval_dataset-35c870e8' for task 'fetch_eval_dataset'\n"
      ]
     },
     "metadata": {},
     "output_type": "display_data"
    },
    {
     "data": {
      "text/html": [
       "<pre style=\"white-space:pre;overflow-x:auto;line-height:normal;font-family:Menlo,'DejaVu Sans Mono',consolas,'Courier New',monospace\">15:58:38.076 | <span style=\"color: #008080; text-decoration-color: #008080\">INFO</span>    | prefect.engine - Created task run 'get_eia_data_as_df-442315d6' for task 'get_eia_data_as_df'\n",
       "</pre>\n"
      ],
      "text/plain": [
       "15:58:38.076 | \u001b[36mINFO\u001b[0m    | prefect.engine - Created task run 'get_eia_data_as_df-442315d6' for task 'get_eia_data_as_df'\n"
      ]
     },
     "metadata": {},
     "output_type": "display_data"
    },
    {
     "name": "stdout",
     "output_type": "stream",
     "text": [
      "Fetching API page. offset:0. length:5000\n"
     ]
    },
    {
     "data": {
      "text/html": [
       "<pre style=\"white-space:pre;overflow-x:auto;line-height:normal;font-family:Menlo,'DejaVu Sans Mono',consolas,'Courier New',monospace\">15:58:39.477 | <span style=\"color: #008080; text-decoration-color: #008080\">INFO</span>    | Task run 'get_eia_data_as_df-442315d6' - Finished in state <span style=\"color: #008000; text-decoration-color: #008000\">Completed</span>()\n",
       "</pre>\n"
      ],
      "text/plain": [
       "15:58:39.477 | \u001b[36mINFO\u001b[0m    | Task run 'get_eia_data_as_df-442315d6' - Finished in state \u001b[32mCompleted\u001b[0m()\n"
      ]
     },
     "metadata": {},
     "output_type": "display_data"
    },
    {
     "data": {
      "text/html": [
       "<pre style=\"white-space:pre;overflow-x:auto;line-height:normal;font-family:Menlo,'DejaVu Sans Mono',consolas,'Courier New',monospace\">15:58:39.647 | <span style=\"color: #008080; text-decoration-color: #008080\">INFO</span>    | prefect.engine - Created task run 'transform-4514fd0e' for task 'transform'\n",
       "</pre>\n"
      ],
      "text/plain": [
       "15:58:39.647 | \u001b[36mINFO\u001b[0m    | prefect.engine - Created task run 'transform-4514fd0e' for task 'transform'\n"
      ]
     },
     "metadata": {},
     "output_type": "display_data"
    },
    {
     "name": "stdout",
     "output_type": "stream",
     "text": [
      "Transforming timeseries.\n",
      "Dataframe info:\n",
      "<class 'pandas.core.frame.DataFrame'>\n",
      "DatetimeIndex: 337 entries, 2024-08-07 00:00:00+00:00 to 2024-08-21 00:00:00+00:00\n",
      "Data columns (total 2 columns):\n",
      " #   Column  Non-Null Count  Dtype              \n",
      "---  ------  --------------  -----              \n",
      " 0   utc_ts  337 non-null    datetime64[ns, UTC]\n",
      " 1   D       337 non-null    int64              \n",
      "dtypes: datetime64[ns, UTC](1), int64(1)\n",
      "memory usage: 7.9 KB\n",
      "\n",
      "Dataframe summary:\n",
      "                                             utc_ts       D\n",
      "utc_ts                                                     \n",
      "2024-08-07 00:00:00+00:00 2024-08-07 00:00:00+00:00  126429\n",
      "2024-08-07 01:00:00+00:00 2024-08-07 01:00:00+00:00  122223\n",
      "2024-08-07 02:00:00+00:00 2024-08-07 02:00:00+00:00  117096\n",
      "2024-08-07 03:00:00+00:00 2024-08-07 03:00:00+00:00  110759\n",
      "2024-08-07 04:00:00+00:00 2024-08-07 04:00:00+00:00  104389\n",
      "...                                             ...     ...\n",
      "2024-08-20 20:00:00+00:00 2024-08-20 20:00:00+00:00   94811\n",
      "2024-08-20 21:00:00+00:00 2024-08-20 21:00:00+00:00   96457\n",
      "2024-08-20 22:00:00+00:00 2024-08-20 22:00:00+00:00   97274\n",
      "2024-08-20 23:00:00+00:00 2024-08-20 23:00:00+00:00   96531\n",
      "2024-08-21 00:00:00+00:00 2024-08-21 00:00:00+00:00   94318\n",
      "\n",
      "[337 rows x 2 columns]\n",
      "\n"
     ]
    },
    {
     "data": {
      "text/html": [
       "<pre style=\"white-space:pre;overflow-x:auto;line-height:normal;font-family:Menlo,'DejaVu Sans Mono',consolas,'Courier New',monospace\">15:58:39.937 | <span style=\"color: #008080; text-decoration-color: #008080\">INFO</span>    | Task run 'transform-4514fd0e' - Finished in state <span style=\"color: #008000; text-decoration-color: #008000\">Completed</span>()\n",
       "</pre>\n"
      ],
      "text/plain": [
       "15:58:39.937 | \u001b[36mINFO\u001b[0m    | Task run 'transform-4514fd0e' - Finished in state \u001b[32mCompleted\u001b[0m()\n"
      ]
     },
     "metadata": {},
     "output_type": "display_data"
    },
    {
     "data": {
      "text/html": [
       "<pre style=\"white-space:pre;overflow-x:auto;line-height:normal;font-family:Menlo,'DejaVu Sans Mono',consolas,'Courier New',monospace\">15:58:40.060 | <span style=\"color: #008080; text-decoration-color: #008080\">INFO</span>    | prefect.engine - Created task run 'clean_data-ca2f677b' for task 'clean_data'\n",
       "</pre>\n"
      ],
      "text/plain": [
       "15:58:40.060 | \u001b[36mINFO\u001b[0m    | prefect.engine - Created task run 'clean_data-ca2f677b' for task 'clean_data'\n"
      ]
     },
     "metadata": {},
     "output_type": "display_data"
    },
    {
     "name": "stdout",
     "output_type": "stream",
     "text": [
      "Input data skew: 0.1073023346812561\n",
      "Output data skew: 0.1073023346812561\n",
      "Null demand values: 0\n"
     ]
    },
    {
     "data": {
      "text/html": [
       "<pre style=\"white-space:pre;overflow-x:auto;line-height:normal;font-family:Menlo,'DejaVu Sans Mono',consolas,'Courier New',monospace\">15:58:40.553 | <span style=\"color: #008080; text-decoration-color: #008080\">INFO</span>    | Task run 'clean_data-ca2f677b' - Finished in state <span style=\"color: #008000; text-decoration-color: #008000\">Completed</span>()\n",
       "</pre>\n"
      ],
      "text/plain": [
       "15:58:40.553 | \u001b[36mINFO\u001b[0m    | Task run 'clean_data-ca2f677b' - Finished in state \u001b[32mCompleted\u001b[0m()\n"
      ]
     },
     "metadata": {},
     "output_type": "display_data"
    },
    {
     "data": {
      "text/html": [
       "<pre style=\"white-space:pre;overflow-x:auto;line-height:normal;font-family:Menlo,'DejaVu Sans Mono',consolas,'Courier New',monospace\">15:58:40.705 | <span style=\"color: #008080; text-decoration-color: #008080\">INFO</span>    | prefect.engine - Created task run 'features-dc69149d' for task 'features'\n",
       "</pre>\n"
      ],
      "text/plain": [
       "15:58:40.705 | \u001b[36mINFO\u001b[0m    | prefect.engine - Created task run 'features-dc69149d' for task 'features'\n"
      ]
     },
     "metadata": {},
     "output_type": "display_data"
    },
    {
     "name": "stdout",
     "output_type": "stream",
     "text": [
      "                                             utc_ts       D  hour  month  \\\n",
      "utc_ts                                                                     \n",
      "2024-08-07 00:00:00+00:00 2024-08-07 00:00:00+00:00  126429     0      8   \n",
      "2024-08-07 01:00:00+00:00 2024-08-07 01:00:00+00:00  122223     1      8   \n",
      "2024-08-07 02:00:00+00:00 2024-08-07 02:00:00+00:00  117096     2      8   \n",
      "2024-08-07 03:00:00+00:00 2024-08-07 03:00:00+00:00  110759     3      8   \n",
      "2024-08-07 04:00:00+00:00 2024-08-07 04:00:00+00:00  104389     4      8   \n",
      "...                                             ...     ...   ...    ...   \n",
      "2024-08-20 20:00:00+00:00 2024-08-20 20:00:00+00:00   94811    20      8   \n",
      "2024-08-20 21:00:00+00:00 2024-08-20 21:00:00+00:00   96457    21      8   \n",
      "2024-08-20 22:00:00+00:00 2024-08-20 22:00:00+00:00   97274    22      8   \n",
      "2024-08-20 23:00:00+00:00 2024-08-20 23:00:00+00:00   96531    23      8   \n",
      "2024-08-21 00:00:00+00:00 2024-08-21 00:00:00+00:00   94318     0      8   \n",
      "\n",
      "                           year  quarter  dayofweek  dayofmonth  dayofyear  \n",
      "utc_ts                                                                      \n",
      "2024-08-07 00:00:00+00:00  2024        3          2           7        220  \n",
      "2024-08-07 01:00:00+00:00  2024        3          2           7        220  \n",
      "2024-08-07 02:00:00+00:00  2024        3          2           7        220  \n",
      "2024-08-07 03:00:00+00:00  2024        3          2           7        220  \n",
      "2024-08-07 04:00:00+00:00  2024        3          2           7        220  \n",
      "...                         ...      ...        ...         ...        ...  \n",
      "2024-08-20 20:00:00+00:00  2024        3          1          20        233  \n",
      "2024-08-20 21:00:00+00:00  2024        3          1          20        233  \n",
      "2024-08-20 22:00:00+00:00  2024        3          1          20        233  \n",
      "2024-08-20 23:00:00+00:00  2024        3          1          20        233  \n",
      "2024-08-21 00:00:00+00:00  2024        3          2          21        234  \n",
      "\n",
      "[337 rows x 9 columns]\n"
     ]
    },
    {
     "data": {
      "text/html": [
       "<pre style=\"white-space:pre;overflow-x:auto;line-height:normal;font-family:Menlo,'DejaVu Sans Mono',consolas,'Courier New',monospace\">15:58:41.037 | <span style=\"color: #008080; text-decoration-color: #008080\">INFO</span>    | Task run 'features-dc69149d' - Finished in state <span style=\"color: #008000; text-decoration-color: #008000\">Completed</span>()\n",
       "</pre>\n"
      ],
      "text/plain": [
       "15:58:41.037 | \u001b[36mINFO\u001b[0m    | Task run 'features-dc69149d' - Finished in state \u001b[32mCompleted\u001b[0m()\n"
      ]
     },
     "metadata": {},
     "output_type": "display_data"
    },
    {
     "name": "stdout",
     "output_type": "stream",
     "text": [
      "Eval data df:\n",
      "                                             utc_ts       D  hour  month  \\\n",
      "utc_ts                                                                     \n",
      "2024-08-07 00:00:00+00:00 2024-08-07 00:00:00+00:00  126429     0      8   \n",
      "2024-08-07 01:00:00+00:00 2024-08-07 01:00:00+00:00  122223     1      8   \n",
      "2024-08-07 02:00:00+00:00 2024-08-07 02:00:00+00:00  117096     2      8   \n",
      "2024-08-07 03:00:00+00:00 2024-08-07 03:00:00+00:00  110759     3      8   \n",
      "2024-08-07 04:00:00+00:00 2024-08-07 04:00:00+00:00  104389     4      8   \n",
      "...                                             ...     ...   ...    ...   \n",
      "2024-08-20 20:00:00+00:00 2024-08-20 20:00:00+00:00   94811    20      8   \n",
      "2024-08-20 21:00:00+00:00 2024-08-20 21:00:00+00:00   96457    21      8   \n",
      "2024-08-20 22:00:00+00:00 2024-08-20 22:00:00+00:00   97274    22      8   \n",
      "2024-08-20 23:00:00+00:00 2024-08-20 23:00:00+00:00   96531    23      8   \n",
      "2024-08-21 00:00:00+00:00 2024-08-21 00:00:00+00:00   94318     0      8   \n",
      "\n",
      "                           year  quarter  dayofweek  dayofmonth  dayofyear  \n",
      "utc_ts                                                                      \n",
      "2024-08-07 00:00:00+00:00  2024        3          2           7        220  \n",
      "2024-08-07 01:00:00+00:00  2024        3          2           7        220  \n",
      "2024-08-07 02:00:00+00:00  2024        3          2           7        220  \n",
      "2024-08-07 03:00:00+00:00  2024        3          2           7        220  \n",
      "2024-08-07 04:00:00+00:00  2024        3          2           7        220  \n",
      "...                         ...      ...        ...         ...        ...  \n",
      "2024-08-20 20:00:00+00:00  2024        3          1          20        233  \n",
      "2024-08-20 21:00:00+00:00  2024        3          1          20        233  \n",
      "2024-08-20 22:00:00+00:00  2024        3          1          20        233  \n",
      "2024-08-20 23:00:00+00:00  2024        3          1          20        233  \n",
      "2024-08-21 00:00:00+00:00  2024        3          2          21        234  \n",
      "\n",
      "[337 rows x 9 columns]\n"
     ]
    },
    {
     "data": {
      "text/html": [
       "<pre style=\"white-space:pre;overflow-x:auto;line-height:normal;font-family:Menlo,'DejaVu Sans Mono',consolas,'Courier New',monospace\">15:58:41.218 | <span style=\"color: #008080; text-decoration-color: #008080\">INFO</span>    | Task run 'fetch_eval_dataset-35c870e8' - Finished in state <span style=\"color: #008000; text-decoration-color: #008000\">Completed</span>()\n",
       "</pre>\n"
      ],
      "text/plain": [
       "15:58:41.218 | \u001b[36mINFO\u001b[0m    | Task run 'fetch_eval_dataset-35c870e8' - Finished in state \u001b[32mCompleted\u001b[0m()\n"
      ]
     },
     "metadata": {},
     "output_type": "display_data"
    },
    {
     "data": {
      "text/html": [
       "<div>\n",
       "<style scoped>\n",
       "    .dataframe tbody tr th:only-of-type {\n",
       "        vertical-align: middle;\n",
       "    }\n",
       "\n",
       "    .dataframe tbody tr th {\n",
       "        vertical-align: top;\n",
       "    }\n",
       "\n",
       "    .dataframe thead th {\n",
       "        text-align: right;\n",
       "    }\n",
       "</style>\n",
       "<table border=\"1\" class=\"dataframe\">\n",
       "  <thead>\n",
       "    <tr style=\"text-align: right;\">\n",
       "      <th></th>\n",
       "      <th>utc_ts</th>\n",
       "      <th>D</th>\n",
       "      <th>hour</th>\n",
       "      <th>month</th>\n",
       "      <th>year</th>\n",
       "      <th>quarter</th>\n",
       "      <th>dayofweek</th>\n",
       "      <th>dayofmonth</th>\n",
       "      <th>dayofyear</th>\n",
       "    </tr>\n",
       "    <tr>\n",
       "      <th>utc_ts</th>\n",
       "      <th></th>\n",
       "      <th></th>\n",
       "      <th></th>\n",
       "      <th></th>\n",
       "      <th></th>\n",
       "      <th></th>\n",
       "      <th></th>\n",
       "      <th></th>\n",
       "      <th></th>\n",
       "    </tr>\n",
       "  </thead>\n",
       "  <tbody>\n",
       "    <tr>\n",
       "      <th>2024-08-07 00:00:00+00:00</th>\n",
       "      <td>2024-08-07 00:00:00+00:00</td>\n",
       "      <td>126429</td>\n",
       "      <td>0</td>\n",
       "      <td>8</td>\n",
       "      <td>2024</td>\n",
       "      <td>3</td>\n",
       "      <td>2</td>\n",
       "      <td>7</td>\n",
       "      <td>220</td>\n",
       "    </tr>\n",
       "    <tr>\n",
       "      <th>2024-08-07 01:00:00+00:00</th>\n",
       "      <td>2024-08-07 01:00:00+00:00</td>\n",
       "      <td>122223</td>\n",
       "      <td>1</td>\n",
       "      <td>8</td>\n",
       "      <td>2024</td>\n",
       "      <td>3</td>\n",
       "      <td>2</td>\n",
       "      <td>7</td>\n",
       "      <td>220</td>\n",
       "    </tr>\n",
       "    <tr>\n",
       "      <th>2024-08-07 02:00:00+00:00</th>\n",
       "      <td>2024-08-07 02:00:00+00:00</td>\n",
       "      <td>117096</td>\n",
       "      <td>2</td>\n",
       "      <td>8</td>\n",
       "      <td>2024</td>\n",
       "      <td>3</td>\n",
       "      <td>2</td>\n",
       "      <td>7</td>\n",
       "      <td>220</td>\n",
       "    </tr>\n",
       "    <tr>\n",
       "      <th>2024-08-07 03:00:00+00:00</th>\n",
       "      <td>2024-08-07 03:00:00+00:00</td>\n",
       "      <td>110759</td>\n",
       "      <td>3</td>\n",
       "      <td>8</td>\n",
       "      <td>2024</td>\n",
       "      <td>3</td>\n",
       "      <td>2</td>\n",
       "      <td>7</td>\n",
       "      <td>220</td>\n",
       "    </tr>\n",
       "    <tr>\n",
       "      <th>2024-08-07 04:00:00+00:00</th>\n",
       "      <td>2024-08-07 04:00:00+00:00</td>\n",
       "      <td>104389</td>\n",
       "      <td>4</td>\n",
       "      <td>8</td>\n",
       "      <td>2024</td>\n",
       "      <td>3</td>\n",
       "      <td>2</td>\n",
       "      <td>7</td>\n",
       "      <td>220</td>\n",
       "    </tr>\n",
       "    <tr>\n",
       "      <th>...</th>\n",
       "      <td>...</td>\n",
       "      <td>...</td>\n",
       "      <td>...</td>\n",
       "      <td>...</td>\n",
       "      <td>...</td>\n",
       "      <td>...</td>\n",
       "      <td>...</td>\n",
       "      <td>...</td>\n",
       "      <td>...</td>\n",
       "    </tr>\n",
       "    <tr>\n",
       "      <th>2024-08-20 20:00:00+00:00</th>\n",
       "      <td>2024-08-20 20:00:00+00:00</td>\n",
       "      <td>94811</td>\n",
       "      <td>20</td>\n",
       "      <td>8</td>\n",
       "      <td>2024</td>\n",
       "      <td>3</td>\n",
       "      <td>1</td>\n",
       "      <td>20</td>\n",
       "      <td>233</td>\n",
       "    </tr>\n",
       "    <tr>\n",
       "      <th>2024-08-20 21:00:00+00:00</th>\n",
       "      <td>2024-08-20 21:00:00+00:00</td>\n",
       "      <td>96457</td>\n",
       "      <td>21</td>\n",
       "      <td>8</td>\n",
       "      <td>2024</td>\n",
       "      <td>3</td>\n",
       "      <td>1</td>\n",
       "      <td>20</td>\n",
       "      <td>233</td>\n",
       "    </tr>\n",
       "    <tr>\n",
       "      <th>2024-08-20 22:00:00+00:00</th>\n",
       "      <td>2024-08-20 22:00:00+00:00</td>\n",
       "      <td>97274</td>\n",
       "      <td>22</td>\n",
       "      <td>8</td>\n",
       "      <td>2024</td>\n",
       "      <td>3</td>\n",
       "      <td>1</td>\n",
       "      <td>20</td>\n",
       "      <td>233</td>\n",
       "    </tr>\n",
       "    <tr>\n",
       "      <th>2024-08-20 23:00:00+00:00</th>\n",
       "      <td>2024-08-20 23:00:00+00:00</td>\n",
       "      <td>96531</td>\n",
       "      <td>23</td>\n",
       "      <td>8</td>\n",
       "      <td>2024</td>\n",
       "      <td>3</td>\n",
       "      <td>1</td>\n",
       "      <td>20</td>\n",
       "      <td>233</td>\n",
       "    </tr>\n",
       "    <tr>\n",
       "      <th>2024-08-21 00:00:00+00:00</th>\n",
       "      <td>2024-08-21 00:00:00+00:00</td>\n",
       "      <td>94318</td>\n",
       "      <td>0</td>\n",
       "      <td>8</td>\n",
       "      <td>2024</td>\n",
       "      <td>3</td>\n",
       "      <td>2</td>\n",
       "      <td>21</td>\n",
       "      <td>234</td>\n",
       "    </tr>\n",
       "  </tbody>\n",
       "</table>\n",
       "<p>337 rows × 9 columns</p>\n",
       "</div>"
      ],
      "text/plain": [
       "                                             utc_ts       D  hour  month  \\\n",
       "utc_ts                                                                     \n",
       "2024-08-07 00:00:00+00:00 2024-08-07 00:00:00+00:00  126429     0      8   \n",
       "2024-08-07 01:00:00+00:00 2024-08-07 01:00:00+00:00  122223     1      8   \n",
       "2024-08-07 02:00:00+00:00 2024-08-07 02:00:00+00:00  117096     2      8   \n",
       "2024-08-07 03:00:00+00:00 2024-08-07 03:00:00+00:00  110759     3      8   \n",
       "2024-08-07 04:00:00+00:00 2024-08-07 04:00:00+00:00  104389     4      8   \n",
       "...                                             ...     ...   ...    ...   \n",
       "2024-08-20 20:00:00+00:00 2024-08-20 20:00:00+00:00   94811    20      8   \n",
       "2024-08-20 21:00:00+00:00 2024-08-20 21:00:00+00:00   96457    21      8   \n",
       "2024-08-20 22:00:00+00:00 2024-08-20 22:00:00+00:00   97274    22      8   \n",
       "2024-08-20 23:00:00+00:00 2024-08-20 23:00:00+00:00   96531    23      8   \n",
       "2024-08-21 00:00:00+00:00 2024-08-21 00:00:00+00:00   94318     0      8   \n",
       "\n",
       "                           year  quarter  dayofweek  dayofmonth  dayofyear  \n",
       "utc_ts                                                                      \n",
       "2024-08-07 00:00:00+00:00  2024        3          2           7        220  \n",
       "2024-08-07 01:00:00+00:00  2024        3          2           7        220  \n",
       "2024-08-07 02:00:00+00:00  2024        3          2           7        220  \n",
       "2024-08-07 03:00:00+00:00  2024        3          2           7        220  \n",
       "2024-08-07 04:00:00+00:00  2024        3          2           7        220  \n",
       "...                         ...      ...        ...         ...        ...  \n",
       "2024-08-20 20:00:00+00:00  2024        3          1          20        233  \n",
       "2024-08-20 21:00:00+00:00  2024        3          1          20        233  \n",
       "2024-08-20 22:00:00+00:00  2024        3          1          20        233  \n",
       "2024-08-20 23:00:00+00:00  2024        3          1          20        233  \n",
       "2024-08-21 00:00:00+00:00  2024        3          2          21        234  \n",
       "\n",
       "[337 rows x 9 columns]"
      ]
     },
     "execution_count": 15,
     "metadata": {},
     "output_type": "execute_result"
    }
   ],
   "source": [
    "eval_df = await fetch_eval_dataset()\n",
    "eval_df"
   ]
  },
  {
   "cell_type": "code",
   "execution_count": 16,
   "id": "558faf7f-df13-417e-9de5-b6eb8aa5b72d",
   "metadata": {},
   "outputs": [],
   "source": [
    "pred = baseline_model.predict(None, eval_df)"
   ]
  },
  {
   "cell_type": "code",
   "execution_count": 17,
   "id": "27dbc520-7ec7-4d48-add9-3b488f97cc60",
   "metadata": {},
   "outputs": [
    {
     "data": {
      "image/png": "[encoded data removed]",
      "text/plain": [
       "<Figure size 640x480 with 1 Axes>"
      ]
     },
     "metadata": {},
     "output_type": "display_data"
    }
   ],
   "source": [
    "plt.plot(eval_df.index, eval_df.D, label='target')\n",
    "plt.plot(eval_df.index, pred, label='prediction')\n",
    "plt.xlabel('Date')\n",
    "plt.xticks(rotation=45)\n",
    "plt.ylabel('Demand')\n",
    "plt.legend()\n",
    "plt.show()"
   ]
  },
  {
   "cell_type": "markdown",
   "id": "d55adadf-4419-402d-b081-cb091c9294eb",
   "metadata": {},
   "source": [
    "# Log the model to mlflow"
   ]
  },
  {
   "cell_type": "code",
   "execution_count": 29,
   "id": "2fbe4ffb-6a5c-4045-b6a0-7685ede8d286",
   "metadata": {},
   "outputs": [
    {
     "data": {
      "text/html": [
       "<pre style=\"white-space:pre;overflow-x:auto;line-height:normal;font-family:Menlo,'DejaVu Sans Mono',consolas,'Courier New',monospace\">16:03:11.767 | <span style=\"color: #008080; text-decoration-color: #008080\">INFO</span>    | prefect.engine - Created task run 'mlflow_emit_tags_and_params-7e8df46b' for task 'mlflow_emit_tags_and_params'\n",
       "</pre>\n"
      ],
      "text/plain": [
       "16:03:11.767 | \u001b[36mINFO\u001b[0m    | prefect.engine - Created task run 'mlflow_emit_tags_and_params-7e8df46b' for task 'mlflow_emit_tags_and_params'\n"
      ]
     },
     "metadata": {},
     "output_type": "display_data"
    },
    {
     "data": {
      "text/html": [
       "<pre style=\"white-space:pre;overflow-x:auto;line-height:normal;font-family:Menlo,'DejaVu Sans Mono',consolas,'Courier New',monospace\">16:03:12.284 | <span style=\"color: #008080; text-decoration-color: #008080\">INFO</span>    | Task run 'mlflow_emit_tags_and_params-7e8df46b' - Finished in state <span style=\"color: #008000; text-decoration-color: #008000\">Completed</span>()\n",
       "</pre>\n"
      ],
      "text/plain": [
       "16:03:12.284 | \u001b[36mINFO\u001b[0m    | Task run 'mlflow_emit_tags_and_params-7e8df46b' - Finished in state \u001b[32mCompleted\u001b[0m()\n"
      ]
     },
     "metadata": {},
     "output_type": "display_data"
    },
    {
     "data": {
      "text/html": [
       "<pre style=\"white-space:pre;overflow-x:auto;line-height:normal;font-family:Menlo,'DejaVu Sans Mono',consolas,'Courier New',monospace\">16:03:13.217 | <span style=\"color: #d7d700; text-decoration-color: #d7d700\">WARNING</span> | py.warnings - /usr/local/lib/python3.10/site-packages/_distutils_hack/__init__.py:17: UserWarning: Distutils was imported before Setuptools, but importing Setuptools also replaces the `distutils` module in `sys.modules`. This may lead to undesirable behaviors or errors. To avoid these issues, avoid using distutils directly, ensure that setuptools is installed in the traditional way (e.g. not an editable install), and/or make sure that setuptools is always imported before distutils.\n",
       "  warnings.warn(\n",
       "\n",
       "</pre>\n"
      ],
      "text/plain": [
       "16:03:13.217 | \u001b[38;5;184mWARNING\u001b[0m | py.warnings - /usr/local/lib/python3.10/site-packages/_distutils_hack/__init__.py:17: UserWarning: Distutils was imported before Setuptools, but importing Setuptools also replaces the `distutils` module in `sys.modules`. This may lead to undesirable behaviors or errors. To avoid these issues, avoid using distutils directly, ensure that setuptools is installed in the traditional way (e.g. not an editable install), and/or make sure that setuptools is always imported before distutils.\n",
       "  warnings.warn(\n",
       "\n"
      ]
     },
     "metadata": {},
     "output_type": "display_data"
    },
    {
     "data": {
      "text/html": [
       "<pre style=\"white-space:pre;overflow-x:auto;line-height:normal;font-family:Menlo,'DejaVu Sans Mono',consolas,'Courier New',monospace\">16:03:13.218 | <span style=\"color: #d7d700; text-decoration-color: #d7d700\">WARNING</span> | py.warnings - /usr/local/lib/python3.10/site-packages/_distutils_hack/__init__.py:32: UserWarning: Setuptools is replacing distutils. Support for replacing an already imported distutils is deprecated. In the future, this condition will fail. Register concerns at <span style=\"color: #0000ff; text-decoration-color: #0000ff\">https://github.com/pypa/setuptools/issues/new?template=distutils-deprecation.yml</span>\n",
       "  warnings.warn(\n",
       "\n",
       "</pre>\n"
      ],
      "text/plain": [
       "16:03:13.218 | \u001b[38;5;184mWARNING\u001b[0m | py.warnings - /usr/local/lib/python3.10/site-packages/_distutils_hack/__init__.py:32: UserWarning: Setuptools is replacing distutils. Support for replacing an already imported distutils is deprecated. In the future, this condition will fail. Register concerns at \u001b[94mhttps://github.com/pypa/setuptools/issues/new?template=distutils-deprecation.yml\u001b[0m\n",
       "  warnings.warn(\n",
       "\n"
      ]
     },
     "metadata": {},
     "output_type": "display_data"
    },
    {
     "data": {
      "text/html": [
       "<pre style=\"white-space:pre;overflow-x:auto;line-height:normal;font-family:Menlo,'DejaVu Sans Mono',consolas,'Courier New',monospace\">16:03:13.221 | <span style=\"color: #d7d700; text-decoration-color: #d7d700\">WARNING</span> | py.warnings - /usr/local/lib/python3.10/importlib/__init__.py:126: DeprecationWarning: The distutils package is deprecated and slated for removal in Python 3.12. Use setuptools or check PEP 632 for potential alternatives\n",
       "  return _bootstrap._gcd_import(name[level:], package, level)\n",
       "\n",
       "</pre>\n"
      ],
      "text/plain": [
       "16:03:13.221 | \u001b[38;5;184mWARNING\u001b[0m | py.warnings - /usr/local/lib/python3.10/importlib/__init__.py:126: DeprecationWarning: The distutils package is deprecated and slated for removal in Python 3.12. Use setuptools or check PEP 632 for potential alternatives\n",
       "  return _bootstrap._gcd_import(name[level:], package, level)\n",
       "\n"
      ]
     },
     "metadata": {},
     "output_type": "display_data"
    },
    {
     "name": "stderr",
     "output_type": "stream",
     "text": [
      "2024/08/23 16:03:18 WARNING mlflow.models.model: Input example should be provided to infer model signature if the model signature is not provided when logging the model.\n",
      "2024/08/23 16:03:18 INFO mlflow.tracking._tracking_service.client: 🏃 View run peaceful-wren-969 at: http://mlflow:5001/#/experiments/1/runs/dc3c5d6584264b078687e06da9f94afa.\n",
      "2024/08/23 16:03:18 INFO mlflow.tracking._tracking_service.client: 🧪 View experiment at: http://mlflow:5001/#/experiments/1.\n"
     ]
    }
   ],
   "source": [
    "mlflow.set_tracking_uri(uri=mlflow_endpoint_uri())\n",
    "mlflow.set_experiment('xgb.df.train')\n",
    "with mlflow.start_run():\n",
    "    await mlflow_emit_tags_and_params(df, dvc_dataset_info)\n",
    "    mlflow.pyfunc.log_model(artifact_path=\"baseline_model\", python_model=baseline_model)"
   ]
  },
  {
   "cell_type": "markdown",
   "id": "e3c75a43-1884-4bd8-9b4f-3d468f8dbc78",
   "metadata": {},
   "source": [
    "# Visualize and Compare performance metrics over time"
   ]
  },
  {
   "cell_type": "code",
   "execution_count": 19,
   "id": "a40386a8-1e48-4c00-9d7f-01ac8a28f1aa",
   "metadata": {},
   "outputs": [
    {
     "data": {
      "text/html": [
       "<div>\n",
       "<style scoped>\n",
       "    .dataframe tbody tr th:only-of-type {\n",
       "        vertical-align: middle;\n",
       "    }\n",
       "\n",
       "    .dataframe tbody tr th {\n",
       "        vertical-align: top;\n",
       "    }\n",
       "\n",
       "    .dataframe thead th {\n",
       "        text-align: right;\n",
       "    }\n",
       "</style>\n",
       "<table border=\"1\" class=\"dataframe\">\n",
       "  <thead>\n",
       "    <tr style=\"text-align: right;\">\n",
       "      <th></th>\n",
       "      <th>run_id</th>\n",
       "      <th>experiment_id</th>\n",
       "      <th>status</th>\n",
       "      <th>artifact_uri</th>\n",
       "      <th>start_time</th>\n",
       "      <th>end_time</th>\n",
       "      <th>metrics.root_mean_squared_error</th>\n",
       "      <th>metrics.mean_on_target</th>\n",
       "      <th>metrics.example_count</th>\n",
       "      <th>metrics.mean_squared_error</th>\n",
       "      <th>...</th>\n",
       "      <th>metrics.mean_absolute_error</th>\n",
       "      <th>metrics.r2_score</th>\n",
       "      <th>params.model_version</th>\n",
       "      <th>params.model_name</th>\n",
       "      <th>tags.mlflow.user</th>\n",
       "      <th>tags.prefect_flow_run</th>\n",
       "      <th>tags.mlflow.datasets</th>\n",
       "      <th>tags.mlflow.source.name</th>\n",
       "      <th>tags.mlflow.source.type</th>\n",
       "      <th>tags.mlflow.runName</th>\n",
       "    </tr>\n",
       "  </thead>\n",
       "  <tbody>\n",
       "    <tr>\n",
       "      <th>0</th>\n",
       "      <td>e45c5dbe3abd409bb548c08e6154867c</td>\n",
       "      <td>2</td>\n",
       "      <td>FINISHED</td>\n",
       "      <td>mlflow-artifacts:/2/e45c5dbe3abd409bb548c08e61...</td>\n",
       "      <td>2024-08-23 15:12:44.485000+00:00</td>\n",
       "      <td>2024-08-23 15:12:44.689000+00:00</td>\n",
       "      <td>15381.823312</td>\n",
       "      <td>100508.52819</td>\n",
       "      <td>337.0</td>\n",
       "      <td>2.366005e+08</td>\n",
       "      <td>...</td>\n",
       "      <td>13481.134412</td>\n",
       "      <td>-0.291989</td>\n",
       "      <td>1</td>\n",
       "      <td>xgboost-df</td>\n",
       "      <td>root</td>\n",
       "      <td>terrestrial-tarsier</td>\n",
       "      <td>[{\"name\":\"b235be20d7476df3d9d55964e4cc12df\",\"h...</td>\n",
       "      <td>/usr/local/lib/python3.10/site-packages/prefec...</td>\n",
       "      <td>LOCAL</td>\n",
       "      <td>xgboost-df-v1_eval</td>\n",
       "    </tr>\n",
       "  </tbody>\n",
       "</table>\n",
       "<p>1 rows × 23 columns</p>\n",
       "</div>"
      ],
      "text/plain": [
       "                             run_id experiment_id    status  \\\n",
       "0  e45c5dbe3abd409bb548c08e6154867c             2  FINISHED   \n",
       "\n",
       "                                        artifact_uri  \\\n",
       "0  mlflow-artifacts:/2/e45c5dbe3abd409bb548c08e61...   \n",
       "\n",
       "                        start_time                         end_time  \\\n",
       "0 2024-08-23 15:12:44.485000+00:00 2024-08-23 15:12:44.689000+00:00   \n",
       "\n",
       "   metrics.root_mean_squared_error  metrics.mean_on_target  \\\n",
       "0                     15381.823312            100508.52819   \n",
       "\n",
       "   metrics.example_count  metrics.mean_squared_error  ...  \\\n",
       "0                  337.0                2.366005e+08  ...   \n",
       "\n",
       "   metrics.mean_absolute_error  metrics.r2_score  params.model_version  \\\n",
       "0                 13481.134412         -0.291989                     1   \n",
       "\n",
       "   params.model_name  tags.mlflow.user tags.prefect_flow_run  \\\n",
       "0         xgboost-df              root   terrestrial-tarsier   \n",
       "\n",
       "                                tags.mlflow.datasets  \\\n",
       "0  [{\"name\":\"b235be20d7476df3d9d55964e4cc12df\",\"h...   \n",
       "\n",
       "                             tags.mlflow.source.name tags.mlflow.source.type  \\\n",
       "0  /usr/local/lib/python3.10/site-packages/prefec...                   LOCAL   \n",
       "\n",
       "  tags.mlflow.runName  \n",
       "0  xgboost-df-v1_eval  \n",
       "\n",
       "[1 rows x 23 columns]"
      ]
     },
     "execution_count": 19,
     "metadata": {},
     "output_type": "execute_result"
    }
   ],
   "source": [
    "mlflow.set_tracking_uri(uri=mlflow_endpoint_uri())\n",
    "runs = mlflow.search_runs(experiment_names=['xgb.df.compare_models'])\n",
    "runs"
   ]
  },
  {
   "cell_type": "code",
   "execution_count": 20,
   "id": "c649e51e-b3b2-4ca7-b0c2-525be6dfd291",
   "metadata": {},
   "outputs": [],
   "source": [
    "# Cast some types\n",
    "runs['start_time'] = pd.to_datetime(runs['start_time'], utc=True)\n",
    "runs['params.model_version'] = pd.to_numeric(runs['params.model_version'])\n",
    "runs['metrics.root_mean_squared_error'] = pd.to_numeric(runs['metrics.root_mean_squared_error'])"
   ]
  },
  {
   "cell_type": "code",
   "execution_count": 21,
   "id": "0b7f1140-044c-4486-95e7-26c57fb20dd3",
   "metadata": {},
   "outputs": [
    {
     "data": {
      "text/html": [
       "<div>\n",
       "<style scoped>\n",
       "    .dataframe tbody tr th:only-of-type {\n",
       "        vertical-align: middle;\n",
       "    }\n",
       "\n",
       "    .dataframe tbody tr th {\n",
       "        vertical-align: top;\n",
       "    }\n",
       "\n",
       "    .dataframe thead th {\n",
       "        text-align: right;\n",
       "    }\n",
       "</style>\n",
       "<table border=\"1\" class=\"dataframe\">\n",
       "  <thead>\n",
       "    <tr style=\"text-align: right;\">\n",
       "      <th></th>\n",
       "      <th>run_id</th>\n",
       "      <th>experiment_id</th>\n",
       "      <th>status</th>\n",
       "      <th>artifact_uri</th>\n",
       "      <th>start_time</th>\n",
       "      <th>end_time</th>\n",
       "      <th>metrics.root_mean_squared_error</th>\n",
       "      <th>metrics.mean_on_target</th>\n",
       "      <th>metrics.example_count</th>\n",
       "      <th>metrics.mean_squared_error</th>\n",
       "      <th>...</th>\n",
       "      <th>metrics.mean_absolute_error</th>\n",
       "      <th>metrics.r2_score</th>\n",
       "      <th>params.model_version</th>\n",
       "      <th>params.model_name</th>\n",
       "      <th>tags.mlflow.user</th>\n",
       "      <th>tags.prefect_flow_run</th>\n",
       "      <th>tags.mlflow.datasets</th>\n",
       "      <th>tags.mlflow.source.name</th>\n",
       "      <th>tags.mlflow.source.type</th>\n",
       "      <th>tags.mlflow.runName</th>\n",
       "    </tr>\n",
       "  </thead>\n",
       "  <tbody>\n",
       "    <tr>\n",
       "      <th>0</th>\n",
       "      <td>e45c5dbe3abd409bb548c08e6154867c</td>\n",
       "      <td>2</td>\n",
       "      <td>FINISHED</td>\n",
       "      <td>mlflow-artifacts:/2/e45c5dbe3abd409bb548c08e61...</td>\n",
       "      <td>2024-08-23 15:12:44.485000+00:00</td>\n",
       "      <td>2024-08-23 15:12:44.689000+00:00</td>\n",
       "      <td>15381.823312</td>\n",
       "      <td>100508.52819</td>\n",
       "      <td>337.0</td>\n",
       "      <td>2.366005e+08</td>\n",
       "      <td>...</td>\n",
       "      <td>13481.134412</td>\n",
       "      <td>-0.291989</td>\n",
       "      <td>1</td>\n",
       "      <td>xgboost-df</td>\n",
       "      <td>root</td>\n",
       "      <td>terrestrial-tarsier</td>\n",
       "      <td>[{\"name\":\"b235be20d7476df3d9d55964e4cc12df\",\"h...</td>\n",
       "      <td>/usr/local/lib/python3.10/site-packages/prefec...</td>\n",
       "      <td>LOCAL</td>\n",
       "      <td>xgboost-df-v1_eval</td>\n",
       "    </tr>\n",
       "  </tbody>\n",
       "</table>\n",
       "<p>1 rows × 23 columns</p>\n",
       "</div>"
      ],
      "text/plain": [
       "                             run_id experiment_id    status  \\\n",
       "0  e45c5dbe3abd409bb548c08e6154867c             2  FINISHED   \n",
       "\n",
       "                                        artifact_uri  \\\n",
       "0  mlflow-artifacts:/2/e45c5dbe3abd409bb548c08e61...   \n",
       "\n",
       "                        start_time                         end_time  \\\n",
       "0 2024-08-23 15:12:44.485000+00:00 2024-08-23 15:12:44.689000+00:00   \n",
       "\n",
       "   metrics.root_mean_squared_error  metrics.mean_on_target  \\\n",
       "0                     15381.823312            100508.52819   \n",
       "\n",
       "   metrics.example_count  metrics.mean_squared_error  ...  \\\n",
       "0                  337.0                2.366005e+08  ...   \n",
       "\n",
       "   metrics.mean_absolute_error  metrics.r2_score  params.model_version  \\\n",
       "0                 13481.134412         -0.291989                     1   \n",
       "\n",
       "   params.model_name  tags.mlflow.user  tags.prefect_flow_run  \\\n",
       "0         xgboost-df              root    terrestrial-tarsier   \n",
       "\n",
       "                                tags.mlflow.datasets  \\\n",
       "0  [{\"name\":\"b235be20d7476df3d9d55964e4cc12df\",\"h...   \n",
       "\n",
       "                             tags.mlflow.source.name tags.mlflow.source.type  \\\n",
       "0  /usr/local/lib/python3.10/site-packages/prefec...                   LOCAL   \n",
       "\n",
       "  tags.mlflow.runName  \n",
       "0  xgboost-df-v1_eval  \n",
       "\n",
       "[1 rows x 23 columns]"
      ]
     },
     "execution_count": 21,
     "metadata": {},
     "output_type": "execute_result"
    }
   ],
   "source": [
    "runs.head()"
   ]
  },
  {
   "cell_type": "code",
   "execution_count": 22,
   "id": "40479d26-42f2-494f-8a8b-00869185f543",
   "metadata": {},
   "outputs": [
    {
     "data": {
      "text/plain": [
       "Index(['run_id', 'experiment_id', 'status', 'artifact_uri', 'start_time',\n",
       "       'end_time', 'metrics.root_mean_squared_error', 'metrics.mean_on_target',\n",
       "       'metrics.example_count', 'metrics.mean_squared_error',\n",
       "       'metrics.mean_absolute_percentage_error', 'metrics.sum_on_target',\n",
       "       'metrics.max_error', 'metrics.mean_absolute_error', 'metrics.r2_score',\n",
       "       'params.model_version', 'params.model_name', 'tags.mlflow.user',\n",
       "       'tags.prefect_flow_run', 'tags.mlflow.datasets',\n",
       "       'tags.mlflow.source.name', 'tags.mlflow.source.type',\n",
       "       'tags.mlflow.runName'],\n",
       "      dtype='object')"
      ]
     },
     "execution_count": 22,
     "metadata": {},
     "output_type": "execute_result"
    }
   ],
   "source": [
    "runs.columns"
   ]
  },
  {
   "cell_type": "code",
   "execution_count": 23,
   "id": "44ccaf4e-541b-4042-b113-9dad5f00cf40",
   "metadata": {},
   "outputs": [],
   "source": [
    "def filter_runs(runs_df, model_name, model_version):\n",
    "    mn_mask = runs_df['params.model_name'] == model_name\n",
    "    mv_mask = runs_df['params.model_version'] == model_version\n",
    "    return runs_df[mn_mask & mv_mask]\n",
    "\n",
    "models = [MLFlowModelSpecifier(name='baseline', version=4), MLFlowModelSpecifier(name='xgboost-df', version=2)]"
   ]
  },
  {
   "cell_type": "code",
   "execution_count": 24,
   "id": "cfbc4861-1ba3-42c6-a7f0-f77c2d317870",
   "metadata": {},
   "outputs": [
    {
     "data": {
      "image/png": "[encoded data removed]",
      "text/plain": [
       "<Figure size 1500x800 with 4 Axes>"
      ]
     },
     "metadata": {},
     "output_type": "display_data"
    }
   ],
   "source": [
    "metrics = ['r2_score', 'root_mean_squared_error', 'mean_squared_error', 'mean_absolute_percentage_error']\n",
    "num_cols = 3\n",
    "num_rows = (len(metrics) // num_cols) + 1\n",
    "\n",
    "fig, axs = plt.subplots(num_rows, num_cols, figsize=(15, 8))\n",
    "axs = axs.flat\n",
    "for m in models:\n",
    "    model_runs_df = filter_runs(runs, m.name, m.version)\n",
    "    for i, metric in enumerate(metrics):\n",
    "        #print(f'model:{m.name}. metric:{metric}. data:{model_runs_df[f\"metrics.{metric}\"]}')\n",
    "        axs[i].set_title(metric)\n",
    "        axs[i].plot(model_runs_df.start_time, model_runs_df[f'metrics.{metric}'], \n",
    "                 marker='o', label=f'{m.name}-{m.version}')\n",
    "        axs[i].legend()\n",
    "        axs[i].tick_params(axis='x', rotation=45)\n",
    "        \n",
    "# Remove axes for any extra subplots beyond the number of metrics\n",
    "for i in range(len(metrics), len(axs)):\n",
    "    fig.delaxes(axs[i])\n",
    "    \n",
    "plt.tight_layout()\n",
    "plt.show()"
   ]
  },
  {
   "cell_type": "code",
   "execution_count": 25,
   "id": "942a1e0a-3845-40e7-904a-a52146eb97d2",
   "metadata": {},
   "outputs": [
    {
     "data": {
      "text/html": [
       "<pre style=\"white-space:pre;overflow-x:auto;line-height:normal;font-family:Menlo,'DejaVu Sans Mono',consolas,'Courier New',monospace\">15:58:42.958 | <span style=\"color: #008080; text-decoration-color: #008080\">INFO</span>    | prefect.engine - Created task run 'generate_performance_plot-7376230c' for task 'generate_performance_plot'\n",
       "</pre>\n"
      ],
      "text/plain": [
       "15:58:42.958 | \u001b[36mINFO\u001b[0m    | prefect.engine - Created task run 'generate_performance_plot-7376230c' for task 'generate_performance_plot'\n"
      ]
     },
     "metadata": {},
     "output_type": "display_data"
    },
    {
     "name": "stdout",
     "output_type": "stream",
     "text": [
      "Summary of runs for experiment xgb.df.compare_models:\n",
      "                             run_id experiment_id    status  \\\n",
      "0  e45c5dbe3abd409bb548c08e6154867c             2  FINISHED   \n",
      "\n",
      "                                        artifact_uri  \\\n",
      "0  mlflow-artifacts:/2/e45c5dbe3abd409bb548c08e61...   \n",
      "\n",
      "                        start_time                         end_time  \\\n",
      "0 2024-08-23 15:12:44.485000+00:00 2024-08-23 15:12:44.689000+00:00   \n",
      "\n",
      "   metrics.root_mean_squared_error  metrics.mean_on_target  \\\n",
      "0                     15381.823312            100508.52819   \n",
      "\n",
      "   metrics.example_count  metrics.mean_squared_error  ...  \\\n",
      "0                  337.0                2.366005e+08  ...   \n",
      "\n",
      "   metrics.mean_absolute_error  metrics.r2_score  params.model_version  \\\n",
      "0                 13481.134412         -0.291989                     1   \n",
      "\n",
      "   params.model_name  tags.mlflow.user tags.prefect_flow_run  \\\n",
      "0         xgboost-df              root   terrestrial-tarsier   \n",
      "\n",
      "                                tags.mlflow.datasets  \\\n",
      "0  [{\"name\":\"b235be20d7476df3d9d55964e4cc12df\",\"h...   \n",
      "\n",
      "                             tags.mlflow.source.name tags.mlflow.source.type  \\\n",
      "0  /usr/local/lib/python3.10/site-packages/prefec...                   LOCAL   \n",
      "\n",
      "  tags.mlflow.runName  \n",
      "0  xgboost-df-v1_eval  \n",
      "\n",
      "[1 rows x 23 columns]\n"
     ]
    },
    {
     "name": "stderr",
     "output_type": "stream",
     "text": [
      "2024/08/23 15:58:43 INFO mlflow.tracking.fluent: Experiment with name 'xgb.df.compare_models_plot' does not exist. Creating a new experiment.\n",
      "2024/08/23 15:58:43 INFO mlflow.tracking._tracking_service.client: 🏃 View run bright-doe-632 at: http://mlflow:5001/#/experiments/3/runs/442e15bcd0134446842c94c3a8a50abd.\n",
      "2024/08/23 15:58:43 INFO mlflow.tracking._tracking_service.client: 🧪 View experiment at: http://mlflow:5001/#/experiments/3.\n"
     ]
    },
    {
     "data": {
      "text/html": [
       "<pre style=\"white-space:pre;overflow-x:auto;line-height:normal;font-family:Menlo,'DejaVu Sans Mono',consolas,'Courier New',monospace\">15:58:43.707 | <span style=\"color: #008080; text-decoration-color: #008080\">INFO</span>    | Task run 'generate_performance_plot-7376230c' - Finished in state <span style=\"color: #008000; text-decoration-color: #008000\">Completed</span>()\n",
       "</pre>\n"
      ],
      "text/plain": [
       "15:58:43.707 | \u001b[36mINFO\u001b[0m    | Task run 'generate_performance_plot-7376230c' - Finished in state \u001b[32mCompleted\u001b[0m()\n"
      ]
     },
     "metadata": {},
     "output_type": "display_data"
    }
   ],
   "source": [
    "from flows.compare_models_flow import generate_performance_plot\n",
    "\n",
    "await generate_performance_plot(['xgboost-df', 'baseline'])"
   ]
  },
  {
   "cell_type": "code",
   "execution_count": 26,
   "id": "001e0e9b-ece8-45e5-bf25-a866a5d74550",
   "metadata": {},
   "outputs": [],
   "source": [
    "from mlflow import MlflowClient\n",
    "client = MlflowClient()\n",
    "experiment_name = \"xgb.df.compare_models\"\n",
    "experiment = client.get_experiment_by_name(experiment_name)\n",
    "runs = client.search_runs(experiment_ids=[experiment.experiment_id])"
   ]
  },
  {
   "cell_type": "code",
   "execution_count": 27,
   "id": "f8529abe-9ab1-4891-ad53-fdcbf01a1ea5",
   "metadata": {},
   "outputs": [
    {
     "data": {
      "text/plain": [
       "<RunInfo: artifact_uri='mlflow-artifacts:/2/e45c5dbe3abd409bb548c08e6154867c/artifacts', end_time=1724425964689, experiment_id='2', lifecycle_stage='active', run_id='e45c5dbe3abd409bb548c08e6154867c', run_name='xgboost-df-v1_eval', run_uuid='e45c5dbe3abd409bb548c08e6154867c', start_time=1724425964485, status='FINISHED', user_id='root'>"
      ]
     },
     "execution_count": 27,
     "metadata": {},
     "output_type": "execute_result"
    }
   ],
   "source": [
    "runs[0].info"
   ]
  }
 ],
 "metadata": {
  "kernelspec": {
   "display_name": "Python 3 (ipykernel)",
   "language": "python",
   "name": "python3"
  },
  "language_info": {
   "codemirror_mode": {
    "name": "ipython",
    "version": 3
   },
   "file_extension": ".py",
   "mimetype": "text/x-python",
   "name": "python",
   "nbconvert_exporter": "python",
   "pygments_lexer": "ipython3",
   "version": "3.10.14"
  }
 },
 "nbformat": 4,
 "nbformat_minor": 5
}
