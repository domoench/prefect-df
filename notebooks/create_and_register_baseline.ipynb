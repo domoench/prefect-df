{
 "cells": [
  {
   "cell_type": "markdown",
   "id": "604770d5-41c5-40f4-88cf-3575bc341b91",
   "metadata": {},
   "source": [
    "This is a script to create and register a naive non-ML baseline forecasting model.\n",
    "\n",
    "**The model**: For a given input (with a timestamp index feature), it predicts the average electricity demand value for that month and hour of day.\n",
    "\n",
    "This model is then registered to the MLFlow model registry."
   ]
  },
  {
   "cell_type": "markdown",
   "id": "73e1eaca-c2bb-4a55-8547-c6b0c14098df",
   "metadata": {},
   "source": [
    "# Import Libraries"
   ]
  },
  {
   "cell_type": "code",
   "execution_count": 1,
   "id": "87c5a2b5-c153-4b03-b70c-f1fb9262349d",
   "metadata": {},
   "outputs": [],
   "source": [
    "import pandas as pd\n",
    "import matplotlib.pyplot as plt\n",
    "import sys\n",
    "import mlflow\n",
    "import getpass"
   ]
  },
  {
   "cell_type": "code",
   "execution_count": 2,
   "id": "59390f18-9213-4ca1-b32a-80da7f283d1f",
   "metadata": {},
   "outputs": [
    {
     "name": "stdout",
     "output_type": "stream",
     "text": [
      "/app/notebooks\n"
     ]
    }
   ],
   "source": [
    "import os\n",
    "print(os.getcwd())"
   ]
  },
  {
   "cell_type": "code",
   "execution_count": 3,
   "id": "cf18b249-d9ed-4169-9c19-580b983ee812",
   "metadata": {},
   "outputs": [],
   "source": [
    "# Auto reload core modules so I don't need to restart kernel when I change\n",
    "# the code in those modules\n",
    "%load_ext autoreload\n",
    "%autoreload 2"
   ]
  },
  {
   "cell_type": "code",
   "execution_count": 4,
   "id": "3c0890c2-960f-475b-8d17-f2ff8b38276a",
   "metadata": {},
   "outputs": [
    {
     "name": "stderr",
     "output_type": "stream",
     "text": [
      "/usr/local/lib/python3.10/site-packages/pydantic/_internal/_fields.py:161: UserWarning: Field \"model_specifiers\" has conflict with protected namespace \"model_\".\n",
      "\n",
      "You may be able to resolve this warning by setting `model_config['protected_namespaces'] = ()`.\n",
      "  warnings.warn(\n"
     ]
    }
   ],
   "source": [
    "#sys.path.append('../')\n",
    "from core.data import (\n",
    "    request_EIA_data, get_dvc_remote_repo_url, get_dvc_dataset_as_df,\n",
    ")\n",
    "from flows.train_model_flow import clean_data, features\n",
    "from flows.compare_models_flow import fetch_eval_dataset\n",
    "from core.types import DVCDatasetInfo"
   ]
  },
  {
   "cell_type": "markdown",
   "id": "412d0e67-de58-4dec-ac75-33ba33e6ebcd",
   "metadata": {},
   "source": [
    "# Get training data"
   ]
  },
  {
   "cell_type": "code",
   "execution_count": 5,
   "id": "06f11acd-cb09-4e78-bec3-91792efb9509",
   "metadata": {},
   "outputs": [
    {
     "name": "stdin",
     "output_type": "stream",
     "text": [
      "Enter DVC git repo PAT ········\n"
     ]
    }
   ],
   "source": [
    "git_PAT = getpass.getpass(prompt='Enter DVC git repo PAT')"
   ]
  },
  {
   "cell_type": "code",
   "execution_count": 6,
   "id": "67edfd75-248d-4a33-b26f-48b6ba16174e",
   "metadata": {},
   "outputs": [],
   "source": [
    "git_repo_url = get_dvc_remote_repo_url(git_PAT)\n",
    "path = 'data/eia_d_df_2019-01-01_00_2024-08-14_00.parquet'\n",
    "rev = '4e23cce2fba3111922bda0676d7edac39a95e3f6'\n",
    "dvc_dataset_info = DVCDatasetInfo(repo=git_repo_url, path=path, rev=rev)\n",
    "df = get_dvc_dataset_as_df(dvc_dataset_info)"
   ]
  },
  {
   "cell_type": "code",
   "execution_count": 7,
   "id": "018c5b1a-0286-41de-a6d7-4ed5e09ff113",
   "metadata": {},
   "outputs": [
    {
     "data": {
      "text/html": [
       "<div>\n",
       "<style scoped>\n",
       "    .dataframe tbody tr th:only-of-type {\n",
       "        vertical-align: middle;\n",
       "    }\n",
       "\n",
       "    .dataframe tbody tr th {\n",
       "        vertical-align: top;\n",
       "    }\n",
       "\n",
       "    .dataframe thead th {\n",
       "        text-align: right;\n",
       "    }\n",
       "</style>\n",
       "<table border=\"1\" class=\"dataframe\">\n",
       "  <thead>\n",
       "    <tr style=\"text-align: right;\">\n",
       "      <th></th>\n",
       "      <th>respondent</th>\n",
       "      <th>D</th>\n",
       "      <th>DF</th>\n",
       "    </tr>\n",
       "    <tr>\n",
       "      <th>utc_ts</th>\n",
       "      <th></th>\n",
       "      <th></th>\n",
       "      <th></th>\n",
       "    </tr>\n",
       "  </thead>\n",
       "  <tbody>\n",
       "    <tr>\n",
       "      <th>2019-01-01 00:00:00+00:00</th>\n",
       "      <td>PJM</td>\n",
       "      <td>94016.0</td>\n",
       "      <td>100991.0</td>\n",
       "    </tr>\n",
       "    <tr>\n",
       "      <th>2019-01-01 01:00:00+00:00</th>\n",
       "      <td>PJM</td>\n",
       "      <td>90385.0</td>\n",
       "      <td>99187.0</td>\n",
       "    </tr>\n",
       "    <tr>\n",
       "      <th>2019-01-01 02:00:00+00:00</th>\n",
       "      <td>PJM</td>\n",
       "      <td>86724.0</td>\n",
       "      <td>97091.0</td>\n",
       "    </tr>\n",
       "    <tr>\n",
       "      <th>2019-01-01 03:00:00+00:00</th>\n",
       "      <td>PJM</td>\n",
       "      <td>82978.0</td>\n",
       "      <td>93374.0</td>\n",
       "    </tr>\n",
       "    <tr>\n",
       "      <th>2019-01-01 04:00:00+00:00</th>\n",
       "      <td>PJM</td>\n",
       "      <td>79536.0</td>\n",
       "      <td>87684.0</td>\n",
       "    </tr>\n",
       "    <tr>\n",
       "      <th>...</th>\n",
       "      <td>...</td>\n",
       "      <td>...</td>\n",
       "      <td>...</td>\n",
       "    </tr>\n",
       "    <tr>\n",
       "      <th>2024-08-13 20:00:00+00:00</th>\n",
       "      <td>PJM</td>\n",
       "      <td>117599.0</td>\n",
       "      <td>117610.0</td>\n",
       "    </tr>\n",
       "    <tr>\n",
       "      <th>2024-08-13 21:00:00+00:00</th>\n",
       "      <td>PJM</td>\n",
       "      <td>120167.0</td>\n",
       "      <td>118483.0</td>\n",
       "    </tr>\n",
       "    <tr>\n",
       "      <th>2024-08-13 22:00:00+00:00</th>\n",
       "      <td>PJM</td>\n",
       "      <td>121754.0</td>\n",
       "      <td>117000.0</td>\n",
       "    </tr>\n",
       "    <tr>\n",
       "      <th>2024-08-13 23:00:00+00:00</th>\n",
       "      <td>PJM</td>\n",
       "      <td>120845.0</td>\n",
       "      <td>113709.0</td>\n",
       "    </tr>\n",
       "    <tr>\n",
       "      <th>2024-08-14 00:00:00+00:00</th>\n",
       "      <td>PJM</td>\n",
       "      <td>116885.0</td>\n",
       "      <td>109701.0</td>\n",
       "    </tr>\n",
       "  </tbody>\n",
       "</table>\n",
       "<p>49249 rows × 3 columns</p>\n",
       "</div>"
      ],
      "text/plain": [
       "                          respondent         D        DF\n",
       "utc_ts                                                  \n",
       "2019-01-01 00:00:00+00:00        PJM   94016.0  100991.0\n",
       "2019-01-01 01:00:00+00:00        PJM   90385.0   99187.0\n",
       "2019-01-01 02:00:00+00:00        PJM   86724.0   97091.0\n",
       "2019-01-01 03:00:00+00:00        PJM   82978.0   93374.0\n",
       "2019-01-01 04:00:00+00:00        PJM   79536.0   87684.0\n",
       "...                              ...       ...       ...\n",
       "2024-08-13 20:00:00+00:00        PJM  117599.0  117610.0\n",
       "2024-08-13 21:00:00+00:00        PJM  120167.0  118483.0\n",
       "2024-08-13 22:00:00+00:00        PJM  121754.0  117000.0\n",
       "2024-08-13 23:00:00+00:00        PJM  120845.0  113709.0\n",
       "2024-08-14 00:00:00+00:00        PJM  116885.0  109701.0\n",
       "\n",
       "[49249 rows x 3 columns]"
      ]
     },
     "execution_count": 7,
     "metadata": {},
     "output_type": "execute_result"
    }
   ],
   "source": [
    "df"
   ]
  },
  {
   "cell_type": "code",
   "execution_count": 8,
   "id": "103bb894-28f3-455b-a80c-610c5c9bd4c3",
   "metadata": {},
   "outputs": [
    {
     "data": {
      "text/html": [
       "<pre style=\"white-space:pre;overflow-x:auto;line-height:normal;font-family:Menlo,'DejaVu Sans Mono',consolas,'Courier New',monospace\">20:59:21.267 | <span style=\"color: #008080; text-decoration-color: #008080\">INFO</span>    | prefect.engine - Created task run 'clean_data-6286468f' for task 'clean_data'\n",
       "</pre>\n"
      ],
      "text/plain": [
       "20:59:21.267 | \u001b[36mINFO\u001b[0m    | prefect.engine - Created task run 'clean_data-6286468f' for task 'clean_data'\n"
      ]
     },
     "metadata": {},
     "output_type": "display_data"
    },
    {
     "name": "stdout",
     "output_type": "stream",
     "text": [
      "Input data skew: 157.69167688006226\n",
      "Output data skew: 0.8495765960582895\n",
      "Null demand values: 117\n"
     ]
    },
    {
     "data": {
      "text/html": [
       "<pre style=\"white-space:pre;overflow-x:auto;line-height:normal;font-family:Menlo,'DejaVu Sans Mono',consolas,'Courier New',monospace\">20:59:22.486 | <span style=\"color: #008080; text-decoration-color: #008080\">INFO</span>    | Task run 'clean_data-6286468f' - Finished in state <span style=\"color: #008000; text-decoration-color: #008000\">Completed</span>()\n",
       "</pre>\n"
      ],
      "text/plain": [
       "20:59:22.486 | \u001b[36mINFO\u001b[0m    | Task run 'clean_data-6286468f' - Finished in state \u001b[32mCompleted\u001b[0m()\n"
      ]
     },
     "metadata": {},
     "output_type": "display_data"
    },
    {
     "data": {
      "text/html": [
       "<pre style=\"white-space:pre;overflow-x:auto;line-height:normal;font-family:Menlo,'DejaVu Sans Mono',consolas,'Courier New',monospace\">20:59:22.712 | <span style=\"color: #008080; text-decoration-color: #008080\">INFO</span>    | prefect.engine - Created task run 'features-5a61ab29' for task 'features'\n",
       "</pre>\n"
      ],
      "text/plain": [
       "20:59:22.712 | \u001b[36mINFO\u001b[0m    | prefect.engine - Created task run 'features-5a61ab29' for task 'features'\n"
      ]
     },
     "metadata": {},
     "output_type": "display_data"
    },
    {
     "name": "stdout",
     "output_type": "stream",
     "text": [
      "                          respondent         D  hour  month  year  quarter  \\\n",
      "utc_ts                                                                       \n",
      "2019-01-01 00:00:00+00:00        PJM   94016.0     0      1  2019        1   \n",
      "2019-01-01 01:00:00+00:00        PJM   90385.0     1      1  2019        1   \n",
      "2019-01-01 02:00:00+00:00        PJM   86724.0     2      1  2019        1   \n",
      "2019-01-01 03:00:00+00:00        PJM   82978.0     3      1  2019        1   \n",
      "2019-01-01 04:00:00+00:00        PJM   79536.0     4      1  2019        1   \n",
      "...                              ...       ...   ...    ...   ...      ...   \n",
      "2024-08-13 20:00:00+00:00        PJM  117599.0    20      8  2024        3   \n",
      "2024-08-13 21:00:00+00:00        PJM  120167.0    21      8  2024        3   \n",
      "2024-08-13 22:00:00+00:00        PJM  121754.0    22      8  2024        3   \n",
      "2024-08-13 23:00:00+00:00        PJM  120845.0    23      8  2024        3   \n",
      "2024-08-14 00:00:00+00:00        PJM  116885.0     0      8  2024        3   \n",
      "\n",
      "                           dayofweek  dayofmonth  dayofyear  \n",
      "utc_ts                                                       \n",
      "2019-01-01 00:00:00+00:00          1           1          1  \n",
      "2019-01-01 01:00:00+00:00          1           1          1  \n",
      "2019-01-01 02:00:00+00:00          1           1          1  \n",
      "2019-01-01 03:00:00+00:00          1           1          1  \n",
      "2019-01-01 04:00:00+00:00          1           1          1  \n",
      "...                              ...         ...        ...  \n",
      "2024-08-13 20:00:00+00:00          1          13        226  \n",
      "2024-08-13 21:00:00+00:00          1          13        226  \n",
      "2024-08-13 22:00:00+00:00          1          13        226  \n",
      "2024-08-13 23:00:00+00:00          1          13        226  \n",
      "2024-08-14 00:00:00+00:00          2          14        227  \n",
      "\n",
      "[49249 rows x 9 columns]\n"
     ]
    },
    {
     "data": {
      "text/html": [
       "<pre style=\"white-space:pre;overflow-x:auto;line-height:normal;font-family:Menlo,'DejaVu Sans Mono',consolas,'Courier New',monospace\">20:59:23.009 | <span style=\"color: #008080; text-decoration-color: #008080\">INFO</span>    | Task run 'features-5a61ab29' - Finished in state <span style=\"color: #008000; text-decoration-color: #008000\">Completed</span>()\n",
       "</pre>\n"
      ],
      "text/plain": [
       "20:59:23.009 | \u001b[36mINFO\u001b[0m    | Task run 'features-5a61ab29' - Finished in state \u001b[32mCompleted\u001b[0m()\n"
      ]
     },
     "metadata": {},
     "output_type": "display_data"
    }
   ],
   "source": [
    "df = await clean_data(df)\n",
    "df = await features(df)"
   ]
  },
  {
   "cell_type": "code",
   "execution_count": 9,
   "id": "27f72047-d0fe-4b6b-9a55-a20ba1d089c6",
   "metadata": {},
   "outputs": [
    {
     "data": {
      "text/html": [
       "<div>\n",
       "<style scoped>\n",
       "    .dataframe tbody tr th:only-of-type {\n",
       "        vertical-align: middle;\n",
       "    }\n",
       "\n",
       "    .dataframe tbody tr th {\n",
       "        vertical-align: top;\n",
       "    }\n",
       "\n",
       "    .dataframe thead th {\n",
       "        text-align: right;\n",
       "    }\n",
       "</style>\n",
       "<table border=\"1\" class=\"dataframe\">\n",
       "  <thead>\n",
       "    <tr style=\"text-align: right;\">\n",
       "      <th></th>\n",
       "      <th>respondent</th>\n",
       "      <th>D</th>\n",
       "      <th>hour</th>\n",
       "      <th>month</th>\n",
       "      <th>year</th>\n",
       "      <th>quarter</th>\n",
       "      <th>dayofweek</th>\n",
       "      <th>dayofmonth</th>\n",
       "      <th>dayofyear</th>\n",
       "    </tr>\n",
       "    <tr>\n",
       "      <th>utc_ts</th>\n",
       "      <th></th>\n",
       "      <th></th>\n",
       "      <th></th>\n",
       "      <th></th>\n",
       "      <th></th>\n",
       "      <th></th>\n",
       "      <th></th>\n",
       "      <th></th>\n",
       "      <th></th>\n",
       "    </tr>\n",
       "  </thead>\n",
       "  <tbody>\n",
       "    <tr>\n",
       "      <th>2019-01-01 00:00:00+00:00</th>\n",
       "      <td>PJM</td>\n",
       "      <td>94016.0</td>\n",
       "      <td>0</td>\n",
       "      <td>1</td>\n",
       "      <td>2019</td>\n",
       "      <td>1</td>\n",
       "      <td>1</td>\n",
       "      <td>1</td>\n",
       "      <td>1</td>\n",
       "    </tr>\n",
       "    <tr>\n",
       "      <th>2019-01-01 01:00:00+00:00</th>\n",
       "      <td>PJM</td>\n",
       "      <td>90385.0</td>\n",
       "      <td>1</td>\n",
       "      <td>1</td>\n",
       "      <td>2019</td>\n",
       "      <td>1</td>\n",
       "      <td>1</td>\n",
       "      <td>1</td>\n",
       "      <td>1</td>\n",
       "    </tr>\n",
       "    <tr>\n",
       "      <th>2019-01-01 02:00:00+00:00</th>\n",
       "      <td>PJM</td>\n",
       "      <td>86724.0</td>\n",
       "      <td>2</td>\n",
       "      <td>1</td>\n",
       "      <td>2019</td>\n",
       "      <td>1</td>\n",
       "      <td>1</td>\n",
       "      <td>1</td>\n",
       "      <td>1</td>\n",
       "    </tr>\n",
       "    <tr>\n",
       "      <th>2019-01-01 03:00:00+00:00</th>\n",
       "      <td>PJM</td>\n",
       "      <td>82978.0</td>\n",
       "      <td>3</td>\n",
       "      <td>1</td>\n",
       "      <td>2019</td>\n",
       "      <td>1</td>\n",
       "      <td>1</td>\n",
       "      <td>1</td>\n",
       "      <td>1</td>\n",
       "    </tr>\n",
       "    <tr>\n",
       "      <th>2019-01-01 04:00:00+00:00</th>\n",
       "      <td>PJM</td>\n",
       "      <td>79536.0</td>\n",
       "      <td>4</td>\n",
       "      <td>1</td>\n",
       "      <td>2019</td>\n",
       "      <td>1</td>\n",
       "      <td>1</td>\n",
       "      <td>1</td>\n",
       "      <td>1</td>\n",
       "    </tr>\n",
       "    <tr>\n",
       "      <th>...</th>\n",
       "      <td>...</td>\n",
       "      <td>...</td>\n",
       "      <td>...</td>\n",
       "      <td>...</td>\n",
       "      <td>...</td>\n",
       "      <td>...</td>\n",
       "      <td>...</td>\n",
       "      <td>...</td>\n",
       "      <td>...</td>\n",
       "    </tr>\n",
       "    <tr>\n",
       "      <th>2024-08-13 20:00:00+00:00</th>\n",
       "      <td>PJM</td>\n",
       "      <td>117599.0</td>\n",
       "      <td>20</td>\n",
       "      <td>8</td>\n",
       "      <td>2024</td>\n",
       "      <td>3</td>\n",
       "      <td>1</td>\n",
       "      <td>13</td>\n",
       "      <td>226</td>\n",
       "    </tr>\n",
       "    <tr>\n",
       "      <th>2024-08-13 21:00:00+00:00</th>\n",
       "      <td>PJM</td>\n",
       "      <td>120167.0</td>\n",
       "      <td>21</td>\n",
       "      <td>8</td>\n",
       "      <td>2024</td>\n",
       "      <td>3</td>\n",
       "      <td>1</td>\n",
       "      <td>13</td>\n",
       "      <td>226</td>\n",
       "    </tr>\n",
       "    <tr>\n",
       "      <th>2024-08-13 22:00:00+00:00</th>\n",
       "      <td>PJM</td>\n",
       "      <td>121754.0</td>\n",
       "      <td>22</td>\n",
       "      <td>8</td>\n",
       "      <td>2024</td>\n",
       "      <td>3</td>\n",
       "      <td>1</td>\n",
       "      <td>13</td>\n",
       "      <td>226</td>\n",
       "    </tr>\n",
       "    <tr>\n",
       "      <th>2024-08-13 23:00:00+00:00</th>\n",
       "      <td>PJM</td>\n",
       "      <td>120845.0</td>\n",
       "      <td>23</td>\n",
       "      <td>8</td>\n",
       "      <td>2024</td>\n",
       "      <td>3</td>\n",
       "      <td>1</td>\n",
       "      <td>13</td>\n",
       "      <td>226</td>\n",
       "    </tr>\n",
       "    <tr>\n",
       "      <th>2024-08-14 00:00:00+00:00</th>\n",
       "      <td>PJM</td>\n",
       "      <td>116885.0</td>\n",
       "      <td>0</td>\n",
       "      <td>8</td>\n",
       "      <td>2024</td>\n",
       "      <td>3</td>\n",
       "      <td>2</td>\n",
       "      <td>14</td>\n",
       "      <td>227</td>\n",
       "    </tr>\n",
       "  </tbody>\n",
       "</table>\n",
       "<p>49249 rows × 9 columns</p>\n",
       "</div>"
      ],
      "text/plain": [
       "                          respondent         D  hour  month  year  quarter  \\\n",
       "utc_ts                                                                       \n",
       "2019-01-01 00:00:00+00:00        PJM   94016.0     0      1  2019        1   \n",
       "2019-01-01 01:00:00+00:00        PJM   90385.0     1      1  2019        1   \n",
       "2019-01-01 02:00:00+00:00        PJM   86724.0     2      1  2019        1   \n",
       "2019-01-01 03:00:00+00:00        PJM   82978.0     3      1  2019        1   \n",
       "2019-01-01 04:00:00+00:00        PJM   79536.0     4      1  2019        1   \n",
       "...                              ...       ...   ...    ...   ...      ...   \n",
       "2024-08-13 20:00:00+00:00        PJM  117599.0    20      8  2024        3   \n",
       "2024-08-13 21:00:00+00:00        PJM  120167.0    21      8  2024        3   \n",
       "2024-08-13 22:00:00+00:00        PJM  121754.0    22      8  2024        3   \n",
       "2024-08-13 23:00:00+00:00        PJM  120845.0    23      8  2024        3   \n",
       "2024-08-14 00:00:00+00:00        PJM  116885.0     0      8  2024        3   \n",
       "\n",
       "                           dayofweek  dayofmonth  dayofyear  \n",
       "utc_ts                                                       \n",
       "2019-01-01 00:00:00+00:00          1           1          1  \n",
       "2019-01-01 01:00:00+00:00          1           1          1  \n",
       "2019-01-01 02:00:00+00:00          1           1          1  \n",
       "2019-01-01 03:00:00+00:00          1           1          1  \n",
       "2019-01-01 04:00:00+00:00          1           1          1  \n",
       "...                              ...         ...        ...  \n",
       "2024-08-13 20:00:00+00:00          1          13        226  \n",
       "2024-08-13 21:00:00+00:00          1          13        226  \n",
       "2024-08-13 22:00:00+00:00          1          13        226  \n",
       "2024-08-13 23:00:00+00:00          1          13        226  \n",
       "2024-08-14 00:00:00+00:00          2          14        227  \n",
       "\n",
       "[49249 rows x 9 columns]"
      ]
     },
     "execution_count": 9,
     "metadata": {},
     "output_type": "execute_result"
    }
   ],
   "source": [
    "df"
   ]
  },
  {
   "cell_type": "markdown",
   "id": "45ce7a1e-2918-4064-9bbb-82fcf300609a",
   "metadata": {},
   "source": [
    "# Calculate average demand by hour"
   ]
  },
  {
   "cell_type": "code",
   "execution_count": 10,
   "id": "5a322e6c-3a9a-461a-9999-74148b43cd00",
   "metadata": {},
   "outputs": [
    {
     "data": {
      "text/plain": [
       "hour  month\n",
       "0     1        105112.139785\n",
       "      2        100940.605882\n",
       "      3         89774.677596\n",
       "      4         82412.405556\n",
       "      5         88564.392473\n",
       "                   ...      \n",
       "23    8        121809.041916\n",
       "      9        102162.340000\n",
       "      10        86051.445161\n",
       "      11        91628.154362\n",
       "      12        99661.335484\n",
       "Name: D, Length: 288, dtype: float64"
      ]
     },
     "execution_count": 10,
     "metadata": {},
     "output_type": "execute_result"
    }
   ],
   "source": [
    "demand_by_hour_month = df.groupby(['hour','month'])['D'].agg(pd.Series.mean)\n",
    "demand_by_hour_month"
   ]
  },
  {
   "cell_type": "code",
   "execution_count": 11,
   "id": "ade3c48d-a46c-4158-a776-ba00d0bb0590",
   "metadata": {},
   "outputs": [
    {
     "data": {
      "text/plain": [
       "121809.04191616767"
      ]
     },
     "execution_count": 11,
     "metadata": {},
     "output_type": "execute_result"
    }
   ],
   "source": [
    "type(demand_by_hour_month)\n",
    "demand_by_hour_month[(23,8)]"
   ]
  },
  {
   "cell_type": "markdown",
   "id": "81cfde4b-92db-4916-9554-53b29ab5beb5",
   "metadata": {},
   "source": [
    "# Define Baseline Model\n",
    "\n",
    "Define my simple model (lookup table) function so that it implements the sci-kit learn [Predictor interface](https://scikit-learn.org/stable/developers/develop.html#different-objects)."
   ]
  },
  {
   "cell_type": "code",
   "execution_count": 12,
   "id": "44168c15-4498-4695-8747-a6431895fe09",
   "metadata": {},
   "outputs": [],
   "source": [
    "class BaselineModel(mlflow.pyfunc.PythonModel):\n",
    "    def __init__(self, demand_by_hour_month):\n",
    "        self.dbhm = demand_by_hour_month\n",
    "    \n",
    "    def predict(self, context, model_input_df):\n",
    "        # Assuming model_input contains a column 'hour' with the hour of the data point\n",
    "        def demand_for_row(row):\n",
    "            key_tuple = (row['hour'], row['month']) \n",
    "            return self.dbhm[key_tuple]\n",
    "        return model_input_df.apply(demand_for_row, axis=1)"
   ]
  },
  {
   "cell_type": "code",
   "execution_count": 13,
   "id": "890c4ff5-3fff-47c7-9002-62c85c6c5c64",
   "metadata": {},
   "outputs": [],
   "source": [
    "baseline_model = BaselineModel(demand_by_hour_month)"
   ]
  },
  {
   "cell_type": "markdown",
   "id": "34c913a8-9cbd-4167-b401-86f8ebacf901",
   "metadata": {},
   "source": [
    "# Visualize model predictions"
   ]
  },
  {
   "cell_type": "code",
   "execution_count": 14,
   "id": "f1c8dcef-e740-41f4-b6f4-825f9f4d413d",
   "metadata": {},
   "outputs": [
    {
     "data": {
      "text/html": [
       "<pre style=\"white-space:pre;overflow-x:auto;line-height:normal;font-family:Menlo,'DejaVu Sans Mono',consolas,'Courier New',monospace\">20:59:23.383 | <span style=\"color: #008080; text-decoration-color: #008080\">INFO</span>    | prefect.engine - Created task run 'fetch_eval_dataset-cb76da90' for task 'fetch_eval_dataset'\n",
       "</pre>\n"
      ],
      "text/plain": [
       "20:59:23.383 | \u001b[36mINFO\u001b[0m    | prefect.engine - Created task run 'fetch_eval_dataset-cb76da90' for task 'fetch_eval_dataset'\n"
      ]
     },
     "metadata": {},
     "output_type": "display_data"
    },
    {
     "data": {
      "text/html": [
       "<pre style=\"white-space:pre;overflow-x:auto;line-height:normal;font-family:Menlo,'DejaVu Sans Mono',consolas,'Courier New',monospace\">20:59:23.759 | <span style=\"color: #008080; text-decoration-color: #008080\">INFO</span>    | prefect.engine - Created task run 'get_eia_data_as_df-66e7a8da' for task 'get_eia_data_as_df'\n",
       "</pre>\n"
      ],
      "text/plain": [
       "20:59:23.759 | \u001b[36mINFO\u001b[0m    | prefect.engine - Created task run 'get_eia_data_as_df-66e7a8da' for task 'get_eia_data_as_df'\n"
      ]
     },
     "metadata": {},
     "output_type": "display_data"
    },
    {
     "name": "stdout",
     "output_type": "stream",
     "text": [
      "Fetching API page. offset:0. length:5000\n"
     ]
    },
    {
     "data": {
      "text/html": [
       "<pre style=\"white-space:pre;overflow-x:auto;line-height:normal;font-family:Menlo,'DejaVu Sans Mono',consolas,'Courier New',monospace\">20:59:25.742 | <span style=\"color: #008080; text-decoration-color: #008080\">INFO</span>    | Task run 'get_eia_data_as_df-66e7a8da' - Finished in state <span style=\"color: #008000; text-decoration-color: #008000\">Completed</span>()\n",
       "</pre>\n"
      ],
      "text/plain": [
       "20:59:25.742 | \u001b[36mINFO\u001b[0m    | Task run 'get_eia_data_as_df-66e7a8da' - Finished in state \u001b[32mCompleted\u001b[0m()\n"
      ]
     },
     "metadata": {},
     "output_type": "display_data"
    },
    {
     "data": {
      "text/html": [
       "<pre style=\"white-space:pre;overflow-x:auto;line-height:normal;font-family:Menlo,'DejaVu Sans Mono',consolas,'Courier New',monospace\">20:59:25.893 | <span style=\"color: #008080; text-decoration-color: #008080\">INFO</span>    | prefect.engine - Created task run 'transform-a03d30ba' for task 'transform'\n",
       "</pre>\n"
      ],
      "text/plain": [
       "20:59:25.893 | \u001b[36mINFO\u001b[0m    | prefect.engine - Created task run 'transform-a03d30ba' for task 'transform'\n"
      ]
     },
     "metadata": {},
     "output_type": "display_data"
    },
    {
     "name": "stdout",
     "output_type": "stream",
     "text": [
      "Transforming timeseries.\n",
      "Dataframe info:\n",
      "<class 'pandas.core.frame.DataFrame'>\n",
      "DatetimeIndex: 337 entries, 2024-07-31 00:00:00+00:00 to 2024-08-14 00:00:00+00:00\n",
      "Data columns (total 3 columns):\n",
      " #   Column      Non-Null Count  Dtype \n",
      "---  ------      --------------  ----- \n",
      " 0   respondent  337 non-null    object\n",
      " 1   D           337 non-null    int64 \n",
      " 2   DF          337 non-null    int64 \n",
      "dtypes: int64(2), object(1)\n",
      "memory usage: 10.5+ KB\n",
      "\n",
      "\n",
      "Dataframe dtypes:\n",
      "respondent    object\n",
      "D              int64\n",
      "DF             int64\n",
      "dtype: object\n",
      "\n",
      "Dataframe head:\n",
      "                          respondent       D      DF\n",
      "utc_ts                                              \n",
      "2024-07-31 00:00:00+00:00        PJM  131586  122884\n",
      "2024-07-31 01:00:00+00:00        PJM  127254  118076\n",
      "2024-07-31 02:00:00+00:00        PJM  123079  110723\n",
      "2024-07-31 03:00:00+00:00        PJM  116004  102708\n",
      "2024-07-31 04:00:00+00:00        PJM  110074   96824\n",
      "\n"
     ]
    },
    {
     "data": {
      "text/html": [
       "<pre style=\"white-space:pre;overflow-x:auto;line-height:normal;font-family:Menlo,'DejaVu Sans Mono',consolas,'Courier New',monospace\">20:59:26.264 | <span style=\"color: #008080; text-decoration-color: #008080\">INFO</span>    | Task run 'transform-a03d30ba' - Finished in state <span style=\"color: #008000; text-decoration-color: #008000\">Completed</span>()\n",
       "</pre>\n"
      ],
      "text/plain": [
       "20:59:26.264 | \u001b[36mINFO\u001b[0m    | Task run 'transform-a03d30ba' - Finished in state \u001b[32mCompleted\u001b[0m()\n"
      ]
     },
     "metadata": {},
     "output_type": "display_data"
    },
    {
     "data": {
      "text/html": [
       "<pre style=\"white-space:pre;overflow-x:auto;line-height:normal;font-family:Menlo,'DejaVu Sans Mono',consolas,'Courier New',monospace\">20:59:26.381 | <span style=\"color: #008080; text-decoration-color: #008080\">INFO</span>    | prefect.engine - Created task run 'clean_data-4b6f1e81' for task 'clean_data'\n",
       "</pre>\n"
      ],
      "text/plain": [
       "20:59:26.381 | \u001b[36mINFO\u001b[0m    | prefect.engine - Created task run 'clean_data-4b6f1e81' for task 'clean_data'\n"
      ]
     },
     "metadata": {},
     "output_type": "display_data"
    },
    {
     "name": "stdout",
     "output_type": "stream",
     "text": [
      "Input data skew: 0.30861441921002697\n",
      "Output data skew: 0.30861441921002697\n",
      "Null demand values: 0\n"
     ]
    },
    {
     "data": {
      "text/html": [
       "<pre style=\"white-space:pre;overflow-x:auto;line-height:normal;font-family:Menlo,'DejaVu Sans Mono',consolas,'Courier New',monospace\">20:59:26.786 | <span style=\"color: #008080; text-decoration-color: #008080\">INFO</span>    | Task run 'clean_data-4b6f1e81' - Finished in state <span style=\"color: #008000; text-decoration-color: #008000\">Completed</span>()\n",
       "</pre>\n"
      ],
      "text/plain": [
       "20:59:26.786 | \u001b[36mINFO\u001b[0m    | Task run 'clean_data-4b6f1e81' - Finished in state \u001b[32mCompleted\u001b[0m()\n"
      ]
     },
     "metadata": {},
     "output_type": "display_data"
    },
    {
     "data": {
      "text/html": [
       "<pre style=\"white-space:pre;overflow-x:auto;line-height:normal;font-family:Menlo,'DejaVu Sans Mono',consolas,'Courier New',monospace\">20:59:26.898 | <span style=\"color: #008080; text-decoration-color: #008080\">INFO</span>    | prefect.engine - Created task run 'features-77eccb58' for task 'features'\n",
       "</pre>\n"
      ],
      "text/plain": [
       "20:59:26.898 | \u001b[36mINFO\u001b[0m    | prefect.engine - Created task run 'features-77eccb58' for task 'features'\n"
      ]
     },
     "metadata": {},
     "output_type": "display_data"
    },
    {
     "name": "stdout",
     "output_type": "stream",
     "text": [
      "                          respondent       D  hour  month  year  quarter  \\\n",
      "utc_ts                                                                     \n",
      "2024-07-31 00:00:00+00:00        PJM  131586     0      7  2024        3   \n",
      "2024-07-31 01:00:00+00:00        PJM  127254     1      7  2024        3   \n",
      "2024-07-31 02:00:00+00:00        PJM  123079     2      7  2024        3   \n",
      "2024-07-31 03:00:00+00:00        PJM  116004     3      7  2024        3   \n",
      "2024-07-31 04:00:00+00:00        PJM  110074     4      7  2024        3   \n",
      "...                              ...     ...   ...    ...   ...      ...   \n",
      "2024-08-13 20:00:00+00:00        PJM  117599    20      8  2024        3   \n",
      "2024-08-13 21:00:00+00:00        PJM  120167    21      8  2024        3   \n",
      "2024-08-13 22:00:00+00:00        PJM  121754    22      8  2024        3   \n",
      "2024-08-13 23:00:00+00:00        PJM  120845    23      8  2024        3   \n",
      "2024-08-14 00:00:00+00:00        PJM  116885     0      8  2024        3   \n",
      "\n",
      "                           dayofweek  dayofmonth  dayofyear  \n",
      "utc_ts                                                       \n",
      "2024-07-31 00:00:00+00:00          2          31        213  \n",
      "2024-07-31 01:00:00+00:00          2          31        213  \n",
      "2024-07-31 02:00:00+00:00          2          31        213  \n",
      "2024-07-31 03:00:00+00:00          2          31        213  \n",
      "2024-07-31 04:00:00+00:00          2          31        213  \n",
      "...                              ...         ...        ...  \n",
      "2024-08-13 20:00:00+00:00          1          13        226  \n",
      "2024-08-13 21:00:00+00:00          1          13        226  \n",
      "2024-08-13 22:00:00+00:00          1          13        226  \n",
      "2024-08-13 23:00:00+00:00          1          13        226  \n",
      "2024-08-14 00:00:00+00:00          2          14        227  \n",
      "\n",
      "[337 rows x 9 columns]\n"
     ]
    },
    {
     "data": {
      "text/html": [
       "<pre style=\"white-space:pre;overflow-x:auto;line-height:normal;font-family:Menlo,'DejaVu Sans Mono',consolas,'Courier New',monospace\">20:59:27.315 | <span style=\"color: #008080; text-decoration-color: #008080\">INFO</span>    | Task run 'features-77eccb58' - Finished in state <span style=\"color: #008000; text-decoration-color: #008000\">Completed</span>()\n",
       "</pre>\n"
      ],
      "text/plain": [
       "20:59:27.315 | \u001b[36mINFO\u001b[0m    | Task run 'features-77eccb58' - Finished in state \u001b[32mCompleted\u001b[0m()\n"
      ]
     },
     "metadata": {},
     "output_type": "display_data"
    },
    {
     "name": "stdout",
     "output_type": "stream",
     "text": [
      "Eval data df:\n",
      "                                D  hour  month  year  quarter  dayofweek  \\\n",
      "utc_ts                                                                     \n",
      "2024-07-31 00:00:00+00:00  131586     0      7  2024        3          2   \n",
      "2024-07-31 01:00:00+00:00  127254     1      7  2024        3          2   \n",
      "2024-07-31 02:00:00+00:00  123079     2      7  2024        3          2   \n",
      "2024-07-31 03:00:00+00:00  116004     3      7  2024        3          2   \n",
      "2024-07-31 04:00:00+00:00  110074     4      7  2024        3          2   \n",
      "...                           ...   ...    ...   ...      ...        ...   \n",
      "2024-08-13 20:00:00+00:00  117599    20      8  2024        3          1   \n",
      "2024-08-13 21:00:00+00:00  120167    21      8  2024        3          1   \n",
      "2024-08-13 22:00:00+00:00  121754    22      8  2024        3          1   \n",
      "2024-08-13 23:00:00+00:00  120845    23      8  2024        3          1   \n",
      "2024-08-14 00:00:00+00:00  116885     0      8  2024        3          2   \n",
      "\n",
      "                           dayofmonth  dayofyear  \n",
      "utc_ts                                            \n",
      "2024-07-31 00:00:00+00:00          31        213  \n",
      "2024-07-31 01:00:00+00:00          31        213  \n",
      "2024-07-31 02:00:00+00:00          31        213  \n",
      "2024-07-31 03:00:00+00:00          31        213  \n",
      "2024-07-31 04:00:00+00:00          31        213  \n",
      "...                               ...        ...  \n",
      "2024-08-13 20:00:00+00:00          13        226  \n",
      "2024-08-13 21:00:00+00:00          13        226  \n",
      "2024-08-13 22:00:00+00:00          13        226  \n",
      "2024-08-13 23:00:00+00:00          13        226  \n",
      "2024-08-14 00:00:00+00:00          14        227  \n",
      "\n",
      "[337 rows x 8 columns]\n"
     ]
    },
    {
     "data": {
      "text/html": [
       "<pre style=\"white-space:pre;overflow-x:auto;line-height:normal;font-family:Menlo,'DejaVu Sans Mono',consolas,'Courier New',monospace\">20:59:27.430 | <span style=\"color: #008080; text-decoration-color: #008080\">INFO</span>    | Task run 'fetch_eval_dataset-cb76da90' - Finished in state <span style=\"color: #008000; text-decoration-color: #008000\">Completed</span>()\n",
       "</pre>\n"
      ],
      "text/plain": [
       "20:59:27.430 | \u001b[36mINFO\u001b[0m    | Task run 'fetch_eval_dataset-cb76da90' - Finished in state \u001b[32mCompleted\u001b[0m()\n"
      ]
     },
     "metadata": {},
     "output_type": "display_data"
    },
    {
     "data": {
      "text/html": [
       "<div>\n",
       "<style scoped>\n",
       "    .dataframe tbody tr th:only-of-type {\n",
       "        vertical-align: middle;\n",
       "    }\n",
       "\n",
       "    .dataframe tbody tr th {\n",
       "        vertical-align: top;\n",
       "    }\n",
       "\n",
       "    .dataframe thead th {\n",
       "        text-align: right;\n",
       "    }\n",
       "</style>\n",
       "<table border=\"1\" class=\"dataframe\">\n",
       "  <thead>\n",
       "    <tr style=\"text-align: right;\">\n",
       "      <th></th>\n",
       "      <th>D</th>\n",
       "      <th>hour</th>\n",
       "      <th>month</th>\n",
       "      <th>year</th>\n",
       "      <th>quarter</th>\n",
       "      <th>dayofweek</th>\n",
       "      <th>dayofmonth</th>\n",
       "      <th>dayofyear</th>\n",
       "    </tr>\n",
       "    <tr>\n",
       "      <th>utc_ts</th>\n",
       "      <th></th>\n",
       "      <th></th>\n",
       "      <th></th>\n",
       "      <th></th>\n",
       "      <th></th>\n",
       "      <th></th>\n",
       "      <th></th>\n",
       "      <th></th>\n",
       "    </tr>\n",
       "  </thead>\n",
       "  <tbody>\n",
       "    <tr>\n",
       "      <th>2024-07-31 00:00:00+00:00</th>\n",
       "      <td>131586</td>\n",
       "      <td>0</td>\n",
       "      <td>7</td>\n",
       "      <td>2024</td>\n",
       "      <td>3</td>\n",
       "      <td>2</td>\n",
       "      <td>31</td>\n",
       "      <td>213</td>\n",
       "    </tr>\n",
       "    <tr>\n",
       "      <th>2024-07-31 01:00:00+00:00</th>\n",
       "      <td>127254</td>\n",
       "      <td>1</td>\n",
       "      <td>7</td>\n",
       "      <td>2024</td>\n",
       "      <td>3</td>\n",
       "      <td>2</td>\n",
       "      <td>31</td>\n",
       "      <td>213</td>\n",
       "    </tr>\n",
       "    <tr>\n",
       "      <th>2024-07-31 02:00:00+00:00</th>\n",
       "      <td>123079</td>\n",
       "      <td>2</td>\n",
       "      <td>7</td>\n",
       "      <td>2024</td>\n",
       "      <td>3</td>\n",
       "      <td>2</td>\n",
       "      <td>31</td>\n",
       "      <td>213</td>\n",
       "    </tr>\n",
       "    <tr>\n",
       "      <th>2024-07-31 03:00:00+00:00</th>\n",
       "      <td>116004</td>\n",
       "      <td>3</td>\n",
       "      <td>7</td>\n",
       "      <td>2024</td>\n",
       "      <td>3</td>\n",
       "      <td>2</td>\n",
       "      <td>31</td>\n",
       "      <td>213</td>\n",
       "    </tr>\n",
       "    <tr>\n",
       "      <th>2024-07-31 04:00:00+00:00</th>\n",
       "      <td>110074</td>\n",
       "      <td>4</td>\n",
       "      <td>7</td>\n",
       "      <td>2024</td>\n",
       "      <td>3</td>\n",
       "      <td>2</td>\n",
       "      <td>31</td>\n",
       "      <td>213</td>\n",
       "    </tr>\n",
       "    <tr>\n",
       "      <th>...</th>\n",
       "      <td>...</td>\n",
       "      <td>...</td>\n",
       "      <td>...</td>\n",
       "      <td>...</td>\n",
       "      <td>...</td>\n",
       "      <td>...</td>\n",
       "      <td>...</td>\n",
       "      <td>...</td>\n",
       "    </tr>\n",
       "    <tr>\n",
       "      <th>2024-08-13 20:00:00+00:00</th>\n",
       "      <td>117599</td>\n",
       "      <td>20</td>\n",
       "      <td>8</td>\n",
       "      <td>2024</td>\n",
       "      <td>3</td>\n",
       "      <td>1</td>\n",
       "      <td>13</td>\n",
       "      <td>226</td>\n",
       "    </tr>\n",
       "    <tr>\n",
       "      <th>2024-08-13 21:00:00+00:00</th>\n",
       "      <td>120167</td>\n",
       "      <td>21</td>\n",
       "      <td>8</td>\n",
       "      <td>2024</td>\n",
       "      <td>3</td>\n",
       "      <td>1</td>\n",
       "      <td>13</td>\n",
       "      <td>226</td>\n",
       "    </tr>\n",
       "    <tr>\n",
       "      <th>2024-08-13 22:00:00+00:00</th>\n",
       "      <td>121754</td>\n",
       "      <td>22</td>\n",
       "      <td>8</td>\n",
       "      <td>2024</td>\n",
       "      <td>3</td>\n",
       "      <td>1</td>\n",
       "      <td>13</td>\n",
       "      <td>226</td>\n",
       "    </tr>\n",
       "    <tr>\n",
       "      <th>2024-08-13 23:00:00+00:00</th>\n",
       "      <td>120845</td>\n",
       "      <td>23</td>\n",
       "      <td>8</td>\n",
       "      <td>2024</td>\n",
       "      <td>3</td>\n",
       "      <td>1</td>\n",
       "      <td>13</td>\n",
       "      <td>226</td>\n",
       "    </tr>\n",
       "    <tr>\n",
       "      <th>2024-08-14 00:00:00+00:00</th>\n",
       "      <td>116885</td>\n",
       "      <td>0</td>\n",
       "      <td>8</td>\n",
       "      <td>2024</td>\n",
       "      <td>3</td>\n",
       "      <td>2</td>\n",
       "      <td>14</td>\n",
       "      <td>227</td>\n",
       "    </tr>\n",
       "  </tbody>\n",
       "</table>\n",
       "<p>337 rows × 8 columns</p>\n",
       "</div>"
      ],
      "text/plain": [
       "                                D  hour  month  year  quarter  dayofweek  \\\n",
       "utc_ts                                                                     \n",
       "2024-07-31 00:00:00+00:00  131586     0      7  2024        3          2   \n",
       "2024-07-31 01:00:00+00:00  127254     1      7  2024        3          2   \n",
       "2024-07-31 02:00:00+00:00  123079     2      7  2024        3          2   \n",
       "2024-07-31 03:00:00+00:00  116004     3      7  2024        3          2   \n",
       "2024-07-31 04:00:00+00:00  110074     4      7  2024        3          2   \n",
       "...                           ...   ...    ...   ...      ...        ...   \n",
       "2024-08-13 20:00:00+00:00  117599    20      8  2024        3          1   \n",
       "2024-08-13 21:00:00+00:00  120167    21      8  2024        3          1   \n",
       "2024-08-13 22:00:00+00:00  121754    22      8  2024        3          1   \n",
       "2024-08-13 23:00:00+00:00  120845    23      8  2024        3          1   \n",
       "2024-08-14 00:00:00+00:00  116885     0      8  2024        3          2   \n",
       "\n",
       "                           dayofmonth  dayofyear  \n",
       "utc_ts                                            \n",
       "2024-07-31 00:00:00+00:00          31        213  \n",
       "2024-07-31 01:00:00+00:00          31        213  \n",
       "2024-07-31 02:00:00+00:00          31        213  \n",
       "2024-07-31 03:00:00+00:00          31        213  \n",
       "2024-07-31 04:00:00+00:00          31        213  \n",
       "...                               ...        ...  \n",
       "2024-08-13 20:00:00+00:00          13        226  \n",
       "2024-08-13 21:00:00+00:00          13        226  \n",
       "2024-08-13 22:00:00+00:00          13        226  \n",
       "2024-08-13 23:00:00+00:00          13        226  \n",
       "2024-08-14 00:00:00+00:00          14        227  \n",
       "\n",
       "[337 rows x 8 columns]"
      ]
     },
     "execution_count": 14,
     "metadata": {},
     "output_type": "execute_result"
    }
   ],
   "source": [
    "eval_df = await fetch_eval_dataset()\n",
    "eval_df"
   ]
  },
  {
   "cell_type": "code",
   "execution_count": 15,
   "id": "558faf7f-df13-417e-9de5-b6eb8aa5b72d",
   "metadata": {},
   "outputs": [],
   "source": [
    "pred = baseline_model.predict(None, eval_df)"
   ]
  },
  {
   "cell_type": "code",
   "execution_count": 17,
   "id": "27dbc520-7ec7-4d48-add9-3b488f97cc60",
   "metadata": {},
   "outputs": [
    {
     "data": {
      "image/png": "[encoded data removed]",
      "text/plain": [
       "<Figure size 640x480 with 1 Axes>"
      ]
     },
     "metadata": {},
     "output_type": "display_data"
    }
   ],
   "source": [
    "plt.plot(eval_df.index, eval_df.D, label='target')\n",
    "plt.plot(eval_df.index, pred, label='prediction')\n",
    "plt.xlabel('Date')\n",
    "plt.xticks(rotation=45)\n",
    "plt.ylabel('Demand')\n",
    "plt.legend()\n",
    "plt.show()"
   ]
  }
 ],
 "metadata": {
  "kernelspec": {
   "display_name": "Python 3 (ipykernel)",
   "language": "python",
   "name": "python3"
  },
  "language_info": {
   "codemirror_mode": {
    "name": "ipython",
    "version": 3
   },
   "file_extension": ".py",
   "mimetype": "text/x-python",
   "name": "python",
   "nbconvert_exporter": "python",
   "pygments_lexer": "ipython3",
   "version": "3.10.14"
  }
 },
 "nbformat": 4,
 "nbformat_minor": 5
}
