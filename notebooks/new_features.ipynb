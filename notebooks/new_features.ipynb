{
 "cells": [
  {
   "cell_type": "markdown",
   "id": "e6ddc4de-23a0-4b3d-8eab-38d22222df5b",
   "metadata": {},
   "source": [
    "# New Model Features Exploration\n",
    "\n",
    "In this notebook I'll explore engineering some new features that I think will increase the model's predictive power:\n",
    "- Lag features\n",
    "- Weather features: Temperature and maybe cloud cover\n",
    "- Holidays"
   ]
  },
  {
   "cell_type": "markdown",
   "id": "9f8b543e-38e3-48d9-a4c8-832fb504cad4",
   "metadata": {},
   "source": [
    "# Library Imports"
   ]
  },
  {
   "cell_type": "code",
   "execution_count": null,
   "id": "9b5cdc49-62ec-4383-a50a-582cbeaef12a",
   "metadata": {},
   "outputs": [],
   "source": [
    "import pandas as pd\n",
    "import matplotlib.pyplot as plt\n",
    "from prefect import flow "
   ]
  },
  {
   "cell_type": "code",
   "execution_count": 2,
   "id": "8610f793-3bd6-452e-84fb-40eb0d571f7e",
   "metadata": {},
   "outputs": [],
   "source": [
    "# Auto reload core modules so I don't need to restart kernel when I change\n",
    "# the code in those modules\n",
    "%load_ext autoreload\n",
    "%autoreload 2"
   ]
  },
  {
   "cell_type": "code",
   "execution_count": 94,
   "id": "fc7995e2-d9be-4c1b-b418-479e57511952",
   "metadata": {},
   "outputs": [],
   "source": [
    "from core.consts import EIA_TEST_SET_HOURS, EIA_EARLIEST_HOUR_UTC\n",
    "from flows.etl_flow import concurrent_fetch_EIA_data, transform\n",
    "from flows.train_model_flow import preprocess_data\n",
    "from core.utils import utcnow_minus_buffer_ts\n",
    "from core.model import train_xgboost"
   ]
  },
  {
   "cell_type": "code",
   "execution_count": 84,
   "id": "75eb30e1-8584-4d63-be9f-7afc69f1f8e5",
   "metadata": {},
   "outputs": [
    {
     "data": {
      "text/html": [
       "<pre style=\"white-space:pre;overflow-x:auto;line-height:normal;font-family:Menlo,'DejaVu Sans Mono',consolas,'Courier New',monospace\">14:54:35.083 | <span style=\"color: #008080; text-decoration-color: #008080\">INFO</span>    | prefect.engine - Created flow run<span style=\"color: #800080; text-decoration-color: #800080\"> 'pearl-lorikeet'</span> for flow<span style=\"color: #800080; text-decoration-color: #800080; font-weight: bold\"> 'run-eia-extraction'</span>\n",
       "</pre>\n"
      ],
      "text/plain": [
       "14:54:35.083 | \u001b[36mINFO\u001b[0m    | prefect.engine - Created flow run\u001b[35m 'pearl-lorikeet'\u001b[0m for flow\u001b[1;35m 'run-eia-extraction'\u001b[0m\n"
      ]
     },
     "metadata": {},
     "output_type": "display_data"
    },
    {
     "data": {
      "text/html": [
       "<pre style=\"white-space:pre;overflow-x:auto;line-height:normal;font-family:Menlo,'DejaVu Sans Mono',consolas,'Courier New',monospace\">14:54:35.092 | <span style=\"color: #008080; text-decoration-color: #008080\">INFO</span>    | prefect.engine - View at <span style=\"color: #0000ff; text-decoration-color: #0000ff\">https://app.prefect.cloud/account/914106c7-cc3b-4c5c-99f4-915f39352746/workspace/d3b27b3d-41ca-47a0-9b5b-2eebd92a4b25/runs/flow-run/531c574f-1a33-40b2-a203-358e6144f6f8</span>\n",
       "</pre>\n"
      ],
      "text/plain": [
       "14:54:35.092 | \u001b[36mINFO\u001b[0m    | prefect.engine - View at \u001b[94mhttps://app.prefect.cloud/account/914106c7-cc3b-4c5c-99f4-915f39352746/workspace/d3b27b3d-41ca-47a0-9b5b-2eebd92a4b25/runs/flow-run/531c574f-1a33-40b2-a203-358e6144f6f8\u001b[0m\n"
      ]
     },
     "metadata": {},
     "output_type": "display_data"
    },
    {
     "data": {
      "text/html": [
       "<pre style=\"white-space:pre;overflow-x:auto;line-height:normal;font-family:Menlo,'DejaVu Sans Mono',consolas,'Courier New',monospace\">14:54:35.360 | <span style=\"color: #008080; text-decoration-color: #008080\">INFO</span>    | Task run 'concurrent_fetch_EIA_data-132' - Created task run 'concurrent_fetch_EIA_data-132' for task 'concurrent_fetch_EIA_data'\n",
       "</pre>\n"
      ],
      "text/plain": [
       "14:54:35.360 | \u001b[36mINFO\u001b[0m    | Task run 'concurrent_fetch_EIA_data-132' - Created task run 'concurrent_fetch_EIA_data-132' for task 'concurrent_fetch_EIA_data'\n"
      ]
     },
     "metadata": {},
     "output_type": "display_data"
    },
    {
     "name": "stdout",
     "output_type": "stream",
     "text": [
      "Fetching API page. offset:0. length:5000\n",
      "Total records to fetch: 50760\n",
      "('Fetching 81490 hours of data: 50760 records.\\n', 'Start: 2015-07-01 05:00:00+00:00. End: 2024-10-16 15:00:00+00:00')\n",
      "Will make 10 5000-length requests and one 760-length request.\n"
     ]
    },
    {
     "data": {
      "text/html": [
       "<pre style=\"white-space:pre;overflow-x:auto;line-height:normal;font-family:Menlo,'DejaVu Sans Mono',consolas,'Courier New',monospace\">14:54:37.570 | <span style=\"color: #008080; text-decoration-color: #008080\">INFO</span>    | Task run 'concurrent_fetch_EIA_data-132' - Submitting task get_eia_data_as_df to thread pool executor...\n",
       "</pre>\n"
      ],
      "text/plain": [
       "14:54:37.570 | \u001b[36mINFO\u001b[0m    | Task run 'concurrent_fetch_EIA_data-132' - Submitting task get_eia_data_as_df to thread pool executor...\n"
      ]
     },
     "metadata": {},
     "output_type": "display_data"
    },
    {
     "data": {
      "text/html": [
       "<pre style=\"white-space:pre;overflow-x:auto;line-height:normal;font-family:Menlo,'DejaVu Sans Mono',consolas,'Courier New',monospace\">14:54:37.574 | <span style=\"color: #008080; text-decoration-color: #008080\">INFO</span>    | Task run 'concurrent_fetch_EIA_data-132' - Submitting task get_eia_data_as_df to thread pool executor...\n",
       "</pre>\n"
      ],
      "text/plain": [
       "14:54:37.574 | \u001b[36mINFO\u001b[0m    | Task run 'concurrent_fetch_EIA_data-132' - Submitting task get_eia_data_as_df to thread pool executor...\n"
      ]
     },
     "metadata": {},
     "output_type": "display_data"
    },
    {
     "data": {
      "text/html": [
       "<pre style=\"white-space:pre;overflow-x:auto;line-height:normal;font-family:Menlo,'DejaVu Sans Mono',consolas,'Courier New',monospace\">14:54:37.578 | <span style=\"color: #008080; text-decoration-color: #008080\">INFO</span>    | Task run 'concurrent_fetch_EIA_data-132' - Submitting task get_eia_data_as_df to thread pool executor...\n",
       "</pre>\n"
      ],
      "text/plain": [
       "14:54:37.578 | \u001b[36mINFO\u001b[0m    | Task run 'concurrent_fetch_EIA_data-132' - Submitting task get_eia_data_as_df to thread pool executor...\n"
      ]
     },
     "metadata": {},
     "output_type": "display_data"
    },
    {
     "data": {
      "text/html": [
       "<pre style=\"white-space:pre;overflow-x:auto;line-height:normal;font-family:Menlo,'DejaVu Sans Mono',consolas,'Courier New',monospace\">14:54:37.582 | <span style=\"color: #008080; text-decoration-color: #008080\">INFO</span>    | Task run 'concurrent_fetch_EIA_data-132' - Submitting task get_eia_data_as_df to thread pool executor...\n",
       "</pre>\n"
      ],
      "text/plain": [
       "14:54:37.582 | \u001b[36mINFO\u001b[0m    | Task run 'concurrent_fetch_EIA_data-132' - Submitting task get_eia_data_as_df to thread pool executor...\n"
      ]
     },
     "metadata": {},
     "output_type": "display_data"
    },
    {
     "data": {
      "text/html": [
       "<pre style=\"white-space:pre;overflow-x:auto;line-height:normal;font-family:Menlo,'DejaVu Sans Mono',consolas,'Courier New',monospace\">14:54:37.586 | <span style=\"color: #008080; text-decoration-color: #008080\">INFO</span>    | Task run 'concurrent_fetch_EIA_data-132' - Submitting task get_eia_data_as_df to thread pool executor...\n",
       "</pre>\n"
      ],
      "text/plain": [
       "14:54:37.586 | \u001b[36mINFO\u001b[0m    | Task run 'concurrent_fetch_EIA_data-132' - Submitting task get_eia_data_as_df to thread pool executor...\n"
      ]
     },
     "metadata": {},
     "output_type": "display_data"
    },
    {
     "data": {
      "text/html": [
       "<pre style=\"white-space:pre;overflow-x:auto;line-height:normal;font-family:Menlo,'DejaVu Sans Mono',consolas,'Courier New',monospace\">14:54:37.590 | <span style=\"color: #008080; text-decoration-color: #008080\">INFO</span>    | Task run 'concurrent_fetch_EIA_data-132' - Submitting task get_eia_data_as_df to thread pool executor...\n",
       "</pre>\n"
      ],
      "text/plain": [
       "14:54:37.590 | \u001b[36mINFO\u001b[0m    | Task run 'concurrent_fetch_EIA_data-132' - Submitting task get_eia_data_as_df to thread pool executor...\n"
      ]
     },
     "metadata": {},
     "output_type": "display_data"
    },
    {
     "data": {
      "text/html": [
       "<pre style=\"white-space:pre;overflow-x:auto;line-height:normal;font-family:Menlo,'DejaVu Sans Mono',consolas,'Courier New',monospace\">14:54:37.593 | <span style=\"color: #008080; text-decoration-color: #008080\">INFO</span>    | Task run 'concurrent_fetch_EIA_data-132' - Submitting task get_eia_data_as_df to thread pool executor...\n",
       "</pre>\n"
      ],
      "text/plain": [
       "14:54:37.593 | \u001b[36mINFO\u001b[0m    | Task run 'concurrent_fetch_EIA_data-132' - Submitting task get_eia_data_as_df to thread pool executor...\n"
      ]
     },
     "metadata": {},
     "output_type": "display_data"
    },
    {
     "data": {
      "text/html": [
       "<pre style=\"white-space:pre;overflow-x:auto;line-height:normal;font-family:Menlo,'DejaVu Sans Mono',consolas,'Courier New',monospace\">14:54:37.597 | <span style=\"color: #008080; text-decoration-color: #008080\">INFO</span>    | Task run 'concurrent_fetch_EIA_data-132' - Submitting task get_eia_data_as_df to thread pool executor...\n",
       "</pre>\n"
      ],
      "text/plain": [
       "14:54:37.597 | \u001b[36mINFO\u001b[0m    | Task run 'concurrent_fetch_EIA_data-132' - Submitting task get_eia_data_as_df to thread pool executor...\n"
      ]
     },
     "metadata": {},
     "output_type": "display_data"
    },
    {
     "data": {
      "text/html": [
       "<pre style=\"white-space:pre;overflow-x:auto;line-height:normal;font-family:Menlo,'DejaVu Sans Mono',consolas,'Courier New',monospace\">14:54:37.600 | <span style=\"color: #008080; text-decoration-color: #008080\">INFO</span>    | Task run 'concurrent_fetch_EIA_data-132' - Submitting task get_eia_data_as_df to thread pool executor...\n",
       "</pre>\n"
      ],
      "text/plain": [
       "14:54:37.600 | \u001b[36mINFO\u001b[0m    | Task run 'concurrent_fetch_EIA_data-132' - Submitting task get_eia_data_as_df to thread pool executor...\n"
      ]
     },
     "metadata": {},
     "output_type": "display_data"
    },
    {
     "data": {
      "text/html": [
       "<pre style=\"white-space:pre;overflow-x:auto;line-height:normal;font-family:Menlo,'DejaVu Sans Mono',consolas,'Courier New',monospace\">14:54:37.605 | <span style=\"color: #008080; text-decoration-color: #008080\">INFO</span>    | Task run 'concurrent_fetch_EIA_data-132' - Submitting task get_eia_data_as_df to thread pool executor...\n",
       "</pre>\n"
      ],
      "text/plain": [
       "14:54:37.605 | \u001b[36mINFO\u001b[0m    | Task run 'concurrent_fetch_EIA_data-132' - Submitting task get_eia_data_as_df to thread pool executor...\n"
      ]
     },
     "metadata": {},
     "output_type": "display_data"
    },
    {
     "data": {
      "text/html": [
       "<pre style=\"white-space:pre;overflow-x:auto;line-height:normal;font-family:Menlo,'DejaVu Sans Mono',consolas,'Courier New',monospace\">14:54:37.608 | <span style=\"color: #008080; text-decoration-color: #008080\">INFO</span>    | Task run 'concurrent_fetch_EIA_data-132' - Submitting task get_eia_data_as_df to thread pool executor...\n",
       "</pre>\n"
      ],
      "text/plain": [
       "14:54:37.608 | \u001b[36mINFO\u001b[0m    | Task run 'concurrent_fetch_EIA_data-132' - Submitting task get_eia_data_as_df to thread pool executor...\n"
      ]
     },
     "metadata": {},
     "output_type": "display_data"
    },
    {
     "data": {
      "text/html": [
       "<pre style=\"white-space:pre;overflow-x:auto;line-height:normal;font-family:Menlo,'DejaVu Sans Mono',consolas,'Courier New',monospace\">14:54:37.794 | <span style=\"color: #008080; text-decoration-color: #008080\">INFO</span>    | Task run 'get_eia_data_as_df-e7d' - Created task run 'get_eia_data_as_df-e7d' for task 'get_eia_data_as_df'\n",
       "</pre>\n"
      ],
      "text/plain": [
       "14:54:37.794 | \u001b[36mINFO\u001b[0m    | Task run 'get_eia_data_as_df-e7d' - Created task run 'get_eia_data_as_df-e7d' for task 'get_eia_data_as_df'\n"
      ]
     },
     "metadata": {},
     "output_type": "display_data"
    },
    {
     "data": {
      "text/html": [
       "<pre style=\"white-space:pre;overflow-x:auto;line-height:normal;font-family:Menlo,'DejaVu Sans Mono',consolas,'Courier New',monospace\">14:54:37.795 | <span style=\"color: #008080; text-decoration-color: #008080\">INFO</span>    | Task run 'get_eia_data_as_df-047' - Created task run 'get_eia_data_as_df-047' for task 'get_eia_data_as_df'\n",
       "</pre>\n"
      ],
      "text/plain": [
       "14:54:37.795 | \u001b[36mINFO\u001b[0m    | Task run 'get_eia_data_as_df-047' - Created task run 'get_eia_data_as_df-047' for task 'get_eia_data_as_df'\n"
      ]
     },
     "metadata": {},
     "output_type": "display_data"
    },
    {
     "data": {
      "text/html": [
       "<pre style=\"white-space:pre;overflow-x:auto;line-height:normal;font-family:Menlo,'DejaVu Sans Mono',consolas,'Courier New',monospace\">14:54:37.796 | <span style=\"color: #008080; text-decoration-color: #008080\">INFO</span>    | Task run 'get_eia_data_as_df-349' - Created task run 'get_eia_data_as_df-349' for task 'get_eia_data_as_df'\n",
       "</pre>\n"
      ],
      "text/plain": [
       "14:54:37.796 | \u001b[36mINFO\u001b[0m    | Task run 'get_eia_data_as_df-349' - Created task run 'get_eia_data_as_df-349' for task 'get_eia_data_as_df'\n"
      ]
     },
     "metadata": {},
     "output_type": "display_data"
    },
    {
     "data": {
      "text/html": [
       "<pre style=\"white-space:pre;overflow-x:auto;line-height:normal;font-family:Menlo,'DejaVu Sans Mono',consolas,'Courier New',monospace\">14:54:37.796 | <span style=\"color: #008080; text-decoration-color: #008080\">INFO</span>    | Task run 'get_eia_data_as_df-b1b' - Created task run 'get_eia_data_as_df-b1b' for task 'get_eia_data_as_df'\n",
       "</pre>\n"
      ],
      "text/plain": [
       "14:54:37.796 | \u001b[36mINFO\u001b[0m    | Task run 'get_eia_data_as_df-b1b' - Created task run 'get_eia_data_as_df-b1b' for task 'get_eia_data_as_df'\n"
      ]
     },
     "metadata": {},
     "output_type": "display_data"
    },
    {
     "data": {
      "text/html": [
       "<pre style=\"white-space:pre;overflow-x:auto;line-height:normal;font-family:Menlo,'DejaVu Sans Mono',consolas,'Courier New',monospace\">14:54:37.796 | <span style=\"color: #008080; text-decoration-color: #008080\">INFO</span>    | Task run 'get_eia_data_as_df-afe' - Created task run 'get_eia_data_as_df-afe' for task 'get_eia_data_as_df'\n",
       "</pre>\n"
      ],
      "text/plain": [
       "14:54:37.796 | \u001b[36mINFO\u001b[0m    | Task run 'get_eia_data_as_df-afe' - Created task run 'get_eia_data_as_df-afe' for task 'get_eia_data_as_df'\n"
      ]
     },
     "metadata": {},
     "output_type": "display_data"
    },
    {
     "name": "stdout",
     "output_type": "stream",
     "text": [
      "Fetching API page. offset:35000. length:5000Fetching API page. offset:5000. length:5000\n",
      "\n",
      "Fetching API page. offset:45000. length:5000\n"
     ]
    },
    {
     "data": {
      "text/html": [
       "<pre style=\"white-space:pre;overflow-x:auto;line-height:normal;font-family:Menlo,'DejaVu Sans Mono',consolas,'Courier New',monospace\">14:54:37.796 | <span style=\"color: #008080; text-decoration-color: #008080\">INFO</span>    | Task run 'get_eia_data_as_df-bda' - Created task run 'get_eia_data_as_df-bda' for task 'get_eia_data_as_df'\n",
       "</pre>\n"
      ],
      "text/plain": [
       "14:54:37.796 | \u001b[36mINFO\u001b[0m    | Task run 'get_eia_data_as_df-bda' - Created task run 'get_eia_data_as_df-bda' for task 'get_eia_data_as_df'\n"
      ]
     },
     "metadata": {},
     "output_type": "display_data"
    },
    {
     "data": {
      "text/html": [
       "<pre style=\"white-space:pre;overflow-x:auto;line-height:normal;font-family:Menlo,'DejaVu Sans Mono',consolas,'Courier New',monospace\">14:54:37.796 | <span style=\"color: #008080; text-decoration-color: #008080\">INFO</span>    | Task run 'get_eia_data_as_df-da4' - Created task run 'get_eia_data_as_df-da4' for task 'get_eia_data_as_df'\n",
       "</pre>\n"
      ],
      "text/plain": [
       "14:54:37.796 | \u001b[36mINFO\u001b[0m    | Task run 'get_eia_data_as_df-da4' - Created task run 'get_eia_data_as_df-da4' for task 'get_eia_data_as_df'\n"
      ]
     },
     "metadata": {},
     "output_type": "display_data"
    },
    {
     "name": "stdout",
     "output_type": "stream",
     "text": [
      "Fetching API page. offset:30000. length:5000\n"
     ]
    },
    {
     "data": {
      "text/html": [
       "<pre style=\"white-space:pre;overflow-x:auto;line-height:normal;font-family:Menlo,'DejaVu Sans Mono',consolas,'Courier New',monospace\">14:54:37.796 | <span style=\"color: #008080; text-decoration-color: #008080\">INFO</span>    | Task run 'get_eia_data_as_df-3b4' - Created task run 'get_eia_data_as_df-3b4' for task 'get_eia_data_as_df'\n",
       "</pre>\n"
      ],
      "text/plain": [
       "14:54:37.796 | \u001b[36mINFO\u001b[0m    | Task run 'get_eia_data_as_df-3b4' - Created task run 'get_eia_data_as_df-3b4' for task 'get_eia_data_as_df'\n"
      ]
     },
     "metadata": {},
     "output_type": "display_data"
    },
    {
     "data": {
      "text/html": [
       "<pre style=\"white-space:pre;overflow-x:auto;line-height:normal;font-family:Menlo,'DejaVu Sans Mono',consolas,'Courier New',monospace\">14:54:37.797 | <span style=\"color: #008080; text-decoration-color: #008080\">INFO</span>    | Task run 'get_eia_data_as_df-311' - Created task run 'get_eia_data_as_df-311' for task 'get_eia_data_as_df'\n",
       "</pre>\n"
      ],
      "text/plain": [
       "14:54:37.797 | \u001b[36mINFO\u001b[0m    | Task run 'get_eia_data_as_df-311' - Created task run 'get_eia_data_as_df-311' for task 'get_eia_data_as_df'\n"
      ]
     },
     "metadata": {},
     "output_type": "display_data"
    },
    {
     "data": {
      "text/html": [
       "<pre style=\"white-space:pre;overflow-x:auto;line-height:normal;font-family:Menlo,'DejaVu Sans Mono',consolas,'Courier New',monospace\">14:54:37.797 | <span style=\"color: #008080; text-decoration-color: #008080\">INFO</span>    | Task run 'get_eia_data_as_df-e8c' - Created task run 'get_eia_data_as_df-e8c' for task 'get_eia_data_as_df'\n",
       "</pre>\n"
      ],
      "text/plain": [
       "14:54:37.797 | \u001b[36mINFO\u001b[0m    | Task run 'get_eia_data_as_df-e8c' - Created task run 'get_eia_data_as_df-e8c' for task 'get_eia_data_as_df'\n"
      ]
     },
     "metadata": {},
     "output_type": "display_data"
    },
    {
     "data": {
      "text/html": [
       "<pre style=\"white-space:pre;overflow-x:auto;line-height:normal;font-family:Menlo,'DejaVu Sans Mono',consolas,'Courier New',monospace\">14:54:37.798 | <span style=\"color: #008080; text-decoration-color: #008080\">INFO</span>    | Task run 'get_eia_data_as_df-e80' - Created task run 'get_eia_data_as_df-e80' for task 'get_eia_data_as_df'\n",
       "</pre>\n"
      ],
      "text/plain": [
       "14:54:37.798 | \u001b[36mINFO\u001b[0m    | Task run 'get_eia_data_as_df-e80' - Created task run 'get_eia_data_as_df-e80' for task 'get_eia_data_as_df'\n"
      ]
     },
     "metadata": {},
     "output_type": "display_data"
    },
    {
     "name": "stdout",
     "output_type": "stream",
     "text": [
      "Fetching API page. offset:25000. length:5000\n",
      "Fetching API page. offset:20000. length:5000\n",
      "Fetching API page. offset:40000. length:5000Fetching API page. offset:10000. length:5000\n",
      "\n",
      "Fetching API page. offset:50000. length:760Fetching API page. offset:0. length:5000\n",
      "Fetching API page. offset:15000. length:5000\n",
      "\n"
     ]
    },
    {
     "data": {
      "text/html": [
       "<pre style=\"white-space:pre;overflow-x:auto;line-height:normal;font-family:Menlo,'DejaVu Sans Mono',consolas,'Courier New',monospace\">14:54:39.419 | <span style=\"color: #008080; text-decoration-color: #008080\">INFO</span>    | Task run 'get_eia_data_as_df-da4' - Finished in state <span style=\"color: #008000; text-decoration-color: #008000\">Completed</span>()\n",
       "</pre>\n"
      ],
      "text/plain": [
       "14:54:39.419 | \u001b[36mINFO\u001b[0m    | Task run 'get_eia_data_as_df-da4' - Finished in state \u001b[32mCompleted\u001b[0m()\n"
      ]
     },
     "metadata": {},
     "output_type": "display_data"
    },
    {
     "data": {
      "text/html": [
       "<pre style=\"white-space:pre;overflow-x:auto;line-height:normal;font-family:Menlo,'DejaVu Sans Mono',consolas,'Courier New',monospace\">14:54:39.851 | <span style=\"color: #008080; text-decoration-color: #008080\">INFO</span>    | Task run 'get_eia_data_as_df-afe' - Finished in state <span style=\"color: #008000; text-decoration-color: #008000\">Completed</span>()\n",
       "</pre>\n"
      ],
      "text/plain": [
       "14:54:39.851 | \u001b[36mINFO\u001b[0m    | Task run 'get_eia_data_as_df-afe' - Finished in state \u001b[32mCompleted\u001b[0m()\n"
      ]
     },
     "metadata": {},
     "output_type": "display_data"
    },
    {
     "data": {
      "text/html": [
       "<pre style=\"white-space:pre;overflow-x:auto;line-height:normal;font-family:Menlo,'DejaVu Sans Mono',consolas,'Courier New',monospace\">14:54:39.853 | <span style=\"color: #008080; text-decoration-color: #008080\">INFO</span>    | Task run 'get_eia_data_as_df-e7d' - Finished in state <span style=\"color: #008000; text-decoration-color: #008000\">Completed</span>()\n",
       "</pre>\n"
      ],
      "text/plain": [
       "14:54:39.853 | \u001b[36mINFO\u001b[0m    | Task run 'get_eia_data_as_df-e7d' - Finished in state \u001b[32mCompleted\u001b[0m()\n"
      ]
     },
     "metadata": {},
     "output_type": "display_data"
    },
    {
     "data": {
      "text/html": [
       "<pre style=\"white-space:pre;overflow-x:auto;line-height:normal;font-family:Menlo,'DejaVu Sans Mono',consolas,'Courier New',monospace\">14:54:39.857 | <span style=\"color: #008080; text-decoration-color: #008080\">INFO</span>    | Task run 'get_eia_data_as_df-e80' - Finished in state <span style=\"color: #008000; text-decoration-color: #008000\">Completed</span>()\n",
       "</pre>\n"
      ],
      "text/plain": [
       "14:54:39.857 | \u001b[36mINFO\u001b[0m    | Task run 'get_eia_data_as_df-e80' - Finished in state \u001b[32mCompleted\u001b[0m()\n"
      ]
     },
     "metadata": {},
     "output_type": "display_data"
    },
    {
     "data": {
      "text/html": [
       "<pre style=\"white-space:pre;overflow-x:auto;line-height:normal;font-family:Menlo,'DejaVu Sans Mono',consolas,'Courier New',monospace\">14:54:39.910 | <span style=\"color: #008080; text-decoration-color: #008080\">INFO</span>    | Task run 'get_eia_data_as_df-b1b' - Finished in state <span style=\"color: #008000; text-decoration-color: #008000\">Completed</span>()\n",
       "</pre>\n"
      ],
      "text/plain": [
       "14:54:39.910 | \u001b[36mINFO\u001b[0m    | Task run 'get_eia_data_as_df-b1b' - Finished in state \u001b[32mCompleted\u001b[0m()\n"
      ]
     },
     "metadata": {},
     "output_type": "display_data"
    },
    {
     "data": {
      "text/html": [
       "<pre style=\"white-space:pre;overflow-x:auto;line-height:normal;font-family:Menlo,'DejaVu Sans Mono',consolas,'Courier New',monospace\">14:54:39.917 | <span style=\"color: #008080; text-decoration-color: #008080\">INFO</span>    | Task run 'get_eia_data_as_df-047' - Finished in state <span style=\"color: #008000; text-decoration-color: #008000\">Completed</span>()\n",
       "</pre>\n"
      ],
      "text/plain": [
       "14:54:39.917 | \u001b[36mINFO\u001b[0m    | Task run 'get_eia_data_as_df-047' - Finished in state \u001b[32mCompleted\u001b[0m()\n"
      ]
     },
     "metadata": {},
     "output_type": "display_data"
    },
    {
     "data": {
      "text/html": [
       "<pre style=\"white-space:pre;overflow-x:auto;line-height:normal;font-family:Menlo,'DejaVu Sans Mono',consolas,'Courier New',monospace\">14:54:39.933 | <span style=\"color: #008080; text-decoration-color: #008080\">INFO</span>    | Task run 'get_eia_data_as_df-3b4' - Finished in state <span style=\"color: #008000; text-decoration-color: #008000\">Completed</span>()\n",
       "</pre>\n"
      ],
      "text/plain": [
       "14:54:39.933 | \u001b[36mINFO\u001b[0m    | Task run 'get_eia_data_as_df-3b4' - Finished in state \u001b[32mCompleted\u001b[0m()\n"
      ]
     },
     "metadata": {},
     "output_type": "display_data"
    },
    {
     "data": {
      "text/html": [
       "<pre style=\"white-space:pre;overflow-x:auto;line-height:normal;font-family:Menlo,'DejaVu Sans Mono',consolas,'Courier New',monospace\">14:54:39.971 | <span style=\"color: #008080; text-decoration-color: #008080\">INFO</span>    | Task run 'get_eia_data_as_df-311' - Finished in state <span style=\"color: #008000; text-decoration-color: #008000\">Completed</span>()\n",
       "</pre>\n"
      ],
      "text/plain": [
       "14:54:39.971 | \u001b[36mINFO\u001b[0m    | Task run 'get_eia_data_as_df-311' - Finished in state \u001b[32mCompleted\u001b[0m()\n"
      ]
     },
     "metadata": {},
     "output_type": "display_data"
    },
    {
     "data": {
      "text/html": [
       "<pre style=\"white-space:pre;overflow-x:auto;line-height:normal;font-family:Menlo,'DejaVu Sans Mono',consolas,'Courier New',monospace\">14:54:39.995 | <span style=\"color: #008080; text-decoration-color: #008080\">INFO</span>    | Task run 'get_eia_data_as_df-e8c' - Finished in state <span style=\"color: #008000; text-decoration-color: #008000\">Completed</span>()\n",
       "</pre>\n"
      ],
      "text/plain": [
       "14:54:39.995 | \u001b[36mINFO\u001b[0m    | Task run 'get_eia_data_as_df-e8c' - Finished in state \u001b[32mCompleted\u001b[0m()\n"
      ]
     },
     "metadata": {},
     "output_type": "display_data"
    },
    {
     "data": {
      "text/html": [
       "<pre style=\"white-space:pre;overflow-x:auto;line-height:normal;font-family:Menlo,'DejaVu Sans Mono',consolas,'Courier New',monospace\">14:54:40.594 | <span style=\"color: #008080; text-decoration-color: #008080\">INFO</span>    | Task run 'get_eia_data_as_df-bda' - Finished in state <span style=\"color: #008000; text-decoration-color: #008000\">Completed</span>()\n",
       "</pre>\n"
      ],
      "text/plain": [
       "14:54:40.594 | \u001b[36mINFO\u001b[0m    | Task run 'get_eia_data_as_df-bda' - Finished in state \u001b[32mCompleted\u001b[0m()\n"
      ]
     },
     "metadata": {},
     "output_type": "display_data"
    },
    {
     "data": {
      "text/html": [
       "<pre style=\"white-space:pre;overflow-x:auto;line-height:normal;font-family:Menlo,'DejaVu Sans Mono',consolas,'Courier New',monospace\">14:54:40.619 | <span style=\"color: #008080; text-decoration-color: #008080\">INFO</span>    | Task run 'get_eia_data_as_df-349' - Finished in state <span style=\"color: #008000; text-decoration-color: #008000\">Completed</span>()\n",
       "</pre>\n"
      ],
      "text/plain": [
       "14:54:40.619 | \u001b[36mINFO\u001b[0m    | Task run 'get_eia_data_as_df-349' - Finished in state \u001b[32mCompleted\u001b[0m()\n"
      ]
     },
     "metadata": {},
     "output_type": "display_data"
    },
    {
     "data": {
      "text/html": [
       "<pre style=\"white-space:pre;overflow-x:auto;line-height:normal;font-family:Menlo,'DejaVu Sans Mono',consolas,'Courier New',monospace\">14:54:40.884 | <span style=\"color: #008080; text-decoration-color: #008080\">INFO</span>    | Task run 'concurrent_fetch_EIA_data-132' - Finished in state <span style=\"color: #008000; text-decoration-color: #008000\">Completed</span>()\n",
       "</pre>\n"
      ],
      "text/plain": [
       "14:54:40.884 | \u001b[36mINFO\u001b[0m    | Task run 'concurrent_fetch_EIA_data-132' - Finished in state \u001b[32mCompleted\u001b[0m()\n"
      ]
     },
     "metadata": {},
     "output_type": "display_data"
    },
    {
     "data": {
      "text/html": [
       "<pre style=\"white-space:pre;overflow-x:auto;line-height:normal;font-family:Menlo,'DejaVu Sans Mono',consolas,'Courier New',monospace\">14:54:40.992 | <span style=\"color: #008080; text-decoration-color: #008080\">INFO</span>    | Flow run<span style=\"color: #800080; text-decoration-color: #800080\"> 'pearl-lorikeet'</span> - Finished in state <span style=\"color: #008000; text-decoration-color: #008000\">Completed</span>()\n",
       "</pre>\n"
      ],
      "text/plain": [
       "14:54:40.992 | \u001b[36mINFO\u001b[0m    | Flow run\u001b[35m 'pearl-lorikeet'\u001b[0m - Finished in state \u001b[32mCompleted\u001b[0m()\n"
      ]
     },
     "metadata": {},
     "output_type": "display_data"
    }
   ],
   "source": [
    "@flow()\n",
    "def run_eia_extraction():\n",
    "    start_ts = pd.to_datetime(EIA_EARLIEST_HOUR_UTC)\n",
    "    end_ts = utcnow_minus_buffer_ts()\n",
    "    eia_df = concurrent_fetch_EIA_data(start_ts, end_ts)\n",
    "    return eia_df\n",
    "eia_df = run_eia_extraction()"
   ]
  },
  {
   "cell_type": "code",
   "execution_count": 85,
   "id": "fe3a3d38-b30f-4c77-b1f5-b97eadb29129",
   "metadata": {},
   "outputs": [
    {
     "data": {
      "text/html": [
       "<div>\n",
       "<style scoped>\n",
       "    .dataframe tbody tr th:only-of-type {\n",
       "        vertical-align: middle;\n",
       "    }\n",
       "\n",
       "    .dataframe tbody tr th {\n",
       "        vertical-align: top;\n",
       "    }\n",
       "\n",
       "    .dataframe thead th {\n",
       "        text-align: right;\n",
       "    }\n",
       "</style>\n",
       "<table border=\"1\" class=\"dataframe\">\n",
       "  <thead>\n",
       "    <tr style=\"text-align: right;\">\n",
       "      <th></th>\n",
       "      <th>period</th>\n",
       "      <th>respondent</th>\n",
       "      <th>respondent-name</th>\n",
       "      <th>type</th>\n",
       "      <th>type-name</th>\n",
       "      <th>value</th>\n",
       "      <th>value-units</th>\n",
       "    </tr>\n",
       "  </thead>\n",
       "  <tbody>\n",
       "    <tr>\n",
       "      <th>0</th>\n",
       "      <td>2019-01-01T00</td>\n",
       "      <td>PJM</td>\n",
       "      <td>PJM Interconnection, LLC</td>\n",
       "      <td>D</td>\n",
       "      <td>Demand</td>\n",
       "      <td>94016</td>\n",
       "      <td>megawatthours</td>\n",
       "    </tr>\n",
       "    <tr>\n",
       "      <th>1</th>\n",
       "      <td>2019-01-01T01</td>\n",
       "      <td>PJM</td>\n",
       "      <td>PJM Interconnection, LLC</td>\n",
       "      <td>D</td>\n",
       "      <td>Demand</td>\n",
       "      <td>90385</td>\n",
       "      <td>megawatthours</td>\n",
       "    </tr>\n",
       "    <tr>\n",
       "      <th>2</th>\n",
       "      <td>2019-01-01T02</td>\n",
       "      <td>PJM</td>\n",
       "      <td>PJM Interconnection, LLC</td>\n",
       "      <td>D</td>\n",
       "      <td>Demand</td>\n",
       "      <td>86724</td>\n",
       "      <td>megawatthours</td>\n",
       "    </tr>\n",
       "    <tr>\n",
       "      <th>3</th>\n",
       "      <td>2019-01-01T03</td>\n",
       "      <td>PJM</td>\n",
       "      <td>PJM Interconnection, LLC</td>\n",
       "      <td>D</td>\n",
       "      <td>Demand</td>\n",
       "      <td>82978</td>\n",
       "      <td>megawatthours</td>\n",
       "    </tr>\n",
       "    <tr>\n",
       "      <th>4</th>\n",
       "      <td>2019-01-01T04</td>\n",
       "      <td>PJM</td>\n",
       "      <td>PJM Interconnection, LLC</td>\n",
       "      <td>D</td>\n",
       "      <td>Demand</td>\n",
       "      <td>79536</td>\n",
       "      <td>megawatthours</td>\n",
       "    </tr>\n",
       "    <tr>\n",
       "      <th>...</th>\n",
       "      <td>...</td>\n",
       "      <td>...</td>\n",
       "      <td>...</td>\n",
       "      <td>...</td>\n",
       "      <td>...</td>\n",
       "      <td>...</td>\n",
       "      <td>...</td>\n",
       "    </tr>\n",
       "    <tr>\n",
       "      <th>755</th>\n",
       "      <td>2024-10-15T20</td>\n",
       "      <td>PJM</td>\n",
       "      <td>PJM Interconnection, LLC</td>\n",
       "      <td>D</td>\n",
       "      <td>Demand</td>\n",
       "      <td>83493</td>\n",
       "      <td>megawatthours</td>\n",
       "    </tr>\n",
       "    <tr>\n",
       "      <th>756</th>\n",
       "      <td>2024-10-15T21</td>\n",
       "      <td>PJM</td>\n",
       "      <td>PJM Interconnection, LLC</td>\n",
       "      <td>D</td>\n",
       "      <td>Demand</td>\n",
       "      <td>83964</td>\n",
       "      <td>megawatthours</td>\n",
       "    </tr>\n",
       "    <tr>\n",
       "      <th>757</th>\n",
       "      <td>2024-10-15T22</td>\n",
       "      <td>PJM</td>\n",
       "      <td>PJM Interconnection, LLC</td>\n",
       "      <td>D</td>\n",
       "      <td>Demand</td>\n",
       "      <td>85831</td>\n",
       "      <td>megawatthours</td>\n",
       "    </tr>\n",
       "    <tr>\n",
       "      <th>758</th>\n",
       "      <td>2024-10-15T23</td>\n",
       "      <td>PJM</td>\n",
       "      <td>PJM Interconnection, LLC</td>\n",
       "      <td>D</td>\n",
       "      <td>Demand</td>\n",
       "      <td>88420</td>\n",
       "      <td>megawatthours</td>\n",
       "    </tr>\n",
       "    <tr>\n",
       "      <th>759</th>\n",
       "      <td>2024-10-16T00</td>\n",
       "      <td>PJM</td>\n",
       "      <td>PJM Interconnection, LLC</td>\n",
       "      <td>D</td>\n",
       "      <td>Demand</td>\n",
       "      <td>90406</td>\n",
       "      <td>megawatthours</td>\n",
       "    </tr>\n",
       "  </tbody>\n",
       "</table>\n",
       "<p>50760 rows × 7 columns</p>\n",
       "</div>"
      ],
      "text/plain": [
       "            period respondent           respondent-name type type-name  value  \\\n",
       "0    2019-01-01T00        PJM  PJM Interconnection, LLC    D    Demand  94016   \n",
       "1    2019-01-01T01        PJM  PJM Interconnection, LLC    D    Demand  90385   \n",
       "2    2019-01-01T02        PJM  PJM Interconnection, LLC    D    Demand  86724   \n",
       "3    2019-01-01T03        PJM  PJM Interconnection, LLC    D    Demand  82978   \n",
       "4    2019-01-01T04        PJM  PJM Interconnection, LLC    D    Demand  79536   \n",
       "..             ...        ...                       ...  ...       ...    ...   \n",
       "755  2024-10-15T20        PJM  PJM Interconnection, LLC    D    Demand  83493   \n",
       "756  2024-10-15T21        PJM  PJM Interconnection, LLC    D    Demand  83964   \n",
       "757  2024-10-15T22        PJM  PJM Interconnection, LLC    D    Demand  85831   \n",
       "758  2024-10-15T23        PJM  PJM Interconnection, LLC    D    Demand  88420   \n",
       "759  2024-10-16T00        PJM  PJM Interconnection, LLC    D    Demand  90406   \n",
       "\n",
       "       value-units  \n",
       "0    megawatthours  \n",
       "1    megawatthours  \n",
       "2    megawatthours  \n",
       "3    megawatthours  \n",
       "4    megawatthours  \n",
       "..             ...  \n",
       "755  megawatthours  \n",
       "756  megawatthours  \n",
       "757  megawatthours  \n",
       "758  megawatthours  \n",
       "759  megawatthours  \n",
       "\n",
       "[50760 rows x 7 columns]"
      ]
     },
     "execution_count": 85,
     "metadata": {},
     "output_type": "execute_result"
    }
   ],
   "source": [
    "eia_df"
   ]
  },
  {
   "cell_type": "code",
   "execution_count": 88,
   "id": "676656f9-f86d-4d59-9d3d-eeac62af3c03",
   "metadata": {},
   "outputs": [
    {
     "data": {
      "text/html": [
       "<pre style=\"white-space:pre;overflow-x:auto;line-height:normal;font-family:Menlo,'DejaVu Sans Mono',consolas,'Courier New',monospace\">14:55:26.462 | <span style=\"color: #008080; text-decoration-color: #008080\">INFO</span>    | prefect.engine - Created flow run<span style=\"color: #800080; text-decoration-color: #800080\"> 'simple-panda'</span> for flow<span style=\"color: #800080; text-decoration-color: #800080; font-weight: bold\"> 'run-eia-transform'</span>\n",
       "</pre>\n"
      ],
      "text/plain": [
       "14:55:26.462 | \u001b[36mINFO\u001b[0m    | prefect.engine - Created flow run\u001b[35m 'simple-panda'\u001b[0m for flow\u001b[1;35m 'run-eia-transform'\u001b[0m\n"
      ]
     },
     "metadata": {},
     "output_type": "display_data"
    },
    {
     "data": {
      "text/html": [
       "<pre style=\"white-space:pre;overflow-x:auto;line-height:normal;font-family:Menlo,'DejaVu Sans Mono',consolas,'Courier New',monospace\">14:55:26.470 | <span style=\"color: #008080; text-decoration-color: #008080\">INFO</span>    | prefect.engine - View at <span style=\"color: #0000ff; text-decoration-color: #0000ff\">https://app.prefect.cloud/account/914106c7-cc3b-4c5c-99f4-915f39352746/workspace/d3b27b3d-41ca-47a0-9b5b-2eebd92a4b25/runs/flow-run/198e0100-fcec-4773-9757-ef89aa2c1c80</span>\n",
       "</pre>\n"
      ],
      "text/plain": [
       "14:55:26.470 | \u001b[36mINFO\u001b[0m    | prefect.engine - View at \u001b[94mhttps://app.prefect.cloud/account/914106c7-cc3b-4c5c-99f4-915f39352746/workspace/d3b27b3d-41ca-47a0-9b5b-2eebd92a4b25/runs/flow-run/198e0100-fcec-4773-9757-ef89aa2c1c80\u001b[0m\n"
      ]
     },
     "metadata": {},
     "output_type": "display_data"
    },
    {
     "data": {
      "text/html": [
       "<pre style=\"white-space:pre;overflow-x:auto;line-height:normal;font-family:Menlo,'DejaVu Sans Mono',consolas,'Courier New',monospace\">14:55:26.705 | <span style=\"color: #008080; text-decoration-color: #008080\">INFO</span>    | Task run 'transform-1d3' - Created task run 'transform-1d3' for task 'transform'\n",
       "</pre>\n"
      ],
      "text/plain": [
       "14:55:26.705 | \u001b[36mINFO\u001b[0m    | Task run 'transform-1d3' - Created task run 'transform-1d3' for task 'transform'\n"
      ]
     },
     "metadata": {},
     "output_type": "display_data"
    },
    {
     "name": "stdout",
     "output_type": "stream",
     "text": [
      "Transforming timeseries.\n",
      "Dataframe info:\n",
      "<class 'pandas.core.frame.DataFrame'>\n",
      "DatetimeIndex: 50761 entries, 2019-01-01 00:00:00+00:00 to 2024-10-16 00:00:00+00:00\n",
      "Data columns (total 2 columns):\n",
      " #   Column  Non-Null Count  Dtype              \n",
      "---  ------  --------------  -----              \n",
      " 0   utc_ts  50761 non-null  datetime64[ns, UTC]\n",
      " 1   D       50644 non-null  float64            \n",
      "dtypes: datetime64[ns, UTC](1), float64(1)\n",
      "memory usage: 1.2 MB\n",
      "\n",
      "Dataframe summary:\n",
      "                                             utc_ts        D\n",
      "utc_ts                                                      \n",
      "2019-01-01 00:00:00+00:00 2019-01-01 00:00:00+00:00  94016.0\n",
      "2019-01-01 01:00:00+00:00 2019-01-01 01:00:00+00:00  90385.0\n",
      "2019-01-01 02:00:00+00:00 2019-01-01 02:00:00+00:00  86724.0\n",
      "2019-01-01 03:00:00+00:00 2019-01-01 03:00:00+00:00  82978.0\n",
      "2019-01-01 04:00:00+00:00 2019-01-01 04:00:00+00:00  79536.0\n",
      "...                                             ...      ...\n",
      "2024-10-15 20:00:00+00:00 2024-10-15 20:00:00+00:00  83493.0\n",
      "2024-10-15 21:00:00+00:00 2024-10-15 21:00:00+00:00  83964.0\n",
      "2024-10-15 22:00:00+00:00 2024-10-15 22:00:00+00:00  85831.0\n",
      "2024-10-15 23:00:00+00:00 2024-10-15 23:00:00+00:00  88420.0\n",
      "2024-10-16 00:00:00+00:00 2024-10-16 00:00:00+00:00  90406.0\n",
      "\n",
      "[50761 rows x 2 columns]\n",
      "\n"
     ]
    },
    {
     "data": {
      "text/html": [
       "<pre style=\"white-space:pre;overflow-x:auto;line-height:normal;font-family:Menlo,'DejaVu Sans Mono',consolas,'Courier New',monospace\">14:55:26.841 | <span style=\"color: #008080; text-decoration-color: #008080\">INFO</span>    | Task run 'transform-1d3' - Finished in state <span style=\"color: #008000; text-decoration-color: #008000\">Completed</span>()\n",
       "</pre>\n"
      ],
      "text/plain": [
       "14:55:26.841 | \u001b[36mINFO\u001b[0m    | Task run 'transform-1d3' - Finished in state \u001b[32mCompleted\u001b[0m()\n"
      ]
     },
     "metadata": {},
     "output_type": "display_data"
    },
    {
     "data": {
      "text/html": [
       "<pre style=\"white-space:pre;overflow-x:auto;line-height:normal;font-family:Menlo,'DejaVu Sans Mono',consolas,'Courier New',monospace\">14:55:26.864 | <span style=\"color: #008080; text-decoration-color: #008080\">INFO</span>    | Task run 'preprocess_data-05f' - Created task run 'preprocess_data-05f' for task 'preprocess_data'\n",
       "</pre>\n"
      ],
      "text/plain": [
       "14:55:26.864 | \u001b[36mINFO\u001b[0m    | Task run 'preprocess_data-05f' - Created task run 'preprocess_data-05f' for task 'preprocess_data'\n"
      ]
     },
     "metadata": {},
     "output_type": "display_data"
    },
    {
     "data": {
      "text/html": [
       "<pre style=\"white-space:pre;overflow-x:auto;line-height:normal;font-family:Menlo,'DejaVu Sans Mono',consolas,'Courier New',monospace\">14:55:26.891 | <span style=\"color: #008080; text-decoration-color: #008080\">INFO</span>    | Task run 'clean_data-d3b' - Created task run 'clean_data-d3b' for task 'clean_data'\n",
       "</pre>\n"
      ],
      "text/plain": [
       "14:55:26.891 | \u001b[36mINFO\u001b[0m    | Task run 'clean_data-d3b' - Created task run 'clean_data-d3b' for task 'clean_data'\n"
      ]
     },
     "metadata": {},
     "output_type": "display_data"
    },
    {
     "name": "stdout",
     "output_type": "stream",
     "text": [
      "Input data skew: 160.09998558099036\n",
      "Output data skew: 0.85302905785217\n",
      "Null demand values: 117\n"
     ]
    },
    {
     "data": {
      "text/html": [
       "<pre style=\"white-space:pre;overflow-x:auto;line-height:normal;font-family:Menlo,'DejaVu Sans Mono',consolas,'Courier New',monospace\">14:55:27.567 | <span style=\"color: #008080; text-decoration-color: #008080\">INFO</span>    | Task run 'clean_data-d3b' - Finished in state <span style=\"color: #008000; text-decoration-color: #008000\">Completed</span>()\n",
       "</pre>\n"
      ],
      "text/plain": [
       "14:55:27.567 | \u001b[36mINFO\u001b[0m    | Task run 'clean_data-d3b' - Finished in state \u001b[32mCompleted\u001b[0m()\n"
      ]
     },
     "metadata": {},
     "output_type": "display_data"
    },
    {
     "data": {
      "text/html": [
       "<pre style=\"white-space:pre;overflow-x:auto;line-height:normal;font-family:Menlo,'DejaVu Sans Mono',consolas,'Courier New',monospace\">14:55:27.586 | <span style=\"color: #008080; text-decoration-color: #008080\">INFO</span>    | Task run 'features-59a' - Created task run 'features-59a' for task 'features'\n",
       "</pre>\n"
      ],
      "text/plain": [
       "14:55:27.586 | \u001b[36mINFO\u001b[0m    | Task run 'features-59a' - Created task run 'features-59a' for task 'features'\n"
      ]
     },
     "metadata": {},
     "output_type": "display_data"
    },
    {
     "name": "stdout",
     "output_type": "stream",
     "text": [
      "                                             utc_ts        D  hour  month  \\\n",
      "utc_ts                                                                      \n",
      "2019-01-01 00:00:00+00:00 2019-01-01 00:00:00+00:00  94016.0     0      1   \n",
      "2019-01-01 01:00:00+00:00 2019-01-01 01:00:00+00:00  90385.0     1      1   \n",
      "2019-01-01 02:00:00+00:00 2019-01-01 02:00:00+00:00  86724.0     2      1   \n",
      "2019-01-01 03:00:00+00:00 2019-01-01 03:00:00+00:00  82978.0     3      1   \n",
      "2019-01-01 04:00:00+00:00 2019-01-01 04:00:00+00:00  79536.0     4      1   \n",
      "...                                             ...      ...   ...    ...   \n",
      "2024-10-15 20:00:00+00:00 2024-10-15 20:00:00+00:00  83493.0    20     10   \n",
      "2024-10-15 21:00:00+00:00 2024-10-15 21:00:00+00:00  83964.0    21     10   \n",
      "2024-10-15 22:00:00+00:00 2024-10-15 22:00:00+00:00  85831.0    22     10   \n",
      "2024-10-15 23:00:00+00:00 2024-10-15 23:00:00+00:00  88420.0    23     10   \n",
      "2024-10-16 00:00:00+00:00 2024-10-16 00:00:00+00:00  90406.0     0     10   \n",
      "\n",
      "                           year  quarter  dayofweek  dayofmonth  dayofyear  \n",
      "utc_ts                                                                      \n",
      "2019-01-01 00:00:00+00:00  2019        1          1           1          1  \n",
      "2019-01-01 01:00:00+00:00  2019        1          1           1          1  \n",
      "2019-01-01 02:00:00+00:00  2019        1          1           1          1  \n",
      "2019-01-01 03:00:00+00:00  2019        1          1           1          1  \n",
      "2019-01-01 04:00:00+00:00  2019        1          1           1          1  \n",
      "...                         ...      ...        ...         ...        ...  \n",
      "2024-10-15 20:00:00+00:00  2024        4          1          15        289  \n",
      "2024-10-15 21:00:00+00:00  2024        4          1          15        289  \n",
      "2024-10-15 22:00:00+00:00  2024        4          1          15        289  \n",
      "2024-10-15 23:00:00+00:00  2024        4          1          15        289  \n",
      "2024-10-16 00:00:00+00:00  2024        4          2          16        290  \n",
      "\n",
      "[50761 rows x 9 columns]\n"
     ]
    },
    {
     "data": {
      "text/html": [
       "<pre style=\"white-space:pre;overflow-x:auto;line-height:normal;font-family:Menlo,'DejaVu Sans Mono',consolas,'Courier New',monospace\">14:55:27.605 | <span style=\"color: #008080; text-decoration-color: #008080\">INFO</span>    | Task run 'features-59a' - Finished in state <span style=\"color: #008000; text-decoration-color: #008000\">Completed</span>()\n",
       "</pre>\n"
      ],
      "text/plain": [
       "14:55:27.605 | \u001b[36mINFO\u001b[0m    | Task run 'features-59a' - Finished in state \u001b[32mCompleted\u001b[0m()\n"
      ]
     },
     "metadata": {},
     "output_type": "display_data"
    },
    {
     "data": {
      "text/html": [
       "<pre style=\"white-space:pre;overflow-x:auto;line-height:normal;font-family:Menlo,'DejaVu Sans Mono',consolas,'Courier New',monospace\">14:55:27.608 | <span style=\"color: #008080; text-decoration-color: #008080\">INFO</span>    | Task run 'preprocess_data-05f' - Finished in state <span style=\"color: #008000; text-decoration-color: #008000\">Completed</span>()\n",
       "</pre>\n"
      ],
      "text/plain": [
       "14:55:27.608 | \u001b[36mINFO\u001b[0m    | Task run 'preprocess_data-05f' - Finished in state \u001b[32mCompleted\u001b[0m()\n"
      ]
     },
     "metadata": {},
     "output_type": "display_data"
    },
    {
     "data": {
      "text/html": [
       "<pre style=\"white-space:pre;overflow-x:auto;line-height:normal;font-family:Menlo,'DejaVu Sans Mono',consolas,'Courier New',monospace\">14:55:27.739 | <span style=\"color: #008080; text-decoration-color: #008080\">INFO</span>    | Flow run<span style=\"color: #800080; text-decoration-color: #800080\"> 'simple-panda'</span> - Finished in state <span style=\"color: #008000; text-decoration-color: #008000\">Completed</span>()\n",
       "</pre>\n"
      ],
      "text/plain": [
       "14:55:27.739 | \u001b[36mINFO\u001b[0m    | Flow run\u001b[35m 'simple-panda'\u001b[0m - Finished in state \u001b[32mCompleted\u001b[0m()\n"
      ]
     },
     "metadata": {},
     "output_type": "display_data"
    }
   ],
   "source": [
    "@flow()\n",
    "def run_eia_transform(df):\n",
    "    # Type conversions\n",
    "    df = transform(df)\n",
    "    # Preprocess: Outlier capping + temporal features\n",
    "    df = preprocess_data(df)\n",
    "    return df\n",
    "eia_df = run_eia_transform(eia_df)"
   ]
  },
  {
   "cell_type": "code",
   "execution_count": 89,
   "id": "6c955b49-fee7-4a7f-9d63-6a4bd0ff0b1a",
   "metadata": {},
   "outputs": [
    {
     "data": {
      "text/html": [
       "<div>\n",
       "<style scoped>\n",
       "    .dataframe tbody tr th:only-of-type {\n",
       "        vertical-align: middle;\n",
       "    }\n",
       "\n",
       "    .dataframe tbody tr th {\n",
       "        vertical-align: top;\n",
       "    }\n",
       "\n",
       "    .dataframe thead th {\n",
       "        text-align: right;\n",
       "    }\n",
       "</style>\n",
       "<table border=\"1\" class=\"dataframe\">\n",
       "  <thead>\n",
       "    <tr style=\"text-align: right;\">\n",
       "      <th></th>\n",
       "      <th>utc_ts</th>\n",
       "      <th>D</th>\n",
       "      <th>hour</th>\n",
       "      <th>month</th>\n",
       "      <th>year</th>\n",
       "      <th>quarter</th>\n",
       "      <th>dayofweek</th>\n",
       "      <th>dayofmonth</th>\n",
       "      <th>dayofyear</th>\n",
       "    </tr>\n",
       "    <tr>\n",
       "      <th>utc_ts</th>\n",
       "      <th></th>\n",
       "      <th></th>\n",
       "      <th></th>\n",
       "      <th></th>\n",
       "      <th></th>\n",
       "      <th></th>\n",
       "      <th></th>\n",
       "      <th></th>\n",
       "      <th></th>\n",
       "    </tr>\n",
       "  </thead>\n",
       "  <tbody>\n",
       "    <tr>\n",
       "      <th>2019-01-01 00:00:00+00:00</th>\n",
       "      <td>2019-01-01 00:00:00+00:00</td>\n",
       "      <td>94016.0</td>\n",
       "      <td>0</td>\n",
       "      <td>1</td>\n",
       "      <td>2019</td>\n",
       "      <td>1</td>\n",
       "      <td>1</td>\n",
       "      <td>1</td>\n",
       "      <td>1</td>\n",
       "    </tr>\n",
       "    <tr>\n",
       "      <th>2019-01-01 01:00:00+00:00</th>\n",
       "      <td>2019-01-01 01:00:00+00:00</td>\n",
       "      <td>90385.0</td>\n",
       "      <td>1</td>\n",
       "      <td>1</td>\n",
       "      <td>2019</td>\n",
       "      <td>1</td>\n",
       "      <td>1</td>\n",
       "      <td>1</td>\n",
       "      <td>1</td>\n",
       "    </tr>\n",
       "    <tr>\n",
       "      <th>2019-01-01 02:00:00+00:00</th>\n",
       "      <td>2019-01-01 02:00:00+00:00</td>\n",
       "      <td>86724.0</td>\n",
       "      <td>2</td>\n",
       "      <td>1</td>\n",
       "      <td>2019</td>\n",
       "      <td>1</td>\n",
       "      <td>1</td>\n",
       "      <td>1</td>\n",
       "      <td>1</td>\n",
       "    </tr>\n",
       "    <tr>\n",
       "      <th>2019-01-01 03:00:00+00:00</th>\n",
       "      <td>2019-01-01 03:00:00+00:00</td>\n",
       "      <td>82978.0</td>\n",
       "      <td>3</td>\n",
       "      <td>1</td>\n",
       "      <td>2019</td>\n",
       "      <td>1</td>\n",
       "      <td>1</td>\n",
       "      <td>1</td>\n",
       "      <td>1</td>\n",
       "    </tr>\n",
       "    <tr>\n",
       "      <th>2019-01-01 04:00:00+00:00</th>\n",
       "      <td>2019-01-01 04:00:00+00:00</td>\n",
       "      <td>79536.0</td>\n",
       "      <td>4</td>\n",
       "      <td>1</td>\n",
       "      <td>2019</td>\n",
       "      <td>1</td>\n",
       "      <td>1</td>\n",
       "      <td>1</td>\n",
       "      <td>1</td>\n",
       "    </tr>\n",
       "    <tr>\n",
       "      <th>...</th>\n",
       "      <td>...</td>\n",
       "      <td>...</td>\n",
       "      <td>...</td>\n",
       "      <td>...</td>\n",
       "      <td>...</td>\n",
       "      <td>...</td>\n",
       "      <td>...</td>\n",
       "      <td>...</td>\n",
       "      <td>...</td>\n",
       "    </tr>\n",
       "    <tr>\n",
       "      <th>2024-09-17 20:00:00+00:00</th>\n",
       "      <td>2024-09-17 20:00:00+00:00</td>\n",
       "      <td>105069.0</td>\n",
       "      <td>20</td>\n",
       "      <td>9</td>\n",
       "      <td>2024</td>\n",
       "      <td>3</td>\n",
       "      <td>1</td>\n",
       "      <td>17</td>\n",
       "      <td>261</td>\n",
       "    </tr>\n",
       "    <tr>\n",
       "      <th>2024-09-17 21:00:00+00:00</th>\n",
       "      <td>2024-09-17 21:00:00+00:00</td>\n",
       "      <td>106571.0</td>\n",
       "      <td>21</td>\n",
       "      <td>9</td>\n",
       "      <td>2024</td>\n",
       "      <td>3</td>\n",
       "      <td>1</td>\n",
       "      <td>17</td>\n",
       "      <td>261</td>\n",
       "    </tr>\n",
       "    <tr>\n",
       "      <th>2024-09-17 22:00:00+00:00</th>\n",
       "      <td>2024-09-17 22:00:00+00:00</td>\n",
       "      <td>107118.0</td>\n",
       "      <td>22</td>\n",
       "      <td>9</td>\n",
       "      <td>2024</td>\n",
       "      <td>3</td>\n",
       "      <td>1</td>\n",
       "      <td>17</td>\n",
       "      <td>261</td>\n",
       "    </tr>\n",
       "    <tr>\n",
       "      <th>2024-09-17 23:00:00+00:00</th>\n",
       "      <td>2024-09-17 23:00:00+00:00</td>\n",
       "      <td>106339.0</td>\n",
       "      <td>23</td>\n",
       "      <td>9</td>\n",
       "      <td>2024</td>\n",
       "      <td>3</td>\n",
       "      <td>1</td>\n",
       "      <td>17</td>\n",
       "      <td>261</td>\n",
       "    </tr>\n",
       "    <tr>\n",
       "      <th>2024-09-18 00:00:00+00:00</th>\n",
       "      <td>2024-09-18 00:00:00+00:00</td>\n",
       "      <td>105407.0</td>\n",
       "      <td>0</td>\n",
       "      <td>9</td>\n",
       "      <td>2024</td>\n",
       "      <td>3</td>\n",
       "      <td>2</td>\n",
       "      <td>18</td>\n",
       "      <td>262</td>\n",
       "    </tr>\n",
       "  </tbody>\n",
       "</table>\n",
       "<p>50089 rows × 9 columns</p>\n",
       "</div>"
      ],
      "text/plain": [
       "                                             utc_ts         D  hour  month  \\\n",
       "utc_ts                                                                       \n",
       "2019-01-01 00:00:00+00:00 2019-01-01 00:00:00+00:00   94016.0     0      1   \n",
       "2019-01-01 01:00:00+00:00 2019-01-01 01:00:00+00:00   90385.0     1      1   \n",
       "2019-01-01 02:00:00+00:00 2019-01-01 02:00:00+00:00   86724.0     2      1   \n",
       "2019-01-01 03:00:00+00:00 2019-01-01 03:00:00+00:00   82978.0     3      1   \n",
       "2019-01-01 04:00:00+00:00 2019-01-01 04:00:00+00:00   79536.0     4      1   \n",
       "...                                             ...       ...   ...    ...   \n",
       "2024-09-17 20:00:00+00:00 2024-09-17 20:00:00+00:00  105069.0    20      9   \n",
       "2024-09-17 21:00:00+00:00 2024-09-17 21:00:00+00:00  106571.0    21      9   \n",
       "2024-09-17 22:00:00+00:00 2024-09-17 22:00:00+00:00  107118.0    22      9   \n",
       "2024-09-17 23:00:00+00:00 2024-09-17 23:00:00+00:00  106339.0    23      9   \n",
       "2024-09-18 00:00:00+00:00 2024-09-18 00:00:00+00:00  105407.0     0      9   \n",
       "\n",
       "                           year  quarter  dayofweek  dayofmonth  dayofyear  \n",
       "utc_ts                                                                      \n",
       "2019-01-01 00:00:00+00:00  2019        1          1           1          1  \n",
       "2019-01-01 01:00:00+00:00  2019        1          1           1          1  \n",
       "2019-01-01 02:00:00+00:00  2019        1          1           1          1  \n",
       "2019-01-01 03:00:00+00:00  2019        1          1           1          1  \n",
       "2019-01-01 04:00:00+00:00  2019        1          1           1          1  \n",
       "...                         ...      ...        ...         ...        ...  \n",
       "2024-09-17 20:00:00+00:00  2024        3          1          17        261  \n",
       "2024-09-17 21:00:00+00:00  2024        3          1          17        261  \n",
       "2024-09-17 22:00:00+00:00  2024        3          1          17        261  \n",
       "2024-09-17 23:00:00+00:00  2024        3          1          17        261  \n",
       "2024-09-18 00:00:00+00:00  2024        3          2          18        262  \n",
       "\n",
       "[50089 rows x 9 columns]"
      ]
     },
     "execution_count": 89,
     "metadata": {},
     "output_type": "execute_result"
    }
   ],
   "source": [
    "eia_df"
   ]
  },
  {
   "cell_type": "markdown",
   "id": "48365249-e37f-449d-b37c-5aa89d3be294",
   "metadata": {},
   "source": [
    "# Lag Features\n",
    "\n",
    "Let's add timeseries lag features, for the same day of week $Y$ years in the past for $Y \\in \\{1,2,3\\}$\n",
    "\n",
    "After notebook exploration, this logic should be added to the train_model_flow's feature pre-processing feature engineering section."
   ]
  },
  {
   "cell_type": "code",
   "execution_count": 90,
   "id": "dd3125d0-bd83-4ea6-b326-12af942f7e31",
   "metadata": {},
   "outputs": [
    {
     "data": {
      "text/html": [
       "<div>\n",
       "<style scoped>\n",
       "    .dataframe tbody tr th:only-of-type {\n",
       "        vertical-align: middle;\n",
       "    }\n",
       "\n",
       "    .dataframe tbody tr th {\n",
       "        vertical-align: top;\n",
       "    }\n",
       "\n",
       "    .dataframe thead th {\n",
       "        text-align: right;\n",
       "    }\n",
       "</style>\n",
       "<table border=\"1\" class=\"dataframe\">\n",
       "  <thead>\n",
       "    <tr style=\"text-align: right;\">\n",
       "      <th></th>\n",
       "      <th>utc_ts</th>\n",
       "      <th>D</th>\n",
       "      <th>hour</th>\n",
       "      <th>month</th>\n",
       "      <th>year</th>\n",
       "      <th>quarter</th>\n",
       "      <th>dayofweek</th>\n",
       "      <th>dayofmonth</th>\n",
       "      <th>dayofyear</th>\n",
       "      <th>lag_1y</th>\n",
       "      <th>lag_2y</th>\n",
       "      <th>lag_3y</th>\n",
       "    </tr>\n",
       "    <tr>\n",
       "      <th>utc_ts</th>\n",
       "      <th></th>\n",
       "      <th></th>\n",
       "      <th></th>\n",
       "      <th></th>\n",
       "      <th></th>\n",
       "      <th></th>\n",
       "      <th></th>\n",
       "      <th></th>\n",
       "      <th></th>\n",
       "      <th></th>\n",
       "      <th></th>\n",
       "      <th></th>\n",
       "    </tr>\n",
       "  </thead>\n",
       "  <tbody>\n",
       "    <tr>\n",
       "      <th>2019-01-01 00:00:00+00:00</th>\n",
       "      <td>2019-01-01 00:00:00+00:00</td>\n",
       "      <td>94016.0</td>\n",
       "      <td>0</td>\n",
       "      <td>1</td>\n",
       "      <td>2019</td>\n",
       "      <td>1</td>\n",
       "      <td>1</td>\n",
       "      <td>1</td>\n",
       "      <td>1</td>\n",
       "      <td>NaN</td>\n",
       "      <td>NaN</td>\n",
       "      <td>NaN</td>\n",
       "    </tr>\n",
       "    <tr>\n",
       "      <th>2019-01-01 01:00:00+00:00</th>\n",
       "      <td>2019-01-01 01:00:00+00:00</td>\n",
       "      <td>90385.0</td>\n",
       "      <td>1</td>\n",
       "      <td>1</td>\n",
       "      <td>2019</td>\n",
       "      <td>1</td>\n",
       "      <td>1</td>\n",
       "      <td>1</td>\n",
       "      <td>1</td>\n",
       "      <td>NaN</td>\n",
       "      <td>NaN</td>\n",
       "      <td>NaN</td>\n",
       "    </tr>\n",
       "    <tr>\n",
       "      <th>2019-01-01 02:00:00+00:00</th>\n",
       "      <td>2019-01-01 02:00:00+00:00</td>\n",
       "      <td>86724.0</td>\n",
       "      <td>2</td>\n",
       "      <td>1</td>\n",
       "      <td>2019</td>\n",
       "      <td>1</td>\n",
       "      <td>1</td>\n",
       "      <td>1</td>\n",
       "      <td>1</td>\n",
       "      <td>NaN</td>\n",
       "      <td>NaN</td>\n",
       "      <td>NaN</td>\n",
       "    </tr>\n",
       "    <tr>\n",
       "      <th>2019-01-01 03:00:00+00:00</th>\n",
       "      <td>2019-01-01 03:00:00+00:00</td>\n",
       "      <td>82978.0</td>\n",
       "      <td>3</td>\n",
       "      <td>1</td>\n",
       "      <td>2019</td>\n",
       "      <td>1</td>\n",
       "      <td>1</td>\n",
       "      <td>1</td>\n",
       "      <td>1</td>\n",
       "      <td>NaN</td>\n",
       "      <td>NaN</td>\n",
       "      <td>NaN</td>\n",
       "    </tr>\n",
       "    <tr>\n",
       "      <th>2019-01-01 04:00:00+00:00</th>\n",
       "      <td>2019-01-01 04:00:00+00:00</td>\n",
       "      <td>79536.0</td>\n",
       "      <td>4</td>\n",
       "      <td>1</td>\n",
       "      <td>2019</td>\n",
       "      <td>1</td>\n",
       "      <td>1</td>\n",
       "      <td>1</td>\n",
       "      <td>1</td>\n",
       "      <td>NaN</td>\n",
       "      <td>NaN</td>\n",
       "      <td>NaN</td>\n",
       "    </tr>\n",
       "    <tr>\n",
       "      <th>...</th>\n",
       "      <td>...</td>\n",
       "      <td>...</td>\n",
       "      <td>...</td>\n",
       "      <td>...</td>\n",
       "      <td>...</td>\n",
       "      <td>...</td>\n",
       "      <td>...</td>\n",
       "      <td>...</td>\n",
       "      <td>...</td>\n",
       "      <td>...</td>\n",
       "      <td>...</td>\n",
       "      <td>...</td>\n",
       "    </tr>\n",
       "    <tr>\n",
       "      <th>2024-09-17 20:00:00+00:00</th>\n",
       "      <td>2024-09-17 20:00:00+00:00</td>\n",
       "      <td>105069.0</td>\n",
       "      <td>20</td>\n",
       "      <td>9</td>\n",
       "      <td>2024</td>\n",
       "      <td>3</td>\n",
       "      <td>1</td>\n",
       "      <td>17</td>\n",
       "      <td>261</td>\n",
       "      <td>90074.0</td>\n",
       "      <td>115897.0</td>\n",
       "      <td>102329.0</td>\n",
       "    </tr>\n",
       "    <tr>\n",
       "      <th>2024-09-17 21:00:00+00:00</th>\n",
       "      <td>2024-09-17 21:00:00+00:00</td>\n",
       "      <td>106571.0</td>\n",
       "      <td>21</td>\n",
       "      <td>9</td>\n",
       "      <td>2024</td>\n",
       "      <td>3</td>\n",
       "      <td>1</td>\n",
       "      <td>17</td>\n",
       "      <td>261</td>\n",
       "      <td>91796.0</td>\n",
       "      <td>117974.0</td>\n",
       "      <td>102822.0</td>\n",
       "    </tr>\n",
       "    <tr>\n",
       "      <th>2024-09-17 22:00:00+00:00</th>\n",
       "      <td>2024-09-17 22:00:00+00:00</td>\n",
       "      <td>107118.0</td>\n",
       "      <td>22</td>\n",
       "      <td>9</td>\n",
       "      <td>2024</td>\n",
       "      <td>3</td>\n",
       "      <td>1</td>\n",
       "      <td>17</td>\n",
       "      <td>261</td>\n",
       "      <td>93182.0</td>\n",
       "      <td>118157.0</td>\n",
       "      <td>102610.0</td>\n",
       "    </tr>\n",
       "    <tr>\n",
       "      <th>2024-09-17 23:00:00+00:00</th>\n",
       "      <td>2024-09-17 23:00:00+00:00</td>\n",
       "      <td>106339.0</td>\n",
       "      <td>23</td>\n",
       "      <td>9</td>\n",
       "      <td>2024</td>\n",
       "      <td>3</td>\n",
       "      <td>1</td>\n",
       "      <td>17</td>\n",
       "      <td>261</td>\n",
       "      <td>92465.0</td>\n",
       "      <td>114933.0</td>\n",
       "      <td>101464.0</td>\n",
       "    </tr>\n",
       "    <tr>\n",
       "      <th>2024-09-18 00:00:00+00:00</th>\n",
       "      <td>2024-09-18 00:00:00+00:00</td>\n",
       "      <td>105407.0</td>\n",
       "      <td>0</td>\n",
       "      <td>9</td>\n",
       "      <td>2024</td>\n",
       "      <td>3</td>\n",
       "      <td>2</td>\n",
       "      <td>18</td>\n",
       "      <td>262</td>\n",
       "      <td>91768.0</td>\n",
       "      <td>111247.0</td>\n",
       "      <td>101592.0</td>\n",
       "    </tr>\n",
       "  </tbody>\n",
       "</table>\n",
       "<p>50089 rows × 12 columns</p>\n",
       "</div>"
      ],
      "text/plain": [
       "                                             utc_ts         D  hour  month  \\\n",
       "utc_ts                                                                       \n",
       "2019-01-01 00:00:00+00:00 2019-01-01 00:00:00+00:00   94016.0     0      1   \n",
       "2019-01-01 01:00:00+00:00 2019-01-01 01:00:00+00:00   90385.0     1      1   \n",
       "2019-01-01 02:00:00+00:00 2019-01-01 02:00:00+00:00   86724.0     2      1   \n",
       "2019-01-01 03:00:00+00:00 2019-01-01 03:00:00+00:00   82978.0     3      1   \n",
       "2019-01-01 04:00:00+00:00 2019-01-01 04:00:00+00:00   79536.0     4      1   \n",
       "...                                             ...       ...   ...    ...   \n",
       "2024-09-17 20:00:00+00:00 2024-09-17 20:00:00+00:00  105069.0    20      9   \n",
       "2024-09-17 21:00:00+00:00 2024-09-17 21:00:00+00:00  106571.0    21      9   \n",
       "2024-09-17 22:00:00+00:00 2024-09-17 22:00:00+00:00  107118.0    22      9   \n",
       "2024-09-17 23:00:00+00:00 2024-09-17 23:00:00+00:00  106339.0    23      9   \n",
       "2024-09-18 00:00:00+00:00 2024-09-18 00:00:00+00:00  105407.0     0      9   \n",
       "\n",
       "                           year  quarter  dayofweek  dayofmonth  dayofyear  \\\n",
       "utc_ts                                                                       \n",
       "2019-01-01 00:00:00+00:00  2019        1          1           1          1   \n",
       "2019-01-01 01:00:00+00:00  2019        1          1           1          1   \n",
       "2019-01-01 02:00:00+00:00  2019        1          1           1          1   \n",
       "2019-01-01 03:00:00+00:00  2019        1          1           1          1   \n",
       "2019-01-01 04:00:00+00:00  2019        1          1           1          1   \n",
       "...                         ...      ...        ...         ...        ...   \n",
       "2024-09-17 20:00:00+00:00  2024        3          1          17        261   \n",
       "2024-09-17 21:00:00+00:00  2024        3          1          17        261   \n",
       "2024-09-17 22:00:00+00:00  2024        3          1          17        261   \n",
       "2024-09-17 23:00:00+00:00  2024        3          1          17        261   \n",
       "2024-09-18 00:00:00+00:00  2024        3          2          18        262   \n",
       "\n",
       "                            lag_1y    lag_2y    lag_3y  \n",
       "utc_ts                                                  \n",
       "2019-01-01 00:00:00+00:00      NaN       NaN       NaN  \n",
       "2019-01-01 01:00:00+00:00      NaN       NaN       NaN  \n",
       "2019-01-01 02:00:00+00:00      NaN       NaN       NaN  \n",
       "2019-01-01 03:00:00+00:00      NaN       NaN       NaN  \n",
       "2019-01-01 04:00:00+00:00      NaN       NaN       NaN  \n",
       "...                            ...       ...       ...  \n",
       "2024-09-17 20:00:00+00:00  90074.0  115897.0  102329.0  \n",
       "2024-09-17 21:00:00+00:00  91796.0  117974.0  102822.0  \n",
       "2024-09-17 22:00:00+00:00  93182.0  118157.0  102610.0  \n",
       "2024-09-17 23:00:00+00:00  92465.0  114933.0  101464.0  \n",
       "2024-09-18 00:00:00+00:00  91768.0  111247.0  101592.0  \n",
       "\n",
       "[50089 rows x 12 columns]"
      ]
     },
     "execution_count": 90,
     "metadata": {},
     "output_type": "execute_result"
    }
   ],
   "source": [
    "ts_to_D = eia_df.D.to_dict()\n",
    "# Trick: Offset by 364 days => lagged day is same day of week\n",
    "LAG_DAYS_1Y = '364 days'\n",
    "LAG_DAYS_2Y = '728 days'\n",
    "LAG_DAYS_3Y = '1092 days'\n",
    "\n",
    "eia_df['lag_1y'] = (eia_df.index - pd.Timedelta(LAG_DAYS_1Y)).map(ts_to_D)\n",
    "eia_df['lag_2y'] = (eia_df.index - pd.Timedelta(LAG_DAYS_2Y)).map(ts_to_D)\n",
    "eia_df['lag_3y'] = (eia_df.index - pd.Timedelta(LAG_DAYS_3Y)).map(ts_to_D)\n",
    "eia_df"
   ]
  },
  {
   "cell_type": "code",
   "execution_count": 93,
   "id": "3e7ef422-f9cf-472f-a38d-bba71cb10b20",
   "metadata": {},
   "outputs": [
    {
     "name": "stdout",
     "output_type": "stream",
     "text": [
      "All good\n"
     ]
    }
   ],
   "source": [
    "# Confirm, for a given row, that the lag values are correct\n",
    "# Timestamps of interest\n",
    "t = '2024-09-17 20:00:00+00:00'\n",
    "t_lag1y = eia_df.loc[t, 'utc_ts'] - pd.Timedelta(LAG_DAYS_1Y)\n",
    "t_lag2y = eia_df.loc[t, 'utc_ts'] - pd.Timedelta(LAG_DAYS_2Y)\n",
    "t_lag3y = eia_df.loc[t, 'utc_ts'] - pd.Timedelta(LAG_DAYS_3Y)\n",
    "# Confirm this rows lag column values match the D value of their respective rows\n",
    "assert eia_df.loc[t, 'lag_1y'] == eia_df.loc[t_lag1y, 'D']\n",
    "assert eia_df.loc[t, 'lag_2y'] == eia_df.loc[t_lag2y, 'D']\n",
    "assert eia_df.loc[t, 'lag_3y'] == eia_df.loc[t_lag3y, 'D']\n",
    "# Confirm that day of week is maintained for lagged dates\n",
    "assert pd.to_datetime(t).dayofweek == pd.to_datetime(t_lag1y).dayofweek\n",
    "assert pd.to_datetime(t).dayofweek == pd.to_datetime(t_lag2y).dayofweek\n",
    "assert pd.to_datetime(t).dayofweek == pd.to_datetime(t_lag3y).dayofweek\n",
    "print('All good') # TODO add this as a functional test"
   ]
  },
  {
   "cell_type": "code",
   "execution_count": 95,
   "id": "66cb4565-1b29-42b3-9f48-f093bff3ea34",
   "metadata": {},
   "outputs": [
    {
     "name": "stdout",
     "output_type": "stream",
     "text": [
      "Performing  cross validation\n",
      "Fitting 8 folds for each of 1 candidates, totalling 8 fits\n",
      "[CV] END learning_rate=0.02, max_depth=5, n_estimators=1000, objective=reg:squarederror; total time=   0.9s\n",
      "[CV] END learning_rate=0.02, max_depth=5, n_estimators=1000, objective=reg:squarederror; total time=   0.9s\n",
      "[CV] END learning_rate=0.02, max_depth=5, n_estimators=1000, objective=reg:squarederror; total time=   0.7s\n",
      "[CV] END learning_rate=0.02, max_depth=5, n_estimators=1000, objective=reg:squarederror; total time=   0.8s\n",
      "[CV] END learning_rate=0.02, max_depth=5, n_estimators=1000, objective=reg:squarederror; total time=   0.9s\n",
      "[CV] END learning_rate=0.02, max_depth=5, n_estimators=1000, objective=reg:squarederror; total time=   0.9s\n",
      "[CV] END learning_rate=0.02, max_depth=5, n_estimators=1000, objective=reg:squarederror; total time=   0.7s\n",
      "[CV] END learning_rate=0.02, max_depth=5, n_estimators=1000, objective=reg:squarederror; total time=   0.9s\n",
      "Cross validation results:\n",
      "   mean_fit_time  std_fit_time  mean_score_time  std_score_time  \\\n",
      "0       0.833603      0.094166         0.005065        0.000834   \n",
      "\n",
      "   param_learning_rate  param_max_depth  param_n_estimators   param_objective  \\\n",
      "0                 0.02                5                1000  reg:squarederror   \n",
      "\n",
      "                                              params  split0_test_score  \\\n",
      "0  {'learning_rate': 0.02, 'max_depth': 5, 'n_est...           0.434581   \n",
      "\n",
      "   split1_test_score  split2_test_score  split3_test_score  split4_test_score  \\\n",
      "0           0.271836           0.513485           0.668549           0.640163   \n",
      "\n",
      "   split5_test_score  split6_test_score  split7_test_score  mean_test_score  \\\n",
      "0           0.513421            0.57813           0.371756          0.49899   \n",
      "\n",
      "   std_test_score  rank_test_score  \n",
      "0        0.126144                1  \n",
      "Best parameters:\n",
      "{'learning_rate': 0.02, 'max_depth': 5, 'n_estimators': 1000, 'objective': 'reg:squarederror'}\n",
      "Feature importances: [0.39875624 0.17492431 0.03957887 0.         0.09285867 0.03499177\n",
      " 0.25889018]\n"
     ]
    }
   ],
   "source": [
    "reg = train_xgboost(eia_df, hyperparam_tuning=False)"
   ]
  },
  {
   "cell_type": "code",
   "execution_count": null,
   "id": "f2742778-2773-4dc0-b400-e14da34e762e",
   "metadata": {},
   "outputs": [],
   "source": []
  },
  {
   "cell_type": "markdown",
   "id": "912f7017-b984-43f0-95a1-38835d4a24a0",
   "metadata": {},
   "source": [
    "# Features from Additional Data Sources\n",
    "\n",
    "## Weather\n",
    "\n",
    "[OpenMeteo](https://open-meteo.com/)\n",
    "- Easily handles large historical data requests:\n",
    "  ```sh\n",
    "  curl \"https://archive-api.open-meteo.com/v1/era5?latitude=52.52&longitude=13.41&start_date=2019-01-01&end_date=2024-09-31&hourly=temperature_2m,cloud_cover\" > temp_data.json\n",
    "  ```\n",
    "- And forecasts:\n",
    "  ```sh\n",
    "  curl \"https://api.open-meteo.com/v1/forecast?latitude=52.52&longitude=13.41&hourly=temperature_2m,cloud_cover&forecast_days=14\" > forecast_data.json\n",
    "  ```\n",
    "- With a common response format\n",
    "- Caching: Historical data will never change. Is it worth implementing caching? No, skip that until you're forced to do it for some reason.\n",
    "\n",
    "### Questions\n",
    "\n",
    "- Should I include multiple weather features: Temp, cloud cover, and precipitation level? Perhaps there's predictive value (e.g. on a cloudy day people turn on more lights, on a rainy/snowy day people stay home, etc).\n",
    "- Historical vs Forecast data: For training my model, I'll use historical weather data for features. For predictions, the weather data may either be historical or forecast depending on whether the test/eval time period is in the past or future. How to merge historical and forecast data seamlessly?\n",
    "  \n",
    "\n",
    "## Holidays\n",
    "\n",
    "[Calendarific](https://calendarific.com/api-documentation)\n",
    "\n",
    "```sh\n",
    "curl \"https://calendarific.com/api/v2/holidays?&api_key=${API_KEY}&country=US&type=national&year=2019\" > holidays_2019.json\n",
    "```\n",
    "\n",
    "- Need to make one API request per year.\n",
    "- Includes lots of obscure holidays, but can filter to `primary_type: \"Federal Holiday\"`\n",
    "- **TODO**: This has an API limit, and the amount of data is small - so prefetch it all and store it in a file.\n",
    "\n",
    "# Questions\n",
    "\n",
    "- What location should I choose as representative of the weather for the PJM region? Could take multiple and average - but simpler approach (one location) is probably better to start."
   ]
  },
  {
   "cell_type": "markdown",
   "id": "260a0139-f207-49a7-8656-f46e593ffe8a",
   "metadata": {},
   "source": []
  },
  {
   "cell_type": "markdown",
   "id": "a1d1890d-3f00-4fe7-9a85-d3c1a64a59a0",
   "metadata": {},
   "source": [
    "Notes:\n",
    "\n",
    "- "
   ]
  }
 ],
 "metadata": {
  "kernelspec": {
   "display_name": "Python 3 (ipykernel)",
   "language": "python",
   "name": "python3"
  },
  "language_info": {
   "codemirror_mode": {
    "name": "ipython",
    "version": 3
   },
   "file_extension": ".py",
   "mimetype": "text/x-python",
   "name": "python",
   "nbconvert_exporter": "python",
   "pygments_lexer": "ipython3",
   "version": "3.10.15"
  }
 },
 "nbformat": 4,
 "nbformat_minor": 5
}
