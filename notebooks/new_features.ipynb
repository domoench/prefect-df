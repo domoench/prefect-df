{
 "cells": [
  {
   "cell_type": "markdown",
   "id": "e6ddc4de-23a0-4b3d-8eab-38d22222df5b",
   "metadata": {},
   "source": [
    "# New Model Features Exploration\n",
    "\n",
    "In this notebook I'll explore engineering some new features that I think will increase the model's predictive power:\n",
    "- Lag features\n",
    "- Weather features: Temperature and maybe cloud cover\n",
    "- Holidays"
   ]
  },
  {
   "cell_type": "markdown",
   "id": "9f8b543e-38e3-48d9-a4c8-832fb504cad4",
   "metadata": {},
   "source": [
    "# Library Imports"
   ]
  },
  {
   "cell_type": "code",
   "execution_count": 1,
   "id": "9b5cdc49-62ec-4383-a50a-582cbeaef12a",
   "metadata": {},
   "outputs": [],
   "source": [
    "import pandas as pd\n",
    "import matplotlib.pyplot as plt\n",
    "import os\n",
    "from prefect import flow "
   ]
  },
  {
   "cell_type": "code",
   "execution_count": 2,
   "id": "8610f793-3bd6-452e-84fb-40eb0d571f7e",
   "metadata": {},
   "outputs": [],
   "source": [
    "# Auto reload core modules so I don't need to restart kernel when I change\n",
    "# the code in those modules\n",
    "%load_ext autoreload\n",
    "%autoreload 2"
   ]
  },
  {
   "cell_type": "code",
   "execution_count": 11,
   "id": "fc7995e2-d9be-4c1b-b418-479e57511952",
   "metadata": {},
   "outputs": [],
   "source": [
    "from core.consts import EIA_TEST_SET_HOURS, EIA_EARLIEST_HOUR_UTC\n",
    "from flows.train_model_flow import train_model\n",
    "from core.utils import utcnow_minus_buffer_ts\n",
    "from core.types import DVCDatasetInfo, ModelFeatureFlags\n",
    "from core.data import get_dvc_remote_repo_url"
   ]
  },
  {
   "cell_type": "code",
   "execution_count": 9,
   "id": "75eb30e1-8584-4d63-be9f-7afc69f1f8e5",
   "metadata": {},
   "outputs": [],
   "source": [
    "# @flow()\n",
    "# def run_eia_extraction():\n",
    "#     start_ts = pd.to_datetime(EIA_EARLIEST_HOUR_UTC)\n",
    "#     end_ts = utcnow_minus_buffer_ts()\n",
    "#     eia_df = concurrent_fetch_EIA_data(start_ts, end_ts)\n",
    "#     return eia_df\n",
    "# eia_df = run_eia_extraction()"
   ]
  },
  {
   "cell_type": "code",
   "execution_count": 15,
   "id": "676656f9-f86d-4d59-9d3d-eeac62af3c03",
   "metadata": {},
   "outputs": [
    {
     "data": {
      "text/html": [
       "<pre style=\"white-space:pre;overflow-x:auto;line-height:normal;font-family:Menlo,'DejaVu Sans Mono',consolas,'Courier New',monospace\">14:40:46.040 | <span style=\"color: #008080; text-decoration-color: #008080\">INFO</span>    | prefect.engine - Created flow run<span style=\"color: #800080; text-decoration-color: #800080\"> 'impetuous-sidewinder'</span> for flow<span style=\"color: #800080; text-decoration-color: #800080; font-weight: bold\"> 'train-model'</span>\n",
       "</pre>\n"
      ],
      "text/plain": [
       "14:40:46.040 | \u001b[36mINFO\u001b[0m    | prefect.engine - Created flow run\u001b[35m 'impetuous-sidewinder'\u001b[0m for flow\u001b[1;35m 'train-model'\u001b[0m\n"
      ]
     },
     "metadata": {},
     "output_type": "display_data"
    },
    {
     "data": {
      "text/html": [
       "<pre style=\"white-space:pre;overflow-x:auto;line-height:normal;font-family:Menlo,'DejaVu Sans Mono',consolas,'Courier New',monospace\">14:40:46.048 | <span style=\"color: #008080; text-decoration-color: #008080\">INFO</span>    | prefect.engine - View at <span style=\"color: #0000ff; text-decoration-color: #0000ff\">https://app.prefect.cloud/account/914106c7-cc3b-4c5c-99f4-915f39352746/workspace/d3b27b3d-41ca-47a0-9b5b-2eebd92a4b25/runs/flow-run/b72d599a-2437-47e2-b30f-86f1cbcd14ab</span>\n",
       "</pre>\n"
      ],
      "text/plain": [
       "14:40:46.048 | \u001b[36mINFO\u001b[0m    | prefect.engine - View at \u001b[94mhttps://app.prefect.cloud/account/914106c7-cc3b-4c5c-99f4-915f39352746/workspace/d3b27b3d-41ca-47a0-9b5b-2eebd92a4b25/runs/flow-run/b72d599a-2437-47e2-b30f-86f1cbcd14ab\u001b[0m\n"
      ]
     },
     "metadata": {},
     "output_type": "display_data"
    },
    {
     "data": {
      "text/html": [
       "<pre style=\"white-space:pre;overflow-x:auto;line-height:normal;font-family:Menlo,'DejaVu Sans Mono',consolas,'Courier New',monospace\">14:40:46.602 | <span style=\"color: #008080; text-decoration-color: #008080\">INFO</span>    | great_expectations.data_context.types.base - Created temporary directory '/tmp/tmpi2cgwafk' for ephemeral docs site\n",
       "</pre>\n"
      ],
      "text/plain": [
       "14:40:46.602 | \u001b[36mINFO\u001b[0m    | great_expectations.data_context.types.base - Created temporary directory '/tmp/tmpi2cgwafk' for ephemeral docs site\n"
      ]
     },
     "metadata": {},
     "output_type": "display_data"
    },
    {
     "data": {
      "application/vnd.jupyter.widget-view+json": {
       "model_id": "693f70d2b70d4e2aaf79a49ff8c8eb30",
       "version_major": 2,
       "version_minor": 0
      },
      "text/plain": [
       "Calculating Metrics:   0%|          | 0/15 [00:00<?, ?it/s]"
      ]
     },
     "metadata": {},
     "output_type": "display_data"
    },
    {
     "name": "stdout",
     "output_type": "stream",
     "text": [
      "GX Validation success: suite:etl\n"
     ]
    },
    {
     "data": {
      "text/html": [
       "<pre style=\"white-space:pre;overflow-x:auto;line-height:normal;font-family:Menlo,'DejaVu Sans Mono',consolas,'Courier New',monospace\">14:40:46.756 | <span style=\"color: #008080; text-decoration-color: #008080\">INFO</span>    | Task run 'preprocess_data-571' - Created task run 'preprocess_data-571' for task 'preprocess_data'\n",
       "</pre>\n"
      ],
      "text/plain": [
       "14:40:46.756 | \u001b[36mINFO\u001b[0m    | Task run 'preprocess_data-571' - Created task run 'preprocess_data-571' for task 'preprocess_data'\n"
      ]
     },
     "metadata": {},
     "output_type": "display_data"
    },
    {
     "data": {
      "text/html": [
       "<pre style=\"white-space:pre;overflow-x:auto;line-height:normal;font-family:Menlo,'DejaVu Sans Mono',consolas,'Courier New',monospace\">14:40:46.790 | <span style=\"color: #008080; text-decoration-color: #008080\">INFO</span>    | Task run 'clean_data-6fa' - Created task run 'clean_data-6fa' for task 'clean_data'\n",
       "</pre>\n"
      ],
      "text/plain": [
       "14:40:46.790 | \u001b[36mINFO\u001b[0m    | Task run 'clean_data-6fa' - Created task run 'clean_data-6fa' for task 'clean_data'\n"
      ]
     },
     "metadata": {},
     "output_type": "display_data"
    },
    {
     "name": "stdout",
     "output_type": "stream",
     "text": [
      "Input data skew: 159.52987768899504\n",
      "Output data skew: 0.8481053110465101\n",
      "Null demand values: 117\n"
     ]
    },
    {
     "data": {
      "text/html": [
       "<pre style=\"white-space:pre;overflow-x:auto;line-height:normal;font-family:Menlo,'DejaVu Sans Mono',consolas,'Courier New',monospace\">14:40:47.811 | <span style=\"color: #008080; text-decoration-color: #008080\">INFO</span>    | Task run 'clean_data-6fa' - Finished in state <span style=\"color: #008000; text-decoration-color: #008000\">Completed</span>()\n",
       "</pre>\n"
      ],
      "text/plain": [
       "14:40:47.811 | \u001b[36mINFO\u001b[0m    | Task run 'clean_data-6fa' - Finished in state \u001b[32mCompleted\u001b[0m()\n"
      ]
     },
     "metadata": {},
     "output_type": "display_data"
    },
    {
     "data": {
      "text/html": [
       "<pre style=\"white-space:pre;overflow-x:auto;line-height:normal;font-family:Menlo,'DejaVu Sans Mono',consolas,'Courier New',monospace\">14:40:47.831 | <span style=\"color: #008080; text-decoration-color: #008080\">INFO</span>    | Task run 'features-7e4' - Created task run 'features-7e4' for task 'features'\n",
       "</pre>\n"
      ],
      "text/plain": [
       "14:40:47.831 | \u001b[36mINFO\u001b[0m    | Task run 'features-7e4' - Created task run 'features-7e4' for task 'features'\n"
      ]
     },
     "metadata": {},
     "output_type": "display_data"
    },
    {
     "name": "stdout",
     "output_type": "stream",
     "text": [
      "                                             utc_ts        D  hour  month  \\\n",
      "utc_ts                                                                      \n",
      "2019-01-01 00:00:00+00:00 2019-01-01 00:00:00+00:00  94016.0     0      1   \n",
      "2019-01-01 01:00:00+00:00 2019-01-01 01:00:00+00:00  90385.0     1      1   \n",
      "2019-01-01 02:00:00+00:00 2019-01-01 02:00:00+00:00  86724.0     2      1   \n",
      "2019-01-01 03:00:00+00:00 2019-01-01 03:00:00+00:00  82978.0     3      1   \n",
      "2019-01-01 04:00:00+00:00 2019-01-01 04:00:00+00:00  79536.0     4      1   \n",
      "...                                             ...      ...   ...    ...   \n",
      "2024-09-30 20:00:00+00:00 2024-09-30 20:00:00+00:00  95573.0    20      9   \n",
      "2024-09-30 21:00:00+00:00 2024-09-30 21:00:00+00:00  96891.0    21      9   \n",
      "2024-09-30 22:00:00+00:00 2024-09-30 22:00:00+00:00  97449.0    22      9   \n",
      "2024-09-30 23:00:00+00:00 2024-09-30 23:00:00+00:00  97578.0    23      9   \n",
      "2024-10-01 00:00:00+00:00 2024-10-01 00:00:00+00:00  97712.0     0     10   \n",
      "\n",
      "                           year  quarter  dayofweek  dayofmonth  dayofyear  \\\n",
      "utc_ts                                                                       \n",
      "2019-01-01 00:00:00+00:00  2019        1          1           1          1   \n",
      "2019-01-01 01:00:00+00:00  2019        1          1           1          1   \n",
      "2019-01-01 02:00:00+00:00  2019        1          1           1          1   \n",
      "2019-01-01 03:00:00+00:00  2019        1          1           1          1   \n",
      "2019-01-01 04:00:00+00:00  2019        1          1           1          1   \n",
      "...                         ...      ...        ...         ...        ...   \n",
      "2024-09-30 20:00:00+00:00  2024        3          0          30        274   \n",
      "2024-09-30 21:00:00+00:00  2024        3          0          30        274   \n",
      "2024-09-30 22:00:00+00:00  2024        3          0          30        274   \n",
      "2024-09-30 23:00:00+00:00  2024        3          0          30        274   \n",
      "2024-10-01 00:00:00+00:00  2024        4          1           1        275   \n",
      "\n",
      "                             lag_1y   lag_2y    lag_3y  \n",
      "utc_ts                                                  \n",
      "2019-01-01 00:00:00+00:00       NaN      NaN       NaN  \n",
      "2019-01-01 01:00:00+00:00       NaN      NaN       NaN  \n",
      "2019-01-01 02:00:00+00:00       NaN      NaN       NaN  \n",
      "2019-01-01 03:00:00+00:00       NaN      NaN       NaN  \n",
      "2019-01-01 04:00:00+00:00       NaN      NaN       NaN  \n",
      "...                             ...      ...       ...  \n",
      "2024-09-30 20:00:00+00:00  105000.0  83799.0  102816.0  \n",
      "2024-09-30 21:00:00+00:00  107361.0  84660.0  103541.0  \n",
      "2024-09-30 22:00:00+00:00  108216.0  85584.0  103416.0  \n",
      "2024-09-30 23:00:00+00:00  106282.0  86500.0  101946.0  \n",
      "2024-10-01 00:00:00+00:00  104581.0  87490.0  101631.0  \n",
      "\n",
      "[50401 rows x 12 columns]\n"
     ]
    },
    {
     "data": {
      "text/html": [
       "<pre style=\"white-space:pre;overflow-x:auto;line-height:normal;font-family:Menlo,'DejaVu Sans Mono',consolas,'Courier New',monospace\">14:40:48.060 | <span style=\"color: #008080; text-decoration-color: #008080\">INFO</span>    | Task run 'features-7e4' - Finished in state <span style=\"color: #008000; text-decoration-color: #008000\">Completed</span>()\n",
       "</pre>\n"
      ],
      "text/plain": [
       "14:40:48.060 | \u001b[36mINFO\u001b[0m    | Task run 'features-7e4' - Finished in state \u001b[32mCompleted\u001b[0m()\n"
      ]
     },
     "metadata": {},
     "output_type": "display_data"
    },
    {
     "data": {
      "text/html": [
       "<pre style=\"white-space:pre;overflow-x:auto;line-height:normal;font-family:Menlo,'DejaVu Sans Mono',consolas,'Courier New',monospace\">14:40:48.063 | <span style=\"color: #008080; text-decoration-color: #008080\">INFO</span>    | Task run 'preprocess_data-571' - Finished in state <span style=\"color: #008000; text-decoration-color: #008000\">Completed</span>()\n",
       "</pre>\n"
      ],
      "text/plain": [
       "14:40:48.063 | \u001b[36mINFO\u001b[0m    | Task run 'preprocess_data-571' - Finished in state \u001b[32mCompleted\u001b[0m()\n"
      ]
     },
     "metadata": {},
     "output_type": "display_data"
    },
    {
     "name": "stdout",
     "output_type": "stream",
     "text": [
      "Performing  cross validation\n",
      "Fitting 8 folds for each of 1 candidates, totalling 8 fits\n",
      "[CV] END learning_rate=0.02, max_depth=5, n_estimators=1000, objective=reg:squarederror; total time=   0.8s\n",
      "[CV] END learning_rate=0.02, max_depth=5, n_estimators=1000, objective=reg:squarederror; total time=   1.5s\n",
      "[CV] END learning_rate=0.02, max_depth=5, n_estimators=1000, objective=reg:squarederror; total time=   1.8s\n",
      "[CV] END learning_rate=0.02, max_depth=5, n_estimators=1000, objective=reg:squarederror; total time=   0.9s\n",
      "[CV] END learning_rate=0.02, max_depth=5, n_estimators=1000, objective=reg:squarederror; total time=   1.3s\n",
      "[CV] END learning_rate=0.02, max_depth=5, n_estimators=1000, objective=reg:squarederror; total time=   1.1s\n",
      "[CV] END learning_rate=0.02, max_depth=5, n_estimators=1000, objective=reg:squarederror; total time=   0.9s\n",
      "[CV] END learning_rate=0.02, max_depth=5, n_estimators=1000, objective=reg:squarederror; total time=   1.1s\n",
      "Cross validation results:\n",
      "   mean_fit_time  std_fit_time  mean_score_time  std_score_time  \\\n",
      "0        1.16454      0.309909         0.005237        0.000922   \n",
      "\n",
      "   param_learning_rate  param_max_depth  param_n_estimators   param_objective  \\\n",
      "0                 0.02                5                1000  reg:squarederror   \n",
      "\n",
      "                                              params  split0_test_score  \\\n",
      "0  {'learning_rate': 0.02, 'max_depth': 5, 'n_est...          -2.367775   \n",
      "\n",
      "   split1_test_score  split2_test_score  split3_test_score  split4_test_score  \\\n",
      "0           0.178436           0.323465           0.625136           0.597841   \n",
      "\n",
      "   split5_test_score  split6_test_score  split7_test_score  mean_test_score  \\\n",
      "0           0.405303           0.461377            0.32268         0.068308   \n",
      "\n",
      "   std_test_score  rank_test_score  \n",
      "0        0.931059                1  \n",
      "Best parameters:\n",
      "{'learning_rate': 0.02, 'max_depth': 5, 'n_estimators': 1000, 'objective': 'reg:squarederror'}\n",
      "Feature importances: [0.37467507 0.21284612 0.04168749 0.         0.08814058 0.03412964\n",
      " 0.24852109]\n"
     ]
    },
    {
     "data": {
      "text/html": [
       "<pre style=\"white-space:pre;overflow-x:auto;line-height:normal;font-family:Menlo,'DejaVu Sans Mono',consolas,'Courier New',monospace\">14:40:58.526 | <span style=\"color: #008080; text-decoration-color: #008080\">INFO</span>    | Flow run<span style=\"color: #800080; text-decoration-color: #800080\"> 'impetuous-sidewinder'</span> - Finished in state <span style=\"color: #008000; text-decoration-color: #008000\">Completed</span>()\n",
       "</pre>\n"
      ],
      "text/plain": [
       "14:40:58.526 | \u001b[36mINFO\u001b[0m    | Flow run\u001b[35m 'impetuous-sidewinder'\u001b[0m - Finished in state \u001b[32mCompleted\u001b[0m()\n"
      ]
     },
     "metadata": {},
     "output_type": "display_data"
    }
   ],
   "source": [
    "# @flow()\n",
    "# def run_eia_transform(df):\n",
    "#     # Type conversions\n",
    "#     df = transform(df)\n",
    "#     # Preprocess: Outlier capping + temporal features\n",
    "#     df = preprocess_data(df)\n",
    "#     return df\n",
    "# eia_df = run_eia_transform(eia_df)\n",
    "git_PAT = os.getenv('DVC_GIT_REPO_PAT')\n",
    "git_repo_url = get_dvc_remote_repo_url(git_PAT)\n",
    "path = 'data/eia_d_df_2019-01-01_00_2024-10-01_00.parquet'\n",
    "rev = 'f82d25aad35da88dd595e9f7cfed6ac03a13296b'\n",
    "dvc_dataset_info = DVCDatasetInfo(repo=git_repo_url, path=path, rev=rev)\n",
    "\n",
    "reg = train_model(dvc_dataset_info=dvc_dataset_info, mlflow_tracking=False, log_prints=True)"
   ]
  },
  {
   "cell_type": "code",
   "execution_count": null,
   "id": "6c955b49-fee7-4a7f-9d63-6a4bd0ff0b1a",
   "metadata": {},
   "outputs": [],
   "source": [
    "eia_df"
   ]
  },
  {
   "cell_type": "markdown",
   "id": "48365249-e37f-449d-b37c-5aa89d3be294",
   "metadata": {},
   "source": [
    "# Lag Features\n",
    "\n",
    "Let's add timeseries lag features, for the same day of week $Y$ years in the past for $Y \\in \\{1,2,3\\}$\n",
    "\n",
    "After notebook exploration, this logic should be added to the train_model_flow's feature pre-processing feature engineering section."
   ]
  },
  {
   "cell_type": "code",
   "execution_count": null,
   "id": "dd3125d0-bd83-4ea6-b326-12af942f7e31",
   "metadata": {},
   "outputs": [],
   "source": [
    "ts_to_D = eia_df.D.to_dict()\n",
    "# Trick: Offset by 364 days => lagged day is same day of week\n",
    "LAG_DAYS_1Y = '364 days'\n",
    "LAG_DAYS_2Y = '728 days'\n",
    "LAG_DAYS_3Y = '1092 days'\n",
    "\n",
    "eia_df['lag_1y'] = (eia_df.index - pd.Timedelta(LAG_DAYS_1Y)).map(ts_to_D)\n",
    "eia_df['lag_2y'] = (eia_df.index - pd.Timedelta(LAG_DAYS_2Y)).map(ts_to_D)\n",
    "eia_df['lag_3y'] = (eia_df.index - pd.Timedelta(LAG_DAYS_3Y)).map(ts_to_D)\n",
    "eia_df"
   ]
  },
  {
   "cell_type": "code",
   "execution_count": null,
   "id": "3e7ef422-f9cf-472f-a38d-bba71cb10b20",
   "metadata": {},
   "outputs": [],
   "source": [
    "# Confirm, for a given row, that the lag values are correct\n",
    "# Timestamps of interest\n",
    "t = '2024-09-17 20:00:00+00:00'\n",
    "t_lag1y = eia_df.loc[t, 'utc_ts'] - pd.Timedelta(LAG_DAYS_1Y)\n",
    "t_lag2y = eia_df.loc[t, 'utc_ts'] - pd.Timedelta(LAG_DAYS_2Y)\n",
    "t_lag3y = eia_df.loc[t, 'utc_ts'] - pd.Timedelta(LAG_DAYS_3Y)\n",
    "# Confirm this rows lag column values match the D value of their respective rows\n",
    "assert eia_df.loc[t, 'lag_1y'] == eia_df.loc[t_lag1y, 'D']\n",
    "assert eia_df.loc[t, 'lag_2y'] == eia_df.loc[t_lag2y, 'D']\n",
    "assert eia_df.loc[t, 'lag_3y'] == eia_df.loc[t_lag3y, 'D']\n",
    "# Confirm that day of week is maintained for lagged dates\n",
    "assert pd.to_datetime(t).dayofweek == pd.to_datetime(t_lag1y).dayofweek\n",
    "assert pd.to_datetime(t).dayofweek == pd.to_datetime(t_lag2y).dayofweek\n",
    "assert pd.to_datetime(t).dayofweek == pd.to_datetime(t_lag3y).dayofweek\n",
    "print('All good') # TODO add this as a functional test"
   ]
  },
  {
   "cell_type": "code",
   "execution_count": null,
   "id": "66cb4565-1b29-42b3-9f48-f093bff3ea34",
   "metadata": {},
   "outputs": [],
   "source": [
    "# reg = train_xgboost(eia_df, hyperparam_tuning=False)\n",
    "reg = train_model(\n",
    "    dvc_dataset_info=dvc_dataset_info,\n",
    "    mlflow_tracking=False,\n",
    "    feature_flags=ModelFeatureFlags(lag=True),\n",
    ")\n",
    "# TODO: Next replace above with train_model flow to try out feature flags in training"
   ]
  },
  {
   "cell_type": "code",
   "execution_count": null,
   "id": "f2742778-2773-4dc0-b400-e14da34e762e",
   "metadata": {},
   "outputs": [],
   "source": [
    "type(reg)"
   ]
  },
  {
   "cell_type": "markdown",
   "id": "912f7017-b984-43f0-95a1-38835d4a24a0",
   "metadata": {},
   "source": [
    "# Features from Additional Data Sources\n",
    "\n",
    "## Weather\n",
    "\n",
    "[OpenMeteo](https://open-meteo.com/)\n",
    "- Easily handles large historical data requests:\n",
    "  ```sh\n",
    "  curl \"https://archive-api.open-meteo.com/v1/era5?latitude=52.52&longitude=13.41&start_date=2019-01-01&end_date=2024-09-31&hourly=temperature_2m,cloud_cover\" > temp_data.json\n",
    "  ```\n",
    "- And forecasts:\n",
    "  ```sh\n",
    "  curl \"https://api.open-meteo.com/v1/forecast?latitude=52.52&longitude=13.41&hourly=temperature_2m,cloud_cover&forecast_days=14\" > forecast_data.json\n",
    "  ```\n",
    "- With a common response format\n",
    "- Caching: Historical data will never change. Is it worth implementing caching? No, skip that until you're forced to do it for some reason.\n",
    "\n",
    "### Questions\n",
    "\n",
    "- Should I include multiple weather features: Temp, cloud cover, and precipitation level? Perhaps there's predictive value (e.g. on a cloudy day people turn on more lights, on a rainy/snowy day people stay home, etc).\n",
    "- Historical vs Forecast data: For training my model, I'll use historical weather data for features. For predictions, the weather data may either be historical or forecast depending on whether the test/eval time period is in the past or future. How to merge historical and forecast data seamlessly?\n",
    "  \n",
    "\n",
    "## Holidays\n",
    "\n",
    "[Calendarific](https://calendarific.com/api-documentation)\n",
    "\n",
    "```sh\n",
    "curl \"https://calendarific.com/api/v2/holidays?&api_key=${API_KEY}&country=US&type=national&year=2019\" > holidays_2019.json\n",
    "```\n",
    "\n",
    "- Need to make one API request per year.\n",
    "- Includes lots of obscure holidays, but can filter to `primary_type: \"Federal Holiday\"`\n",
    "- **TODO**: This has an API limit, and the amount of data is small - so prefetch it all and store it in a file.\n",
    "\n",
    "# Questions\n",
    "\n",
    "- What location should I choose as representative of the weather for the PJM region? Could take multiple and average - but simpler approach (one location) is probably better to start."
   ]
  },
  {
   "cell_type": "markdown",
   "id": "260a0139-f207-49a7-8656-f46e593ffe8a",
   "metadata": {},
   "source": []
  },
  {
   "cell_type": "markdown",
   "id": "a1d1890d-3f00-4fe7-9a85-d3c1a64a59a0",
   "metadata": {},
   "source": [
    "Notes:\n",
    "\n",
    "- "
   ]
  }
 ],
 "metadata": {
  "kernelspec": {
   "display_name": "Python 3 (ipykernel)",
   "language": "python",
   "name": "python3"
  },
  "language_info": {
   "codemirror_mode": {
    "name": "ipython",
    "version": 3
   },
   "file_extension": ".py",
   "mimetype": "text/x-python",
   "name": "python",
   "nbconvert_exporter": "python",
   "pygments_lexer": "ipython3",
   "version": "3.10.15"
  }
 },
 "nbformat": 4,
 "nbformat_minor": 5
}
