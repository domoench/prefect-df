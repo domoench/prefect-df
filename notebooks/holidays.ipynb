{
 "cells": [
  {
   "cell_type": "markdown",
   "id": "bb8b4ef2-0c6f-42ca-8afe-a915bd5cbb84",
   "metadata": {},
   "source": [
    "# Create holidays calendar data set"
   ]
  },
  {
   "cell_type": "code",
   "execution_count": 29,
   "id": "630dbbc4-2f29-4d53-b088-6d2b1cbf6785",
   "metadata": {},
   "outputs": [],
   "source": [
    "from getpass import getpass\n",
    "import pandas as pd\n",
    "import numpy as np\n",
    "import requests"
   ]
  },
  {
   "cell_type": "code",
   "execution_count": 6,
   "id": "e384f437-94cd-4b9d-91b9-ae59ddfdd6c3",
   "metadata": {},
   "outputs": [
    {
     "name": "stdin",
     "output_type": "stream",
     "text": [
      "Enter Calendarific API key ········\n"
     ]
    }
   ],
   "source": [
    "# Calendarific API key\n",
    "api_key = getpass(prompt='Enter Calendarific API key')"
   ]
  },
  {
   "cell_type": "code",
   "execution_count": 30,
   "id": "9fbdc88a-7221-4056-bbfb-8572c12e4dbe",
   "metadata": {},
   "outputs": [],
   "source": [
    "def get_holidays_for_year(year):\n",
    "    url = (f'https://calendarific.com/api/v2/holidays?country=US&type=national')\n",
    "    params = {\n",
    "      'api_key': api_key,\n",
    "      'year': year,\n",
    "    }\n",
    "    \n",
    "    r = requests.get(url, params=params)\n",
    "    r.raise_for_status()\n",
    "    return r.json()['response']['holidays']"
   ]
  },
  {
   "cell_type": "code",
   "execution_count": 47,
   "id": "652107b6-0baf-4e7a-b8ce-ff80d25845e3",
   "metadata": {},
   "outputs": [],
   "source": [
    "def get_holidays_df_for_year_range(start_year, end_year):\n",
    "    years = np.arange(start_year, end_year, 1)\n",
    "    dfs = []\n",
    "    for year in years:\n",
    "        holidays = get_holidays_for_year(year)\n",
    "        dates = [h['date']['iso'] for h in holidays]    \n",
    "        names = [h['name'] for h in holidays]\n",
    "        df = pd.DataFrame({'date': dates, 'name': names})\n",
    "        dfs.append(df)\n",
    "    return pd.concat(dfs) "
   ]
  },
  {
   "cell_type": "code",
   "execution_count": 48,
   "id": "b71f478a-38d6-4e75-979b-3163fb704616",
   "metadata": {},
   "outputs": [],
   "source": [
    "df = get_holidays_df_for_year_range(2018, 2040)"
   ]
  },
  {
   "cell_type": "code",
   "execution_count": 51,
   "id": "ac5c5841-8181-4200-ab89-9648e01143f9",
   "metadata": {},
   "outputs": [],
   "source": [
    "df['date'] = pd.to_datetime(df['date'])"
   ]
  },
  {
   "cell_type": "code",
   "execution_count": 56,
   "id": "a34dfc96-c33b-4c20-bda8-b9614743213f",
   "metadata": {},
   "outputs": [],
   "source": [
    "df = df.set_index('date', drop=True)"
   ]
  },
  {
   "cell_type": "code",
   "execution_count": 58,
   "id": "e80e0256-ab67-4551-be75-7148973a7031",
   "metadata": {},
   "outputs": [
    {
     "data": {
      "text/plain": [
       "name    New Year's Day\n",
       "Name: 2018-01-01 00:00:00, dtype: object"
      ]
     },
     "execution_count": 58,
     "metadata": {},
     "output_type": "execute_result"
    }
   ],
   "source": [
    "# Exercise lookup\n",
    "df.loc['2018-01-01']"
   ]
  },
  {
   "cell_type": "code",
   "execution_count": 59,
   "id": "be29d904-76b2-42c0-b402-c1b3bf3b29fc",
   "metadata": {},
   "outputs": [],
   "source": [
    "df.to_csv('holidays.csv')"
   ]
  },
  {
   "cell_type": "markdown",
   "id": "6e8086dd-10eb-4df8-add5-483166ea2c31",
   "metadata": {},
   "source": [
    "# Load holidays dataset from csv"
   ]
  },
  {
   "cell_type": "code",
   "execution_count": 64,
   "id": "9aa975ed-d25c-46cc-8a87-468cdef7449a",
   "metadata": {},
   "outputs": [],
   "source": [
    "df = pd.read_csv('holidays.csv', parse_dates=['date'], index_col='date')"
   ]
  },
  {
   "cell_type": "code",
   "execution_count": 65,
   "id": "16767ae1-a757-4ba5-a89d-9c746e35491b",
   "metadata": {},
   "outputs": [
    {
     "data": {
      "text/html": [
       "<div>\n",
       "<style scoped>\n",
       "    .dataframe tbody tr th:only-of-type {\n",
       "        vertical-align: middle;\n",
       "    }\n",
       "\n",
       "    .dataframe tbody tr th {\n",
       "        vertical-align: top;\n",
       "    }\n",
       "\n",
       "    .dataframe thead th {\n",
       "        text-align: right;\n",
       "    }\n",
       "</style>\n",
       "<table border=\"1\" class=\"dataframe\">\n",
       "  <thead>\n",
       "    <tr style=\"text-align: right;\">\n",
       "      <th></th>\n",
       "      <th>name</th>\n",
       "    </tr>\n",
       "    <tr>\n",
       "      <th>date</th>\n",
       "      <th></th>\n",
       "    </tr>\n",
       "  </thead>\n",
       "  <tbody>\n",
       "    <tr>\n",
       "      <th>2018-01-01</th>\n",
       "      <td>New Year's Day</td>\n",
       "    </tr>\n",
       "    <tr>\n",
       "      <th>2018-01-15</th>\n",
       "      <td>Martin Luther King Jr. Day</td>\n",
       "    </tr>\n",
       "    <tr>\n",
       "      <th>2018-02-19</th>\n",
       "      <td>Presidents' Day</td>\n",
       "    </tr>\n",
       "    <tr>\n",
       "      <th>2018-05-28</th>\n",
       "      <td>Memorial Day</td>\n",
       "    </tr>\n",
       "    <tr>\n",
       "      <th>2018-07-04</th>\n",
       "      <td>Independence Day</td>\n",
       "    </tr>\n",
       "    <tr>\n",
       "      <th>...</th>\n",
       "      <td>...</td>\n",
       "    </tr>\n",
       "    <tr>\n",
       "      <th>2039-10-10</th>\n",
       "      <td>Columbus Day</td>\n",
       "    </tr>\n",
       "    <tr>\n",
       "      <th>2039-11-11</th>\n",
       "      <td>Veterans Day</td>\n",
       "    </tr>\n",
       "    <tr>\n",
       "      <th>2039-11-24</th>\n",
       "      <td>Thanksgiving Day</td>\n",
       "    </tr>\n",
       "    <tr>\n",
       "      <th>2039-12-25</th>\n",
       "      <td>Christmas Day</td>\n",
       "    </tr>\n",
       "    <tr>\n",
       "      <th>2039-12-26</th>\n",
       "      <td>Christmas Day (substitute)</td>\n",
       "    </tr>\n",
       "  </tbody>\n",
       "</table>\n",
       "<p>280 rows × 1 columns</p>\n",
       "</div>"
      ],
      "text/plain": [
       "                                  name\n",
       "date                                  \n",
       "2018-01-01              New Year's Day\n",
       "2018-01-15  Martin Luther King Jr. Day\n",
       "2018-02-19             Presidents' Day\n",
       "2018-05-28                Memorial Day\n",
       "2018-07-04            Independence Day\n",
       "...                                ...\n",
       "2039-10-10                Columbus Day\n",
       "2039-11-11                Veterans Day\n",
       "2039-11-24            Thanksgiving Day\n",
       "2039-12-25               Christmas Day\n",
       "2039-12-26  Christmas Day (substitute)\n",
       "\n",
       "[280 rows x 1 columns]"
      ]
     },
     "execution_count": 65,
     "metadata": {},
     "output_type": "execute_result"
    }
   ],
   "source": [
    "df"
   ]
  },
  {
   "cell_type": "code",
   "execution_count": 69,
   "id": "94329ec8-91de-4719-85ad-1f2337f82288",
   "metadata": {},
   "outputs": [],
   "source": [
    "# Test creating a is_holiday column\n",
    "from core.consts import EIA_EARLIEST_HOUR_UTC\n",
    "from core.utils import create_timeseries_df_1h\n",
    "start_ts = pd.to_datetime(EIA_EARLIEST_HOUR_UTC).to_pydatetime()\n",
    "end_ts = pd.Timestamp.utcnow().round('h').to_pydatetime()\n",
    "\n",
    "df_h = create_timeseries_df_1h(start_ts, end_ts)"
   ]
  },
  {
   "cell_type": "code",
   "execution_count": 73,
   "id": "8a740683-cd74-4714-ac13-7fc4293e61f5",
   "metadata": {},
   "outputs": [],
   "source": [
    "df_h['year'] = df_h.index.year\n",
    "df_h['month'] = df_h.index.month\n",
    "df_h['day'] = df_h.index.day"
   ]
  },
  {
   "cell_type": "code",
   "execution_count": 74,
   "id": "5c97e716-3ba7-40a1-abc6-2c0102536141",
   "metadata": {},
   "outputs": [
    {
     "data": {
      "text/html": [
       "<div>\n",
       "<style scoped>\n",
       "    .dataframe tbody tr th:only-of-type {\n",
       "        vertical-align: middle;\n",
       "    }\n",
       "\n",
       "    .dataframe tbody tr th {\n",
       "        vertical-align: top;\n",
       "    }\n",
       "\n",
       "    .dataframe thead th {\n",
       "        text-align: right;\n",
       "    }\n",
       "</style>\n",
       "<table border=\"1\" class=\"dataframe\">\n",
       "  <thead>\n",
       "    <tr style=\"text-align: right;\">\n",
       "      <th></th>\n",
       "      <th>year</th>\n",
       "      <th>month</th>\n",
       "      <th>day</th>\n",
       "    </tr>\n",
       "    <tr>\n",
       "      <th>utc_ts</th>\n",
       "      <th></th>\n",
       "      <th></th>\n",
       "      <th></th>\n",
       "    </tr>\n",
       "  </thead>\n",
       "  <tbody>\n",
       "    <tr>\n",
       "      <th>2015-07-01 05:00:00+00:00</th>\n",
       "      <td>2015</td>\n",
       "      <td>7</td>\n",
       "      <td>1</td>\n",
       "    </tr>\n",
       "    <tr>\n",
       "      <th>2015-07-01 06:00:00+00:00</th>\n",
       "      <td>2015</td>\n",
       "      <td>7</td>\n",
       "      <td>1</td>\n",
       "    </tr>\n",
       "    <tr>\n",
       "      <th>2015-07-01 07:00:00+00:00</th>\n",
       "      <td>2015</td>\n",
       "      <td>7</td>\n",
       "      <td>1</td>\n",
       "    </tr>\n",
       "    <tr>\n",
       "      <th>2015-07-01 08:00:00+00:00</th>\n",
       "      <td>2015</td>\n",
       "      <td>7</td>\n",
       "      <td>1</td>\n",
       "    </tr>\n",
       "    <tr>\n",
       "      <th>2015-07-01 09:00:00+00:00</th>\n",
       "      <td>2015</td>\n",
       "      <td>7</td>\n",
       "      <td>1</td>\n",
       "    </tr>\n",
       "    <tr>\n",
       "      <th>...</th>\n",
       "      <td>...</td>\n",
       "      <td>...</td>\n",
       "      <td>...</td>\n",
       "    </tr>\n",
       "    <tr>\n",
       "      <th>2024-10-21 16:00:00+00:00</th>\n",
       "      <td>2024</td>\n",
       "      <td>10</td>\n",
       "      <td>21</td>\n",
       "    </tr>\n",
       "    <tr>\n",
       "      <th>2024-10-21 17:00:00+00:00</th>\n",
       "      <td>2024</td>\n",
       "      <td>10</td>\n",
       "      <td>21</td>\n",
       "    </tr>\n",
       "    <tr>\n",
       "      <th>2024-10-21 18:00:00+00:00</th>\n",
       "      <td>2024</td>\n",
       "      <td>10</td>\n",
       "      <td>21</td>\n",
       "    </tr>\n",
       "    <tr>\n",
       "      <th>2024-10-21 19:00:00+00:00</th>\n",
       "      <td>2024</td>\n",
       "      <td>10</td>\n",
       "      <td>21</td>\n",
       "    </tr>\n",
       "    <tr>\n",
       "      <th>2024-10-21 20:00:00+00:00</th>\n",
       "      <td>2024</td>\n",
       "      <td>10</td>\n",
       "      <td>21</td>\n",
       "    </tr>\n",
       "  </tbody>\n",
       "</table>\n",
       "<p>81616 rows × 3 columns</p>\n",
       "</div>"
      ],
      "text/plain": [
       "                           year  month  day\n",
       "utc_ts                                     \n",
       "2015-07-01 05:00:00+00:00  2015      7    1\n",
       "2015-07-01 06:00:00+00:00  2015      7    1\n",
       "2015-07-01 07:00:00+00:00  2015      7    1\n",
       "2015-07-01 08:00:00+00:00  2015      7    1\n",
       "2015-07-01 09:00:00+00:00  2015      7    1\n",
       "...                         ...    ...  ...\n",
       "2024-10-21 16:00:00+00:00  2024     10   21\n",
       "2024-10-21 17:00:00+00:00  2024     10   21\n",
       "2024-10-21 18:00:00+00:00  2024     10   21\n",
       "2024-10-21 19:00:00+00:00  2024     10   21\n",
       "2024-10-21 20:00:00+00:00  2024     10   21\n",
       "\n",
       "[81616 rows x 3 columns]"
      ]
     },
     "execution_count": 74,
     "metadata": {},
     "output_type": "execute_result"
    }
   ],
   "source": [
    "df_h"
   ]
  },
  {
   "cell_type": "code",
   "execution_count": 96,
   "id": "0563b794-9a3c-42a9-aae6-fafa40fa51cd",
   "metadata": {},
   "outputs": [],
   "source": [
    "df_h['is_holiday'] = pd.Series(df_h.index.date, index=df_h.index).isin(df.index.date)"
   ]
  },
  {
   "cell_type": "code",
   "execution_count": 103,
   "id": "8a6f5763-e69f-4058-9d06-b8f32d1a993c",
   "metadata": {},
   "outputs": [
    {
     "data": {
      "text/html": [
       "<div>\n",
       "<style scoped>\n",
       "    .dataframe tbody tr th:only-of-type {\n",
       "        vertical-align: middle;\n",
       "    }\n",
       "\n",
       "    .dataframe tbody tr th {\n",
       "        vertical-align: top;\n",
       "    }\n",
       "\n",
       "    .dataframe thead th {\n",
       "        text-align: right;\n",
       "    }\n",
       "</style>\n",
       "<table border=\"1\" class=\"dataframe\">\n",
       "  <thead>\n",
       "    <tr style=\"text-align: right;\">\n",
       "      <th></th>\n",
       "      <th>year</th>\n",
       "      <th>month</th>\n",
       "      <th>day</th>\n",
       "      <th>is_holiday</th>\n",
       "    </tr>\n",
       "    <tr>\n",
       "      <th>utc_ts</th>\n",
       "      <th></th>\n",
       "      <th></th>\n",
       "      <th></th>\n",
       "      <th></th>\n",
       "    </tr>\n",
       "  </thead>\n",
       "  <tbody>\n",
       "    <tr>\n",
       "      <th>2015-07-01 05:00:00+00:00</th>\n",
       "      <td>2015</td>\n",
       "      <td>7</td>\n",
       "      <td>1</td>\n",
       "      <td>False</td>\n",
       "    </tr>\n",
       "    <tr>\n",
       "      <th>2015-07-01 06:00:00+00:00</th>\n",
       "      <td>2015</td>\n",
       "      <td>7</td>\n",
       "      <td>1</td>\n",
       "      <td>False</td>\n",
       "    </tr>\n",
       "    <tr>\n",
       "      <th>2015-07-01 07:00:00+00:00</th>\n",
       "      <td>2015</td>\n",
       "      <td>7</td>\n",
       "      <td>1</td>\n",
       "      <td>False</td>\n",
       "    </tr>\n",
       "    <tr>\n",
       "      <th>2015-07-01 08:00:00+00:00</th>\n",
       "      <td>2015</td>\n",
       "      <td>7</td>\n",
       "      <td>1</td>\n",
       "      <td>False</td>\n",
       "    </tr>\n",
       "    <tr>\n",
       "      <th>2015-07-01 09:00:00+00:00</th>\n",
       "      <td>2015</td>\n",
       "      <td>7</td>\n",
       "      <td>1</td>\n",
       "      <td>False</td>\n",
       "    </tr>\n",
       "    <tr>\n",
       "      <th>...</th>\n",
       "      <td>...</td>\n",
       "      <td>...</td>\n",
       "      <td>...</td>\n",
       "      <td>...</td>\n",
       "    </tr>\n",
       "    <tr>\n",
       "      <th>2024-10-21 16:00:00+00:00</th>\n",
       "      <td>2024</td>\n",
       "      <td>10</td>\n",
       "      <td>21</td>\n",
       "      <td>False</td>\n",
       "    </tr>\n",
       "    <tr>\n",
       "      <th>2024-10-21 17:00:00+00:00</th>\n",
       "      <td>2024</td>\n",
       "      <td>10</td>\n",
       "      <td>21</td>\n",
       "      <td>False</td>\n",
       "    </tr>\n",
       "    <tr>\n",
       "      <th>2024-10-21 18:00:00+00:00</th>\n",
       "      <td>2024</td>\n",
       "      <td>10</td>\n",
       "      <td>21</td>\n",
       "      <td>False</td>\n",
       "    </tr>\n",
       "    <tr>\n",
       "      <th>2024-10-21 19:00:00+00:00</th>\n",
       "      <td>2024</td>\n",
       "      <td>10</td>\n",
       "      <td>21</td>\n",
       "      <td>False</td>\n",
       "    </tr>\n",
       "    <tr>\n",
       "      <th>2024-10-21 20:00:00+00:00</th>\n",
       "      <td>2024</td>\n",
       "      <td>10</td>\n",
       "      <td>21</td>\n",
       "      <td>False</td>\n",
       "    </tr>\n",
       "  </tbody>\n",
       "</table>\n",
       "<p>81616 rows × 4 columns</p>\n",
       "</div>"
      ],
      "text/plain": [
       "                           year  month  day  is_holiday\n",
       "utc_ts                                                 \n",
       "2015-07-01 05:00:00+00:00  2015      7    1       False\n",
       "2015-07-01 06:00:00+00:00  2015      7    1       False\n",
       "2015-07-01 07:00:00+00:00  2015      7    1       False\n",
       "2015-07-01 08:00:00+00:00  2015      7    1       False\n",
       "2015-07-01 09:00:00+00:00  2015      7    1       False\n",
       "...                         ...    ...  ...         ...\n",
       "2024-10-21 16:00:00+00:00  2024     10   21       False\n",
       "2024-10-21 17:00:00+00:00  2024     10   21       False\n",
       "2024-10-21 18:00:00+00:00  2024     10   21       False\n",
       "2024-10-21 19:00:00+00:00  2024     10   21       False\n",
       "2024-10-21 20:00:00+00:00  2024     10   21       False\n",
       "\n",
       "[81616 rows x 4 columns]"
      ]
     },
     "execution_count": 103,
     "metadata": {},
     "output_type": "execute_result"
    }
   ],
   "source": [
    "df_h"
   ]
  },
  {
   "cell_type": "code",
   "execution_count": 102,
   "id": "9adcca74-547a-4886-be2c-8c6e333602b7",
   "metadata": {},
   "outputs": [
    {
     "data": {
      "text/plain": [
       "array(['Christmas Day', 'Christmas Day (substitute)', 'Christmas Eve',\n",
       "       'Columbus Day', 'Inauguration Day', 'Independence Day',\n",
       "       'Independence Day (substitute)', 'Juneteenth',\n",
       "       'Juneteenth (substitute)', 'Labor Day',\n",
       "       'Martin Luther King Jr. Day', 'Memorial Day', \"New Year's Day\",\n",
       "       \"New Year's Day (substitute)\", \"Presidents' Day\",\n",
       "       'Thanksgiving Day', 'Veterans Day', 'Veterans Day (substitute)'],\n",
       "      dtype=object)"
      ]
     },
     "execution_count": 102,
     "metadata": {},
     "output_type": "execute_result"
    }
   ],
   "source": [
    "lookup_dates = df_h[df_h['is_holiday'] == True].index.date\n",
    "np.unique(df.loc[lookup_dates])"
   ]
  }
 ],
 "metadata": {
  "kernelspec": {
   "display_name": "Python 3 (ipykernel)",
   "language": "python",
   "name": "python3"
  },
  "language_info": {
   "codemirror_mode": {
    "name": "ipython",
    "version": 3
   },
   "file_extension": ".py",
   "mimetype": "text/x-python",
   "name": "python",
   "nbconvert_exporter": "python",
   "pygments_lexer": "ipython3",
   "version": "3.10.15"
  }
 },
 "nbformat": 4,
 "nbformat_minor": 5
}
